{
 "cells": [
  {
   "cell_type": "markdown",
   "id": "db3f4c13",
   "metadata": {},
   "source": [
    "# 📝 Exercise M3.01\n",
    "\n",
    "The goal is to write an exhaustive search to find the best parameters\n",
    "combination maximizing the model statistical performance.\n",
    "\n",
    "Here we use a small subset of the Adult Census dataset to make to code\n",
    "fast to execute. Once your code works on the small subset, try to\n",
    "change `train_size` to a larger value (e.g. 0.8 for 80% instead of\n",
    "20%)."
   ]
  },
  {
   "cell_type": "code",
   "execution_count": 1,
   "id": "4c7339c7",
   "metadata": {},
   "outputs": [],
   "source": [
    "import pandas as pd\n",
    "\n",
    "from sklearn.model_selection import train_test_split\n",
    "\n",
    "adult_census = pd.read_csv(\"../datasets/adult-census.csv\")\n",
    "\n",
    "target_name = \"class\"\n",
    "target = adult_census[target_name]\n",
    "data = adult_census.drop(columns=[target_name, \"education-num\"])\n",
    "\n",
    "data_train, data_test, target_train, target_test = train_test_split(\n",
    "    data, target, train_size=0.2, random_state=42)"
   ]
  },
  {
   "cell_type": "code",
   "execution_count": 2,
   "id": "68e07d6a",
   "metadata": {},
   "outputs": [],
   "source": [
    "from sklearn.compose import ColumnTransformer\n",
    "from sklearn.compose import make_column_selector as selector\n",
    "from sklearn.preprocessing import OrdinalEncoder\n",
    "\n",
    "categorical_preprocessor = OrdinalEncoder(handle_unknown=\"use_encoded_value\",\n",
    "                                          unknown_value=-1)\n",
    "preprocessor = ColumnTransformer(\n",
    "    [('cat-preprocessor', categorical_preprocessor,\n",
    "      selector(dtype_include=object))],\n",
    "    remainder='passthrough', sparse_threshold=0)\n",
    "\n",
    "# This line is currently required to import HistGradientBoostingClassifier\n",
    "from sklearn.experimental import enable_hist_gradient_boosting\n",
    "from sklearn.ensemble import HistGradientBoostingClassifier\n",
    "from sklearn.pipeline import Pipeline\n",
    "\n",
    "model = Pipeline([\n",
    "    (\"preprocessor\", preprocessor),\n",
    "    (\"classifier\", HistGradientBoostingClassifier(random_state=42))\n",
    "])"
   ]
  },
  {
   "cell_type": "code",
   "execution_count": 3,
   "id": "adc516d6",
   "metadata": {},
   "outputs": [],
   "source": [
    "from sklearn import set_config\n",
    "set_config(display='diagram')"
   ]
  },
  {
   "cell_type": "code",
   "execution_count": 4,
   "id": "df098d21",
   "metadata": {},
   "outputs": [
    {
     "data": {
      "text/html": [
       "<style>#sk-71c54da2-6119-4906-96c3-d7939c18814d {color: black;background-color: white;}#sk-71c54da2-6119-4906-96c3-d7939c18814d pre{padding: 0;}#sk-71c54da2-6119-4906-96c3-d7939c18814d div.sk-toggleable {background-color: white;}#sk-71c54da2-6119-4906-96c3-d7939c18814d label.sk-toggleable__label {cursor: pointer;display: block;width: 100%;margin-bottom: 0;padding: 0.2em 0.3em;box-sizing: border-box;text-align: center;}#sk-71c54da2-6119-4906-96c3-d7939c18814d div.sk-toggleable__content {max-height: 0;max-width: 0;overflow: hidden;text-align: left;background-color: #f0f8ff;}#sk-71c54da2-6119-4906-96c3-d7939c18814d div.sk-toggleable__content pre {margin: 0.2em;color: black;border-radius: 0.25em;background-color: #f0f8ff;}#sk-71c54da2-6119-4906-96c3-d7939c18814d input.sk-toggleable__control:checked~div.sk-toggleable__content {max-height: 200px;max-width: 100%;overflow: auto;}#sk-71c54da2-6119-4906-96c3-d7939c18814d div.sk-estimator input.sk-toggleable__control:checked~label.sk-toggleable__label {background-color: #d4ebff;}#sk-71c54da2-6119-4906-96c3-d7939c18814d div.sk-label input.sk-toggleable__control:checked~label.sk-toggleable__label {background-color: #d4ebff;}#sk-71c54da2-6119-4906-96c3-d7939c18814d input.sk-hidden--visually {border: 0;clip: rect(1px 1px 1px 1px);clip: rect(1px, 1px, 1px, 1px);height: 1px;margin: -1px;overflow: hidden;padding: 0;position: absolute;width: 1px;}#sk-71c54da2-6119-4906-96c3-d7939c18814d div.sk-estimator {font-family: monospace;background-color: #f0f8ff;margin: 0.25em 0.25em;border: 1px dotted black;border-radius: 0.25em;box-sizing: border-box;}#sk-71c54da2-6119-4906-96c3-d7939c18814d div.sk-estimator:hover {background-color: #d4ebff;}#sk-71c54da2-6119-4906-96c3-d7939c18814d div.sk-parallel-item::after {content: \"\";width: 100%;border-bottom: 1px solid gray;flex-grow: 1;}#sk-71c54da2-6119-4906-96c3-d7939c18814d div.sk-label:hover label.sk-toggleable__label {background-color: #d4ebff;}#sk-71c54da2-6119-4906-96c3-d7939c18814d div.sk-serial::before {content: \"\";position: absolute;border-left: 1px solid gray;box-sizing: border-box;top: 2em;bottom: 0;left: 50%;}#sk-71c54da2-6119-4906-96c3-d7939c18814d div.sk-serial {display: flex;flex-direction: column;align-items: center;background-color: white;}#sk-71c54da2-6119-4906-96c3-d7939c18814d div.sk-item {z-index: 1;}#sk-71c54da2-6119-4906-96c3-d7939c18814d div.sk-parallel {display: flex;align-items: stretch;justify-content: center;background-color: white;}#sk-71c54da2-6119-4906-96c3-d7939c18814d div.sk-parallel-item {display: flex;flex-direction: column;position: relative;background-color: white;}#sk-71c54da2-6119-4906-96c3-d7939c18814d div.sk-parallel-item:first-child::after {align-self: flex-end;width: 50%;}#sk-71c54da2-6119-4906-96c3-d7939c18814d div.sk-parallel-item:last-child::after {align-self: flex-start;width: 50%;}#sk-71c54da2-6119-4906-96c3-d7939c18814d div.sk-parallel-item:only-child::after {width: 0;}#sk-71c54da2-6119-4906-96c3-d7939c18814d div.sk-dashed-wrapped {border: 1px dashed gray;margin: 0.2em;box-sizing: border-box;padding-bottom: 0.1em;background-color: white;position: relative;}#sk-71c54da2-6119-4906-96c3-d7939c18814d div.sk-label label {font-family: monospace;font-weight: bold;background-color: white;display: inline-block;line-height: 1.2em;}#sk-71c54da2-6119-4906-96c3-d7939c18814d div.sk-label-container {position: relative;z-index: 2;text-align: center;}#sk-71c54da2-6119-4906-96c3-d7939c18814d div.sk-container {display: inline-block;position: relative;}</style><div id=\"sk-71c54da2-6119-4906-96c3-d7939c18814d\" class\"sk-top-container\"><div class=\"sk-container\"><div class=\"sk-item sk-dashed-wrapped\"><div class=\"sk-label-container\"><div class=\"sk-label sk-toggleable\"><input class=\"sk-toggleable__control sk-hidden--visually\" id=\"7318d1d5-55a8-4eb3-bf5e-81a5d319b8a7\" type=\"checkbox\" ><label class=\"sk-toggleable__label\" for=\"7318d1d5-55a8-4eb3-bf5e-81a5d319b8a7\">Pipeline</label><div class=\"sk-toggleable__content\"><pre>Pipeline(steps=[('preprocessor',\n",
       "                 ColumnTransformer(remainder='passthrough', sparse_threshold=0,\n",
       "                                   transformers=[('cat-preprocessor',\n",
       "                                                  OrdinalEncoder(handle_unknown='use_encoded_value',\n",
       "                                                                 unknown_value=-1),\n",
       "                                                  <sklearn.compose._column_transformer.make_column_selector object at 0x7f77c83828b0>)])),\n",
       "                ('classifier',\n",
       "                 HistGradientBoostingClassifier(random_state=42))])</pre></div></div></div><div class=\"sk-serial\"><div class=\"sk-item sk-dashed-wrapped\"><div class=\"sk-label-container\"><div class=\"sk-label sk-toggleable\"><input class=\"sk-toggleable__control sk-hidden--visually\" id=\"a673eaf1-2ac9-4010-89fd-1cd645908e7c\" type=\"checkbox\" ><label class=\"sk-toggleable__label\" for=\"a673eaf1-2ac9-4010-89fd-1cd645908e7c\">preprocessor: ColumnTransformer</label><div class=\"sk-toggleable__content\"><pre>ColumnTransformer(remainder='passthrough', sparse_threshold=0,\n",
       "                  transformers=[('cat-preprocessor',\n",
       "                                 OrdinalEncoder(handle_unknown='use_encoded_value',\n",
       "                                                unknown_value=-1),\n",
       "                                 <sklearn.compose._column_transformer.make_column_selector object at 0x7f77c83828b0>)])</pre></div></div></div><div class=\"sk-parallel\"><div class=\"sk-parallel-item\"><div class=\"sk-item\"><div class=\"sk-label-container\"><div class=\"sk-label sk-toggleable\"><input class=\"sk-toggleable__control sk-hidden--visually\" id=\"5d0fb193-db59-4d80-901f-9e9b746d6a61\" type=\"checkbox\" ><label class=\"sk-toggleable__label\" for=\"5d0fb193-db59-4d80-901f-9e9b746d6a61\">cat-preprocessor</label><div class=\"sk-toggleable__content\"><pre><sklearn.compose._column_transformer.make_column_selector object at 0x7f77c83828b0></pre></div></div></div><div class=\"sk-serial\"><div class=\"sk-item\"><div class=\"sk-estimator sk-toggleable\"><input class=\"sk-toggleable__control sk-hidden--visually\" id=\"408c2455-148e-48ee-86c4-ecbedcce6864\" type=\"checkbox\" ><label class=\"sk-toggleable__label\" for=\"408c2455-148e-48ee-86c4-ecbedcce6864\">OrdinalEncoder</label><div class=\"sk-toggleable__content\"><pre>OrdinalEncoder(handle_unknown='use_encoded_value', unknown_value=-1)</pre></div></div></div></div></div></div><div class=\"sk-parallel-item\"><div class=\"sk-item\"><div class=\"sk-label-container\"><div class=\"sk-label sk-toggleable\"><input class=\"sk-toggleable__control sk-hidden--visually\" id=\"e8e36e73-1301-485b-8498-6595d419c752\" type=\"checkbox\" ><label class=\"sk-toggleable__label\" for=\"e8e36e73-1301-485b-8498-6595d419c752\">remainder</label><div class=\"sk-toggleable__content\"><pre></pre></div></div></div><div class=\"sk-serial\"><div class=\"sk-item\"><div class=\"sk-estimator sk-toggleable\"><input class=\"sk-toggleable__control sk-hidden--visually\" id=\"0c8326f9-e397-4f65-b89f-6ed70f26cc1a\" type=\"checkbox\" ><label class=\"sk-toggleable__label\" for=\"0c8326f9-e397-4f65-b89f-6ed70f26cc1a\">passthrough</label><div class=\"sk-toggleable__content\"><pre>passthrough</pre></div></div></div></div></div></div></div></div><div class=\"sk-item\"><div class=\"sk-estimator sk-toggleable\"><input class=\"sk-toggleable__control sk-hidden--visually\" id=\"e07d33ec-28d4-4e2d-a2fb-5281580b275a\" type=\"checkbox\" ><label class=\"sk-toggleable__label\" for=\"e07d33ec-28d4-4e2d-a2fb-5281580b275a\">HistGradientBoostingClassifier</label><div class=\"sk-toggleable__content\"><pre>HistGradientBoostingClassifier(random_state=42)</pre></div></div></div></div></div></div></div>"
      ],
      "text/plain": [
       "Pipeline(steps=[('preprocessor',\n",
       "                 ColumnTransformer(remainder='passthrough', sparse_threshold=0,\n",
       "                                   transformers=[('cat-preprocessor',\n",
       "                                                  OrdinalEncoder(handle_unknown='use_encoded_value',\n",
       "                                                                 unknown_value=-1),\n",
       "                                                  <sklearn.compose._column_transformer.make_column_selector object at 0x7f77c83828b0>)])),\n",
       "                ('classifier',\n",
       "                 HistGradientBoostingClassifier(random_state=42))])"
      ]
     },
     "execution_count": 4,
     "metadata": {},
     "output_type": "execute_result"
    }
   ],
   "source": [
    "model"
   ]
  },
  {
   "cell_type": "markdown",
   "id": "2280aeaf",
   "metadata": {},
   "source": [
    "\n",
    "Use the previously defined model (called `model`) and using two nested `for`\n",
    "loops, make a search of the best combinations of the `learning_rate` and\n",
    "`max_leaf_nodes` parameters. In this regard, you will need to train and test\n",
    "the model by setting the parameters. The evaluation of the model should be\n",
    "performed using `cross_val_score`. We will use the following parameters\n",
    "search:\n",
    "- `learning_rate` for the values 0.01, 0.1, 1 and 10. This parameter controls\n",
    "  the ability of a new tree to correct the error of the previous sequence of\n",
    "  trees\n",
    "- `max_leaf_nodes` for the values 3, 10, 30. This parameter controls the\n",
    "  depth of each tree."
   ]
  },
  {
   "cell_type": "code",
   "execution_count": null,
   "id": "18d2e849",
   "metadata": {},
   "outputs": [],
   "source": []
  },
  {
   "cell_type": "code",
   "execution_count": 24,
   "id": "bd8b5ed6",
   "metadata": {},
   "outputs": [
    {
     "data": {
      "text/plain": [
       "0.01"
      ]
     },
     "execution_count": 24,
     "metadata": {},
     "output_type": "execute_result"
    }
   ],
   "source": [
    "# Write your code here.\n",
    "model.get_params()['classifier__learning_rate']"
   ]
  },
  {
   "cell_type": "code",
   "execution_count": 25,
   "id": "883cf0d9",
   "metadata": {},
   "outputs": [
    {
     "data": {
      "text/plain": [
       "30"
      ]
     },
     "execution_count": 25,
     "metadata": {},
     "output_type": "execute_result"
    }
   ],
   "source": [
    "model.get_params()['classifier__max_leaf_nodes']"
   ]
  },
  {
   "cell_type": "code",
   "execution_count": 26,
   "id": "b3aa16d9",
   "metadata": {},
   "outputs": [],
   "source": [
    "learning_rate = [0.01, 0.1, 1 ,10]\n",
    "max_leaf_nodes = [3,10,30]"
   ]
  },
  {
   "cell_type": "code",
   "execution_count": 27,
   "id": "ba2781c2",
   "metadata": {},
   "outputs": [],
   "source": [
    "results = { 'lr': [],\n",
    "  'nodes': [],\n",
    "  'test_mean': [],\n",
    "  'test_std': []}"
   ]
  },
  {
   "cell_type": "code",
   "execution_count": 28,
   "id": "c54bd5a1",
   "metadata": {},
   "outputs": [
    {
     "data": {
      "text/plain": [
       "{'lr': [], 'nodes': [], 'test_mean': [], 'test_std': []}"
      ]
     },
     "execution_count": 28,
     "metadata": {},
     "output_type": "execute_result"
    }
   ],
   "source": [
    "results"
   ]
  },
  {
   "cell_type": "code",
   "execution_count": 29,
   "id": "ea4d18ff",
   "metadata": {},
   "outputs": [],
   "source": [
    "from sklearn.model_selection import cross_validate"
   ]
  },
  {
   "cell_type": "code",
   "execution_count": 30,
   "id": "d76a69a5",
   "metadata": {},
   "outputs": [],
   "source": [
    "from sklearn.metrics import SCORERS"
   ]
  },
  {
   "cell_type": "code",
   "execution_count": 31,
   "id": "9447958a",
   "metadata": {},
   "outputs": [],
   "source": [
    "# sorted(SCORERS.keys())"
   ]
  },
  {
   "cell_type": "code",
   "execution_count": 32,
   "id": "8797414b",
   "metadata": {},
   "outputs": [],
   "source": [
    "for lr in learning_rate:\n",
    "    for node in max_leaf_nodes:\n",
    "        model.set_params(classifier__learning_rate=lr)\n",
    "        model.set_params(classifier__max_leaf_nodes=node)\n",
    "        cv_results = cross_validate(model, data, target)\n",
    "        scores = cv_results[\"test_score\"]\n",
    "        results['lr'].append(lr)\n",
    "        results['nodes'].append(node)\n",
    "        results['test_mean'].append(scores.mean())\n",
    "        results['test_std'].append(scores.std())"
   ]
  },
  {
   "cell_type": "code",
   "execution_count": 33,
   "id": "7614136e",
   "metadata": {},
   "outputs": [
    {
     "data": {
      "text/plain": [
       "{'lr': [0.01, 0.01, 0.01, 0.1, 0.1, 0.1, 1, 1, 1, 10, 10, 10],\n",
       " 'nodes': [3, 10, 30, 3, 10, 30, 3, 10, 30, 3, 10, 30],\n",
       " 'test_mean': [0.7987183295300809,\n",
       "  0.8202572043190326,\n",
       "  0.8482454338964729,\n",
       "  0.8564146296232487,\n",
       "  0.8703574876954956,\n",
       "  0.8738995698254579,\n",
       "  0.8698047187324492,\n",
       "  0.8665083892461312,\n",
       "  0.8598541773610868,\n",
       "  0.28072167729758074,\n",
       "  0.7614564750402605,\n",
       "  0.6162475795293892],\n",
       " 'test_std': [0.0013302343640772096,\n",
       "  0.0018418157171543748,\n",
       "  0.001751013395103816,\n",
       "  0.0027885492881534767,\n",
       "  0.001265588638684552,\n",
       "  0.0022484274499671004,\n",
       "  0.0030594344189543527,\n",
       "  0.002458147489131834,\n",
       "  0.0045806743262617215,\n",
       "  0.003960326670561044,\n",
       "  0.04505152811468116,\n",
       "  0.17850571211553154]}"
      ]
     },
     "execution_count": 33,
     "metadata": {},
     "output_type": "execute_result"
    }
   ],
   "source": [
    "results"
   ]
  },
  {
   "cell_type": "code",
   "execution_count": 38,
   "id": "5e4d975a",
   "metadata": {},
   "outputs": [],
   "source": [
    "import pandas as pd\n",
    "df = pd.DataFrame(results)"
   ]
  },
  {
   "cell_type": "code",
   "execution_count": 39,
   "id": "efc667d5",
   "metadata": {},
   "outputs": [
    {
     "data": {
      "text/html": [
       "<div>\n",
       "<style scoped>\n",
       "    .dataframe tbody tr th:only-of-type {\n",
       "        vertical-align: middle;\n",
       "    }\n",
       "\n",
       "    .dataframe tbody tr th {\n",
       "        vertical-align: top;\n",
       "    }\n",
       "\n",
       "    .dataframe thead th {\n",
       "        text-align: right;\n",
       "    }\n",
       "</style>\n",
       "<table border=\"1\" class=\"dataframe\">\n",
       "  <thead>\n",
       "    <tr style=\"text-align: right;\">\n",
       "      <th></th>\n",
       "      <th>lr</th>\n",
       "      <th>nodes</th>\n",
       "      <th>test_mean</th>\n",
       "      <th>test_std</th>\n",
       "    </tr>\n",
       "  </thead>\n",
       "  <tbody>\n",
       "    <tr>\n",
       "      <th>0</th>\n",
       "      <td>0.01</td>\n",
       "      <td>3</td>\n",
       "      <td>0.798718</td>\n",
       "      <td>0.001330</td>\n",
       "    </tr>\n",
       "    <tr>\n",
       "      <th>1</th>\n",
       "      <td>0.01</td>\n",
       "      <td>10</td>\n",
       "      <td>0.820257</td>\n",
       "      <td>0.001842</td>\n",
       "    </tr>\n",
       "    <tr>\n",
       "      <th>2</th>\n",
       "      <td>0.01</td>\n",
       "      <td>30</td>\n",
       "      <td>0.848245</td>\n",
       "      <td>0.001751</td>\n",
       "    </tr>\n",
       "    <tr>\n",
       "      <th>3</th>\n",
       "      <td>0.10</td>\n",
       "      <td>3</td>\n",
       "      <td>0.856415</td>\n",
       "      <td>0.002789</td>\n",
       "    </tr>\n",
       "    <tr>\n",
       "      <th>4</th>\n",
       "      <td>0.10</td>\n",
       "      <td>10</td>\n",
       "      <td>0.870357</td>\n",
       "      <td>0.001266</td>\n",
       "    </tr>\n",
       "    <tr>\n",
       "      <th>5</th>\n",
       "      <td>0.10</td>\n",
       "      <td>30</td>\n",
       "      <td>0.873900</td>\n",
       "      <td>0.002248</td>\n",
       "    </tr>\n",
       "    <tr>\n",
       "      <th>6</th>\n",
       "      <td>1.00</td>\n",
       "      <td>3</td>\n",
       "      <td>0.869805</td>\n",
       "      <td>0.003059</td>\n",
       "    </tr>\n",
       "    <tr>\n",
       "      <th>7</th>\n",
       "      <td>1.00</td>\n",
       "      <td>10</td>\n",
       "      <td>0.866508</td>\n",
       "      <td>0.002458</td>\n",
       "    </tr>\n",
       "    <tr>\n",
       "      <th>8</th>\n",
       "      <td>1.00</td>\n",
       "      <td>30</td>\n",
       "      <td>0.859854</td>\n",
       "      <td>0.004581</td>\n",
       "    </tr>\n",
       "    <tr>\n",
       "      <th>9</th>\n",
       "      <td>10.00</td>\n",
       "      <td>3</td>\n",
       "      <td>0.280722</td>\n",
       "      <td>0.003960</td>\n",
       "    </tr>\n",
       "    <tr>\n",
       "      <th>10</th>\n",
       "      <td>10.00</td>\n",
       "      <td>10</td>\n",
       "      <td>0.761456</td>\n",
       "      <td>0.045052</td>\n",
       "    </tr>\n",
       "    <tr>\n",
       "      <th>11</th>\n",
       "      <td>10.00</td>\n",
       "      <td>30</td>\n",
       "      <td>0.616248</td>\n",
       "      <td>0.178506</td>\n",
       "    </tr>\n",
       "  </tbody>\n",
       "</table>\n",
       "</div>"
      ],
      "text/plain": [
       "       lr  nodes  test_mean  test_std\n",
       "0    0.01      3   0.798718  0.001330\n",
       "1    0.01     10   0.820257  0.001842\n",
       "2    0.01     30   0.848245  0.001751\n",
       "3    0.10      3   0.856415  0.002789\n",
       "4    0.10     10   0.870357  0.001266\n",
       "5    0.10     30   0.873900  0.002248\n",
       "6    1.00      3   0.869805  0.003059\n",
       "7    1.00     10   0.866508  0.002458\n",
       "8    1.00     30   0.859854  0.004581\n",
       "9   10.00      3   0.280722  0.003960\n",
       "10  10.00     10   0.761456  0.045052\n",
       "11  10.00     30   0.616248  0.178506"
      ]
     },
     "execution_count": 39,
     "metadata": {},
     "output_type": "execute_result"
    }
   ],
   "source": [
    "df"
   ]
  },
  {
   "cell_type": "code",
   "execution_count": null,
   "id": "a66eb895",
   "metadata": {},
   "outputs": [],
   "source": []
  }
 ],
 "metadata": {
  "kernelspec": {
   "display_name": "Python 3",
   "language": "python",
   "name": "python3"
  },
  "language_info": {
   "codemirror_mode": {
    "name": "ipython",
    "version": 3
   },
   "file_extension": ".py",
   "mimetype": "text/x-python",
   "name": "python",
   "nbconvert_exporter": "python",
   "pygments_lexer": "ipython3",
   "version": "3.9.2"
  },
  "nbreset": "https://github.com/INRIA/scikit-learn-mooc/raw/master/notebooks/parameter_tuning_ex_02.ipynb"
 },
 "nbformat": 4,
 "nbformat_minor": 5
}
