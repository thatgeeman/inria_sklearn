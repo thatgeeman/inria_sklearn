{
 "cells": [
  {
   "cell_type": "markdown",
   "id": "8aba0b94",
   "metadata": {},
   "source": [
    "# 📝 Exercise M3.02\n",
    "\n",
    "The goal is to find the best set of hyperparameters which maximize the\n",
    "statistical performance on a training set.\n",
    "\n",
    "Here again with limit the size of the training set to make computation\n",
    "run faster. Feel free to increase the `train_size` value if your computer\n",
    "is powerful enough."
   ]
  },
  {
   "cell_type": "code",
   "execution_count": 1,
   "id": "2e106c0b",
   "metadata": {},
   "outputs": [],
   "source": [
    "import numpy as np\n",
    "import pandas as pd\n",
    "\n",
    "adult_census = pd.read_csv(\"../datasets/adult-census.csv\")\n",
    "\n",
    "target_name = \"class\"\n",
    "target = adult_census[target_name]\n",
    "data = adult_census.drop(columns=[target_name, \"education-num\"])\n",
    "\n",
    "from sklearn.model_selection import train_test_split\n",
    "\n",
    "data_train, data_test, target_train, target_test = train_test_split(\n",
    "    data, target, random_state=42)"
   ]
  },
  {
   "cell_type": "markdown",
   "id": "58a5f977",
   "metadata": {},
   "source": [
    "Create your machine learning pipeline\n",
    "\n",
    "You should:\n",
    "* preprocess the categorical columns using a `OneHotEncoder` and use a\n",
    "  `StandardScaler` to normalize the numerical data.\n",
    "* use a `LogisticRegression` as a predictive model."
   ]
  },
  {
   "cell_type": "markdown",
   "id": "b58c7d69",
   "metadata": {},
   "source": [
    "Start by defining the columns and the preprocessing pipelines to be applied\n",
    "on each columns."
   ]
  },
  {
   "cell_type": "code",
   "execution_count": 3,
   "id": "79ae77ab",
   "metadata": {},
   "outputs": [],
   "source": [
    "from sklearn.preprocessing import OneHotEncoder\n",
    "from sklearn.preprocessing import StandardScaler\n",
    "from sklearn.compose import make_column_selector as selector"
   ]
  },
  {
   "cell_type": "code",
   "execution_count": 5,
   "id": "8f0bd698",
   "metadata": {},
   "outputs": [],
   "source": [
    "categorical_selector = selector(dtype_include=object)\n",
    "numerical_selector = selector(dtype_exclude=object)"
   ]
  },
  {
   "cell_type": "code",
   "execution_count": 8,
   "id": "f421506e",
   "metadata": {},
   "outputs": [
    {
     "data": {
      "text/plain": [
       "['workclass',\n",
       " 'education',\n",
       " 'marital-status',\n",
       " 'occupation',\n",
       " 'relationship',\n",
       " 'race',\n",
       " 'sex',\n",
       " 'native-country']"
      ]
     },
     "execution_count": 8,
     "metadata": {},
     "output_type": "execute_result"
    }
   ],
   "source": [
    "categorical_cols = categorical_selector(data)\n",
    "categorical_cols"
   ]
  },
  {
   "cell_type": "code",
   "execution_count": 9,
   "id": "a108a245",
   "metadata": {},
   "outputs": [
    {
     "data": {
      "text/plain": [
       "['age', 'capital-gain', 'capital-loss', 'hours-per-week']"
      ]
     },
     "execution_count": 9,
     "metadata": {},
     "output_type": "execute_result"
    }
   ],
   "source": [
    "numerical_cols = numerical_selector(data)\n",
    "numerical_cols"
   ]
  },
  {
   "cell_type": "code",
   "execution_count": 10,
   "id": "8c9d222d",
   "metadata": {},
   "outputs": [],
   "source": [
    "from sklearn.compose import ColumnTransformer"
   ]
  },
  {
   "cell_type": "code",
   "execution_count": 26,
   "id": "2d4241e0",
   "metadata": {},
   "outputs": [],
   "source": [
    "ColumnTransformer?"
   ]
  },
  {
   "cell_type": "code",
   "execution_count": 31,
   "id": "bb979ddb",
   "metadata": {},
   "outputs": [],
   "source": [
    "processor = ColumnTransformer([(\"cat\", OneHotEncoder(),categorical_cols),\n",
    "                               (\"num\", StandardScaler(), numerical_cols)], \n",
    "                              remainder='passthrough')"
   ]
  },
  {
   "cell_type": "code",
   "execution_count": 34,
   "id": "8ad6f0f8",
   "metadata": {},
   "outputs": [],
   "source": [
    "from sklearn.pipeline import Pipeline, make_pipeline\n",
    "from sklearn import set_config\n",
    "from sklearn.linear_model import LogisticRegression\n",
    "set_config(display='diagram')"
   ]
  },
  {
   "cell_type": "code",
   "execution_count": 36,
   "id": "5dbb55e7",
   "metadata": {},
   "outputs": [],
   "source": [
    "model = make_pipeline(processor, LogisticRegression())"
   ]
  },
  {
   "cell_type": "code",
   "execution_count": 37,
   "id": "72c8a7a0",
   "metadata": {},
   "outputs": [
    {
     "data": {
      "text/html": [
       "<style>#sk-19460a25-0940-4234-92e8-887b668a35d9 {color: black;background-color: white;}#sk-19460a25-0940-4234-92e8-887b668a35d9 pre{padding: 0;}#sk-19460a25-0940-4234-92e8-887b668a35d9 div.sk-toggleable {background-color: white;}#sk-19460a25-0940-4234-92e8-887b668a35d9 label.sk-toggleable__label {cursor: pointer;display: block;width: 100%;margin-bottom: 0;padding: 0.2em 0.3em;box-sizing: border-box;text-align: center;}#sk-19460a25-0940-4234-92e8-887b668a35d9 div.sk-toggleable__content {max-height: 0;max-width: 0;overflow: hidden;text-align: left;background-color: #f0f8ff;}#sk-19460a25-0940-4234-92e8-887b668a35d9 div.sk-toggleable__content pre {margin: 0.2em;color: black;border-radius: 0.25em;background-color: #f0f8ff;}#sk-19460a25-0940-4234-92e8-887b668a35d9 input.sk-toggleable__control:checked~div.sk-toggleable__content {max-height: 200px;max-width: 100%;overflow: auto;}#sk-19460a25-0940-4234-92e8-887b668a35d9 div.sk-estimator input.sk-toggleable__control:checked~label.sk-toggleable__label {background-color: #d4ebff;}#sk-19460a25-0940-4234-92e8-887b668a35d9 div.sk-label input.sk-toggleable__control:checked~label.sk-toggleable__label {background-color: #d4ebff;}#sk-19460a25-0940-4234-92e8-887b668a35d9 input.sk-hidden--visually {border: 0;clip: rect(1px 1px 1px 1px);clip: rect(1px, 1px, 1px, 1px);height: 1px;margin: -1px;overflow: hidden;padding: 0;position: absolute;width: 1px;}#sk-19460a25-0940-4234-92e8-887b668a35d9 div.sk-estimator {font-family: monospace;background-color: #f0f8ff;margin: 0.25em 0.25em;border: 1px dotted black;border-radius: 0.25em;box-sizing: border-box;}#sk-19460a25-0940-4234-92e8-887b668a35d9 div.sk-estimator:hover {background-color: #d4ebff;}#sk-19460a25-0940-4234-92e8-887b668a35d9 div.sk-parallel-item::after {content: \"\";width: 100%;border-bottom: 1px solid gray;flex-grow: 1;}#sk-19460a25-0940-4234-92e8-887b668a35d9 div.sk-label:hover label.sk-toggleable__label {background-color: #d4ebff;}#sk-19460a25-0940-4234-92e8-887b668a35d9 div.sk-serial::before {content: \"\";position: absolute;border-left: 1px solid gray;box-sizing: border-box;top: 2em;bottom: 0;left: 50%;}#sk-19460a25-0940-4234-92e8-887b668a35d9 div.sk-serial {display: flex;flex-direction: column;align-items: center;background-color: white;}#sk-19460a25-0940-4234-92e8-887b668a35d9 div.sk-item {z-index: 1;}#sk-19460a25-0940-4234-92e8-887b668a35d9 div.sk-parallel {display: flex;align-items: stretch;justify-content: center;background-color: white;}#sk-19460a25-0940-4234-92e8-887b668a35d9 div.sk-parallel-item {display: flex;flex-direction: column;position: relative;background-color: white;}#sk-19460a25-0940-4234-92e8-887b668a35d9 div.sk-parallel-item:first-child::after {align-self: flex-end;width: 50%;}#sk-19460a25-0940-4234-92e8-887b668a35d9 div.sk-parallel-item:last-child::after {align-self: flex-start;width: 50%;}#sk-19460a25-0940-4234-92e8-887b668a35d9 div.sk-parallel-item:only-child::after {width: 0;}#sk-19460a25-0940-4234-92e8-887b668a35d9 div.sk-dashed-wrapped {border: 1px dashed gray;margin: 0.2em;box-sizing: border-box;padding-bottom: 0.1em;background-color: white;position: relative;}#sk-19460a25-0940-4234-92e8-887b668a35d9 div.sk-label label {font-family: monospace;font-weight: bold;background-color: white;display: inline-block;line-height: 1.2em;}#sk-19460a25-0940-4234-92e8-887b668a35d9 div.sk-label-container {position: relative;z-index: 2;text-align: center;}#sk-19460a25-0940-4234-92e8-887b668a35d9 div.sk-container {display: inline-block;position: relative;}</style><div id=\"sk-19460a25-0940-4234-92e8-887b668a35d9\" class\"sk-top-container\"><div class=\"sk-container\"><div class=\"sk-item sk-dashed-wrapped\"><div class=\"sk-label-container\"><div class=\"sk-label sk-toggleable\"><input class=\"sk-toggleable__control sk-hidden--visually\" id=\"e54bfa8f-0462-4f26-9e83-998ed55dd286\" type=\"checkbox\" ><label class=\"sk-toggleable__label\" for=\"e54bfa8f-0462-4f26-9e83-998ed55dd286\">Pipeline</label><div class=\"sk-toggleable__content\"><pre>Pipeline(steps=[('columntransformer',\n",
       "                 ColumnTransformer(remainder='passthrough',\n",
       "                                   transformers=[('cat', OneHotEncoder(),\n",
       "                                                  ['workclass', 'education',\n",
       "                                                   'marital-status',\n",
       "                                                   'occupation', 'relationship',\n",
       "                                                   'race', 'sex',\n",
       "                                                   'native-country']),\n",
       "                                                 ('num', StandardScaler(),\n",
       "                                                  ['age', 'capital-gain',\n",
       "                                                   'capital-loss',\n",
       "                                                   'hours-per-week'])])),\n",
       "                ('logisticregression', LogisticRegression())])</pre></div></div></div><div class=\"sk-serial\"><div class=\"sk-item sk-dashed-wrapped\"><div class=\"sk-label-container\"><div class=\"sk-label sk-toggleable\"><input class=\"sk-toggleable__control sk-hidden--visually\" id=\"b1915da4-d738-4572-a305-d85b77cc7a76\" type=\"checkbox\" ><label class=\"sk-toggleable__label\" for=\"b1915da4-d738-4572-a305-d85b77cc7a76\">columntransformer: ColumnTransformer</label><div class=\"sk-toggleable__content\"><pre>ColumnTransformer(remainder='passthrough',\n",
       "                  transformers=[('cat', OneHotEncoder(),\n",
       "                                 ['workclass', 'education', 'marital-status',\n",
       "                                  'occupation', 'relationship', 'race', 'sex',\n",
       "                                  'native-country']),\n",
       "                                ('num', StandardScaler(),\n",
       "                                 ['age', 'capital-gain', 'capital-loss',\n",
       "                                  'hours-per-week'])])</pre></div></div></div><div class=\"sk-parallel\"><div class=\"sk-parallel-item\"><div class=\"sk-item\"><div class=\"sk-label-container\"><div class=\"sk-label sk-toggleable\"><input class=\"sk-toggleable__control sk-hidden--visually\" id=\"bed69e44-aa90-47d3-b620-d41f9b95a27b\" type=\"checkbox\" ><label class=\"sk-toggleable__label\" for=\"bed69e44-aa90-47d3-b620-d41f9b95a27b\">cat</label><div class=\"sk-toggleable__content\"><pre>['workclass', 'education', 'marital-status', 'occupation', 'relationship', 'race', 'sex', 'native-country']</pre></div></div></div><div class=\"sk-serial\"><div class=\"sk-item\"><div class=\"sk-estimator sk-toggleable\"><input class=\"sk-toggleable__control sk-hidden--visually\" id=\"51e96b54-acbc-4767-a0fe-f694fa787674\" type=\"checkbox\" ><label class=\"sk-toggleable__label\" for=\"51e96b54-acbc-4767-a0fe-f694fa787674\">OneHotEncoder</label><div class=\"sk-toggleable__content\"><pre>OneHotEncoder()</pre></div></div></div></div></div></div><div class=\"sk-parallel-item\"><div class=\"sk-item\"><div class=\"sk-label-container\"><div class=\"sk-label sk-toggleable\"><input class=\"sk-toggleable__control sk-hidden--visually\" id=\"bfa13b66-dd46-484b-9917-046a9b1fe9ba\" type=\"checkbox\" ><label class=\"sk-toggleable__label\" for=\"bfa13b66-dd46-484b-9917-046a9b1fe9ba\">num</label><div class=\"sk-toggleable__content\"><pre>['age', 'capital-gain', 'capital-loss', 'hours-per-week']</pre></div></div></div><div class=\"sk-serial\"><div class=\"sk-item\"><div class=\"sk-estimator sk-toggleable\"><input class=\"sk-toggleable__control sk-hidden--visually\" id=\"2e734bf7-fd8f-4c25-885a-f1938be54996\" type=\"checkbox\" ><label class=\"sk-toggleable__label\" for=\"2e734bf7-fd8f-4c25-885a-f1938be54996\">StandardScaler</label><div class=\"sk-toggleable__content\"><pre>StandardScaler()</pre></div></div></div></div></div></div><div class=\"sk-parallel-item\"><div class=\"sk-item\"><div class=\"sk-label-container\"><div class=\"sk-label sk-toggleable\"><input class=\"sk-toggleable__control sk-hidden--visually\" id=\"1fbae74e-d131-4b70-9e13-a2f0c3dc0330\" type=\"checkbox\" ><label class=\"sk-toggleable__label\" for=\"1fbae74e-d131-4b70-9e13-a2f0c3dc0330\">remainder</label><div class=\"sk-toggleable__content\"><pre></pre></div></div></div><div class=\"sk-serial\"><div class=\"sk-item\"><div class=\"sk-estimator sk-toggleable\"><input class=\"sk-toggleable__control sk-hidden--visually\" id=\"2ee39a38-c005-482b-8469-4454a90ce9f8\" type=\"checkbox\" ><label class=\"sk-toggleable__label\" for=\"2ee39a38-c005-482b-8469-4454a90ce9f8\">passthrough</label><div class=\"sk-toggleable__content\"><pre>passthrough</pre></div></div></div></div></div></div></div></div><div class=\"sk-item\"><div class=\"sk-estimator sk-toggleable\"><input class=\"sk-toggleable__control sk-hidden--visually\" id=\"0d83b07d-0a12-47d0-a089-786a15749a23\" type=\"checkbox\" ><label class=\"sk-toggleable__label\" for=\"0d83b07d-0a12-47d0-a089-786a15749a23\">LogisticRegression</label><div class=\"sk-toggleable__content\"><pre>LogisticRegression()</pre></div></div></div></div></div></div></div>"
      ],
      "text/plain": [
       "Pipeline(steps=[('columntransformer',\n",
       "                 ColumnTransformer(remainder='passthrough',\n",
       "                                   transformers=[('cat', OneHotEncoder(),\n",
       "                                                  ['workclass', 'education',\n",
       "                                                   'marital-status',\n",
       "                                                   'occupation', 'relationship',\n",
       "                                                   'race', 'sex',\n",
       "                                                   'native-country']),\n",
       "                                                 ('num', StandardScaler(),\n",
       "                                                  ['age', 'capital-gain',\n",
       "                                                   'capital-loss',\n",
       "                                                   'hours-per-week'])])),\n",
       "                ('logisticregression', LogisticRegression())])"
      ]
     },
     "execution_count": 37,
     "metadata": {},
     "output_type": "execute_result"
    }
   ],
   "source": [
    "model"
   ]
  },
  {
   "cell_type": "markdown",
   "id": "dbc6367e",
   "metadata": {},
   "source": [
    "Subsequently, create a `ColumnTransformer` to redirect the specific columns\n",
    "a preprocessing pipeline."
   ]
  },
  {
   "cell_type": "code",
   "execution_count": 40,
   "id": "214f30d2",
   "metadata": {},
   "outputs": [],
   "source": [
    "from sklearn.compose import ColumnTransformer"
   ]
  },
  {
   "cell_type": "markdown",
   "id": "f64366af",
   "metadata": {},
   "source": [
    "Finally, concatenate the preprocessing pipeline with a logistic regression."
   ]
  },
  {
   "cell_type": "code",
   "execution_count": 41,
   "id": "51f507ac",
   "metadata": {},
   "outputs": [],
   "source": [
    "from sklearn.pipeline import make_pipeline\n",
    "from sklearn.linear_model import LogisticRegression"
   ]
  },
  {
   "cell_type": "markdown",
   "id": "152c31f0",
   "metadata": {},
   "source": [
    "Use a `RandomizedSearchCV` to find the best set of hyperparameters by tuning\n",
    "the following parameters of the `model`:\n",
    "\n",
    "- the parameter `C` of the `LogisticRegression` with values ranging from\n",
    "  0.001 to 10. You can use a log-uniform distribution\n",
    "  (i.e. `scipy.stats.loguniform`);\n",
    "- the parameter `with_mean` of the `StandardScaler` with possible values\n",
    "  `True` or `False`;\n",
    "- the parameter `with_std` of the `StandardScaler` with possible values\n",
    "  `True` or `False`.\n",
    "\n",
    "Once the computation has completed, print the best combination of parameters\n",
    "stored in the `best_params_` attribute."
   ]
  },
  {
   "cell_type": "code",
   "execution_count": 42,
   "id": "50237e31",
   "metadata": {},
   "outputs": [],
   "source": [
    "from sklearn.model_selection import RandomizedSearchCV"
   ]
  },
  {
   "cell_type": "code",
   "execution_count": 52,
   "id": "d5883984",
   "metadata": {},
   "outputs": [],
   "source": [
    "from scipy.stats import loguniform"
   ]
  },
  {
   "cell_type": "code",
   "execution_count": 87,
   "id": "89ad4147",
   "metadata": {},
   "outputs": [
    {
     "data": {
      "text/plain": [
       "2.2627632805886275"
      ]
     },
     "execution_count": 87,
     "metadata": {},
     "output_type": "execute_result"
    }
   ],
   "source": [
    "loguniform(0.001,10).rvs()"
   ]
  },
  {
   "cell_type": "markdown",
   "id": "95824f36",
   "metadata": {},
   "source": [
    "```\n",
    "logisticregression__C 0.001, 10 loguniform\n",
    "\n",
    "columntransformer__num__with_mean True False\n",
    "\n",
    "columntransformer__num__with_std True False\n",
    "```"
   ]
  },
  {
   "cell_type": "code",
   "execution_count": 95,
   "id": "883c8337",
   "metadata": {},
   "outputs": [],
   "source": [
    "param_distributions = {\n",
    "    'logisticregression__C' : loguniform(0.001,10),\n",
    "    'columntransformer__num__with_mean': [True, False],\n",
    "    'columntransformer__num__with_std': [True, False]    \n",
    "}"
   ]
  },
  {
   "cell_type": "code",
   "execution_count": 137,
   "id": "b3825d4a",
   "metadata": {},
   "outputs": [],
   "source": [
    "RandomizedSearchCV?"
   ]
  },
  {
   "cell_type": "code",
   "execution_count": 123,
   "id": "405af673",
   "metadata": {},
   "outputs": [],
   "source": [
    "model_rand_search = RandomizedSearchCV(model, \\\n",
    "                    param_distributions=param_distributions,\\\n",
    "                  n_iter=100, n_jobs=10)"
   ]
  },
  {
   "cell_type": "code",
   "execution_count": 124,
   "id": "5d4c1212",
   "metadata": {},
   "outputs": [],
   "source": [
    "from sklearn.model_selection import cross_validate"
   ]
  },
  {
   "cell_type": "code",
   "execution_count": 125,
   "id": "b6e328e1",
   "metadata": {},
   "outputs": [],
   "source": [
    "cv_result = cross_validate(model_rand_search, \\\n",
    "                           data_train, target_train, cv=3,\\\n",
    "                           n_jobs=5, return_estimator=True )"
   ]
  },
  {
   "cell_type": "code",
   "execution_count": 131,
   "id": "c8ecfd38",
   "metadata": {},
   "outputs": [
    {
     "data": {
      "text/plain": [
       "array([0.83719597,        nan, 0.84922195])"
      ]
     },
     "execution_count": 131,
     "metadata": {},
     "output_type": "execute_result"
    }
   ],
   "source": [
    "cv_result['test_score']"
   ]
  },
  {
   "cell_type": "code",
   "execution_count": 127,
   "id": "fd5807f9",
   "metadata": {},
   "outputs": [
    {
     "name": "stdout",
     "output_type": "stream",
     "text": [
      "{'columntransformer__num__with_mean': True, 'columntransformer__num__with_std': True, 'logisticregression__C': 0.003405552838392023}\n",
      "{'columntransformer__num__with_mean': False, 'columntransformer__num__with_std': True, 'logisticregression__C': 0.49786101042449415}\n",
      "{'columntransformer__num__with_mean': True, 'columntransformer__num__with_std': True, 'logisticregression__C': 0.13349691524312013}\n"
     ]
    }
   ],
   "source": [
    "for idx, est in enumerate(cv_result['estimator']):\n",
    "    print(est.best_params_)"
   ]
  },
  {
   "cell_type": "code",
   "execution_count": 128,
   "id": "2bc37987",
   "metadata": {},
   "outputs": [
    {
     "data": {
      "text/plain": [
       "4"
      ]
     },
     "execution_count": 128,
     "metadata": {},
     "output_type": "execute_result"
    }
   ],
   "source": [
    "len(cv_result)"
   ]
  },
  {
   "cell_type": "code",
   "execution_count": 129,
   "id": "b0dc5cd3",
   "metadata": {},
   "outputs": [
    {
     "name": "stdout",
     "output_type": "stream",
     "text": [
      "{'mean_fit_time': array([0.88033752, 1.99633627, 1.72507529, 2.05569563, 0.58644247,\n",
      "       1.73952699, 1.61384888, 1.10881696, 2.06584625, 0.72578921,\n",
      "       1.83967714, 1.17241564, 1.71748028, 1.6801507 , 1.72111006,\n",
      "       1.70910048, 1.0469708 , 2.09613886, 0.82285023, 2.06160059,\n",
      "       0.62452803, 1.74527245, 1.71520896, 1.71712132, 1.69940023,\n",
      "       1.7375875 , 1.74973006, 1.77736411, 1.76343875, 1.76270185,\n",
      "       1.72635112, 1.85845923, 1.15159149, 1.70490565, 1.7439642 ,\n",
      "       1.70114427, 1.73925562, 1.802005  , 1.67078333, 1.98136253,\n",
      "       0.8583354 , 1.70523171, 1.7515099 , 1.72030625, 1.75372243,\n",
      "       1.85226054, 1.51570759, 1.73862596, 1.74414649, 1.17499876,\n",
      "       1.69030046, 1.74022751, 1.69303098, 1.70716729, 1.68691359,\n",
      "       1.77517762, 0.88836474, 1.72214537, 1.68796377, 1.71345148,\n",
      "       1.75719495, 1.73635607, 1.72754755, 1.72211618, 1.74249287,\n",
      "       1.72153811, 1.70400305, 1.90503516, 1.17709861, 1.78617392,\n",
      "       1.7030509 , 2.07204962, 0.98808398, 1.71170907, 1.59305997,\n",
      "       1.7653626 , 1.54939895, 1.81967936, 1.55075569, 1.73680124,\n",
      "       1.65710411, 1.69394207, 1.73179517, 2.01520109, 0.81826801,\n",
      "       1.68172565, 1.71270909, 2.104702  , 0.61909881, 1.68586049,\n",
      "       1.76698318, 1.74039559, 1.68722792, 1.73444862, 1.60327067,\n",
      "       0.78798842, 1.50434327, 1.47887654, 1.47120004, 0.71952157]), 'std_fit_time': array([0.02445423, 0.07473339, 0.06805887, 0.11773426, 0.03257307,\n",
      "       0.07234768, 0.10138047, 0.04483395, 0.03814403, 0.02774672,\n",
      "       0.12962779, 0.03208073, 0.09230705, 0.14066017, 0.03097831,\n",
      "       0.10713893, 0.02203938, 0.08433897, 0.07978622, 0.04086794,\n",
      "       0.02646708, 0.03417342, 0.03474228, 0.07793142, 0.06418372,\n",
      "       0.05701289, 0.0286802 , 0.02829783, 0.04027309, 0.05017549,\n",
      "       0.04212831, 0.13303746, 0.14291525, 0.05644304, 0.07389661,\n",
      "       0.0644774 , 0.06705011, 0.07439635, 0.06717153, 0.08298568,\n",
      "       0.03526381, 0.01559374, 0.06820282, 0.0086505 , 0.02432292,\n",
      "       0.07631354, 0.20051992, 0.07275787, 0.08476394, 0.04031869,\n",
      "       0.07088236, 0.04415462, 0.08239593, 0.02533097, 0.06848751,\n",
      "       0.1077389 , 0.08487787, 0.12995713, 0.08666958, 0.03490732,\n",
      "       0.04683833, 0.03427094, 0.04908028, 0.01923825, 0.09198696,\n",
      "       0.05540175, 0.06563202, 0.0921828 , 0.08941272, 0.09459276,\n",
      "       0.08921509, 0.06158902, 0.07541283, 0.03115471, 0.08865705,\n",
      "       0.10352522, 0.14835227, 0.13754414, 0.16082443, 0.13131587,\n",
      "       0.07505321, 0.07005442, 0.0870583 , 0.08235508, 0.07419573,\n",
      "       0.0668274 , 0.06293389, 0.10373513, 0.03929807, 0.06559393,\n",
      "       0.05385874, 0.07412576, 0.06200007, 0.05593562, 0.14962297,\n",
      "       0.10299012, 0.10185888, 0.06701886, 0.1242243 , 0.09372398]), 'mean_score_time': array([0.11225429, 0.09680028, 0.09992099, 0.10182242, 0.09697051,\n",
      "       0.08437214, 0.10417504, 0.08591156, 0.09401183, 0.06746898,\n",
      "       0.12088809, 0.11463633, 0.07651434, 0.12728834, 0.08456731,\n",
      "       0.11896558, 0.08349185, 0.09289865, 0.07068005, 0.08237767,\n",
      "       0.08163195, 0.06342769, 0.08629894, 0.07158084, 0.07883401,\n",
      "       0.06309447, 0.07188363, 0.05728388, 0.07254472, 0.069488  ,\n",
      "       0.06427679, 0.08727584, 0.07583284, 0.09410367, 0.08303504,\n",
      "       0.07588263, 0.0782279 , 0.06607952, 0.07291427, 0.08461518,\n",
      "       0.07911248, 0.0717432 , 0.08640051, 0.06607232, 0.06979508,\n",
      "       0.06713285, 0.06333895, 0.08714323, 0.08132434, 0.09278493,\n",
      "       0.06990423, 0.07867661, 0.06779494, 0.06237292, 0.06450162,\n",
      "       0.11136184, 0.12089162, 0.1101079 , 0.13255277, 0.08253708,\n",
      "       0.09361253, 0.07208686, 0.0831543 , 0.07707682, 0.08560143,\n",
      "       0.06977859, 0.08854284, 0.09754176, 0.10354862, 0.06893768,\n",
      "       0.09423976, 0.09291253, 0.10115466, 0.09864306, 0.11787133,\n",
      "       0.1040441 , 0.17350254, 0.16298828, 0.11547885, 0.10569673,\n",
      "       0.12754641, 0.11360679, 0.1099237 , 0.10504394, 0.09681411,\n",
      "       0.10271492, 0.0970994 , 0.07450852, 0.07226229, 0.09109578,\n",
      "       0.07311029, 0.09614081, 0.09344506, 0.07664318, 0.11608486,\n",
      "       0.1149713 , 0.05835481, 0.13621492, 0.03350296, 0.05180082]), 'std_score_time': array([0.06240507, 0.05089688, 0.04529059, 0.04841538, 0.04165995,\n",
      "       0.01962459, 0.03789661, 0.04398262, 0.03720578, 0.02483572,\n",
      "       0.05069311, 0.02949489, 0.03932531, 0.05209177, 0.0364957 ,\n",
      "       0.04674139, 0.03376022, 0.03317842, 0.0231384 , 0.0245077 ,\n",
      "       0.03247935, 0.01139754, 0.02032394, 0.01854248, 0.03183615,\n",
      "       0.02181911, 0.02815326, 0.01561295, 0.02900738, 0.04235155,\n",
      "       0.01928829, 0.03950583, 0.03012312, 0.04670787, 0.04336148,\n",
      "       0.04020248, 0.03986389, 0.02807761, 0.01899332, 0.02891691,\n",
      "       0.03590188, 0.02803735, 0.0359532 , 0.02497163, 0.03053521,\n",
      "       0.00890523, 0.02637569, 0.03547827, 0.04181839, 0.03423401,\n",
      "       0.01206468, 0.02883084, 0.02507844, 0.02307222, 0.02384646,\n",
      "       0.04446485, 0.03830691, 0.04388039, 0.04805114, 0.04443287,\n",
      "       0.0266934 , 0.02491509, 0.0138919 , 0.0260742 , 0.03751929,\n",
      "       0.02784571, 0.01931315, 0.04152376, 0.04470923, 0.0234365 ,\n",
      "       0.04159963, 0.05095184, 0.03995093, 0.04051172, 0.04436229,\n",
      "       0.05555782, 0.06978301, 0.06163501, 0.05081197, 0.04324561,\n",
      "       0.05961384, 0.04946614, 0.03940684, 0.05646712, 0.04165494,\n",
      "       0.05618565, 0.03621283, 0.02839659, 0.02964487, 0.04625597,\n",
      "       0.02893862, 0.03561212, 0.04415563, 0.03538395, 0.05186552,\n",
      "       0.04899241, 0.02110082, 0.0145718 , 0.02010367, 0.01469545]), 'param_columntransformer__num__with_mean': masked_array(data=[True, False, False, True, True, True, False, True,\n",
      "                   False, True, True, True, False, True, True, False,\n",
      "                   True, True, True, True, True, True, False, False,\n",
      "                   False, True, False, False, True, False, False, False,\n",
      "                   False, True, True, True, False, False, True, False,\n",
      "                   True, False, True, False, False, False, False, True,\n",
      "                   False, True, True, True, False, True, True, True,\n",
      "                   False, True, True, False, True, False, True, False,\n",
      "                   False, True, False, True, True, True, False, True,\n",
      "                   True, True, True, False, True, True, False, True,\n",
      "                   False, False, False, True, True, True, False, False,\n",
      "                   False, False, True, True, True, False, False, True,\n",
      "                   True, True, False, False],\n",
      "             mask=[False, False, False, False, False, False, False, False,\n",
      "                   False, False, False, False, False, False, False, False,\n",
      "                   False, False, False, False, False, False, False, False,\n",
      "                   False, False, False, False, False, False, False, False,\n",
      "                   False, False, False, False, False, False, False, False,\n",
      "                   False, False, False, False, False, False, False, False,\n",
      "                   False, False, False, False, False, False, False, False,\n",
      "                   False, False, False, False, False, False, False, False,\n",
      "                   False, False, False, False, False, False, False, False,\n",
      "                   False, False, False, False, False, False, False, False,\n",
      "                   False, False, False, False, False, False, False, False,\n",
      "                   False, False, False, False, False, False, False, False,\n",
      "                   False, False, False, False],\n",
      "       fill_value='?',\n",
      "            dtype=object), 'param_columntransformer__num__with_std': masked_array(data=[True, False, False, False, True, False, True, True,\n",
      "                   True, True, False, True, False, False, False, False,\n",
      "                   True, False, True, True, True, True, True, False,\n",
      "                   False, True, True, True, False, False, False, True,\n",
      "                   True, False, False, True, False, False, True, False,\n",
      "                   True, True, False, True, False, False, True, False,\n",
      "                   True, True, True, False, False, False, False, False,\n",
      "                   True, False, False, True, False, False, False, False,\n",
      "                   False, True, True, False, True, False, True, True,\n",
      "                   True, False, True, False, True, False, True, False,\n",
      "                   False, True, True, False, True, True, True, False,\n",
      "                   True, True, False, False, True, True, True, True, True,\n",
      "                   True, True, True],\n",
      "             mask=[False, False, False, False, False, False, False, False,\n",
      "                   False, False, False, False, False, False, False, False,\n",
      "                   False, False, False, False, False, False, False, False,\n",
      "                   False, False, False, False, False, False, False, False,\n",
      "                   False, False, False, False, False, False, False, False,\n",
      "                   False, False, False, False, False, False, False, False,\n",
      "                   False, False, False, False, False, False, False, False,\n",
      "                   False, False, False, False, False, False, False, False,\n",
      "                   False, False, False, False, False, False, False, False,\n",
      "                   False, False, False, False, False, False, False, False,\n",
      "                   False, False, False, False, False, False, False, False,\n",
      "                   False, False, False, False, False, False, False, False,\n",
      "                   False, False, False, False],\n",
      "       fill_value='?',\n",
      "            dtype=object), 'param_logisticregression__C': masked_array(data=[0.003405552838392023, 0.04534137421477656,\n",
      "                   0.05824776923943517, 0.37115974748729813,\n",
      "                   0.0024980870333869746, 0.004162639517659848,\n",
      "                   0.03600655643908551, 0.010672139844576397,\n",
      "                   1.056482031407813, 0.006425064858079299,\n",
      "                   5.4708507029705045, 0.03754494742530983,\n",
      "                   0.11545581172481836, 3.0814305818527585,\n",
      "                   0.012138073791386839, 0.007132286414837746,\n",
      "                   0.006952993714846449, 0.019879842644425598,\n",
      "                   0.015636157346474146, 1.386808373764262,\n",
      "                   0.00299304813534584, 4.194496526727703,\n",
      "                   0.17285252269913803, 0.0015317091181179803,\n",
      "                   0.07845948385815794, 3.331099391348813,\n",
      "                   7.387324357057866, 0.12733902463326915,\n",
      "                   0.4761036634948189, 0.5116134279025933,\n",
      "                   0.03834832875885547, 0.8943458846843471,\n",
      "                   0.011374725370129084, 0.6089133343498008,\n",
      "                   0.003435164490680882, 1.274679158974643,\n",
      "                   0.0022878858414105466, 0.0017109105513258146,\n",
      "                   4.061186488987743, 0.005091321071441414,\n",
      "                   0.01519114094050097, 2.107012219971298,\n",
      "                   0.0014374714350365637, 0.1515436274695375,\n",
      "                   0.09675832028015917, 0.01010768982556504,\n",
      "                   0.027963456206866567, 3.0510375266408056,\n",
      "                   1.6429489626985496, 0.01677897082538166,\n",
      "                   2.603544845537586, 0.06978501075591681,\n",
      "                   0.04587784137054206, 6.416023357006207,\n",
      "                   0.003929467617995726, 6.236474968135449,\n",
      "                   0.005639065848963196, 1.8330811986055504,\n",
      "                   0.0530725201468, 1.261566147877888, 6.156228928741126,\n",
      "                   2.855838666397211, 0.012009852464832108,\n",
      "                   0.6105880407354797, 0.4010311244881985,\n",
      "                   1.7107598307401772, 0.6957973387377895,\n",
      "                   0.06772067655754882, 0.046213899847329806,\n",
      "                   3.6214072617032596, 5.519884195703471,\n",
      "                   0.7748567689796828, 0.026758045806723238,\n",
      "                   2.7688792086939444, 2.684485837857967,\n",
      "                   5.172662143327553, 4.141063519559046,\n",
      "                   0.0022109500882138817, 2.957724392985332,\n",
      "                   0.8928364512576205, 0.9063398030439695,\n",
      "                   0.30727085751706235, 0.5507996473817999,\n",
      "                   0.45242450467943435, 0.021135541238691803,\n",
      "                   0.31516703418799985, 0.9020524840847434,\n",
      "                   0.058905629086806195, 0.0011865436899196602,\n",
      "                   1.927474971807363, 0.33092067795558217,\n",
      "                   0.7621665921862502, 3.6076418885799817,\n",
      "                   9.084114523707713, 0.0314111069802804,\n",
      "                   0.0024243098285329076, 0.058722068831089526,\n",
      "                   0.06798063377660718, 0.046246038756925296,\n",
      "                   0.004910102758265405],\n",
      "             mask=[False, False, False, False, False, False, False, False,\n",
      "                   False, False, False, False, False, False, False, False,\n",
      "                   False, False, False, False, False, False, False, False,\n",
      "                   False, False, False, False, False, False, False, False,\n",
      "                   False, False, False, False, False, False, False, False,\n",
      "                   False, False, False, False, False, False, False, False,\n",
      "                   False, False, False, False, False, False, False, False,\n",
      "                   False, False, False, False, False, False, False, False,\n",
      "                   False, False, False, False, False, False, False, False,\n",
      "                   False, False, False, False, False, False, False, False,\n",
      "                   False, False, False, False, False, False, False, False,\n",
      "                   False, False, False, False, False, False, False, False,\n",
      "                   False, False, False, False],\n",
      "       fill_value='?',\n",
      "            dtype=object), 'params': [{'columntransformer__num__with_mean': True, 'columntransformer__num__with_std': True, 'logisticregression__C': 0.003405552838392023}, {'columntransformer__num__with_mean': False, 'columntransformer__num__with_std': False, 'logisticregression__C': 0.04534137421477656}, {'columntransformer__num__with_mean': False, 'columntransformer__num__with_std': False, 'logisticregression__C': 0.05824776923943517}, {'columntransformer__num__with_mean': True, 'columntransformer__num__with_std': False, 'logisticregression__C': 0.37115974748729813}, {'columntransformer__num__with_mean': True, 'columntransformer__num__with_std': True, 'logisticregression__C': 0.0024980870333869746}, {'columntransformer__num__with_mean': True, 'columntransformer__num__with_std': False, 'logisticregression__C': 0.004162639517659848}, {'columntransformer__num__with_mean': False, 'columntransformer__num__with_std': True, 'logisticregression__C': 0.03600655643908551}, {'columntransformer__num__with_mean': True, 'columntransformer__num__with_std': True, 'logisticregression__C': 0.010672139844576397}, {'columntransformer__num__with_mean': False, 'columntransformer__num__with_std': True, 'logisticregression__C': 1.056482031407813}, {'columntransformer__num__with_mean': True, 'columntransformer__num__with_std': True, 'logisticregression__C': 0.006425064858079299}, {'columntransformer__num__with_mean': True, 'columntransformer__num__with_std': False, 'logisticregression__C': 5.4708507029705045}, {'columntransformer__num__with_mean': True, 'columntransformer__num__with_std': True, 'logisticregression__C': 0.03754494742530983}, {'columntransformer__num__with_mean': False, 'columntransformer__num__with_std': False, 'logisticregression__C': 0.11545581172481836}, {'columntransformer__num__with_mean': True, 'columntransformer__num__with_std': False, 'logisticregression__C': 3.0814305818527585}, {'columntransformer__num__with_mean': True, 'columntransformer__num__with_std': False, 'logisticregression__C': 0.012138073791386839}, {'columntransformer__num__with_mean': False, 'columntransformer__num__with_std': False, 'logisticregression__C': 0.007132286414837746}, {'columntransformer__num__with_mean': True, 'columntransformer__num__with_std': True, 'logisticregression__C': 0.006952993714846449}, {'columntransformer__num__with_mean': True, 'columntransformer__num__with_std': False, 'logisticregression__C': 0.019879842644425598}, {'columntransformer__num__with_mean': True, 'columntransformer__num__with_std': True, 'logisticregression__C': 0.015636157346474146}, {'columntransformer__num__with_mean': True, 'columntransformer__num__with_std': True, 'logisticregression__C': 1.386808373764262}, {'columntransformer__num__with_mean': True, 'columntransformer__num__with_std': True, 'logisticregression__C': 0.00299304813534584}, {'columntransformer__num__with_mean': True, 'columntransformer__num__with_std': True, 'logisticregression__C': 4.194496526727703}, {'columntransformer__num__with_mean': False, 'columntransformer__num__with_std': True, 'logisticregression__C': 0.17285252269913803}, {'columntransformer__num__with_mean': False, 'columntransformer__num__with_std': False, 'logisticregression__C': 0.0015317091181179803}, {'columntransformer__num__with_mean': False, 'columntransformer__num__with_std': False, 'logisticregression__C': 0.07845948385815794}, {'columntransformer__num__with_mean': True, 'columntransformer__num__with_std': True, 'logisticregression__C': 3.331099391348813}, {'columntransformer__num__with_mean': False, 'columntransformer__num__with_std': True, 'logisticregression__C': 7.387324357057866}, {'columntransformer__num__with_mean': False, 'columntransformer__num__with_std': True, 'logisticregression__C': 0.12733902463326915}, {'columntransformer__num__with_mean': True, 'columntransformer__num__with_std': False, 'logisticregression__C': 0.4761036634948189}, {'columntransformer__num__with_mean': False, 'columntransformer__num__with_std': False, 'logisticregression__C': 0.5116134279025933}, {'columntransformer__num__with_mean': False, 'columntransformer__num__with_std': False, 'logisticregression__C': 0.03834832875885547}, {'columntransformer__num__with_mean': False, 'columntransformer__num__with_std': True, 'logisticregression__C': 0.8943458846843471}, {'columntransformer__num__with_mean': False, 'columntransformer__num__with_std': True, 'logisticregression__C': 0.011374725370129084}, {'columntransformer__num__with_mean': True, 'columntransformer__num__with_std': False, 'logisticregression__C': 0.6089133343498008}, {'columntransformer__num__with_mean': True, 'columntransformer__num__with_std': False, 'logisticregression__C': 0.003435164490680882}, {'columntransformer__num__with_mean': True, 'columntransformer__num__with_std': True, 'logisticregression__C': 1.274679158974643}, {'columntransformer__num__with_mean': False, 'columntransformer__num__with_std': False, 'logisticregression__C': 0.0022878858414105466}, {'columntransformer__num__with_mean': False, 'columntransformer__num__with_std': False, 'logisticregression__C': 0.0017109105513258146}, {'columntransformer__num__with_mean': True, 'columntransformer__num__with_std': True, 'logisticregression__C': 4.061186488987743}, {'columntransformer__num__with_mean': False, 'columntransformer__num__with_std': False, 'logisticregression__C': 0.005091321071441414}, {'columntransformer__num__with_mean': True, 'columntransformer__num__with_std': True, 'logisticregression__C': 0.01519114094050097}, {'columntransformer__num__with_mean': False, 'columntransformer__num__with_std': True, 'logisticregression__C': 2.107012219971298}, {'columntransformer__num__with_mean': True, 'columntransformer__num__with_std': False, 'logisticregression__C': 0.0014374714350365637}, {'columntransformer__num__with_mean': False, 'columntransformer__num__with_std': True, 'logisticregression__C': 0.1515436274695375}, {'columntransformer__num__with_mean': False, 'columntransformer__num__with_std': False, 'logisticregression__C': 0.09675832028015917}, {'columntransformer__num__with_mean': False, 'columntransformer__num__with_std': False, 'logisticregression__C': 0.01010768982556504}, {'columntransformer__num__with_mean': False, 'columntransformer__num__with_std': True, 'logisticregression__C': 0.027963456206866567}, {'columntransformer__num__with_mean': True, 'columntransformer__num__with_std': False, 'logisticregression__C': 3.0510375266408056}, {'columntransformer__num__with_mean': False, 'columntransformer__num__with_std': True, 'logisticregression__C': 1.6429489626985496}, {'columntransformer__num__with_mean': True, 'columntransformer__num__with_std': True, 'logisticregression__C': 0.01677897082538166}, {'columntransformer__num__with_mean': True, 'columntransformer__num__with_std': True, 'logisticregression__C': 2.603544845537586}, {'columntransformer__num__with_mean': True, 'columntransformer__num__with_std': False, 'logisticregression__C': 0.06978501075591681}, {'columntransformer__num__with_mean': False, 'columntransformer__num__with_std': False, 'logisticregression__C': 0.04587784137054206}, {'columntransformer__num__with_mean': True, 'columntransformer__num__with_std': False, 'logisticregression__C': 6.416023357006207}, {'columntransformer__num__with_mean': True, 'columntransformer__num__with_std': False, 'logisticregression__C': 0.003929467617995726}, {'columntransformer__num__with_mean': True, 'columntransformer__num__with_std': False, 'logisticregression__C': 6.236474968135449}, {'columntransformer__num__with_mean': False, 'columntransformer__num__with_std': True, 'logisticregression__C': 0.005639065848963196}, {'columntransformer__num__with_mean': True, 'columntransformer__num__with_std': False, 'logisticregression__C': 1.8330811986055504}, {'columntransformer__num__with_mean': True, 'columntransformer__num__with_std': False, 'logisticregression__C': 0.0530725201468}, {'columntransformer__num__with_mean': False, 'columntransformer__num__with_std': True, 'logisticregression__C': 1.261566147877888}, {'columntransformer__num__with_mean': True, 'columntransformer__num__with_std': False, 'logisticregression__C': 6.156228928741126}, {'columntransformer__num__with_mean': False, 'columntransformer__num__with_std': False, 'logisticregression__C': 2.855838666397211}, {'columntransformer__num__with_mean': True, 'columntransformer__num__with_std': False, 'logisticregression__C': 0.012009852464832108}, {'columntransformer__num__with_mean': False, 'columntransformer__num__with_std': False, 'logisticregression__C': 0.6105880407354797}, {'columntransformer__num__with_mean': False, 'columntransformer__num__with_std': False, 'logisticregression__C': 0.4010311244881985}, {'columntransformer__num__with_mean': True, 'columntransformer__num__with_std': True, 'logisticregression__C': 1.7107598307401772}, {'columntransformer__num__with_mean': False, 'columntransformer__num__with_std': True, 'logisticregression__C': 0.6957973387377895}, {'columntransformer__num__with_mean': True, 'columntransformer__num__with_std': False, 'logisticregression__C': 0.06772067655754882}, {'columntransformer__num__with_mean': True, 'columntransformer__num__with_std': True, 'logisticregression__C': 0.046213899847329806}, {'columntransformer__num__with_mean': True, 'columntransformer__num__with_std': False, 'logisticregression__C': 3.6214072617032596}, {'columntransformer__num__with_mean': False, 'columntransformer__num__with_std': True, 'logisticregression__C': 5.519884195703471}, {'columntransformer__num__with_mean': True, 'columntransformer__num__with_std': True, 'logisticregression__C': 0.7748567689796828}, {'columntransformer__num__with_mean': True, 'columntransformer__num__with_std': True, 'logisticregression__C': 0.026758045806723238}, {'columntransformer__num__with_mean': True, 'columntransformer__num__with_std': False, 'logisticregression__C': 2.7688792086939444}, {'columntransformer__num__with_mean': True, 'columntransformer__num__with_std': True, 'logisticregression__C': 2.684485837857967}, {'columntransformer__num__with_mean': False, 'columntransformer__num__with_std': False, 'logisticregression__C': 5.172662143327553}, {'columntransformer__num__with_mean': True, 'columntransformer__num__with_std': True, 'logisticregression__C': 4.141063519559046}, {'columntransformer__num__with_mean': True, 'columntransformer__num__with_std': False, 'logisticregression__C': 0.0022109500882138817}, {'columntransformer__num__with_mean': False, 'columntransformer__num__with_std': True, 'logisticregression__C': 2.957724392985332}, {'columntransformer__num__with_mean': True, 'columntransformer__num__with_std': False, 'logisticregression__C': 0.8928364512576205}, {'columntransformer__num__with_mean': False, 'columntransformer__num__with_std': False, 'logisticregression__C': 0.9063398030439695}, {'columntransformer__num__with_mean': False, 'columntransformer__num__with_std': True, 'logisticregression__C': 0.30727085751706235}, {'columntransformer__num__with_mean': False, 'columntransformer__num__with_std': True, 'logisticregression__C': 0.5507996473817999}, {'columntransformer__num__with_mean': True, 'columntransformer__num__with_std': False, 'logisticregression__C': 0.45242450467943435}, {'columntransformer__num__with_mean': True, 'columntransformer__num__with_std': True, 'logisticregression__C': 0.021135541238691803}, {'columntransformer__num__with_mean': True, 'columntransformer__num__with_std': True, 'logisticregression__C': 0.31516703418799985}, {'columntransformer__num__with_mean': False, 'columntransformer__num__with_std': True, 'logisticregression__C': 0.9020524840847434}, {'columntransformer__num__with_mean': False, 'columntransformer__num__with_std': False, 'logisticregression__C': 0.058905629086806195}, {'columntransformer__num__with_mean': False, 'columntransformer__num__with_std': True, 'logisticregression__C': 0.0011865436899196602}, {'columntransformer__num__with_mean': False, 'columntransformer__num__with_std': True, 'logisticregression__C': 1.927474971807363}, {'columntransformer__num__with_mean': True, 'columntransformer__num__with_std': False, 'logisticregression__C': 0.33092067795558217}, {'columntransformer__num__with_mean': True, 'columntransformer__num__with_std': False, 'logisticregression__C': 0.7621665921862502}, {'columntransformer__num__with_mean': True, 'columntransformer__num__with_std': True, 'logisticregression__C': 3.6076418885799817}, {'columntransformer__num__with_mean': False, 'columntransformer__num__with_std': True, 'logisticregression__C': 9.084114523707713}, {'columntransformer__num__with_mean': False, 'columntransformer__num__with_std': True, 'logisticregression__C': 0.0314111069802804}, {'columntransformer__num__with_mean': True, 'columntransformer__num__with_std': True, 'logisticregression__C': 0.0024243098285329076}, {'columntransformer__num__with_mean': True, 'columntransformer__num__with_std': True, 'logisticregression__C': 0.058722068831089526}, {'columntransformer__num__with_mean': True, 'columntransformer__num__with_std': True, 'logisticregression__C': 0.06798063377660718}, {'columntransformer__num__with_mean': False, 'columntransformer__num__with_std': True, 'logisticregression__C': 0.046246038756925296}, {'columntransformer__num__with_mean': False, 'columntransformer__num__with_std': True, 'logisticregression__C': 0.004910102758265405}], 'split0_test_score': array([0.83906634, 0.84213759, 0.84213759, 0.84602785, 0.83210483,\n",
      "       0.81981982, 0.85298935, 0.85012285, 0.85708436, 0.8466421 ,\n",
      "       0.84725635, 0.85298935, 0.84172809, 0.84725635, 0.82739558,\n",
      "       0.84090909, 0.8474611 , 0.84275184, 0.8519656 , 0.85626536,\n",
      "       0.83579034, 0.85626536, 0.85810811, 0.82821458, 0.84479934,\n",
      "       0.85647011, 0.85524161, 0.85647011, 0.82596233, 0.84336609,\n",
      "       0.84152334, 0.85667486, 0.8503276 , 0.82821458, 0.83783784,\n",
      "       0.85667486, 0.83128583, 0.83292383, 0.85626536, 0.84029484,\n",
      "       0.85135135, 0.85667486, 0.81367731, 0.85708436, 0.84193284,\n",
      "       0.84336609, 0.8531941 , 0.8466421 , 0.85667486, 0.8519656 ,\n",
      "       0.85585586, 0.84459459, 0.8519656 , 0.8450041 , 0.82166257,\n",
      "       0.84725635, 0.8462326 , 0.82698608, 0.83742834, 0.85667486,\n",
      "       0.84807535, 0.84357084, 0.84520885, 0.84479934, 0.85298935,\n",
      "       0.85626536, 0.85728911, 0.82760033, 0.8527846 , 0.83517609,\n",
      "       0.85606061, 0.85708436, 0.85339885, 0.84336609, 0.85565111,\n",
      "       0.85257985, 0.85647011, 0.82493857, 0.85606061, 0.82739558,\n",
      "       0.85053235, 0.85769861, 0.85687961, 0.82903358, 0.8519656 ,\n",
      "       0.85769861, 0.85749386, 0.84193284, 0.81347256, 0.85687961,\n",
      "       0.8466421 , 0.83374283, 0.85606061, 0.85524161, 0.8527846 ,\n",
      "       0.83292383, 0.85380835, 0.85524161, 0.8527846 , 0.84418509]), 'split1_test_score': array([nan, nan, nan, nan, nan, nan, nan, nan, nan, nan, nan, nan, nan,\n",
      "       nan, nan, nan, nan, nan, nan, nan, nan, nan, nan, nan, nan, nan,\n",
      "       nan, nan, nan, nan, nan, nan, nan, nan, nan, nan, nan, nan, nan,\n",
      "       nan, nan, nan, nan, nan, nan, nan, nan, nan, nan, nan, nan, nan,\n",
      "       nan, nan, nan, nan, nan, nan, nan, nan, nan, nan, nan, nan, nan,\n",
      "       nan, nan, nan, nan, nan, nan, nan, nan, nan, nan, nan, nan, nan,\n",
      "       nan, nan, nan, nan, nan, nan, nan, nan, nan, nan, nan, nan, nan,\n",
      "       nan, nan, nan, nan, nan, nan, nan, nan, nan]), 'split2_test_score': array([0.83230958, 0.83579034, 0.83865684, 0.84111384, 0.82657658,\n",
      "       0.83128583, 0.84561835, 0.83927109, 0.8474611 , 0.83660934,\n",
      "       0.82022932, 0.84561835, 0.84254709, 0.81961507, 0.83087633,\n",
      "       0.83190008, 0.83640459, 0.81941032, 0.84193284, 0.84643735,\n",
      "       0.83026208, 0.84643735, 0.84602785, 0.81347256, 0.83640459,\n",
      "       0.84602785, 0.84602785, 0.84643735, 0.84029484, 0.84152334,\n",
      "       0.84152334, 0.8474611 , 0.83947584, 0.82289107, 0.83312858,\n",
      "       0.8466421 , 0.82166257, 0.81674857, 0.8458231 , 0.83149058,\n",
      "       0.84111384, 0.84684685, 0.81347256, 0.84643735, 0.83722359,\n",
      "       0.83394758, 0.84520885, 0.82063882, 0.84643735, 0.84213759,\n",
      "       0.84602785, 0.82514333, 0.83701884, 0.83435708, 0.81592957,\n",
      "       0.81981982, 0.83497133, 0.84029484, 0.81981982, 0.8470516 ,\n",
      "       0.83292383, 0.83886159, 0.81920557, 0.83681409, 0.83640459,\n",
      "       0.8466421 , 0.8474611 , 0.82821458, 0.84643735, 0.81961507,\n",
      "       0.84602785, 0.84725635, 0.84479934, 0.82739558, 0.8462326 ,\n",
      "       0.83599509, 0.84602785, 0.81449631, 0.84602785, 0.82841933,\n",
      "       0.83701884, 0.84684685, 0.8470516 , 0.82084357, 0.84398034,\n",
      "       0.84684685, 0.8474611 , 0.83599509, 0.81347256, 0.84725635,\n",
      "       0.82145782, 0.83845209, 0.8458231 , 0.8466421 , 0.8458231 ,\n",
      "       0.82616708, 0.84725635, 0.8474611 , 0.84643735, 0.83374283]), 'split3_test_score': array([0.83968059, 0.83783784, 0.84213759, 0.84438984, 0.83271908,\n",
      "       0.83783784, 0.8495086 , 0.84848485, 0.8478706 , 0.84561835,\n",
      "       0.84398034, 0.84889435, 0.84070434, 0.84459459, 0.82514333,\n",
      "       0.84254709, 0.84643735, 0.82800983, 0.8486896 , 0.84766585,\n",
      "       0.83579034, 0.84602785, 0.8486896 , 0.82616708, 0.84213759,\n",
      "       0.8470516 , 0.8466421 , 0.84766585, 0.84438984, 0.84316134,\n",
      "       0.84254709, 0.84725635, 0.8478706 , 0.84459459, 0.83538084,\n",
      "       0.84684685, 0.82575758, 0.82084357, 0.84602785, 0.83456183,\n",
      "       0.84807535, 0.8470516 , 0.82043407, 0.84807535, 0.84152334,\n",
      "       0.83742834, 0.8486896 , 0.84438984, 0.8470516 , 0.84848485,\n",
      "       0.8470516 , 0.84438984, 0.84316134, 0.84479934, 0.83579034,\n",
      "       0.82411957, 0.84418509, 0.82514333, 0.83824734, 0.8470516 ,\n",
      "       0.84418509, 0.84459459, 0.84479934, 0.84234234, 0.8454136 ,\n",
      "       0.84725635, 0.84766585, 0.82596233, 0.8499181 , 0.84438984,\n",
      "       0.84643735, 0.8474611 , 0.8486896 , 0.83108108, 0.8466421 ,\n",
      "       0.84029484, 0.8462326 , 0.82862408, 0.84602785, 0.84418509,\n",
      "       0.84234234, 0.84848485, 0.8478706 , 0.82268632, 0.8486896 ,\n",
      "       0.8490991 , 0.8478706 , 0.83865684, 0.81347256, 0.84684685,\n",
      "       0.82411957, 0.84459459, 0.8470516 , 0.84602785, 0.84930385,\n",
      "       0.83230958, 0.84930385, 0.8495086 , 0.8499181 , 0.84398034]), 'split4_test_score': array([0.83353808, 0.84090909, 0.83722359, 0.82145782, 0.82800983,\n",
      "       0.83579034, 0.8466421 , 0.84377559, 0.84889435, 0.83804259,\n",
      "       0.83906634, 0.84643735, 0.83845209, 0.82452907, 0.82739558,\n",
      "       0.83906634, 0.83968059, 0.83660934, 0.84561835, 0.84889435,\n",
      "       0.83149058, 0.8495086 , 0.8482801 , 0.81797707, 0.83722359,\n",
      "       0.8495086 , 0.8499181 , 0.84766585, 0.82739558, 0.84213759,\n",
      "       0.83783784, 0.8490991 , 0.84418509, 0.83886159, 0.82882883,\n",
      "       0.8490991 , 0.83292383, 0.83046683, 0.84971335, 0.83824734,\n",
      "       0.84520885, 0.8495086 , 0.82022932, 0.84807535, 0.83968059,\n",
      "       0.84295659, 0.84520885, 0.83742834, 0.8490991 , 0.8458231 ,\n",
      "       0.84971335, 0.82575758, 0.83763309, 0.83251433, 0.83353808,\n",
      "       0.83783784, 0.83579034, 0.83681409, 0.83845209, 0.8490991 ,\n",
      "       0.83538084, 0.84049959, 0.83763309, 0.84049959, 0.84275184,\n",
      "       0.8490991 , 0.8486896 , 0.83005733, 0.84602785, 0.83968059,\n",
      "       0.8490991 , 0.84889435, 0.8450041 , 0.83968059, 0.8495086 ,\n",
      "       0.83804259, 0.8495086 , 0.82637183, 0.8503276 , 0.82084357,\n",
      "       0.83865684, 0.8490991 , 0.8486896 , 0.84029484, 0.8458231 ,\n",
      "       0.8486896 , 0.84930385, 0.83619984, 0.81408681, 0.8499181 ,\n",
      "       0.83701884, 0.84090909, 0.84971335, 0.85012285, 0.84520885,\n",
      "       0.82841933, 0.84725635, 0.84725635, 0.84602785, 0.83476658]), 'mean_test_score': array([nan, nan, nan, nan, nan, nan, nan, nan, nan, nan, nan, nan, nan,\n",
      "       nan, nan, nan, nan, nan, nan, nan, nan, nan, nan, nan, nan, nan,\n",
      "       nan, nan, nan, nan, nan, nan, nan, nan, nan, nan, nan, nan, nan,\n",
      "       nan, nan, nan, nan, nan, nan, nan, nan, nan, nan, nan, nan, nan,\n",
      "       nan, nan, nan, nan, nan, nan, nan, nan, nan, nan, nan, nan, nan,\n",
      "       nan, nan, nan, nan, nan, nan, nan, nan, nan, nan, nan, nan, nan,\n",
      "       nan, nan, nan, nan, nan, nan, nan, nan, nan, nan, nan, nan, nan,\n",
      "       nan, nan, nan, nan, nan, nan, nan, nan, nan]), 'std_test_score': array([nan, nan, nan, nan, nan, nan, nan, nan, nan, nan, nan, nan, nan,\n",
      "       nan, nan, nan, nan, nan, nan, nan, nan, nan, nan, nan, nan, nan,\n",
      "       nan, nan, nan, nan, nan, nan, nan, nan, nan, nan, nan, nan, nan,\n",
      "       nan, nan, nan, nan, nan, nan, nan, nan, nan, nan, nan, nan, nan,\n",
      "       nan, nan, nan, nan, nan, nan, nan, nan, nan, nan, nan, nan, nan,\n",
      "       nan, nan, nan, nan, nan, nan, nan, nan, nan, nan, nan, nan, nan,\n",
      "       nan, nan, nan, nan, nan, nan, nan, nan, nan, nan, nan, nan, nan,\n",
      "       nan, nan, nan, nan, nan, nan, nan, nan, nan]), 'rank_test_score': array([  1,  72,  71,  70,  69,  68,  67,  66,  65,  64,  63,  62,  61,\n",
      "        60,  59,  58,  57,  56,  55,  54,  53,  52,  73,  74,  75,  76,\n",
      "        98,  97,  96,  95,  94,  93,  92,  91,  90,  89,  99,  88,  86,\n",
      "        85,  84,  83,  82,  81,  80,  79,  78,  77,  51,  50,  49,  24,\n",
      "        22,  21,  20,  19,  18,  17,  16,  15,  14,  13,  12,  11,  10,\n",
      "         9,   8,   7,   6,   5,   4,   3,   2,  23,  25,  48,  26,  47,\n",
      "        46,  45,  44,  43,  42,  41,  40,  39,  38,  37,  36,  35,  34,\n",
      "        33,  32,  31,  30,  29,  28,  27,  87, 100], dtype=int32)}\n",
      "{'mean_fit_time': array([0.93108554, 2.03165894, 1.69067745, 1.38668056, 1.78397031,\n",
      "       1.82140222, 1.42673411, 2.02087049, 0.88545599, 1.74943929,\n",
      "       1.78113971, 1.79374213, 1.75844588, 1.78486681, 1.68046288,\n",
      "       2.11175537, 0.97045965, 1.74096909, 1.75599556, 1.75187154,\n",
      "       1.75544991, 1.80195322, 1.77689962, 2.16077342, 0.72222638,\n",
      "       1.74264517, 1.7680614 , 1.79669809, 1.71294208, 1.7469676 ,\n",
      "       1.81724739, 1.52508101, 1.75844254, 1.75918436, 1.80475106,\n",
      "       1.05711584, 1.03977656, 1.23789697, 0.96645246, 1.75151701,\n",
      "       1.6397018 , 1.68897338, 1.50222821, 1.70904021, 1.79243417,\n",
      "       1.69739575, 1.7303154 , 1.75502415, 0.82933607, 1.7556303 ,\n",
      "       1.56926198, 1.6752099 , 1.74874163, 1.72805772, 1.63326092,\n",
      "       1.73735666, 1.64312625, 2.08317919, 0.61510224, 1.77031713,\n",
      "       1.35798621, 1.69123034, 1.70841846, 2.04886718, 0.65379729,\n",
      "       1.71590786, 1.81721106, 1.20482526, 2.07441282, 0.66002946,\n",
      "       1.66568937, 1.7061048 , 1.6943202 , 1.73705292, 2.06522384,\n",
      "       0.59868383, 1.69085689, 1.72293806, 1.71997833, 1.67245517,\n",
      "       1.72262778, 1.76077714, 2.06760478, 0.90506868, 1.6901154 ,\n",
      "       1.68242784, 1.73070588, 1.74077387, 1.66894426, 1.726823  ,\n",
      "       1.69293737, 1.77417612, 0.84167862, 2.05103846, 0.73468719,\n",
      "       2.08499866, 0.64042392, 1.68939204, 1.6008266 , 0.98347464]), 'std_fit_time': array([0.02193411, 0.07189649, 0.05634296, 0.0951308 , 0.06723106,\n",
      "       0.06597852, 0.10683436, 0.1747569 , 0.01976921, 0.07453382,\n",
      "       0.04916397, 0.12151609, 0.07172091, 0.10100919, 0.09937991,\n",
      "       0.08213461, 0.05627457, 0.03250638, 0.07729661, 0.05155281,\n",
      "       0.05325603, 0.06281761, 0.04730306, 0.02700289, 0.04008967,\n",
      "       0.05550706, 0.08036435, 0.05180347, 0.06561066, 0.06654566,\n",
      "       0.09141806, 0.1105766 , 0.06266896, 0.05792867, 0.14777773,\n",
      "       0.08726494, 0.0600798 , 0.06782724, 0.10541572, 0.0596308 ,\n",
      "       0.05382587, 0.08454702, 0.10521924, 0.05485849, 0.06978077,\n",
      "       0.05629812, 0.04220465, 0.14050646, 0.06915373, 0.08931419,\n",
      "       0.11310125, 0.05986972, 0.02551786, 0.05333944, 0.09110158,\n",
      "       0.04940686, 0.05270609, 0.04483301, 0.07636252, 0.08050207,\n",
      "       0.06611573, 0.05436193, 0.05095152, 0.03089185, 0.02042193,\n",
      "       0.03848259, 0.05729157, 0.09730083, 0.08340943, 0.03115957,\n",
      "       0.10933048, 0.05526856, 0.06644136, 0.03654081, 0.09613273,\n",
      "       0.02125213, 0.04556975, 0.04113956, 0.02195255, 0.02532031,\n",
      "       0.02612502, 0.04867879, 0.06760108, 0.11024425, 0.09576973,\n",
      "       0.13343128, 0.07919146, 0.09911129, 0.07957248, 0.07221023,\n",
      "       0.0609954 , 0.20535205, 0.01536474, 0.04205156, 0.04237476,\n",
      "       0.0606105 , 0.0261457 , 0.04191253, 0.09553432, 0.17068961]), 'mean_score_time': array([0.13360496, 0.12070408, 0.14573593, 0.07951679, 0.09849997,\n",
      "       0.0829555 , 0.08728113, 0.08425727, 0.14113379, 0.10900574,\n",
      "       0.10999928, 0.10903249, 0.11114159, 0.11778684, 0.10950074,\n",
      "       0.08866992, 0.0849544 , 0.09027109, 0.11028538, 0.07530584,\n",
      "       0.08416386, 0.08940043, 0.09447308, 0.09415479, 0.0889576 ,\n",
      "       0.09875288, 0.08591218, 0.0970552 , 0.07815814, 0.09985638,\n",
      "       0.07961521, 0.08207698, 0.07125406, 0.08601313, 0.11901741,\n",
      "       0.11704454, 0.13621573, 0.10157061, 0.15217519, 0.11683874,\n",
      "       0.15482526, 0.08729138, 0.17538247, 0.06753659, 0.14378595,\n",
      "       0.08274326, 0.12148199, 0.13217192, 0.14031944, 0.1292614 ,\n",
      "       0.13113608, 0.08736734, 0.10405464, 0.08142314, 0.13763261,\n",
      "       0.09954238, 0.1296277 , 0.09136715, 0.10085506, 0.08947678,\n",
      "       0.10936089, 0.08777785, 0.10632019, 0.08111534, 0.08711858,\n",
      "       0.09296761, 0.09546266, 0.1237946 , 0.1049118 , 0.10551248,\n",
      "       0.09102259, 0.08125954, 0.10304699, 0.06304555, 0.08999233,\n",
      "       0.07740388, 0.07355824, 0.09745736, 0.07553163, 0.08928218,\n",
      "       0.08972297, 0.10304527, 0.12668862, 0.13823199, 0.14824986,\n",
      "       0.10218539, 0.12114038, 0.10426073, 0.10971098, 0.09543509,\n",
      "       0.11273537, 0.10199699, 0.16414986, 0.09224682, 0.09834714,\n",
      "       0.08739514, 0.10719595, 0.08313236, 0.06715245, 0.03097277]), 'std_score_time': array([0.03205509, 0.04359114, 0.05418229, 0.02228933, 0.02196463,\n",
      "       0.01335507, 0.02166542, 0.02222868, 0.04300011, 0.02227525,\n",
      "       0.02159302, 0.03147011, 0.02919832, 0.04700091, 0.01872097,\n",
      "       0.01476644, 0.02093721, 0.02527325, 0.03494277, 0.00842197,\n",
      "       0.01956824, 0.03293472, 0.0186095 , 0.02785884, 0.01087712,\n",
      "       0.03572231, 0.02063771, 0.01459703, 0.01857231, 0.01894792,\n",
      "       0.02430901, 0.01684268, 0.01438428, 0.0213538 , 0.04939506,\n",
      "       0.0432933 , 0.04087553, 0.02383339, 0.0235141 , 0.0344031 ,\n",
      "       0.02178216, 0.02771278, 0.04872687, 0.01258493, 0.03326766,\n",
      "       0.03158588, 0.02518782, 0.04569413, 0.0301045 , 0.04505627,\n",
      "       0.0461208 , 0.02690419, 0.01933518, 0.02370253, 0.03558353,\n",
      "       0.04287077, 0.02043567, 0.01838371, 0.02056524, 0.02822586,\n",
      "       0.02316701, 0.03287021, 0.02752561, 0.03147594, 0.01654068,\n",
      "       0.03080646, 0.03769751, 0.04688411, 0.04663433, 0.02778995,\n",
      "       0.01701265, 0.02023303, 0.03454912, 0.01402184, 0.01683029,\n",
      "       0.01223549, 0.00989933, 0.02610513, 0.02380334, 0.02408212,\n",
      "       0.02171043, 0.02013247, 0.03154693, 0.04064094, 0.07365815,\n",
      "       0.04417683, 0.04009134, 0.03984921, 0.02463297, 0.04121259,\n",
      "       0.02426779, 0.02570776, 0.01616429, 0.01950875, 0.03095528,\n",
      "       0.02134391, 0.03190968, 0.02141397, 0.03847037, 0.00426243]), 'param_columntransformer__num__with_mean': masked_array(data=[True, False, False, False, False, True, False, False,\n",
      "                   True, True, True, True, False, True, False, True, True,\n",
      "                   True, True, True, False, False, True, False, True,\n",
      "                   True, False, True, False, False, False, True, False,\n",
      "                   True, False, True, False, False, False, False, False,\n",
      "                   False, False, False, True, False, True, False, True,\n",
      "                   True, False, False, True, False, False, False, False,\n",
      "                   True, True, False, True, True, False, True, True,\n",
      "                   False, False, True, False, True, False, True, False,\n",
      "                   False, False, True, False, True, False, False, False,\n",
      "                   True, False, True, False, True, False, True, False,\n",
      "                   True, True, True, True, True, True, True, True, False,\n",
      "                   True, False],\n",
      "             mask=[False, False, False, False, False, False, False, False,\n",
      "                   False, False, False, False, False, False, False, False,\n",
      "                   False, False, False, False, False, False, False, False,\n",
      "                   False, False, False, False, False, False, False, False,\n",
      "                   False, False, False, False, False, False, False, False,\n",
      "                   False, False, False, False, False, False, False, False,\n",
      "                   False, False, False, False, False, False, False, False,\n",
      "                   False, False, False, False, False, False, False, False,\n",
      "                   False, False, False, False, False, False, False, False,\n",
      "                   False, False, False, False, False, False, False, False,\n",
      "                   False, False, False, False, False, False, False, False,\n",
      "                   False, False, False, False, False, False, False, False,\n",
      "                   False, False, False, False],\n",
      "       fill_value='?',\n",
      "            dtype=object), 'param_columntransformer__num__with_std': masked_array(data=[True, False, False, True, False, False, True, False,\n",
      "                   True, False, False, False, True, False, True, True,\n",
      "                   True, False, False, True, False, True, True, False,\n",
      "                   True, True, False, False, False, False, False, True,\n",
      "                   False, False, False, True, True, True, True, False,\n",
      "                   False, False, False, True, False, True, False, True,\n",
      "                   True, False, True, False, False, False, False, False,\n",
      "                   True, False, True, True, True, True, False, True, True,\n",
      "                   False, True, True, False, True, False, False, False,\n",
      "                   True, False, True, True, False, False, False, False,\n",
      "                   False, True, True, False, False, False, False, True,\n",
      "                   False, False, False, True, True, True, False, True,\n",
      "                   False, False, True],\n",
      "             mask=[False, False, False, False, False, False, False, False,\n",
      "                   False, False, False, False, False, False, False, False,\n",
      "                   False, False, False, False, False, False, False, False,\n",
      "                   False, False, False, False, False, False, False, False,\n",
      "                   False, False, False, False, False, False, False, False,\n",
      "                   False, False, False, False, False, False, False, False,\n",
      "                   False, False, False, False, False, False, False, False,\n",
      "                   False, False, False, False, False, False, False, False,\n",
      "                   False, False, False, False, False, False, False, False,\n",
      "                   False, False, False, False, False, False, False, False,\n",
      "                   False, False, False, False, False, False, False, False,\n",
      "                   False, False, False, False, False, False, False, False,\n",
      "                   False, False, False, False],\n",
      "       fill_value='?',\n",
      "            dtype=object), 'param_logisticregression__C': masked_array(data=[0.0037715271234034487, 0.0011530449871926655,\n",
      "                   0.23402460268173947, 0.013185293139764777,\n",
      "                   0.07189717149648281, 0.0012537432092251906,\n",
      "                   0.014642811376396888, 0.0023974547175458025,\n",
      "                   0.018658426696601744, 0.11370544034999754,\n",
      "                   0.2851265458026033, 0.25609566434642717,\n",
      "                   1.1746180115787797, 0.6639608554214644,\n",
      "                   0.49786101042449415, 4.170164006352779,\n",
      "                   0.022151122129250873, 0.43668521757247214,\n",
      "                   5.910123311261013, 1.2525454139094312,\n",
      "                   0.2372248731525827, 0.8544148958341264,\n",
      "                   2.9989372367612632, 2.274973984318965,\n",
      "                   0.007379610646718584, 2.941776549919626,\n",
      "                   0.5103767704939227, 1.8454900674990744,\n",
      "                   0.11935020545681602, 0.03847813735873024,\n",
      "                   0.03235494021718892, 0.07049847116013022,\n",
      "                   0.1362967162318381, 0.03787947536678436,\n",
      "                   0.3995245751904215, 0.019180532160604682,\n",
      "                   0.003182005254133713, 0.011669054259995155,\n",
      "                   0.0018390442012240881, 0.04489080013867018,\n",
      "                   0.1370330445263396, 0.001102347106518168,\n",
      "                   0.001219145647746095, 0.201156282565118,\n",
      "                   1.355825674159267, 4.646915929554866,\n",
      "                   0.011248037620519062, 0.03057662604278492,\n",
      "                   0.014919003439720342, 1.7943622005684963,\n",
      "                   0.6832738522866094, 0.04022448135918998,\n",
      "                   0.010852034538978338, 0.09504630401417703,\n",
      "                   0.0053637831221282645, 0.8199680284529521,\n",
      "                   0.5756681055255632, 7.158626620412866,\n",
      "                   0.003156304961458194, 0.34067913041615877,\n",
      "                   0.043963510982457564, 1.0002470771426641,\n",
      "                   0.19933085319830252, 0.21461824241707747,\n",
      "                   0.0036319184595646824, 1.2728277114634092,\n",
      "                   2.6638077368710573, 0.0219135110563757,\n",
      "                   0.30223740862359705, 0.005388349387793611,\n",
      "                   0.0027290160149040306, 1.1516438280440662,\n",
      "                   1.6502688982637563, 0.37810706854803194,\n",
      "                   0.9318602057112007, 0.001814091666612448,\n",
      "                   0.2149235077165145, 0.39829406799919265,\n",
      "                   0.002035682735919915, 1.5082897198906937,\n",
      "                   8.782811104863741, 1.135995239900082,\n",
      "                   0.13052511333303263, 0.023694445868593896,\n",
      "                   0.49091647909715164, 0.04841477815897992,\n",
      "                   0.010837283032553139, 0.014027369172539564,\n",
      "                   0.13638867559843856, 4.356168756890116,\n",
      "                   0.004586113359257455, 1.3360232786012347,\n",
      "                   0.004820778382510695, 1.6326645559787778,\n",
      "                   0.007439843652304986, 2.2745015276025553,\n",
      "                   0.0044721574830336825, 0.014437862322489609,\n",
      "                   1.0552326235325142, 4.123497924887202],\n",
      "             mask=[False, False, False, False, False, False, False, False,\n",
      "                   False, False, False, False, False, False, False, False,\n",
      "                   False, False, False, False, False, False, False, False,\n",
      "                   False, False, False, False, False, False, False, False,\n",
      "                   False, False, False, False, False, False, False, False,\n",
      "                   False, False, False, False, False, False, False, False,\n",
      "                   False, False, False, False, False, False, False, False,\n",
      "                   False, False, False, False, False, False, False, False,\n",
      "                   False, False, False, False, False, False, False, False,\n",
      "                   False, False, False, False, False, False, False, False,\n",
      "                   False, False, False, False, False, False, False, False,\n",
      "                   False, False, False, False, False, False, False, False,\n",
      "                   False, False, False, False],\n",
      "       fill_value='?',\n",
      "            dtype=object), 'params': [{'columntransformer__num__with_mean': True, 'columntransformer__num__with_std': True, 'logisticregression__C': 0.0037715271234034487}, {'columntransformer__num__with_mean': False, 'columntransformer__num__with_std': False, 'logisticregression__C': 0.0011530449871926655}, {'columntransformer__num__with_mean': False, 'columntransformer__num__with_std': False, 'logisticregression__C': 0.23402460268173947}, {'columntransformer__num__with_mean': False, 'columntransformer__num__with_std': True, 'logisticregression__C': 0.013185293139764777}, {'columntransformer__num__with_mean': False, 'columntransformer__num__with_std': False, 'logisticregression__C': 0.07189717149648281}, {'columntransformer__num__with_mean': True, 'columntransformer__num__with_std': False, 'logisticregression__C': 0.0012537432092251906}, {'columntransformer__num__with_mean': False, 'columntransformer__num__with_std': True, 'logisticregression__C': 0.014642811376396888}, {'columntransformer__num__with_mean': False, 'columntransformer__num__with_std': False, 'logisticregression__C': 0.0023974547175458025}, {'columntransformer__num__with_mean': True, 'columntransformer__num__with_std': True, 'logisticregression__C': 0.018658426696601744}, {'columntransformer__num__with_mean': True, 'columntransformer__num__with_std': False, 'logisticregression__C': 0.11370544034999754}, {'columntransformer__num__with_mean': True, 'columntransformer__num__with_std': False, 'logisticregression__C': 0.2851265458026033}, {'columntransformer__num__with_mean': True, 'columntransformer__num__with_std': False, 'logisticregression__C': 0.25609566434642717}, {'columntransformer__num__with_mean': False, 'columntransformer__num__with_std': True, 'logisticregression__C': 1.1746180115787797}, {'columntransformer__num__with_mean': True, 'columntransformer__num__with_std': False, 'logisticregression__C': 0.6639608554214644}, {'columntransformer__num__with_mean': False, 'columntransformer__num__with_std': True, 'logisticregression__C': 0.49786101042449415}, {'columntransformer__num__with_mean': True, 'columntransformer__num__with_std': True, 'logisticregression__C': 4.170164006352779}, {'columntransformer__num__with_mean': True, 'columntransformer__num__with_std': True, 'logisticregression__C': 0.022151122129250873}, {'columntransformer__num__with_mean': True, 'columntransformer__num__with_std': False, 'logisticregression__C': 0.43668521757247214}, {'columntransformer__num__with_mean': True, 'columntransformer__num__with_std': False, 'logisticregression__C': 5.910123311261013}, {'columntransformer__num__with_mean': True, 'columntransformer__num__with_std': True, 'logisticregression__C': 1.2525454139094312}, {'columntransformer__num__with_mean': False, 'columntransformer__num__with_std': False, 'logisticregression__C': 0.2372248731525827}, {'columntransformer__num__with_mean': False, 'columntransformer__num__with_std': True, 'logisticregression__C': 0.8544148958341264}, {'columntransformer__num__with_mean': True, 'columntransformer__num__with_std': True, 'logisticregression__C': 2.9989372367612632}, {'columntransformer__num__with_mean': False, 'columntransformer__num__with_std': False, 'logisticregression__C': 2.274973984318965}, {'columntransformer__num__with_mean': True, 'columntransformer__num__with_std': True, 'logisticregression__C': 0.007379610646718584}, {'columntransformer__num__with_mean': True, 'columntransformer__num__with_std': True, 'logisticregression__C': 2.941776549919626}, {'columntransformer__num__with_mean': False, 'columntransformer__num__with_std': False, 'logisticregression__C': 0.5103767704939227}, {'columntransformer__num__with_mean': True, 'columntransformer__num__with_std': False, 'logisticregression__C': 1.8454900674990744}, {'columntransformer__num__with_mean': False, 'columntransformer__num__with_std': False, 'logisticregression__C': 0.11935020545681602}, {'columntransformer__num__with_mean': False, 'columntransformer__num__with_std': False, 'logisticregression__C': 0.03847813735873024}, {'columntransformer__num__with_mean': False, 'columntransformer__num__with_std': False, 'logisticregression__C': 0.03235494021718892}, {'columntransformer__num__with_mean': True, 'columntransformer__num__with_std': True, 'logisticregression__C': 0.07049847116013022}, {'columntransformer__num__with_mean': False, 'columntransformer__num__with_std': False, 'logisticregression__C': 0.1362967162318381}, {'columntransformer__num__with_mean': True, 'columntransformer__num__with_std': False, 'logisticregression__C': 0.03787947536678436}, {'columntransformer__num__with_mean': False, 'columntransformer__num__with_std': False, 'logisticregression__C': 0.3995245751904215}, {'columntransformer__num__with_mean': True, 'columntransformer__num__with_std': True, 'logisticregression__C': 0.019180532160604682}, {'columntransformer__num__with_mean': False, 'columntransformer__num__with_std': True, 'logisticregression__C': 0.003182005254133713}, {'columntransformer__num__with_mean': False, 'columntransformer__num__with_std': True, 'logisticregression__C': 0.011669054259995155}, {'columntransformer__num__with_mean': False, 'columntransformer__num__with_std': True, 'logisticregression__C': 0.0018390442012240881}, {'columntransformer__num__with_mean': False, 'columntransformer__num__with_std': False, 'logisticregression__C': 0.04489080013867018}, {'columntransformer__num__with_mean': False, 'columntransformer__num__with_std': False, 'logisticregression__C': 0.1370330445263396}, {'columntransformer__num__with_mean': False, 'columntransformer__num__with_std': False, 'logisticregression__C': 0.001102347106518168}, {'columntransformer__num__with_mean': False, 'columntransformer__num__with_std': False, 'logisticregression__C': 0.001219145647746095}, {'columntransformer__num__with_mean': False, 'columntransformer__num__with_std': True, 'logisticregression__C': 0.201156282565118}, {'columntransformer__num__with_mean': True, 'columntransformer__num__with_std': False, 'logisticregression__C': 1.355825674159267}, {'columntransformer__num__with_mean': False, 'columntransformer__num__with_std': True, 'logisticregression__C': 4.646915929554866}, {'columntransformer__num__with_mean': True, 'columntransformer__num__with_std': False, 'logisticregression__C': 0.011248037620519062}, {'columntransformer__num__with_mean': False, 'columntransformer__num__with_std': True, 'logisticregression__C': 0.03057662604278492}, {'columntransformer__num__with_mean': True, 'columntransformer__num__with_std': True, 'logisticregression__C': 0.014919003439720342}, {'columntransformer__num__with_mean': True, 'columntransformer__num__with_std': False, 'logisticregression__C': 1.7943622005684963}, {'columntransformer__num__with_mean': False, 'columntransformer__num__with_std': True, 'logisticregression__C': 0.6832738522866094}, {'columntransformer__num__with_mean': False, 'columntransformer__num__with_std': False, 'logisticregression__C': 0.04022448135918998}, {'columntransformer__num__with_mean': True, 'columntransformer__num__with_std': False, 'logisticregression__C': 0.010852034538978338}, {'columntransformer__num__with_mean': False, 'columntransformer__num__with_std': False, 'logisticregression__C': 0.09504630401417703}, {'columntransformer__num__with_mean': False, 'columntransformer__num__with_std': False, 'logisticregression__C': 0.0053637831221282645}, {'columntransformer__num__with_mean': False, 'columntransformer__num__with_std': False, 'logisticregression__C': 0.8199680284529521}, {'columntransformer__num__with_mean': False, 'columntransformer__num__with_std': True, 'logisticregression__C': 0.5756681055255632}, {'columntransformer__num__with_mean': True, 'columntransformer__num__with_std': False, 'logisticregression__C': 7.158626620412866}, {'columntransformer__num__with_mean': True, 'columntransformer__num__with_std': True, 'logisticregression__C': 0.003156304961458194}, {'columntransformer__num__with_mean': False, 'columntransformer__num__with_std': True, 'logisticregression__C': 0.34067913041615877}, {'columntransformer__num__with_mean': True, 'columntransformer__num__with_std': True, 'logisticregression__C': 0.043963510982457564}, {'columntransformer__num__with_mean': True, 'columntransformer__num__with_std': True, 'logisticregression__C': 1.0002470771426641}, {'columntransformer__num__with_mean': False, 'columntransformer__num__with_std': False, 'logisticregression__C': 0.19933085319830252}, {'columntransformer__num__with_mean': True, 'columntransformer__num__with_std': True, 'logisticregression__C': 0.21461824241707747}, {'columntransformer__num__with_mean': True, 'columntransformer__num__with_std': True, 'logisticregression__C': 0.0036319184595646824}, {'columntransformer__num__with_mean': False, 'columntransformer__num__with_std': False, 'logisticregression__C': 1.2728277114634092}, {'columntransformer__num__with_mean': False, 'columntransformer__num__with_std': True, 'logisticregression__C': 2.6638077368710573}, {'columntransformer__num__with_mean': True, 'columntransformer__num__with_std': True, 'logisticregression__C': 0.0219135110563757}, {'columntransformer__num__with_mean': False, 'columntransformer__num__with_std': False, 'logisticregression__C': 0.30223740862359705}, {'columntransformer__num__with_mean': True, 'columntransformer__num__with_std': True, 'logisticregression__C': 0.005388349387793611}, {'columntransformer__num__with_mean': False, 'columntransformer__num__with_std': False, 'logisticregression__C': 0.0027290160149040306}, {'columntransformer__num__with_mean': True, 'columntransformer__num__with_std': False, 'logisticregression__C': 1.1516438280440662}, {'columntransformer__num__with_mean': False, 'columntransformer__num__with_std': False, 'logisticregression__C': 1.6502688982637563}, {'columntransformer__num__with_mean': False, 'columntransformer__num__with_std': True, 'logisticregression__C': 0.37810706854803194}, {'columntransformer__num__with_mean': False, 'columntransformer__num__with_std': False, 'logisticregression__C': 0.9318602057112007}, {'columntransformer__num__with_mean': True, 'columntransformer__num__with_std': True, 'logisticregression__C': 0.001814091666612448}, {'columntransformer__num__with_mean': False, 'columntransformer__num__with_std': True, 'logisticregression__C': 0.2149235077165145}, {'columntransformer__num__with_mean': True, 'columntransformer__num__with_std': False, 'logisticregression__C': 0.39829406799919265}, {'columntransformer__num__with_mean': False, 'columntransformer__num__with_std': False, 'logisticregression__C': 0.002035682735919915}, {'columntransformer__num__with_mean': False, 'columntransformer__num__with_std': False, 'logisticregression__C': 1.5082897198906937}, {'columntransformer__num__with_mean': False, 'columntransformer__num__with_std': False, 'logisticregression__C': 8.782811104863741}, {'columntransformer__num__with_mean': True, 'columntransformer__num__with_std': False, 'logisticregression__C': 1.135995239900082}, {'columntransformer__num__with_mean': False, 'columntransformer__num__with_std': True, 'logisticregression__C': 0.13052511333303263}, {'columntransformer__num__with_mean': True, 'columntransformer__num__with_std': True, 'logisticregression__C': 0.023694445868593896}, {'columntransformer__num__with_mean': False, 'columntransformer__num__with_std': False, 'logisticregression__C': 0.49091647909715164}, {'columntransformer__num__with_mean': True, 'columntransformer__num__with_std': False, 'logisticregression__C': 0.04841477815897992}, {'columntransformer__num__with_mean': False, 'columntransformer__num__with_std': False, 'logisticregression__C': 0.010837283032553139}, {'columntransformer__num__with_mean': True, 'columntransformer__num__with_std': False, 'logisticregression__C': 0.014027369172539564}, {'columntransformer__num__with_mean': False, 'columntransformer__num__with_std': True, 'logisticregression__C': 0.13638867559843856}, {'columntransformer__num__with_mean': True, 'columntransformer__num__with_std': False, 'logisticregression__C': 4.356168756890116}, {'columntransformer__num__with_mean': True, 'columntransformer__num__with_std': False, 'logisticregression__C': 0.004586113359257455}, {'columntransformer__num__with_mean': True, 'columntransformer__num__with_std': False, 'logisticregression__C': 1.3360232786012347}, {'columntransformer__num__with_mean': True, 'columntransformer__num__with_std': True, 'logisticregression__C': 0.004820778382510695}, {'columntransformer__num__with_mean': True, 'columntransformer__num__with_std': True, 'logisticregression__C': 1.6326645559787778}, {'columntransformer__num__with_mean': True, 'columntransformer__num__with_std': True, 'logisticregression__C': 0.007439843652304986}, {'columntransformer__num__with_mean': True, 'columntransformer__num__with_std': False, 'logisticregression__C': 2.2745015276025553}, {'columntransformer__num__with_mean': True, 'columntransformer__num__with_std': True, 'logisticregression__C': 0.0044721574830336825}, {'columntransformer__num__with_mean': False, 'columntransformer__num__with_std': False, 'logisticregression__C': 0.014437862322489609}, {'columntransformer__num__with_mean': True, 'columntransformer__num__with_std': False, 'logisticregression__C': 1.0552326235325142}, {'columntransformer__num__with_mean': False, 'columntransformer__num__with_std': True, 'logisticregression__C': 4.123497924887202}], 'split0_test_score': array([0.84114637, 0.81699079, 0.84585466, 0.84912999, 0.84339816,\n",
      "       0.82395087, 0.85015353, 0.8296827 , 0.85056295, 0.83684749,\n",
      "       0.8296827 , 0.82988741, 0.85117707, 0.83111566, 0.85158649,\n",
      "       0.85076766, 0.8493347 , 0.82947799, 0.83275333, 0.85117707,\n",
      "       0.84585466, 0.85117707, 0.85076766, 0.84380757, 0.8468782 ,\n",
      "       0.85097236, 0.84667349, 0.83050154, 0.84298874, 0.84319345,\n",
      "       0.84319345, 0.85158649, 0.84278403, 0.82517912, 0.84769703,\n",
      "       0.84994882, 0.83868987, 0.84851586, 0.82865916, 0.84380757,\n",
      "       0.84380757, 0.81862845, 0.8223132 , 0.85035824, 0.83152508,\n",
      "       0.85138178, 0.82886387, 0.85138178, 0.85015353, 0.83295803,\n",
      "       0.85138178, 0.84094166, 0.83561924, 0.84421699, 0.84257932,\n",
      "       0.8468782 , 0.85158649, 0.82886387, 0.83848516, 0.85117707,\n",
      "       0.85117707, 0.85117707, 0.84176049, 0.85015353, 0.84032753,\n",
      "       0.84708291, 0.85097236, 0.8493347 , 0.8419652 , 0.84360287,\n",
      "       0.83602866, 0.8296827 , 0.84462641, 0.85117707, 0.84667349,\n",
      "       0.82845445, 0.85035824, 0.82988741, 0.82190379, 0.84278403,\n",
      "       0.84237462, 0.8419652 , 0.85097236, 0.84953941, 0.84053224,\n",
      "       0.84237462, 0.84462641, 0.84135107, 0.85076766, 0.82824974,\n",
      "       0.82681679, 0.82988741, 0.84360287, 0.85097236, 0.8468782 ,\n",
      "       0.84483112, 0.84257932, 0.84360287, 0.83234391, 0.85117707]), 'split1_test_score': array([0.82944308, 0.81552007, 0.84213759, 0.84377559, 0.83619984,\n",
      "       0.81081081, 0.84418509, 0.82002457, 0.84459459, 0.83619984,\n",
      "       0.83722359, 0.82452907, 0.84643735, 0.82780508, 0.84684685,\n",
      "       0.84561835, 0.84459459, 0.82411957, 0.83742834, 0.8462326 ,\n",
      "       0.83087633, 0.84684685, 0.8458231 , 0.84090909, 0.83824734,\n",
      "       0.8458231 , 0.83087633, 0.83865684, 0.83108108, 0.83005733,\n",
      "       0.83026208, 0.8466421 , 0.82964783, 0.83722359, 0.83435708,\n",
      "       0.84459459, 0.82678133, 0.84295659, 0.81674857, 0.83067158,\n",
      "       0.83026208, 0.81756757, 0.81449631, 0.8470516 , 0.83968059,\n",
      "       0.8470516 , 0.83599509, 0.84561835, 0.84418509, 0.83108108,\n",
      "       0.8466421 , 0.82985258, 0.82145782, 0.83886159, 0.83271908,\n",
      "       0.83210483, 0.8466421 , 0.82555283, 0.82657658, 0.8470516 ,\n",
      "       0.8458231 , 0.84643735, 0.83067158, 0.8474611 , 0.82923833,\n",
      "       0.82985258, 0.84602785, 0.84459459, 0.84049959, 0.83497133,\n",
      "       0.82882883, 0.83763309, 0.83026208, 0.84766585, 0.84070434,\n",
      "       0.81654382, 0.8474611 , 0.83333333, 0.82104832, 0.83067158,\n",
      "       0.83026208, 0.83988534, 0.8470516 , 0.84520885, 0.83005733,\n",
      "       0.83619984, 0.84172809, 0.82821458, 0.8478706 , 0.83517609,\n",
      "       0.83415233, 0.82350532, 0.83374283, 0.84643735, 0.83804259,\n",
      "       0.82698608, 0.83251433, 0.84070434, 0.83988534, 0.8462326 ]), 'split2_test_score': array([0.83722359, 0.81900082, 0.85053235, 0.8470516 , 0.84930385,\n",
      "       0.82145782, 0.84807535, 0.83906634, 0.8495086 , 0.82473382,\n",
      "       0.84643735, 0.82821458, 0.8511466 , 0.82432432, 0.8519656 ,\n",
      "       0.8515561 , 0.85053235, 0.82514333, 0.82616708, 0.85217035,\n",
      "       0.84377559, 0.8519656 , 0.8519656 , 0.85053235, 0.84398034,\n",
      "       0.85176085, 0.8458231 , 0.82309582, 0.84520885, 0.84684685,\n",
      "       0.84377559, 0.8523751 , 0.8486896 , 0.84930385, 0.84561835,\n",
      "       0.84971335, 0.83271908, 0.8462326 , 0.82432432, 0.84193284,\n",
      "       0.84295659, 0.81572482, 0.81654382, 0.85176085, 0.82616708,\n",
      "       0.85217035, 0.82289107, 0.8515561 , 0.84807535, 0.82391482,\n",
      "       0.85176085, 0.8495086 , 0.84254709, 0.8482801 , 0.84070434,\n",
      "       0.84152334, 0.85094185, 0.82473382, 0.83292383, 0.85094185,\n",
      "       0.85217035, 0.8519656 , 0.84357084, 0.85176085, 0.83660934,\n",
      "       0.84377559, 0.8519656 , 0.85053235, 0.85053235, 0.84213759,\n",
      "       0.83619984, 0.82411957, 0.8503276 , 0.85135135, 0.84275184,\n",
      "       0.82350532, 0.85094185, 0.82391482, 0.83947584, 0.84213759,\n",
      "       0.84357084, 0.82493857, 0.8523751 , 0.8507371 , 0.84316134,\n",
      "       0.83681409, 0.84234234, 0.8462326 , 0.8519656 , 0.82616708,\n",
      "       0.82002457, 0.82411957, 0.84049959, 0.8519656 , 0.84398034,\n",
      "       0.82330057, 0.83906634, 0.84193284, 0.83497133, 0.8515561 ]), 'split3_test_score': array([0.83783784, 0.81081081, 0.83886159, 0.8490991 , 0.83886159,\n",
      "       0.81592957, 0.84848485, 0.82637183, 0.8503276 , 0.84336609,\n",
      "       0.83742834, 0.82555283, 0.8503276 , 0.84336609, 0.8507371 ,\n",
      "       0.84930385, 0.8499181 , 0.83804259, 0.83271908, 0.8495086 ,\n",
      "       0.83865684, 0.8499181 , 0.84930385, 0.83845209, 0.84357084,\n",
      "       0.84971335, 0.83845209, 0.84234234, 0.83804259, 0.84254709,\n",
      "       0.83865684, 0.84971335, 0.83824734, 0.84090909, 0.83824734,\n",
      "       0.8503276 , 0.83456183, 0.84807535, 0.82411957, 0.83906634,\n",
      "       0.83763309, 0.81470106, 0.81060606, 0.8495086 , 0.83558559,\n",
      "       0.84971335, 0.83640459, 0.84889435, 0.8486896 , 0.8454136 ,\n",
      "       0.85012285, 0.83886159, 0.84316134, 0.84049959, 0.83353808,\n",
      "       0.83640459, 0.8495086 , 0.83538084, 0.83456183, 0.8499181 ,\n",
      "       0.84971335, 0.84971335, 0.83845209, 0.84930385, 0.83681409,\n",
      "       0.83865684, 0.8499181 , 0.8499181 , 0.83292383, 0.84254709,\n",
      "       0.82760033, 0.84090909, 0.83845209, 0.8503276 , 0.83865684,\n",
      "       0.82371007, 0.85012285, 0.84275184, 0.83128583, 0.83865684,\n",
      "       0.83845209, 0.84193284, 0.8503276 , 0.84971335, 0.83886159,\n",
      "       0.82596233, 0.83845209, 0.84357084, 0.8499181 , 0.84213759,\n",
      "       0.81818182, 0.82330057, 0.84029484, 0.84930385, 0.84357084,\n",
      "       0.84172809, 0.83906634, 0.83742834, 0.83415233, 0.8499181 ]), 'split4_test_score': array([0.83742834, 0.81101556, 0.83783784, 0.8454136 , 0.83783784,\n",
      "       0.81470106, 0.84602785, 0.82371007, 0.8458231 , 0.82371007,\n",
      "       0.84070434, 0.82719083, 0.8482801 , 0.82391482, 0.8482801 ,\n",
      "       0.8474611 , 0.8466421 , 0.83271908, 0.82575758, 0.84766585,\n",
      "       0.83804259, 0.8478706 , 0.84766585, 0.84070434, 0.84275184,\n",
      "       0.8482801 , 0.83804259, 0.82534808, 0.83763309, 0.83886159,\n",
      "       0.83783784, 0.84766585, 0.83763309, 0.82350532, 0.83824734,\n",
      "       0.8458231 , 0.83517609, 0.8450041 , 0.82186732, 0.84295659,\n",
      "       0.83763309, 0.81592957, 0.81285831, 0.84766585, 0.82555283,\n",
      "       0.84725635, 0.82882883, 0.8482801 , 0.84602785, 0.82411957,\n",
      "       0.8486896 , 0.83722359, 0.84070434, 0.83681409, 0.83435708,\n",
      "       0.83906634, 0.84848485, 0.83968059, 0.83517609, 0.84766585,\n",
      "       0.8474611 , 0.8474611 , 0.83968059, 0.84725635, 0.83660934,\n",
      "       0.83865684, 0.84807535, 0.8466421 , 0.83824734, 0.84029484,\n",
      "       0.82268632, 0.82452907, 0.83804259, 0.8478706 , 0.83783784,\n",
      "       0.82145782, 0.84725635, 0.82555283, 0.82248157, 0.83968059,\n",
      "       0.83824734, 0.82862408, 0.84766585, 0.84725635, 0.83783784,\n",
      "       0.82309582, 0.84316134, 0.84070434, 0.84725635, 0.82473382,\n",
      "       0.83210483, 0.83824734, 0.83968059, 0.8470516 , 0.84295659,\n",
      "       0.83906634, 0.83824734, 0.84316134, 0.84172809, 0.84807535]), 'mean_test_score': array([0.83661584, 0.81466761, 0.84304481, 0.84689398, 0.84112025,\n",
      "       0.81737003, 0.84738533, 0.8277711 , 0.84816337, 0.83297146,\n",
      "       0.83829526, 0.82707494, 0.84947374, 0.8301052 , 0.84988323,\n",
      "       0.84894141, 0.84820437, 0.82990051, 0.83096508, 0.84935089,\n",
      "       0.8394412 , 0.84955564, 0.84910521, 0.84288109, 0.84308571,\n",
      "       0.84930995, 0.83997352, 0.83198892, 0.83899087, 0.84030126,\n",
      "       0.83874516, 0.84959658, 0.83940038, 0.83522419, 0.84083343,\n",
      "       0.84808149, 0.83358564, 0.8461569 , 0.82314379, 0.83968699,\n",
      "       0.83845848, 0.81651029, 0.81536354, 0.84926903, 0.83170223,\n",
      "       0.84951469, 0.83059669, 0.84914614, 0.84742628, 0.83149742,\n",
      "       0.84971944, 0.8392776 , 0.83669797, 0.84173447, 0.83677958,\n",
      "       0.83919546, 0.84943278, 0.83084239, 0.8335447 , 0.84935089,\n",
      "       0.84926899, 0.84935089, 0.83882712, 0.84918714, 0.83591972,\n",
      "       0.83960495, 0.84939185, 0.84820437, 0.84083366, 0.84071075,\n",
      "       0.83026879, 0.83137471, 0.84034215, 0.84967849, 0.84132487,\n",
      "       0.8227343 , 0.84922808, 0.83108805, 0.82723907, 0.83878613,\n",
      "       0.83858139, 0.83546921, 0.8496785 , 0.84849101, 0.83809007,\n",
      "       0.83288934, 0.84206205, 0.84001469, 0.84955566, 0.83129286,\n",
      "       0.82625607, 0.82781204, 0.83956414, 0.84914615, 0.84308571,\n",
      "       0.83518244, 0.83829473, 0.84136595, 0.8366162 , 0.84939184]), 'std_test_score': array([0.00385997, 0.00325923, 0.00467747, 0.00208821, 0.00473807,\n",
      "       0.00473791, 0.00207038, 0.00647604, 0.00246838, 0.00757795,\n",
      "       0.00544378, 0.00189844, 0.00184788, 0.00712604, 0.00198777,\n",
      "       0.00216967, 0.00224077, 0.00510816, 0.00443141, 0.00218505,\n",
      "       0.00521244, 0.00193625, 0.00218307, 0.00418672, 0.0027907 ,\n",
      "       0.00210485, 0.00579498, 0.00744385, 0.00489804, 0.00571426,\n",
      "       0.00485564, 0.00219774, 0.00628178, 0.00972407, 0.00500646,\n",
      "       0.00238553, 0.0039137 , 0.00204068, 0.00388055, 0.00478281,\n",
      "       0.0048454 , 0.00140228, 0.00398379, 0.00172859, 0.00542622,\n",
      "       0.00208542, 0.00506713, 0.00219384, 0.00209361, 0.00784723,\n",
      "       0.00187745, 0.00633507, 0.00806801, 0.00407423, 0.00404733,\n",
      "       0.00495028, 0.0017668 , 0.00579517, 0.00392541, 0.00169198,\n",
      "       0.00234089, 0.00211486, 0.00443823, 0.00168989, 0.00362825,\n",
      "       0.00583473, 0.00211891, 0.00224077, 0.00573953, 0.00306223,\n",
      "       0.00519695, 0.00681813, 0.00676065, 0.00159905, 0.00317197,\n",
      "       0.00385275, 0.0015508 , 0.00670255, 0.00714897, 0.00433309,\n",
      "       0.00466095, 0.00722812, 0.00201586, 0.00199676, 0.00440149,\n",
      "       0.00721429, 0.0020497 , 0.00620988, 0.00176263, 0.00649989,\n",
      "       0.00633875, 0.0057574 , 0.00321314, 0.00214635, 0.00285897,\n",
      "       0.00847805, 0.00325465, 0.00221319, 0.00357344, 0.00199309]), 'rank_test_score': array([ 69, 100,  36,  32,  42,  97,  31,  91,  28,  76,  63,  93,   9,\n",
      "        88,   1,  24,  26,  89,  84,  13,  53,   7,  23,  37,  34,  16,\n",
      "        49,  78,  57,  47,  60,   5,  54,  72,  44,  29,  74,  33,  95,\n",
      "        50,  62,  98,  99,  17,  79,   8,  86,  22,  30,  80,   2,  55,\n",
      "        67,  39,  66,  56,  10,  85,  75,  13,  18,  13,  58,  20,  70,\n",
      "        51,  11,  26,  43,  45,  87,  81,  46,   4,  41,  96,  19,  83,\n",
      "        92,  59,  61,  71,   3,  25,  65,  77,  38,  48,   6,  82,  94,\n",
      "        90,  52,  21,  34,  73,  64,  40,  68,  12], dtype=int32)}\n",
      "{'mean_fit_time': array([1.69151511, 1.72593012, 2.06535616, 0.69941478, 1.72092628,\n",
      "       1.68849797, 1.72644925, 1.66777673, 1.70948997, 2.08870835,\n",
      "       0.55964289, 1.71756797, 1.7207396 , 1.69160986, 1.67478433,\n",
      "       1.99448519, 0.56741767, 1.72369761, 1.74896612, 2.01365991,\n",
      "       0.64159479, 2.08748994, 0.66589246, 1.66574926, 1.96191812,\n",
      "       0.81054406, 1.61630607, 1.69124985, 1.74244857, 1.59738164,\n",
      "       1.66360278, 1.51545515, 1.20543547, 1.82988629, 1.71137977,\n",
      "       1.72590823, 1.961517  , 0.67764144, 1.65034213, 1.65346503,\n",
      "       1.65394125, 1.54715171, 1.66714377, 1.3401721 , 1.18995299,\n",
      "       1.75481849, 1.93065224, 0.89930267, 1.83586869, 1.42111363,\n",
      "       1.8197207 , 1.45990148, 2.02797794, 1.08374257, 1.71043468,\n",
      "       1.63217759, 1.24824686, 1.73390574, 1.65480552, 1.276755  ,\n",
      "       1.70662484, 1.76114707, 2.03331933, 0.7328228 , 1.756036  ,\n",
      "       1.77150464, 2.04541154, 0.66080699, 1.76176348, 1.95090127,\n",
      "       0.71047335, 1.68567696, 1.62943444, 1.7046946 , 1.65470605,\n",
      "       1.69660735, 1.61361241, 2.06467252, 1.04427638, 1.67461267,\n",
      "       1.70756102, 1.66845026, 1.7938333 , 2.03497176, 0.77890091,\n",
      "       1.70146513, 1.71845317, 2.08321528, 0.84713755, 1.70861964,\n",
      "       1.76296015, 1.94577813, 1.03095675, 1.73798728, 1.62999363,\n",
      "       1.67481594, 1.57068152, 1.68839626, 1.69695859, 0.90816717]), 'std_fit_time': array([0.08728441, 0.09029193, 0.04531447, 0.07174417, 0.07616449,\n",
      "       0.03197317, 0.06805872, 0.01551901, 0.04965753, 0.02523619,\n",
      "       0.04759196, 0.02354935, 0.1009358 , 0.05816627, 0.05731511,\n",
      "       0.15627239, 0.02579743, 0.07279583, 0.1028878 , 0.05066648,\n",
      "       0.04845067, 0.04035195, 0.05262083, 0.09056442, 0.18508446,\n",
      "       0.05992871, 0.09882383, 0.065835  , 0.06763218, 0.08555284,\n",
      "       0.06300409, 0.20341103, 0.08266874, 0.03727753, 0.0606103 ,\n",
      "       0.08351856, 0.18252216, 0.04756867, 0.06857499, 0.11199787,\n",
      "       0.06956017, 0.0919224 , 0.03312882, 0.09021106, 0.1238519 ,\n",
      "       0.09294356, 0.15770635, 0.06924747, 0.09586888, 0.0860453 ,\n",
      "       0.16853011, 0.12992037, 0.04590872, 0.11212695, 0.06912998,\n",
      "       0.07534302, 0.06237044, 0.03010669, 0.09514246, 0.06048477,\n",
      "       0.06374107, 0.03931774, 0.06910599, 0.02653872, 0.09128207,\n",
      "       0.06085954, 0.04073258, 0.04602929, 0.03556591, 0.05184267,\n",
      "       0.05559705, 0.0448711 , 0.0624345 , 0.04847189, 0.09736833,\n",
      "       0.09770197, 0.06627761, 0.05787974, 0.0357755 , 0.05629298,\n",
      "       0.04480674, 0.05491818, 0.04504884, 0.08787383, 0.04514165,\n",
      "       0.05646783, 0.06581994, 0.08963533, 0.04830883, 0.11054965,\n",
      "       0.05373508, 0.11168199, 0.12056923, 0.07410151, 0.07709448,\n",
      "       0.03878921, 0.10334685, 0.04783574, 0.08947761, 0.14524703]), 'mean_score_time': array([0.16421857, 0.17751818, 0.09186072, 0.11753511, 0.08593383,\n",
      "       0.08814645, 0.07686648, 0.08531256, 0.102564  , 0.09751987,\n",
      "       0.09545527, 0.09445314, 0.09671311, 0.11617084, 0.09678059,\n",
      "       0.07006927, 0.09378767, 0.08253384, 0.09254904, 0.07928619,\n",
      "       0.08984079, 0.08876958, 0.0973608 , 0.08390512, 0.10322833,\n",
      "       0.1374536 , 0.10913458, 0.10868263, 0.1201386 , 0.16558757,\n",
      "       0.10536418, 0.18938107, 0.09881196, 0.08483853, 0.07975035,\n",
      "       0.07786288, 0.14938693, 0.11644816, 0.1138124 , 0.15184813,\n",
      "       0.1093225 , 0.15856409, 0.13147488, 0.2739974 , 0.08590879,\n",
      "       0.10368876, 0.12917476, 0.16770582, 0.13785343, 0.13349614,\n",
      "       0.12464266, 0.15161495, 0.10617919, 0.10523715, 0.0918262 ,\n",
      "       0.10743699, 0.0871387 , 0.10242214, 0.08014584, 0.09929967,\n",
      "       0.0922358 , 0.08205409, 0.09709034, 0.08472128, 0.07833347,\n",
      "       0.08794532, 0.07392702, 0.08068113, 0.06890106, 0.15476756,\n",
      "       0.10845671, 0.08232894, 0.1379003 , 0.09361806, 0.12815228,\n",
      "       0.08194003, 0.15795536, 0.0941803 , 0.09876189, 0.07930555,\n",
      "       0.06957302, 0.07777061, 0.0564044 , 0.08548803, 0.07086964,\n",
      "       0.06731062, 0.09782228, 0.06625571, 0.08595653, 0.0837327 ,\n",
      "       0.08046293, 0.10848126, 0.10155439, 0.07886238, 0.13954663,\n",
      "       0.07559233, 0.1551867 , 0.05622406, 0.0644383 , 0.02200108]), 'std_score_time': array([0.09785895, 0.06797632, 0.04724814, 0.05414421, 0.04635104,\n",
      "       0.03225287, 0.03119937, 0.02301213, 0.01631747, 0.03716035,\n",
      "       0.06032822, 0.0305905 , 0.02737407, 0.06257985, 0.04396372,\n",
      "       0.03155984, 0.03780163, 0.03107011, 0.04255518, 0.04572135,\n",
      "       0.02573705, 0.04020039, 0.03952072, 0.03337542, 0.04051531,\n",
      "       0.05848384, 0.06292298, 0.0477228 , 0.05587333, 0.06849173,\n",
      "       0.00907878, 0.06858541, 0.0261122 , 0.02867128, 0.03720003,\n",
      "       0.02935298, 0.06206358, 0.03086788, 0.05272303, 0.06440186,\n",
      "       0.02969855, 0.04673965, 0.02075881, 0.10214603, 0.02791063,\n",
      "       0.0361785 , 0.06611542, 0.05147263, 0.0739337 , 0.06697744,\n",
      "       0.06747053, 0.08246321, 0.04553499, 0.05105654, 0.04136984,\n",
      "       0.0666154 , 0.03265779, 0.04068796, 0.04116307, 0.06041022,\n",
      "       0.04331375, 0.03507849, 0.03717923, 0.02014203, 0.0144063 ,\n",
      "       0.03948967, 0.03564219, 0.03603346, 0.02612421, 0.07244725,\n",
      "       0.04764083, 0.02842075, 0.05858801, 0.04098224, 0.0322153 ,\n",
      "       0.02366267, 0.07045635, 0.04301949, 0.05176245, 0.0299186 ,\n",
      "       0.01434985, 0.03552029, 0.0165289 , 0.02879187, 0.03221536,\n",
      "       0.02702368, 0.03718419, 0.02872229, 0.02959618, 0.03849879,\n",
      "       0.03708485, 0.04534181, 0.05403156, 0.03353933, 0.05017789,\n",
      "       0.03246655, 0.05456509, 0.01650161, 0.03273094, 0.00735385]), 'param_columntransformer__num__with_mean': masked_array(data=[True, False, False, True, True, False, True, False,\n",
      "                   True, True, True, True, False, True, False, False,\n",
      "                   True, False, False, True, True, True, False, True,\n",
      "                   True, True, False, False, True, False, True, False,\n",
      "                   False, True, False, False, True, False, True, True,\n",
      "                   False, False, True, False, False, True, True, True,\n",
      "                   True, True, True, False, False, True, False, True,\n",
      "                   False, True, True, True, False, False, True, True,\n",
      "                   False, True, True, True, False, True, False, True,\n",
      "                   True, False, False, True, True, False, False, False,\n",
      "                   False, True, True, True, False, False, True, True,\n",
      "                   False, False, True, False, True, True, False, False,\n",
      "                   False, True, True, False],\n",
      "             mask=[False, False, False, False, False, False, False, False,\n",
      "                   False, False, False, False, False, False, False, False,\n",
      "                   False, False, False, False, False, False, False, False,\n",
      "                   False, False, False, False, False, False, False, False,\n",
      "                   False, False, False, False, False, False, False, False,\n",
      "                   False, False, False, False, False, False, False, False,\n",
      "                   False, False, False, False, False, False, False, False,\n",
      "                   False, False, False, False, False, False, False, False,\n",
      "                   False, False, False, False, False, False, False, False,\n",
      "                   False, False, False, False, False, False, False, False,\n",
      "                   False, False, False, False, False, False, False, False,\n",
      "                   False, False, False, False, False, False, False, False,\n",
      "                   False, False, False, False],\n",
      "       fill_value='?',\n",
      "            dtype=object), 'param_columntransformer__num__with_std': masked_array(data=[True, True, False, True, True, True, False, False,\n",
      "                   False, False, True, True, True, False, False, True,\n",
      "                   True, True, True, True, True, False, True, True, False,\n",
      "                   True, False, False, False, True, False, False, True,\n",
      "                   False, True, False, False, True, False, False, False,\n",
      "                   False, False, False, True, True, False, True, False,\n",
      "                   True, False, True, True, True, False, True, True,\n",
      "                   False, True, True, False, False, True, True, False,\n",
      "                   False, True, True, False, False, True, True, True,\n",
      "                   False, False, False, False, False, True, True, False,\n",
      "                   True, False, True, True, False, False, False, True,\n",
      "                   True, False, True, True, False, False, False, False,\n",
      "                   True, False, False],\n",
      "             mask=[False, False, False, False, False, False, False, False,\n",
      "                   False, False, False, False, False, False, False, False,\n",
      "                   False, False, False, False, False, False, False, False,\n",
      "                   False, False, False, False, False, False, False, False,\n",
      "                   False, False, False, False, False, False, False, False,\n",
      "                   False, False, False, False, False, False, False, False,\n",
      "                   False, False, False, False, False, False, False, False,\n",
      "                   False, False, False, False, False, False, False, False,\n",
      "                   False, False, False, False, False, False, False, False,\n",
      "                   False, False, False, False, False, False, False, False,\n",
      "                   False, False, False, False, False, False, False, False,\n",
      "                   False, False, False, False, False, False, False, False,\n",
      "                   False, False, False, False],\n",
      "       fill_value='?',\n",
      "            dtype=object), 'param_logisticregression__C': masked_array(data=[0.13349691524312013, 0.5604059813032262,\n",
      "                   0.02925841678424021, 0.00316637345097742,\n",
      "                   3.6252970050454296, 0.045884740985656335,\n",
      "                   0.0016252904541628433, 0.046631573207079405,\n",
      "                   0.07671283083742263, 0.01930110306090099,\n",
      "                   0.002560170584582327, 0.38090681039191304,\n",
      "                   0.15632267214145165, 1.0255499013187024,\n",
      "                   1.6187895145592182, 0.03629782048128816,\n",
      "                   0.0014501651256543107, 0.8666366137013477,\n",
      "                   5.849208761040209, 0.86773624815454,\n",
      "                   0.0054241293228910505, 0.0438619756891512,\n",
      "                   0.002774555112085862, 0.6097570336303403,\n",
      "                   3.941987855605249, 0.011076188172169925,\n",
      "                   0.010223906712065219, 0.019883657932678944,\n",
      "                   2.777936524683949, 7.859545215330566,\n",
      "                   4.327673353137617, 0.0018023429489443237,\n",
      "                   0.009494338726308652, 1.6093247836545737,\n",
      "                   0.457844827245833, 0.0039571945446719515,\n",
      "                   0.0020851166393871007, 0.0014816535126147801,\n",
      "                   0.04775552485909346, 0.0016786812230695683,\n",
      "                   0.12328607183711353, 0.004213645411527715,\n",
      "                   0.011376045946998104, 0.023175241933627085,\n",
      "                   0.005981533853668177, 0.3978991008450669,\n",
      "                   0.4454951063936144, 0.016720176640115617,\n",
      "                   0.3241075784243493, 1.3472761699179017,\n",
      "                   0.008110445264657797, 0.32196804308538934,\n",
      "                   3.55086903286138, 0.030961933130151775,\n",
      "                   0.19102991703754482, 0.2769269168168937,\n",
      "                   0.013370724269089232, 0.0014539681699036505,\n",
      "                   6.235192739861146, 0.029665764327247438,\n",
      "                   0.028658538535341522, 0.004940557981209731,\n",
      "                   0.4877249392341438, 0.006290838836168666,\n",
      "                   1.8116896017938109, 0.014405040422825956,\n",
      "                   3.317014633423626, 0.003291215088176833,\n",
      "                   0.006961913888516897, 0.05063396797733139,\n",
      "                   0.0012491994926193243, 0.17389405147480377,\n",
      "                   9.992607657034892, 0.0426601486170087,\n",
      "                   3.936927530420785, 0.3681233533542223,\n",
      "                   0.553324326408697, 6.178332590196732,\n",
      "                   0.024973247304869117, 0.03943903112087349,\n",
      "                   0.010584074044927574, 0.40260184972561397,\n",
      "                   0.0022639984044712474, 1.203663181133422,\n",
      "                   0.0035663383350577637, 0.0011915896745983412,\n",
      "                   1.625305465834282, 0.003841620822225403,\n",
      "                   0.007980275068569125, 8.190688220027885,\n",
      "                   0.002490738432874478, 2.938446655868244,\n",
      "                   0.028698473372822563, 1.4853430440091406,\n",
      "                   0.08103357249382732, 0.011094350644203672,\n",
      "                   0.0011789104041846992, 1.08472115811152,\n",
      "                   0.0014885373767700568, 1.154719168829333],\n",
      "             mask=[False, False, False, False, False, False, False, False,\n",
      "                   False, False, False, False, False, False, False, False,\n",
      "                   False, False, False, False, False, False, False, False,\n",
      "                   False, False, False, False, False, False, False, False,\n",
      "                   False, False, False, False, False, False, False, False,\n",
      "                   False, False, False, False, False, False, False, False,\n",
      "                   False, False, False, False, False, False, False, False,\n",
      "                   False, False, False, False, False, False, False, False,\n",
      "                   False, False, False, False, False, False, False, False,\n",
      "                   False, False, False, False, False, False, False, False,\n",
      "                   False, False, False, False, False, False, False, False,\n",
      "                   False, False, False, False, False, False, False, False,\n",
      "                   False, False, False, False],\n",
      "       fill_value='?',\n",
      "            dtype=object), 'params': [{'columntransformer__num__with_mean': True, 'columntransformer__num__with_std': True, 'logisticregression__C': 0.13349691524312013}, {'columntransformer__num__with_mean': False, 'columntransformer__num__with_std': True, 'logisticregression__C': 0.5604059813032262}, {'columntransformer__num__with_mean': False, 'columntransformer__num__with_std': False, 'logisticregression__C': 0.02925841678424021}, {'columntransformer__num__with_mean': True, 'columntransformer__num__with_std': True, 'logisticregression__C': 0.00316637345097742}, {'columntransformer__num__with_mean': True, 'columntransformer__num__with_std': True, 'logisticregression__C': 3.6252970050454296}, {'columntransformer__num__with_mean': False, 'columntransformer__num__with_std': True, 'logisticregression__C': 0.045884740985656335}, {'columntransformer__num__with_mean': True, 'columntransformer__num__with_std': False, 'logisticregression__C': 0.0016252904541628433}, {'columntransformer__num__with_mean': False, 'columntransformer__num__with_std': False, 'logisticregression__C': 0.046631573207079405}, {'columntransformer__num__with_mean': True, 'columntransformer__num__with_std': False, 'logisticregression__C': 0.07671283083742263}, {'columntransformer__num__with_mean': True, 'columntransformer__num__with_std': False, 'logisticregression__C': 0.01930110306090099}, {'columntransformer__num__with_mean': True, 'columntransformer__num__with_std': True, 'logisticregression__C': 0.002560170584582327}, {'columntransformer__num__with_mean': True, 'columntransformer__num__with_std': True, 'logisticregression__C': 0.38090681039191304}, {'columntransformer__num__with_mean': False, 'columntransformer__num__with_std': True, 'logisticregression__C': 0.15632267214145165}, {'columntransformer__num__with_mean': True, 'columntransformer__num__with_std': False, 'logisticregression__C': 1.0255499013187024}, {'columntransformer__num__with_mean': False, 'columntransformer__num__with_std': False, 'logisticregression__C': 1.6187895145592182}, {'columntransformer__num__with_mean': False, 'columntransformer__num__with_std': True, 'logisticregression__C': 0.03629782048128816}, {'columntransformer__num__with_mean': True, 'columntransformer__num__with_std': True, 'logisticregression__C': 0.0014501651256543107}, {'columntransformer__num__with_mean': False, 'columntransformer__num__with_std': True, 'logisticregression__C': 0.8666366137013477}, {'columntransformer__num__with_mean': False, 'columntransformer__num__with_std': True, 'logisticregression__C': 5.849208761040209}, {'columntransformer__num__with_mean': True, 'columntransformer__num__with_std': True, 'logisticregression__C': 0.86773624815454}, {'columntransformer__num__with_mean': True, 'columntransformer__num__with_std': True, 'logisticregression__C': 0.0054241293228910505}, {'columntransformer__num__with_mean': True, 'columntransformer__num__with_std': False, 'logisticregression__C': 0.0438619756891512}, {'columntransformer__num__with_mean': False, 'columntransformer__num__with_std': True, 'logisticregression__C': 0.002774555112085862}, {'columntransformer__num__with_mean': True, 'columntransformer__num__with_std': True, 'logisticregression__C': 0.6097570336303403}, {'columntransformer__num__with_mean': True, 'columntransformer__num__with_std': False, 'logisticregression__C': 3.941987855605249}, {'columntransformer__num__with_mean': True, 'columntransformer__num__with_std': True, 'logisticregression__C': 0.011076188172169925}, {'columntransformer__num__with_mean': False, 'columntransformer__num__with_std': False, 'logisticregression__C': 0.010223906712065219}, {'columntransformer__num__with_mean': False, 'columntransformer__num__with_std': False, 'logisticregression__C': 0.019883657932678944}, {'columntransformer__num__with_mean': True, 'columntransformer__num__with_std': False, 'logisticregression__C': 2.777936524683949}, {'columntransformer__num__with_mean': False, 'columntransformer__num__with_std': True, 'logisticregression__C': 7.859545215330566}, {'columntransformer__num__with_mean': True, 'columntransformer__num__with_std': False, 'logisticregression__C': 4.327673353137617}, {'columntransformer__num__with_mean': False, 'columntransformer__num__with_std': False, 'logisticregression__C': 0.0018023429489443237}, {'columntransformer__num__with_mean': False, 'columntransformer__num__with_std': True, 'logisticregression__C': 0.009494338726308652}, {'columntransformer__num__with_mean': True, 'columntransformer__num__with_std': False, 'logisticregression__C': 1.6093247836545737}, {'columntransformer__num__with_mean': False, 'columntransformer__num__with_std': True, 'logisticregression__C': 0.457844827245833}, {'columntransformer__num__with_mean': False, 'columntransformer__num__with_std': False, 'logisticregression__C': 0.0039571945446719515}, {'columntransformer__num__with_mean': True, 'columntransformer__num__with_std': False, 'logisticregression__C': 0.0020851166393871007}, {'columntransformer__num__with_mean': False, 'columntransformer__num__with_std': True, 'logisticregression__C': 0.0014816535126147801}, {'columntransformer__num__with_mean': True, 'columntransformer__num__with_std': False, 'logisticregression__C': 0.04775552485909346}, {'columntransformer__num__with_mean': True, 'columntransformer__num__with_std': False, 'logisticregression__C': 0.0016786812230695683}, {'columntransformer__num__with_mean': False, 'columntransformer__num__with_std': False, 'logisticregression__C': 0.12328607183711353}, {'columntransformer__num__with_mean': False, 'columntransformer__num__with_std': False, 'logisticregression__C': 0.004213645411527715}, {'columntransformer__num__with_mean': True, 'columntransformer__num__with_std': False, 'logisticregression__C': 0.011376045946998104}, {'columntransformer__num__with_mean': False, 'columntransformer__num__with_std': False, 'logisticregression__C': 0.023175241933627085}, {'columntransformer__num__with_mean': False, 'columntransformer__num__with_std': True, 'logisticregression__C': 0.005981533853668177}, {'columntransformer__num__with_mean': True, 'columntransformer__num__with_std': True, 'logisticregression__C': 0.3978991008450669}, {'columntransformer__num__with_mean': True, 'columntransformer__num__with_std': False, 'logisticregression__C': 0.4454951063936144}, {'columntransformer__num__with_mean': True, 'columntransformer__num__with_std': True, 'logisticregression__C': 0.016720176640115617}, {'columntransformer__num__with_mean': True, 'columntransformer__num__with_std': False, 'logisticregression__C': 0.3241075784243493}, {'columntransformer__num__with_mean': True, 'columntransformer__num__with_std': True, 'logisticregression__C': 1.3472761699179017}, {'columntransformer__num__with_mean': True, 'columntransformer__num__with_std': False, 'logisticregression__C': 0.008110445264657797}, {'columntransformer__num__with_mean': False, 'columntransformer__num__with_std': True, 'logisticregression__C': 0.32196804308538934}, {'columntransformer__num__with_mean': False, 'columntransformer__num__with_std': True, 'logisticregression__C': 3.55086903286138}, {'columntransformer__num__with_mean': True, 'columntransformer__num__with_std': True, 'logisticregression__C': 0.030961933130151775}, {'columntransformer__num__with_mean': False, 'columntransformer__num__with_std': False, 'logisticregression__C': 0.19102991703754482}, {'columntransformer__num__with_mean': True, 'columntransformer__num__with_std': True, 'logisticregression__C': 0.2769269168168937}, {'columntransformer__num__with_mean': False, 'columntransformer__num__with_std': True, 'logisticregression__C': 0.013370724269089232}, {'columntransformer__num__with_mean': True, 'columntransformer__num__with_std': False, 'logisticregression__C': 0.0014539681699036505}, {'columntransformer__num__with_mean': True, 'columntransformer__num__with_std': True, 'logisticregression__C': 6.235192739861146}, {'columntransformer__num__with_mean': True, 'columntransformer__num__with_std': True, 'logisticregression__C': 0.029665764327247438}, {'columntransformer__num__with_mean': False, 'columntransformer__num__with_std': False, 'logisticregression__C': 0.028658538535341522}, {'columntransformer__num__with_mean': False, 'columntransformer__num__with_std': False, 'logisticregression__C': 0.004940557981209731}, {'columntransformer__num__with_mean': True, 'columntransformer__num__with_std': True, 'logisticregression__C': 0.4877249392341438}, {'columntransformer__num__with_mean': True, 'columntransformer__num__with_std': True, 'logisticregression__C': 0.006290838836168666}, {'columntransformer__num__with_mean': False, 'columntransformer__num__with_std': False, 'logisticregression__C': 1.8116896017938109}, {'columntransformer__num__with_mean': True, 'columntransformer__num__with_std': False, 'logisticregression__C': 0.014405040422825956}, {'columntransformer__num__with_mean': True, 'columntransformer__num__with_std': True, 'logisticregression__C': 3.317014633423626}, {'columntransformer__num__with_mean': True, 'columntransformer__num__with_std': True, 'logisticregression__C': 0.003291215088176833}, {'columntransformer__num__with_mean': False, 'columntransformer__num__with_std': False, 'logisticregression__C': 0.006961913888516897}, {'columntransformer__num__with_mean': True, 'columntransformer__num__with_std': False, 'logisticregression__C': 0.05063396797733139}, {'columntransformer__num__with_mean': False, 'columntransformer__num__with_std': True, 'logisticregression__C': 0.0012491994926193243}, {'columntransformer__num__with_mean': True, 'columntransformer__num__with_std': True, 'logisticregression__C': 0.17389405147480377}, {'columntransformer__num__with_mean': True, 'columntransformer__num__with_std': True, 'logisticregression__C': 9.992607657034892}, {'columntransformer__num__with_mean': False, 'columntransformer__num__with_std': False, 'logisticregression__C': 0.0426601486170087}, {'columntransformer__num__with_mean': False, 'columntransformer__num__with_std': False, 'logisticregression__C': 3.936927530420785}, {'columntransformer__num__with_mean': True, 'columntransformer__num__with_std': False, 'logisticregression__C': 0.3681233533542223}, {'columntransformer__num__with_mean': True, 'columntransformer__num__with_std': False, 'logisticregression__C': 0.553324326408697}, {'columntransformer__num__with_mean': False, 'columntransformer__num__with_std': False, 'logisticregression__C': 6.178332590196732}, {'columntransformer__num__with_mean': False, 'columntransformer__num__with_std': True, 'logisticregression__C': 0.024973247304869117}, {'columntransformer__num__with_mean': False, 'columntransformer__num__with_std': True, 'logisticregression__C': 0.03943903112087349}, {'columntransformer__num__with_mean': False, 'columntransformer__num__with_std': False, 'logisticregression__C': 0.010584074044927574}, {'columntransformer__num__with_mean': True, 'columntransformer__num__with_std': True, 'logisticregression__C': 0.40260184972561397}, {'columntransformer__num__with_mean': True, 'columntransformer__num__with_std': False, 'logisticregression__C': 0.0022639984044712474}, {'columntransformer__num__with_mean': True, 'columntransformer__num__with_std': True, 'logisticregression__C': 1.203663181133422}, {'columntransformer__num__with_mean': False, 'columntransformer__num__with_std': True, 'logisticregression__C': 0.0035663383350577637}, {'columntransformer__num__with_mean': False, 'columntransformer__num__with_std': False, 'logisticregression__C': 0.0011915896745983412}, {'columntransformer__num__with_mean': True, 'columntransformer__num__with_std': False, 'logisticregression__C': 1.625305465834282}, {'columntransformer__num__with_mean': True, 'columntransformer__num__with_std': False, 'logisticregression__C': 0.003841620822225403}, {'columntransformer__num__with_mean': False, 'columntransformer__num__with_std': True, 'logisticregression__C': 0.007980275068569125}, {'columntransformer__num__with_mean': False, 'columntransformer__num__with_std': True, 'logisticregression__C': 8.190688220027885}, {'columntransformer__num__with_mean': True, 'columntransformer__num__with_std': False, 'logisticregression__C': 0.002490738432874478}, {'columntransformer__num__with_mean': False, 'columntransformer__num__with_std': True, 'logisticregression__C': 2.938446655868244}, {'columntransformer__num__with_mean': True, 'columntransformer__num__with_std': True, 'logisticregression__C': 0.028698473372822563}, {'columntransformer__num__with_mean': True, 'columntransformer__num__with_std': False, 'logisticregression__C': 1.4853430440091406}, {'columntransformer__num__with_mean': False, 'columntransformer__num__with_std': False, 'logisticregression__C': 0.08103357249382732}, {'columntransformer__num__with_mean': False, 'columntransformer__num__with_std': False, 'logisticregression__C': 0.011094350644203672}, {'columntransformer__num__with_mean': False, 'columntransformer__num__with_std': False, 'logisticregression__C': 0.0011789104041846992}, {'columntransformer__num__with_mean': True, 'columntransformer__num__with_std': True, 'logisticregression__C': 1.08472115811152}, {'columntransformer__num__with_mean': True, 'columntransformer__num__with_std': False, 'logisticregression__C': 0.0014885373767700568}, {'columntransformer__num__with_mean': False, 'columntransformer__num__with_std': False, 'logisticregression__C': 1.154719168829333}], 'split0_test_score': array([0.85035824, 0.84953941, 0.84401228, 0.84012282, 0.84974411,\n",
      "       0.85035824, 0.82108495, 0.84278403, 0.84544524, 0.84564995,\n",
      "       0.83684749, 0.85015353, 0.84974411, 0.84564995, 0.84503582,\n",
      "       0.84912999, 0.82538383, 0.85035824, 0.84994882, 0.85035824,\n",
      "       0.84380757, 0.84503582, 0.83909928, 0.84974411, 0.84503582,\n",
      "       0.84810645, 0.8468782 , 0.84401228, 0.84380757, 0.84912999,\n",
      "       0.84483112, 0.83848516, 0.84749232, 0.83029683, 0.84994882,\n",
      "       0.84053224, 0.83050154, 0.82538383, 0.84544524, 0.83091095,\n",
      "       0.84278403, 0.84012282, 0.84626407, 0.84626407, 0.84421699,\n",
      "       0.85035824, 0.84524053, 0.8493347 , 0.83398158, 0.85117707,\n",
      "       0.84483112, 0.85015353, 0.85097236, 0.8493347 , 0.84462641,\n",
      "       0.85015353, 0.84994882, 0.82006141, 0.84974411, 0.84912999,\n",
      "       0.84360287, 0.84749232, 0.85015353, 0.84483112, 0.84278403,\n",
      "       0.83050154, 0.84994882, 0.84094166, 0.84155578, 0.84564995,\n",
      "       0.82292733, 0.84994882, 0.84974411, 0.84278403, 0.84237462,\n",
      "       0.84544524, 0.83541453, 0.84278403, 0.84872057, 0.84953941,\n",
      "       0.84257932, 0.84994882, 0.82804504, 0.85097236, 0.84094166,\n",
      "       0.83172979, 0.83909928, 0.84278403, 0.84585466, 0.85097236,\n",
      "       0.83602866, 0.85035824, 0.84892528, 0.84585466, 0.84339816,\n",
      "       0.84401228, 0.82190379, 0.85035824, 0.83050154, 0.84257932]), 'split1_test_score': array([0.84377559, 0.84295659, 0.82903358, 0.82534808, 0.84316134,\n",
      "       0.84172809, 0.81122031, 0.83271908, 0.82534808, 0.83783784,\n",
      "       0.82289107, 0.84459459, 0.84398034, 0.82964783, 0.82964783,\n",
      "       0.84152334, 0.81060606, 0.84295659, 0.84193284, 0.84316134,\n",
      "       0.83415233, 0.82330057, 0.82350532, 0.84336609, 0.82493857,\n",
      "       0.83968059, 0.83149058, 0.83169533, 0.83087633, 0.84275184,\n",
      "       0.83865684, 0.82371007, 0.83845209, 0.82289107, 0.84377559,\n",
      "       0.82985258, 0.81981982, 0.81040131, 0.82555283, 0.81879607,\n",
      "       0.82698608, 0.84029484, 0.82248157, 0.83026208, 0.83517609,\n",
      "       0.84398034, 0.82411957, 0.84070434, 0.82330057, 0.84254709,\n",
      "       0.82452907, 0.84438984, 0.84275184, 0.84172809, 0.83046683,\n",
      "       0.84438984, 0.83927109, 0.81081081, 0.84193284, 0.84172809,\n",
      "       0.82903358, 0.83333333, 0.84336609, 0.83517609, 0.83353808,\n",
      "       0.82596233, 0.84316134, 0.82657658, 0.83128583, 0.82289107,\n",
      "       0.80978706, 0.84459459, 0.84254709, 0.83804259, 0.83005733,\n",
      "       0.82473382, 0.82452907, 0.83886159, 0.84172809, 0.84111384,\n",
      "       0.83149058, 0.84398034, 0.82022932, 0.84336609, 0.82719083,\n",
      "       0.81633907, 0.82309582, 0.83108108, 0.83804259, 0.84316134,\n",
      "       0.82268632, 0.84213759, 0.84213759, 0.82391482, 0.82944308,\n",
      "       0.84131859, 0.81592957, 0.84336609, 0.81715807, 0.83128583]), 'split2_test_score': array([0.8527846 , 0.85503686, 0.84193284, 0.83271908, 0.85544636,\n",
      "       0.85176085, 0.82186732, 0.84111384, 0.8482801 , 0.84193284,\n",
      "       0.82841933, 0.8548321 , 0.85380835, 0.84807535, 0.84213759,\n",
      "       0.8511466 , 0.81756757, 0.85606061, 0.8548321 , 0.85544636,\n",
      "       0.84234234, 0.84766585, 0.83046683, 0.85503686, 0.84725635,\n",
      "       0.8474611 , 0.84172809, 0.85012285, 0.84766585, 0.8548321 ,\n",
      "       0.84643735, 0.82227682, 0.8462326 , 0.84725635, 0.85503686,\n",
      "       0.83947584, 0.82698608, 0.81900082, 0.8474611 , 0.82145782,\n",
      "       0.84172809, 0.83681409, 0.84357084, 0.84275184, 0.84377559,\n",
      "       0.85462735, 0.8470516 , 0.84807535, 0.82575758, 0.85565111,\n",
      "       0.82186732, 0.85462735, 0.85565111, 0.85053235, 0.84213759,\n",
      "       0.8540131 , 0.8474611 , 0.82145782, 0.85503686, 0.84971335,\n",
      "       0.84254709, 0.84070434, 0.85544636, 0.84377559, 0.84234234,\n",
      "       0.8450041 , 0.85565111, 0.83353808, 0.8482801 , 0.84766585,\n",
      "       0.81203931, 0.85298935, 0.8548321 , 0.84090909, 0.84275184,\n",
      "       0.8474611 , 0.84520885, 0.8511466 , 0.8495086 , 0.85094185,\n",
      "       0.84254709, 0.85462735, 0.82964783, 0.85585586, 0.83497133,\n",
      "       0.81674857, 0.83742834, 0.83845209, 0.8466421 , 0.8544226 ,\n",
      "       0.83169533, 0.85503686, 0.85012285, 0.83067158, 0.84193284,\n",
      "       0.84172809, 0.81715807, 0.85503686, 0.81900082, 0.84889435]), 'split3_test_score': array([0.85544636, 0.85462735, 0.8458231 , 0.84049959, 0.8531941 ,\n",
      "       0.85421785, 0.82698608, 0.84438984, 0.82800983, 0.83579034,\n",
      "       0.83579034, 0.85524161, 0.85565111, 0.82596233, 0.84971335,\n",
      "       0.8536036 , 0.82289107, 0.8536036 , 0.8523751 , 0.8540131 ,\n",
      "       0.8470516 , 0.84807535, 0.83599509, 0.85421785, 0.83722359,\n",
      "       0.8507371 , 0.84049959, 0.84377559, 0.84438984, 0.8527846 ,\n",
      "       0.8503276 , 0.82248157, 0.8515561 , 0.8478706 , 0.85462735,\n",
      "       0.83599509, 0.83230958, 0.82391482, 0.82678133, 0.82411957,\n",
      "       0.84398034, 0.83660934, 0.84336609, 0.84152334, 0.84766585,\n",
      "       0.85503686, 0.84725635, 0.85217035, 0.84766585, 0.85257985,\n",
      "       0.84479934, 0.8548321 , 0.85257985, 0.8531941 , 0.8486896 ,\n",
      "       0.8548321 , 0.85012285, 0.82063882, 0.8515561 , 0.8531941 ,\n",
      "       0.84377559, 0.8462326 , 0.8544226 , 0.8486896 , 0.8454136 ,\n",
      "       0.8474611 , 0.8523751 , 0.84172809, 0.8474611 , 0.84766585,\n",
      "       0.81900082, 0.85503686, 0.85257985, 0.8495086 , 0.84377559,\n",
      "       0.8470516 , 0.84602785, 0.8470516 , 0.85298935, 0.8540131 ,\n",
      "       0.84029484, 0.85462735, 0.82186732, 0.8527846 , 0.84336609,\n",
      "       0.81531532, 0.83251433, 0.84152334, 0.8503276 , 0.85257985,\n",
      "       0.82596233, 0.85380835, 0.8531941 , 0.8474611 , 0.84377559,\n",
      "       0.8486896 , 0.81183456, 0.8531941 , 0.82493857, 0.84807535]), 'split4_test_score': array([nan, nan, nan, nan, nan, nan, nan, nan, nan, nan, nan, nan, nan,\n",
      "       nan, nan, nan, nan, nan, nan, nan, nan, nan, nan, nan, nan, nan,\n",
      "       nan, nan, nan, nan, nan, nan, nan, nan, nan, nan, nan, nan, nan,\n",
      "       nan, nan, nan, nan, nan, nan, nan, nan, nan, nan, nan, nan, nan,\n",
      "       nan, nan, nan, nan, nan, nan, nan, nan, nan, nan, nan, nan, nan,\n",
      "       nan, nan, nan, nan, nan, nan, nan, nan, nan, nan, nan, nan, nan,\n",
      "       nan, nan, nan, nan, nan, nan, nan, nan, nan, nan, nan, nan, nan,\n",
      "       nan, nan, nan, nan, nan, nan, nan, nan, nan]), 'mean_test_score': array([nan, nan, nan, nan, nan, nan, nan, nan, nan, nan, nan, nan, nan,\n",
      "       nan, nan, nan, nan, nan, nan, nan, nan, nan, nan, nan, nan, nan,\n",
      "       nan, nan, nan, nan, nan, nan, nan, nan, nan, nan, nan, nan, nan,\n",
      "       nan, nan, nan, nan, nan, nan, nan, nan, nan, nan, nan, nan, nan,\n",
      "       nan, nan, nan, nan, nan, nan, nan, nan, nan, nan, nan, nan, nan,\n",
      "       nan, nan, nan, nan, nan, nan, nan, nan, nan, nan, nan, nan, nan,\n",
      "       nan, nan, nan, nan, nan, nan, nan, nan, nan, nan, nan, nan, nan,\n",
      "       nan, nan, nan, nan, nan, nan, nan, nan, nan]), 'std_test_score': array([nan, nan, nan, nan, nan, nan, nan, nan, nan, nan, nan, nan, nan,\n",
      "       nan, nan, nan, nan, nan, nan, nan, nan, nan, nan, nan, nan, nan,\n",
      "       nan, nan, nan, nan, nan, nan, nan, nan, nan, nan, nan, nan, nan,\n",
      "       nan, nan, nan, nan, nan, nan, nan, nan, nan, nan, nan, nan, nan,\n",
      "       nan, nan, nan, nan, nan, nan, nan, nan, nan, nan, nan, nan, nan,\n",
      "       nan, nan, nan, nan, nan, nan, nan, nan, nan, nan, nan, nan, nan,\n",
      "       nan, nan, nan, nan, nan, nan, nan, nan, nan, nan, nan, nan, nan,\n",
      "       nan, nan, nan, nan, nan, nan, nan, nan, nan]), 'rank_test_score': array([  1,  72,  71,  70,  69,  68,  67,  66,  65,  64,  63,  62,  61,\n",
      "        60,  59,  58,  57,  56,  55,  54,  53,  52,  73,  74,  75,  76,\n",
      "        98,  97,  96,  95,  94,  93,  92,  91,  90,  89,  99,  88,  86,\n",
      "        85,  84,  83,  82,  81,  80,  79,  78,  77,  51,  50,  49,  24,\n",
      "        22,  21,  20,  19,  18,  17,  16,  15,  14,  13,  12,  11,  10,\n",
      "         9,   8,   7,   6,   5,   4,   3,   2,  23,  25,  48,  26,  47,\n",
      "        46,  45,  44,  43,  42,  41,  40,  39,  38,  37,  36,  35,  34,\n",
      "        33,  32,  31,  30,  29,  28,  27,  87, 100], dtype=int32)}\n"
     ]
    }
   ],
   "source": [
    "for idx, est in enumerate(cv_result['estimator']):\n",
    "    print(est.cv_results_)"
   ]
  },
  {
   "cell_type": "markdown",
   "id": "c9615133",
   "metadata": {},
   "source": [
    "take result of one estimator"
   ]
  },
  {
   "cell_type": "code",
   "execution_count": 132,
   "id": "3c5e41b6",
   "metadata": {},
   "outputs": [],
   "source": [
    "est = cv_result['estimator'][0]"
   ]
  },
  {
   "cell_type": "code",
   "execution_count": 144,
   "id": "a3bcdbc2",
   "metadata": {},
   "outputs": [],
   "source": [
    "cv_results = pd.DataFrame.from_dict(est.cv_results_)"
   ]
  },
  {
   "cell_type": "code",
   "execution_count": 145,
   "id": "11c1d442",
   "metadata": {},
   "outputs": [
    {
     "data": {
      "text/plain": [
       "Index(['mean_fit_time', 'std_fit_time', 'mean_score_time', 'std_score_time',\n",
       "       'param_columntransformer__num__with_mean',\n",
       "       'param_columntransformer__num__with_std', 'param_logisticregression__C',\n",
       "       'params', 'split0_test_score', 'split1_test_score', 'split2_test_score',\n",
       "       'split3_test_score', 'split4_test_score', 'mean_test_score',\n",
       "       'std_test_score', 'rank_test_score'],\n",
       "      dtype='object')"
      ]
     },
     "execution_count": 145,
     "metadata": {},
     "output_type": "execute_result"
    }
   ],
   "source": [
    "cv_results.columns"
   ]
  },
  {
   "cell_type": "markdown",
   "id": "7d437b17",
   "metadata": {},
   "source": [
    "Rename columns"
   ]
  },
  {
   "cell_type": "code",
   "execution_count": 146,
   "id": "a3dd20e8",
   "metadata": {},
   "outputs": [
    {
     "data": {
      "text/html": [
       "<div>\n",
       "<style scoped>\n",
       "    .dataframe tbody tr th:only-of-type {\n",
       "        vertical-align: middle;\n",
       "    }\n",
       "\n",
       "    .dataframe tbody tr th {\n",
       "        vertical-align: top;\n",
       "    }\n",
       "\n",
       "    .dataframe thead th {\n",
       "        text-align: right;\n",
       "    }\n",
       "</style>\n",
       "<table border=\"1\" class=\"dataframe\">\n",
       "  <thead>\n",
       "    <tr style=\"text-align: right;\">\n",
       "      <th></th>\n",
       "      <th>mean_fit_time</th>\n",
       "      <th>std_fit_time</th>\n",
       "      <th>mean_score_time</th>\n",
       "      <th>std_score_time</th>\n",
       "      <th>centering</th>\n",
       "      <th>scaling</th>\n",
       "      <th>C</th>\n",
       "      <th>params</th>\n",
       "      <th>split0_test_score</th>\n",
       "      <th>split1_test_score</th>\n",
       "      <th>split2_test_score</th>\n",
       "      <th>split3_test_score</th>\n",
       "      <th>mean test accuracy</th>\n",
       "      <th>mean_test_score</th>\n",
       "      <th>std_test_score</th>\n",
       "      <th>rank_test_score</th>\n",
       "    </tr>\n",
       "  </thead>\n",
       "  <tbody>\n",
       "    <tr>\n",
       "      <th>0</th>\n",
       "      <td>0.880338</td>\n",
       "      <td>0.024454</td>\n",
       "      <td>0.112254</td>\n",
       "      <td>0.062405</td>\n",
       "      <td>True</td>\n",
       "      <td>True</td>\n",
       "      <td>0.003406</td>\n",
       "      <td>{'columntransformer__num__with_mean': True, 'c...</td>\n",
       "      <td>0.839066</td>\n",
       "      <td>NaN</td>\n",
       "      <td>0.832310</td>\n",
       "      <td>0.839681</td>\n",
       "      <td>0.833538</td>\n",
       "      <td>NaN</td>\n",
       "      <td>NaN</td>\n",
       "      <td>1</td>\n",
       "    </tr>\n",
       "    <tr>\n",
       "      <th>1</th>\n",
       "      <td>1.996336</td>\n",
       "      <td>0.074733</td>\n",
       "      <td>0.096800</td>\n",
       "      <td>0.050897</td>\n",
       "      <td>False</td>\n",
       "      <td>False</td>\n",
       "      <td>0.045341</td>\n",
       "      <td>{'columntransformer__num__with_mean': False, '...</td>\n",
       "      <td>0.842138</td>\n",
       "      <td>NaN</td>\n",
       "      <td>0.835790</td>\n",
       "      <td>0.837838</td>\n",
       "      <td>0.840909</td>\n",
       "      <td>NaN</td>\n",
       "      <td>NaN</td>\n",
       "      <td>72</td>\n",
       "    </tr>\n",
       "    <tr>\n",
       "      <th>2</th>\n",
       "      <td>1.725075</td>\n",
       "      <td>0.068059</td>\n",
       "      <td>0.099921</td>\n",
       "      <td>0.045291</td>\n",
       "      <td>False</td>\n",
       "      <td>False</td>\n",
       "      <td>0.058248</td>\n",
       "      <td>{'columntransformer__num__with_mean': False, '...</td>\n",
       "      <td>0.842138</td>\n",
       "      <td>NaN</td>\n",
       "      <td>0.838657</td>\n",
       "      <td>0.842138</td>\n",
       "      <td>0.837224</td>\n",
       "      <td>NaN</td>\n",
       "      <td>NaN</td>\n",
       "      <td>71</td>\n",
       "    </tr>\n",
       "    <tr>\n",
       "      <th>3</th>\n",
       "      <td>2.055696</td>\n",
       "      <td>0.117734</td>\n",
       "      <td>0.101822</td>\n",
       "      <td>0.048415</td>\n",
       "      <td>True</td>\n",
       "      <td>False</td>\n",
       "      <td>0.37116</td>\n",
       "      <td>{'columntransformer__num__with_mean': True, 'c...</td>\n",
       "      <td>0.846028</td>\n",
       "      <td>NaN</td>\n",
       "      <td>0.841114</td>\n",
       "      <td>0.844390</td>\n",
       "      <td>0.821458</td>\n",
       "      <td>NaN</td>\n",
       "      <td>NaN</td>\n",
       "      <td>70</td>\n",
       "    </tr>\n",
       "    <tr>\n",
       "      <th>4</th>\n",
       "      <td>0.586442</td>\n",
       "      <td>0.032573</td>\n",
       "      <td>0.096971</td>\n",
       "      <td>0.041660</td>\n",
       "      <td>True</td>\n",
       "      <td>True</td>\n",
       "      <td>0.002498</td>\n",
       "      <td>{'columntransformer__num__with_mean': True, 'c...</td>\n",
       "      <td>0.832105</td>\n",
       "      <td>NaN</td>\n",
       "      <td>0.826577</td>\n",
       "      <td>0.832719</td>\n",
       "      <td>0.828010</td>\n",
       "      <td>NaN</td>\n",
       "      <td>NaN</td>\n",
       "      <td>69</td>\n",
       "    </tr>\n",
       "    <tr>\n",
       "      <th>...</th>\n",
       "      <td>...</td>\n",
       "      <td>...</td>\n",
       "      <td>...</td>\n",
       "      <td>...</td>\n",
       "      <td>...</td>\n",
       "      <td>...</td>\n",
       "      <td>...</td>\n",
       "      <td>...</td>\n",
       "      <td>...</td>\n",
       "      <td>...</td>\n",
       "      <td>...</td>\n",
       "      <td>...</td>\n",
       "      <td>...</td>\n",
       "      <td>...</td>\n",
       "      <td>...</td>\n",
       "      <td>...</td>\n",
       "    </tr>\n",
       "    <tr>\n",
       "      <th>95</th>\n",
       "      <td>0.787988</td>\n",
       "      <td>0.102990</td>\n",
       "      <td>0.114971</td>\n",
       "      <td>0.048992</td>\n",
       "      <td>True</td>\n",
       "      <td>True</td>\n",
       "      <td>0.002424</td>\n",
       "      <td>{'columntransformer__num__with_mean': True, 'c...</td>\n",
       "      <td>0.832924</td>\n",
       "      <td>NaN</td>\n",
       "      <td>0.826167</td>\n",
       "      <td>0.832310</td>\n",
       "      <td>0.828419</td>\n",
       "      <td>NaN</td>\n",
       "      <td>NaN</td>\n",
       "      <td>29</td>\n",
       "    </tr>\n",
       "    <tr>\n",
       "      <th>96</th>\n",
       "      <td>1.504343</td>\n",
       "      <td>0.101859</td>\n",
       "      <td>0.058355</td>\n",
       "      <td>0.021101</td>\n",
       "      <td>True</td>\n",
       "      <td>True</td>\n",
       "      <td>0.058722</td>\n",
       "      <td>{'columntransformer__num__with_mean': True, 'c...</td>\n",
       "      <td>0.853808</td>\n",
       "      <td>NaN</td>\n",
       "      <td>0.847256</td>\n",
       "      <td>0.849304</td>\n",
       "      <td>0.847256</td>\n",
       "      <td>NaN</td>\n",
       "      <td>NaN</td>\n",
       "      <td>28</td>\n",
       "    </tr>\n",
       "    <tr>\n",
       "      <th>97</th>\n",
       "      <td>1.478877</td>\n",
       "      <td>0.067019</td>\n",
       "      <td>0.136215</td>\n",
       "      <td>0.014572</td>\n",
       "      <td>True</td>\n",
       "      <td>True</td>\n",
       "      <td>0.067981</td>\n",
       "      <td>{'columntransformer__num__with_mean': True, 'c...</td>\n",
       "      <td>0.855242</td>\n",
       "      <td>NaN</td>\n",
       "      <td>0.847461</td>\n",
       "      <td>0.849509</td>\n",
       "      <td>0.847256</td>\n",
       "      <td>NaN</td>\n",
       "      <td>NaN</td>\n",
       "      <td>27</td>\n",
       "    </tr>\n",
       "    <tr>\n",
       "      <th>98</th>\n",
       "      <td>1.471200</td>\n",
       "      <td>0.124224</td>\n",
       "      <td>0.033503</td>\n",
       "      <td>0.020104</td>\n",
       "      <td>False</td>\n",
       "      <td>True</td>\n",
       "      <td>0.046246</td>\n",
       "      <td>{'columntransformer__num__with_mean': False, '...</td>\n",
       "      <td>0.852785</td>\n",
       "      <td>NaN</td>\n",
       "      <td>0.846437</td>\n",
       "      <td>0.849918</td>\n",
       "      <td>0.846028</td>\n",
       "      <td>NaN</td>\n",
       "      <td>NaN</td>\n",
       "      <td>87</td>\n",
       "    </tr>\n",
       "    <tr>\n",
       "      <th>99</th>\n",
       "      <td>0.719522</td>\n",
       "      <td>0.093724</td>\n",
       "      <td>0.051801</td>\n",
       "      <td>0.014695</td>\n",
       "      <td>False</td>\n",
       "      <td>True</td>\n",
       "      <td>0.00491</td>\n",
       "      <td>{'columntransformer__num__with_mean': False, '...</td>\n",
       "      <td>0.844185</td>\n",
       "      <td>NaN</td>\n",
       "      <td>0.833743</td>\n",
       "      <td>0.843980</td>\n",
       "      <td>0.834767</td>\n",
       "      <td>NaN</td>\n",
       "      <td>NaN</td>\n",
       "      <td>100</td>\n",
       "    </tr>\n",
       "  </tbody>\n",
       "</table>\n",
       "<p>100 rows × 16 columns</p>\n",
       "</div>"
      ],
      "text/plain": [
       "    mean_fit_time  std_fit_time  mean_score_time  std_score_time centering  \\\n",
       "0        0.880338      0.024454         0.112254        0.062405      True   \n",
       "1        1.996336      0.074733         0.096800        0.050897     False   \n",
       "2        1.725075      0.068059         0.099921        0.045291     False   \n",
       "3        2.055696      0.117734         0.101822        0.048415      True   \n",
       "4        0.586442      0.032573         0.096971        0.041660      True   \n",
       "..            ...           ...              ...             ...       ...   \n",
       "95       0.787988      0.102990         0.114971        0.048992      True   \n",
       "96       1.504343      0.101859         0.058355        0.021101      True   \n",
       "97       1.478877      0.067019         0.136215        0.014572      True   \n",
       "98       1.471200      0.124224         0.033503        0.020104     False   \n",
       "99       0.719522      0.093724         0.051801        0.014695     False   \n",
       "\n",
       "   scaling         C                                             params  \\\n",
       "0     True  0.003406  {'columntransformer__num__with_mean': True, 'c...   \n",
       "1    False  0.045341  {'columntransformer__num__with_mean': False, '...   \n",
       "2    False  0.058248  {'columntransformer__num__with_mean': False, '...   \n",
       "3    False   0.37116  {'columntransformer__num__with_mean': True, 'c...   \n",
       "4     True  0.002498  {'columntransformer__num__with_mean': True, 'c...   \n",
       "..     ...       ...                                                ...   \n",
       "95    True  0.002424  {'columntransformer__num__with_mean': True, 'c...   \n",
       "96    True  0.058722  {'columntransformer__num__with_mean': True, 'c...   \n",
       "97    True  0.067981  {'columntransformer__num__with_mean': True, 'c...   \n",
       "98    True  0.046246  {'columntransformer__num__with_mean': False, '...   \n",
       "99    True   0.00491  {'columntransformer__num__with_mean': False, '...   \n",
       "\n",
       "    split0_test_score  split1_test_score  split2_test_score  \\\n",
       "0            0.839066                NaN           0.832310   \n",
       "1            0.842138                NaN           0.835790   \n",
       "2            0.842138                NaN           0.838657   \n",
       "3            0.846028                NaN           0.841114   \n",
       "4            0.832105                NaN           0.826577   \n",
       "..                ...                ...                ...   \n",
       "95           0.832924                NaN           0.826167   \n",
       "96           0.853808                NaN           0.847256   \n",
       "97           0.855242                NaN           0.847461   \n",
       "98           0.852785                NaN           0.846437   \n",
       "99           0.844185                NaN           0.833743   \n",
       "\n",
       "    split3_test_score  mean test accuracy  mean_test_score  std_test_score  \\\n",
       "0            0.839681            0.833538              NaN             NaN   \n",
       "1            0.837838            0.840909              NaN             NaN   \n",
       "2            0.842138            0.837224              NaN             NaN   \n",
       "3            0.844390            0.821458              NaN             NaN   \n",
       "4            0.832719            0.828010              NaN             NaN   \n",
       "..                ...                 ...              ...             ...   \n",
       "95           0.832310            0.828419              NaN             NaN   \n",
       "96           0.849304            0.847256              NaN             NaN   \n",
       "97           0.849509            0.847256              NaN             NaN   \n",
       "98           0.849918            0.846028              NaN             NaN   \n",
       "99           0.843980            0.834767              NaN             NaN   \n",
       "\n",
       "    rank_test_score  \n",
       "0                 1  \n",
       "1                72  \n",
       "2                71  \n",
       "3                70  \n",
       "4                69  \n",
       "..              ...  \n",
       "95               29  \n",
       "96               28  \n",
       "97               27  \n",
       "98               87  \n",
       "99              100  \n",
       "\n",
       "[100 rows x 16 columns]"
      ]
     },
     "execution_count": 146,
     "metadata": {},
     "output_type": "execute_result"
    }
   ],
   "source": [
    "column_name_mapping = {\n",
    "    \"param_logisticregression__C\": \"C\",\n",
    "    \"param_columntransformer__num__with_mean\": \"centering\",\n",
    "    \"param_columntransformer__num__with_std\": \"scaling\",\n",
    "    \"split4_test_score\": \"mean test accuracy\",  # use split4 as acc\n",
    "}\n",
    "\n",
    "cv_results = cv_results.rename(columns=column_name_mapping)\n",
    "cv_results"
   ]
  },
  {
   "cell_type": "code",
   "execution_count": 147,
   "id": "1c176529",
   "metadata": {},
   "outputs": [],
   "source": [
    "cv_results = cv_results[column_name_mapping.values()].sort_values(\n",
    "    \"mean test accuracy\", ascending=False)"
   ]
  },
  {
   "cell_type": "code",
   "execution_count": 148,
   "id": "1593e770",
   "metadata": {},
   "outputs": [
    {
     "data": {
      "text/html": [
       "<div>\n",
       "<style scoped>\n",
       "    .dataframe tbody tr th:only-of-type {\n",
       "        vertical-align: middle;\n",
       "    }\n",
       "\n",
       "    .dataframe tbody tr th {\n",
       "        vertical-align: top;\n",
       "    }\n",
       "\n",
       "    .dataframe thead th {\n",
       "        text-align: right;\n",
       "    }\n",
       "</style>\n",
       "<table border=\"1\" class=\"dataframe\">\n",
       "  <thead>\n",
       "    <tr style=\"text-align: right;\">\n",
       "      <th></th>\n",
       "      <th>C</th>\n",
       "      <th>centering</th>\n",
       "      <th>scaling</th>\n",
       "      <th>mean test accuracy</th>\n",
       "    </tr>\n",
       "  </thead>\n",
       "  <tbody>\n",
       "    <tr>\n",
       "      <th>78</th>\n",
       "      <td>2.957724</td>\n",
       "      <td>False</td>\n",
       "      <td>True</td>\n",
       "      <td>0.850328</td>\n",
       "    </tr>\n",
       "    <tr>\n",
       "      <th>93</th>\n",
       "      <td>9.084115</td>\n",
       "      <td>False</td>\n",
       "      <td>True</td>\n",
       "      <td>0.850123</td>\n",
       "    </tr>\n",
       "    <tr>\n",
       "      <th>89</th>\n",
       "      <td>1.927475</td>\n",
       "      <td>False</td>\n",
       "      <td>True</td>\n",
       "      <td>0.849918</td>\n",
       "    </tr>\n",
       "    <tr>\n",
       "      <th>26</th>\n",
       "      <td>7.387324</td>\n",
       "      <td>False</td>\n",
       "      <td>True</td>\n",
       "      <td>0.849918</td>\n",
       "    </tr>\n",
       "    <tr>\n",
       "      <th>38</th>\n",
       "      <td>4.061186</td>\n",
       "      <td>True</td>\n",
       "      <td>True</td>\n",
       "      <td>0.849713</td>\n",
       "    </tr>\n",
       "    <tr>\n",
       "      <th>...</th>\n",
       "      <td>...</td>\n",
       "      <td>...</td>\n",
       "      <td>...</td>\n",
       "      <td>...</td>\n",
       "    </tr>\n",
       "    <tr>\n",
       "      <th>3</th>\n",
       "      <td>0.37116</td>\n",
       "      <td>True</td>\n",
       "      <td>False</td>\n",
       "      <td>0.821458</td>\n",
       "    </tr>\n",
       "    <tr>\n",
       "      <th>79</th>\n",
       "      <td>0.892836</td>\n",
       "      <td>True</td>\n",
       "      <td>False</td>\n",
       "      <td>0.820844</td>\n",
       "    </tr>\n",
       "    <tr>\n",
       "      <th>42</th>\n",
       "      <td>0.001437</td>\n",
       "      <td>True</td>\n",
       "      <td>False</td>\n",
       "      <td>0.820229</td>\n",
       "    </tr>\n",
       "    <tr>\n",
       "      <th>23</th>\n",
       "      <td>0.001532</td>\n",
       "      <td>False</td>\n",
       "      <td>False</td>\n",
       "      <td>0.817977</td>\n",
       "    </tr>\n",
       "    <tr>\n",
       "      <th>88</th>\n",
       "      <td>0.001187</td>\n",
       "      <td>False</td>\n",
       "      <td>True</td>\n",
       "      <td>0.814087</td>\n",
       "    </tr>\n",
       "  </tbody>\n",
       "</table>\n",
       "<p>100 rows × 4 columns</p>\n",
       "</div>"
      ],
      "text/plain": [
       "           C centering scaling  mean test accuracy\n",
       "78  2.957724     False    True            0.850328\n",
       "93  9.084115     False    True            0.850123\n",
       "89  1.927475     False    True            0.849918\n",
       "26  7.387324     False    True            0.849918\n",
       "38  4.061186      True    True            0.849713\n",
       "..       ...       ...     ...                 ...\n",
       "3    0.37116      True   False            0.821458\n",
       "79  0.892836      True   False            0.820844\n",
       "42  0.001437      True   False            0.820229\n",
       "23  0.001532     False   False            0.817977\n",
       "88  0.001187     False    True            0.814087\n",
       "\n",
       "[100 rows x 4 columns]"
      ]
     },
     "execution_count": 148,
     "metadata": {},
     "output_type": "execute_result"
    }
   ],
   "source": [
    "cv_results"
   ]
  },
  {
   "cell_type": "code",
   "execution_count": 150,
   "id": "be3a5d44",
   "metadata": {},
   "outputs": [],
   "source": [
    "column_scaler = [\"centering\", \"scaling\"]\n",
    "cv_results[column_scaler] = cv_results[column_scaler].astype(np.int64)"
   ]
  },
  {
   "cell_type": "code",
   "execution_count": 159,
   "id": "20078420",
   "metadata": {},
   "outputs": [],
   "source": [
    "cv_results[\"logC\"] = np.log10(cv_results.C.astype(float))"
   ]
  },
  {
   "cell_type": "code",
   "execution_count": 160,
   "id": "1dbe97e9",
   "metadata": {},
   "outputs": [
    {
     "data": {
      "application/vnd.plotly.v1+json": {
       "config": {
        "plotlyServerURL": "https://plot.ly"
       },
       "data": [
        {
         "dimensions": [
          {
           "label": "logC",
           "values": [
            0.47095770306784823,
            0.9582826007459349,
            0.2849887474615032,
            0.8684871681136932,
            0.6086529326761326,
            0.5572234209063578,
            0.41556506271145155,
            0.5225875911031745,
            0.4288611171625978,
            0.32366705437920323,
            0.6171118921740549,
            0.6226798391131712,
            -0.044768193183910975,
            0.23318904431291676,
            -0.5124786275721154,
            0.7419299665526551,
            0.21562407252656343,
            0.10540088514525392,
            -0.04849448706721393,
            0.100910026875157,
            -0.11077856870736988,
            0.14201645532978185,
            0.023862114992879106,
            -0.15751723666015047,
            -0.5014592151005481,
            -0.25900634644740794,
            -0.7623242777569792,
            -0.8194623213419132,
            -0.8950384809839669,
            -1.1676147908503376,
            -1.2311986522388043,
            -1.443618411286713,
            -1.4254484994840197,
            -1.3352273811737576,
            -1.33492546118842,
            -1.6749866262845696,
            -1.7752346810856952,
            -1.8058699679173524,
            -1.502916758063261,
            -1.5534091519962354,
            -1.8184096069432898,
            -1.572545607135413,
            -1.9440590800930315,
            -1.971748492523297,
            -1.995348093731979,
            -0.39682191997602567,
            -0.29105806546885343,
            -0.1179500914430695,
            -1.3435053213323478,
            0.45573366939527427,
            -0.21425170625002155,
            -0.3444538804069585,
            0.4423040102266445,
            -2.157828163194384,
            0.5588773681101906,
            -1.0143116795762799,
            0.7380548632401309,
            -2.146771224963036,
            -0.21544451540001838,
            -0.042708947003879456,
            -1.2751302894223837,
            -0.9375842010188506,
            -2.293169514402751,
            -2.1921224839711773,
            0.7137141130349698,
            -1.4162535580936804,
            0.7949391835189119,
            -1.9204623276597799,
            -1.338397024574535,
            0.48444754933785067,
            -1.1053545531818996,
            -1.2347207025003142,
            -0.48027609460676013,
            0.2631817030011057,
            -1.7015870575105425,
            -1.2298432015706888,
            -2.3806311971530416,
            -2.2487928340028187,
            0.789314761360937,
            -2.308909418899302,
            -2.4678123770921143,
            -2.405666285815092,
            -2.640565649320599,
            0.807265936292386,
            -2.52388629861354,
            -2.766772695357253,
            -1.1692787117600543,
            -2.4640524621896893,
            -2.6154118778128543,
            -2.6023924348725105,
            -0.3222984767286756,
            -1.9158502266169553,
            -2.655421061427601,
            -1.1562378502287447,
            0.4887523884360361,
            -0.430439129414522,
            -0.049228087383998524,
            -2.8424007767108574,
            -2.814823702321427,
            -2.9257162659239357
           ]
          },
          {
           "label": "centering",
           "values": [
            0,
            0,
            0,
            0,
            1,
            1,
            1,
            1,
            1,
            0,
            1,
            1,
            0,
            1,
            0,
            0,
            0,
            1,
            0,
            0,
            1,
            1,
            0,
            0,
            1,
            0,
            0,
            0,
            0,
            1,
            1,
            0,
            1,
            1,
            0,
            1,
            1,
            1,
            0,
            0,
            1,
            1,
            0,
            1,
            0,
            0,
            0,
            1,
            0,
            0,
            0,
            1,
            1,
            1,
            1,
            0,
            1,
            0,
            1,
            0,
            1,
            0,
            0,
            1,
            0,
            0,
            1,
            1,
            0,
            1,
            0,
            0,
            1,
            1,
            1,
            0,
            1,
            0,
            1,
            0,
            1,
            1,
            0,
            1,
            1,
            0,
            1,
            1,
            1,
            1,
            1,
            1,
            1,
            1,
            1,
            1,
            1,
            1,
            0,
            0
           ]
          },
          {
           "label": "scaling",
           "values": [
            1,
            1,
            1,
            1,
            1,
            1,
            1,
            1,
            1,
            1,
            1,
            1,
            1,
            1,
            1,
            1,
            1,
            1,
            1,
            1,
            1,
            1,
            1,
            1,
            1,
            1,
            1,
            1,
            1,
            1,
            1,
            1,
            1,
            1,
            1,
            1,
            1,
            1,
            1,
            1,
            1,
            1,
            1,
            1,
            0,
            0,
            0,
            0,
            0,
            0,
            0,
            0,
            0,
            1,
            0,
            0,
            0,
            0,
            0,
            0,
            0,
            0,
            0,
            1,
            0,
            0,
            0,
            0,
            0,
            0,
            0,
            0,
            0,
            0,
            0,
            0,
            0,
            1,
            0,
            1,
            1,
            0,
            0,
            0,
            1,
            0,
            0,
            0,
            1,
            1,
            0,
            0,
            0,
            0,
            0,
            0,
            0,
            0,
            0,
            1
           ]
          },
          {
           "label": "mean test accuracy",
           "values": [
            0.8503276003276004,
            0.8501228501228502,
            0.8499180999181,
            0.8499180999181,
            0.8497133497133497,
            0.8497133497133497,
            0.8497133497133497,
            0.8495085995085995,
            0.8495085995085995,
            0.8495085995085995,
            0.8495085995085995,
            0.8495085995085995,
            0.8493038493038493,
            0.8490990990990991,
            0.8490990990990991,
            0.8490990990990991,
            0.8490990990990991,
            0.8490990990990991,
            0.8490990990990991,
            0.8490990990990991,
            0.8488943488943489,
            0.8488943488943489,
            0.8488943488943489,
            0.8486895986895987,
            0.8486895986895987,
            0.8486895986895987,
            0.8482800982800983,
            0.8480753480753481,
            0.8476658476658476,
            0.8472563472563472,
            0.8472563472563472,
            0.8466420966420967,
            0.8464373464373465,
            0.846027846027846,
            0.846027846027846,
            0.8458230958230958,
            0.8458230958230958,
            0.8456183456183456,
            0.8452088452088452,
            0.8452088452088452,
            0.8452088452088452,
            0.845004095004095,
            0.8441850941850941,
            0.8437755937755937,
            0.842956592956593,
            0.8427518427518428,
            0.8421375921375921,
            0.8409090909090909,
            0.8409090909090909,
            0.8404995904995906,
            0.8404995904995906,
            0.8402948402948403,
            0.8396805896805897,
            0.8396805896805897,
            0.8396805896805897,
            0.8396805896805897,
            0.8390663390663391,
            0.8390663390663391,
            0.8388615888615889,
            0.8386568386568387,
            0.8384520884520884,
            0.8384520884520884,
            0.8382473382473382,
            0.838042588042588,
            0.838042588042588,
            0.8378378378378378,
            0.8378378378378378,
            0.8376330876330876,
            0.8376330876330876,
            0.8374283374283374,
            0.8372235872235873,
            0.8372235872235873,
            0.8370188370188371,
            0.8368140868140869,
            0.8366093366093366,
            0.8361998361998362,
            0.8357903357903358,
            0.8357903357903358,
            0.8353808353808354,
            0.8347665847665847,
            0.8335380835380836,
            0.8335380835380836,
            0.8329238329238329,
            0.8325143325143325,
            0.8314905814905815,
            0.8304668304668305,
            0.8300573300573301,
            0.8288288288288288,
            0.8284193284193284,
            0.828009828009828,
            0.8273955773955773,
            0.8273955773955773,
            0.8263718263718264,
            0.8257575757575758,
            0.8245290745290745,
            0.8214578214578214,
            0.8208435708435708,
            0.8202293202293203,
            0.8179770679770679,
            0.814086814086814
           ]
          }
         ],
         "domain": {
          "x": [
           0,
           1
          ],
          "y": [
           0,
           1
          ]
         },
         "line": {
          "color": [
           0.8503276003276004,
           0.8501228501228502,
           0.8499180999181,
           0.8499180999181,
           0.8497133497133497,
           0.8497133497133497,
           0.8497133497133497,
           0.8495085995085995,
           0.8495085995085995,
           0.8495085995085995,
           0.8495085995085995,
           0.8495085995085995,
           0.8493038493038493,
           0.8490990990990991,
           0.8490990990990991,
           0.8490990990990991,
           0.8490990990990991,
           0.8490990990990991,
           0.8490990990990991,
           0.8490990990990991,
           0.8488943488943489,
           0.8488943488943489,
           0.8488943488943489,
           0.8486895986895987,
           0.8486895986895987,
           0.8486895986895987,
           0.8482800982800983,
           0.8480753480753481,
           0.8476658476658476,
           0.8472563472563472,
           0.8472563472563472,
           0.8466420966420967,
           0.8464373464373465,
           0.846027846027846,
           0.846027846027846,
           0.8458230958230958,
           0.8458230958230958,
           0.8456183456183456,
           0.8452088452088452,
           0.8452088452088452,
           0.8452088452088452,
           0.845004095004095,
           0.8441850941850941,
           0.8437755937755937,
           0.842956592956593,
           0.8427518427518428,
           0.8421375921375921,
           0.8409090909090909,
           0.8409090909090909,
           0.8404995904995906,
           0.8404995904995906,
           0.8402948402948403,
           0.8396805896805897,
           0.8396805896805897,
           0.8396805896805897,
           0.8396805896805897,
           0.8390663390663391,
           0.8390663390663391,
           0.8388615888615889,
           0.8386568386568387,
           0.8384520884520884,
           0.8384520884520884,
           0.8382473382473382,
           0.838042588042588,
           0.838042588042588,
           0.8378378378378378,
           0.8378378378378378,
           0.8376330876330876,
           0.8376330876330876,
           0.8374283374283374,
           0.8372235872235873,
           0.8372235872235873,
           0.8370188370188371,
           0.8368140868140869,
           0.8366093366093366,
           0.8361998361998362,
           0.8357903357903358,
           0.8357903357903358,
           0.8353808353808354,
           0.8347665847665847,
           0.8335380835380836,
           0.8335380835380836,
           0.8329238329238329,
           0.8325143325143325,
           0.8314905814905815,
           0.8304668304668305,
           0.8300573300573301,
           0.8288288288288288,
           0.8284193284193284,
           0.828009828009828,
           0.8273955773955773,
           0.8273955773955773,
           0.8263718263718264,
           0.8257575757575758,
           0.8245290745290745,
           0.8214578214578214,
           0.8208435708435708,
           0.8202293202293203,
           0.8179770679770679,
           0.814086814086814
          ],
          "coloraxis": "coloraxis"
         },
         "name": "",
         "type": "parcoords"
        }
       ],
       "layout": {
        "coloraxis": {
         "colorbar": {
          "title": {
           "text": "mean test accuracy"
          }
         },
         "colorscale": [
          [
           0,
           "rgb(0, 147, 146)"
          ],
          [
           0.16666666666666666,
           "rgb(114, 170, 161)"
          ],
          [
           0.3333333333333333,
           "rgb(177, 199, 179)"
          ],
          [
           0.5,
           "rgb(241, 234, 200)"
          ],
          [
           0.6666666666666666,
           "rgb(229, 185, 173)"
          ],
          [
           0.8333333333333334,
           "rgb(217, 137, 148)"
          ],
          [
           1,
           "rgb(208, 88, 126)"
          ]
         ]
        },
        "legend": {
         "tracegroupgap": 0
        },
        "margin": {
         "t": 60
        },
        "template": {
         "data": {
          "bar": [
           {
            "error_x": {
             "color": "#2a3f5f"
            },
            "error_y": {
             "color": "#2a3f5f"
            },
            "marker": {
             "line": {
              "color": "#E5ECF6",
              "width": 0.5
             }
            },
            "type": "bar"
           }
          ],
          "barpolar": [
           {
            "marker": {
             "line": {
              "color": "#E5ECF6",
              "width": 0.5
             }
            },
            "type": "barpolar"
           }
          ],
          "carpet": [
           {
            "aaxis": {
             "endlinecolor": "#2a3f5f",
             "gridcolor": "white",
             "linecolor": "white",
             "minorgridcolor": "white",
             "startlinecolor": "#2a3f5f"
            },
            "baxis": {
             "endlinecolor": "#2a3f5f",
             "gridcolor": "white",
             "linecolor": "white",
             "minorgridcolor": "white",
             "startlinecolor": "#2a3f5f"
            },
            "type": "carpet"
           }
          ],
          "choropleth": [
           {
            "colorbar": {
             "outlinewidth": 0,
             "ticks": ""
            },
            "type": "choropleth"
           }
          ],
          "contour": [
           {
            "colorbar": {
             "outlinewidth": 0,
             "ticks": ""
            },
            "colorscale": [
             [
              0,
              "#0d0887"
             ],
             [
              0.1111111111111111,
              "#46039f"
             ],
             [
              0.2222222222222222,
              "#7201a8"
             ],
             [
              0.3333333333333333,
              "#9c179e"
             ],
             [
              0.4444444444444444,
              "#bd3786"
             ],
             [
              0.5555555555555556,
              "#d8576b"
             ],
             [
              0.6666666666666666,
              "#ed7953"
             ],
             [
              0.7777777777777778,
              "#fb9f3a"
             ],
             [
              0.8888888888888888,
              "#fdca26"
             ],
             [
              1,
              "#f0f921"
             ]
            ],
            "type": "contour"
           }
          ],
          "contourcarpet": [
           {
            "colorbar": {
             "outlinewidth": 0,
             "ticks": ""
            },
            "type": "contourcarpet"
           }
          ],
          "heatmap": [
           {
            "colorbar": {
             "outlinewidth": 0,
             "ticks": ""
            },
            "colorscale": [
             [
              0,
              "#0d0887"
             ],
             [
              0.1111111111111111,
              "#46039f"
             ],
             [
              0.2222222222222222,
              "#7201a8"
             ],
             [
              0.3333333333333333,
              "#9c179e"
             ],
             [
              0.4444444444444444,
              "#bd3786"
             ],
             [
              0.5555555555555556,
              "#d8576b"
             ],
             [
              0.6666666666666666,
              "#ed7953"
             ],
             [
              0.7777777777777778,
              "#fb9f3a"
             ],
             [
              0.8888888888888888,
              "#fdca26"
             ],
             [
              1,
              "#f0f921"
             ]
            ],
            "type": "heatmap"
           }
          ],
          "heatmapgl": [
           {
            "colorbar": {
             "outlinewidth": 0,
             "ticks": ""
            },
            "colorscale": [
             [
              0,
              "#0d0887"
             ],
             [
              0.1111111111111111,
              "#46039f"
             ],
             [
              0.2222222222222222,
              "#7201a8"
             ],
             [
              0.3333333333333333,
              "#9c179e"
             ],
             [
              0.4444444444444444,
              "#bd3786"
             ],
             [
              0.5555555555555556,
              "#d8576b"
             ],
             [
              0.6666666666666666,
              "#ed7953"
             ],
             [
              0.7777777777777778,
              "#fb9f3a"
             ],
             [
              0.8888888888888888,
              "#fdca26"
             ],
             [
              1,
              "#f0f921"
             ]
            ],
            "type": "heatmapgl"
           }
          ],
          "histogram": [
           {
            "marker": {
             "colorbar": {
              "outlinewidth": 0,
              "ticks": ""
             }
            },
            "type": "histogram"
           }
          ],
          "histogram2d": [
           {
            "colorbar": {
             "outlinewidth": 0,
             "ticks": ""
            },
            "colorscale": [
             [
              0,
              "#0d0887"
             ],
             [
              0.1111111111111111,
              "#46039f"
             ],
             [
              0.2222222222222222,
              "#7201a8"
             ],
             [
              0.3333333333333333,
              "#9c179e"
             ],
             [
              0.4444444444444444,
              "#bd3786"
             ],
             [
              0.5555555555555556,
              "#d8576b"
             ],
             [
              0.6666666666666666,
              "#ed7953"
             ],
             [
              0.7777777777777778,
              "#fb9f3a"
             ],
             [
              0.8888888888888888,
              "#fdca26"
             ],
             [
              1,
              "#f0f921"
             ]
            ],
            "type": "histogram2d"
           }
          ],
          "histogram2dcontour": [
           {
            "colorbar": {
             "outlinewidth": 0,
             "ticks": ""
            },
            "colorscale": [
             [
              0,
              "#0d0887"
             ],
             [
              0.1111111111111111,
              "#46039f"
             ],
             [
              0.2222222222222222,
              "#7201a8"
             ],
             [
              0.3333333333333333,
              "#9c179e"
             ],
             [
              0.4444444444444444,
              "#bd3786"
             ],
             [
              0.5555555555555556,
              "#d8576b"
             ],
             [
              0.6666666666666666,
              "#ed7953"
             ],
             [
              0.7777777777777778,
              "#fb9f3a"
             ],
             [
              0.8888888888888888,
              "#fdca26"
             ],
             [
              1,
              "#f0f921"
             ]
            ],
            "type": "histogram2dcontour"
           }
          ],
          "mesh3d": [
           {
            "colorbar": {
             "outlinewidth": 0,
             "ticks": ""
            },
            "type": "mesh3d"
           }
          ],
          "parcoords": [
           {
            "line": {
             "colorbar": {
              "outlinewidth": 0,
              "ticks": ""
             }
            },
            "type": "parcoords"
           }
          ],
          "pie": [
           {
            "automargin": true,
            "type": "pie"
           }
          ],
          "scatter": [
           {
            "marker": {
             "colorbar": {
              "outlinewidth": 0,
              "ticks": ""
             }
            },
            "type": "scatter"
           }
          ],
          "scatter3d": [
           {
            "line": {
             "colorbar": {
              "outlinewidth": 0,
              "ticks": ""
             }
            },
            "marker": {
             "colorbar": {
              "outlinewidth": 0,
              "ticks": ""
             }
            },
            "type": "scatter3d"
           }
          ],
          "scattercarpet": [
           {
            "marker": {
             "colorbar": {
              "outlinewidth": 0,
              "ticks": ""
             }
            },
            "type": "scattercarpet"
           }
          ],
          "scattergeo": [
           {
            "marker": {
             "colorbar": {
              "outlinewidth": 0,
              "ticks": ""
             }
            },
            "type": "scattergeo"
           }
          ],
          "scattergl": [
           {
            "marker": {
             "colorbar": {
              "outlinewidth": 0,
              "ticks": ""
             }
            },
            "type": "scattergl"
           }
          ],
          "scattermapbox": [
           {
            "marker": {
             "colorbar": {
              "outlinewidth": 0,
              "ticks": ""
             }
            },
            "type": "scattermapbox"
           }
          ],
          "scatterpolar": [
           {
            "marker": {
             "colorbar": {
              "outlinewidth": 0,
              "ticks": ""
             }
            },
            "type": "scatterpolar"
           }
          ],
          "scatterpolargl": [
           {
            "marker": {
             "colorbar": {
              "outlinewidth": 0,
              "ticks": ""
             }
            },
            "type": "scatterpolargl"
           }
          ],
          "scatterternary": [
           {
            "marker": {
             "colorbar": {
              "outlinewidth": 0,
              "ticks": ""
             }
            },
            "type": "scatterternary"
           }
          ],
          "surface": [
           {
            "colorbar": {
             "outlinewidth": 0,
             "ticks": ""
            },
            "colorscale": [
             [
              0,
              "#0d0887"
             ],
             [
              0.1111111111111111,
              "#46039f"
             ],
             [
              0.2222222222222222,
              "#7201a8"
             ],
             [
              0.3333333333333333,
              "#9c179e"
             ],
             [
              0.4444444444444444,
              "#bd3786"
             ],
             [
              0.5555555555555556,
              "#d8576b"
             ],
             [
              0.6666666666666666,
              "#ed7953"
             ],
             [
              0.7777777777777778,
              "#fb9f3a"
             ],
             [
              0.8888888888888888,
              "#fdca26"
             ],
             [
              1,
              "#f0f921"
             ]
            ],
            "type": "surface"
           }
          ],
          "table": [
           {
            "cells": {
             "fill": {
              "color": "#EBF0F8"
             },
             "line": {
              "color": "white"
             }
            },
            "header": {
             "fill": {
              "color": "#C8D4E3"
             },
             "line": {
              "color": "white"
             }
            },
            "type": "table"
           }
          ]
         },
         "layout": {
          "annotationdefaults": {
           "arrowcolor": "#2a3f5f",
           "arrowhead": 0,
           "arrowwidth": 1
          },
          "autotypenumbers": "strict",
          "coloraxis": {
           "colorbar": {
            "outlinewidth": 0,
            "ticks": ""
           }
          },
          "colorscale": {
           "diverging": [
            [
             0,
             "#8e0152"
            ],
            [
             0.1,
             "#c51b7d"
            ],
            [
             0.2,
             "#de77ae"
            ],
            [
             0.3,
             "#f1b6da"
            ],
            [
             0.4,
             "#fde0ef"
            ],
            [
             0.5,
             "#f7f7f7"
            ],
            [
             0.6,
             "#e6f5d0"
            ],
            [
             0.7,
             "#b8e186"
            ],
            [
             0.8,
             "#7fbc41"
            ],
            [
             0.9,
             "#4d9221"
            ],
            [
             1,
             "#276419"
            ]
           ],
           "sequential": [
            [
             0,
             "#0d0887"
            ],
            [
             0.1111111111111111,
             "#46039f"
            ],
            [
             0.2222222222222222,
             "#7201a8"
            ],
            [
             0.3333333333333333,
             "#9c179e"
            ],
            [
             0.4444444444444444,
             "#bd3786"
            ],
            [
             0.5555555555555556,
             "#d8576b"
            ],
            [
             0.6666666666666666,
             "#ed7953"
            ],
            [
             0.7777777777777778,
             "#fb9f3a"
            ],
            [
             0.8888888888888888,
             "#fdca26"
            ],
            [
             1,
             "#f0f921"
            ]
           ],
           "sequentialminus": [
            [
             0,
             "#0d0887"
            ],
            [
             0.1111111111111111,
             "#46039f"
            ],
            [
             0.2222222222222222,
             "#7201a8"
            ],
            [
             0.3333333333333333,
             "#9c179e"
            ],
            [
             0.4444444444444444,
             "#bd3786"
            ],
            [
             0.5555555555555556,
             "#d8576b"
            ],
            [
             0.6666666666666666,
             "#ed7953"
            ],
            [
             0.7777777777777778,
             "#fb9f3a"
            ],
            [
             0.8888888888888888,
             "#fdca26"
            ],
            [
             1,
             "#f0f921"
            ]
           ]
          },
          "colorway": [
           "#636efa",
           "#EF553B",
           "#00cc96",
           "#ab63fa",
           "#FFA15A",
           "#19d3f3",
           "#FF6692",
           "#B6E880",
           "#FF97FF",
           "#FECB52"
          ],
          "font": {
           "color": "#2a3f5f"
          },
          "geo": {
           "bgcolor": "white",
           "lakecolor": "white",
           "landcolor": "#E5ECF6",
           "showlakes": true,
           "showland": true,
           "subunitcolor": "white"
          },
          "hoverlabel": {
           "align": "left"
          },
          "hovermode": "closest",
          "mapbox": {
           "style": "light"
          },
          "paper_bgcolor": "white",
          "plot_bgcolor": "#E5ECF6",
          "polar": {
           "angularaxis": {
            "gridcolor": "white",
            "linecolor": "white",
            "ticks": ""
           },
           "bgcolor": "#E5ECF6",
           "radialaxis": {
            "gridcolor": "white",
            "linecolor": "white",
            "ticks": ""
           }
          },
          "scene": {
           "xaxis": {
            "backgroundcolor": "#E5ECF6",
            "gridcolor": "white",
            "gridwidth": 2,
            "linecolor": "white",
            "showbackground": true,
            "ticks": "",
            "zerolinecolor": "white"
           },
           "yaxis": {
            "backgroundcolor": "#E5ECF6",
            "gridcolor": "white",
            "gridwidth": 2,
            "linecolor": "white",
            "showbackground": true,
            "ticks": "",
            "zerolinecolor": "white"
           },
           "zaxis": {
            "backgroundcolor": "#E5ECF6",
            "gridcolor": "white",
            "gridwidth": 2,
            "linecolor": "white",
            "showbackground": true,
            "ticks": "",
            "zerolinecolor": "white"
           }
          },
          "shapedefaults": {
           "line": {
            "color": "#2a3f5f"
           }
          },
          "ternary": {
           "aaxis": {
            "gridcolor": "white",
            "linecolor": "white",
            "ticks": ""
           },
           "baxis": {
            "gridcolor": "white",
            "linecolor": "white",
            "ticks": ""
           },
           "bgcolor": "#E5ECF6",
           "caxis": {
            "gridcolor": "white",
            "linecolor": "white",
            "ticks": ""
           }
          },
          "title": {
           "x": 0.05
          },
          "xaxis": {
           "automargin": true,
           "gridcolor": "white",
           "linecolor": "white",
           "ticks": "",
           "title": {
            "standoff": 15
           },
           "zerolinecolor": "white",
           "zerolinewidth": 2
          },
          "yaxis": {
           "automargin": true,
           "gridcolor": "white",
           "linecolor": "white",
           "ticks": "",
           "title": {
            "standoff": 15
           },
           "zerolinecolor": "white",
           "zerolinewidth": 2
          }
         }
        }
       }
      },
      "text/html": [
       "<div>                            <div id=\"1a3945ad-0866-424b-ac24-a901c2844ad8\" class=\"plotly-graph-div\" style=\"height:525px; width:100%;\"></div>            <script type=\"text/javascript\">                require([\"plotly\"], function(Plotly) {                    window.PLOTLYENV=window.PLOTLYENV || {};                                    if (document.getElementById(\"1a3945ad-0866-424b-ac24-a901c2844ad8\")) {                    Plotly.newPlot(                        \"1a3945ad-0866-424b-ac24-a901c2844ad8\",                        [{\"dimensions\": [{\"label\": \"logC\", \"values\": [0.47095770306784823, 0.9582826007459349, 0.2849887474615032, 0.8684871681136932, 0.6086529326761326, 0.5572234209063578, 0.41556506271145155, 0.5225875911031745, 0.4288611171625978, 0.32366705437920323, 0.6171118921740549, 0.6226798391131712, -0.044768193183910975, 0.23318904431291676, -0.5124786275721154, 0.7419299665526551, 0.21562407252656343, 0.10540088514525392, -0.04849448706721393, 0.100910026875157, -0.11077856870736988, 0.14201645532978185, 0.023862114992879106, -0.15751723666015047, -0.5014592151005481, -0.25900634644740794, -0.7623242777569792, -0.8194623213419132, -0.8950384809839669, -1.1676147908503376, -1.2311986522388043, -1.443618411286713, -1.4254484994840197, -1.3352273811737576, -1.33492546118842, -1.6749866262845696, -1.7752346810856952, -1.8058699679173524, -1.502916758063261, -1.5534091519962354, -1.8184096069432898, -1.572545607135413, -1.9440590800930315, -1.971748492523297, -1.995348093731979, -0.39682191997602567, -0.29105806546885343, -0.1179500914430695, -1.3435053213323478, 0.45573366939527427, -0.21425170625002155, -0.3444538804069585, 0.4423040102266445, -2.157828163194384, 0.5588773681101906, -1.0143116795762799, 0.7380548632401309, -2.146771224963036, -0.21544451540001838, -0.042708947003879456, -1.2751302894223837, -0.9375842010188506, -2.293169514402751, -2.1921224839711773, 0.7137141130349698, -1.4162535580936804, 0.7949391835189119, -1.9204623276597799, -1.338397024574535, 0.48444754933785067, -1.1053545531818996, -1.2347207025003142, -0.48027609460676013, 0.2631817030011057, -1.7015870575105425, -1.2298432015706888, -2.3806311971530416, -2.2487928340028187, 0.789314761360937, -2.308909418899302, -2.4678123770921143, -2.405666285815092, -2.640565649320599, 0.807265936292386, -2.52388629861354, -2.766772695357253, -1.1692787117600543, -2.4640524621896893, -2.6154118778128543, -2.6023924348725105, -0.3222984767286756, -1.9158502266169553, -2.655421061427601, -1.1562378502287447, 0.4887523884360361, -0.430439129414522, -0.049228087383998524, -2.8424007767108574, -2.814823702321427, -2.9257162659239357]}, {\"label\": \"centering\", \"values\": [0, 0, 0, 0, 1, 1, 1, 1, 1, 0, 1, 1, 0, 1, 0, 0, 0, 1, 0, 0, 1, 1, 0, 0, 1, 0, 0, 0, 0, 1, 1, 0, 1, 1, 0, 1, 1, 1, 0, 0, 1, 1, 0, 1, 0, 0, 0, 1, 0, 0, 0, 1, 1, 1, 1, 0, 1, 0, 1, 0, 1, 0, 0, 1, 0, 0, 1, 1, 0, 1, 0, 0, 1, 1, 1, 0, 1, 0, 1, 0, 1, 1, 0, 1, 1, 0, 1, 1, 1, 1, 1, 1, 1, 1, 1, 1, 1, 1, 0, 0]}, {\"label\": \"scaling\", \"values\": [1, 1, 1, 1, 1, 1, 1, 1, 1, 1, 1, 1, 1, 1, 1, 1, 1, 1, 1, 1, 1, 1, 1, 1, 1, 1, 1, 1, 1, 1, 1, 1, 1, 1, 1, 1, 1, 1, 1, 1, 1, 1, 1, 1, 0, 0, 0, 0, 0, 0, 0, 0, 0, 1, 0, 0, 0, 0, 0, 0, 0, 0, 0, 1, 0, 0, 0, 0, 0, 0, 0, 0, 0, 0, 0, 0, 0, 1, 0, 1, 1, 0, 0, 0, 1, 0, 0, 0, 1, 1, 0, 0, 0, 0, 0, 0, 0, 0, 0, 1]}, {\"label\": \"mean test accuracy\", \"values\": [0.8503276003276004, 0.8501228501228502, 0.8499180999181, 0.8499180999181, 0.8497133497133497, 0.8497133497133497, 0.8497133497133497, 0.8495085995085995, 0.8495085995085995, 0.8495085995085995, 0.8495085995085995, 0.8495085995085995, 0.8493038493038493, 0.8490990990990991, 0.8490990990990991, 0.8490990990990991, 0.8490990990990991, 0.8490990990990991, 0.8490990990990991, 0.8490990990990991, 0.8488943488943489, 0.8488943488943489, 0.8488943488943489, 0.8486895986895987, 0.8486895986895987, 0.8486895986895987, 0.8482800982800983, 0.8480753480753481, 0.8476658476658476, 0.8472563472563472, 0.8472563472563472, 0.8466420966420967, 0.8464373464373465, 0.846027846027846, 0.846027846027846, 0.8458230958230958, 0.8458230958230958, 0.8456183456183456, 0.8452088452088452, 0.8452088452088452, 0.8452088452088452, 0.845004095004095, 0.8441850941850941, 0.8437755937755937, 0.842956592956593, 0.8427518427518428, 0.8421375921375921, 0.8409090909090909, 0.8409090909090909, 0.8404995904995906, 0.8404995904995906, 0.8402948402948403, 0.8396805896805897, 0.8396805896805897, 0.8396805896805897, 0.8396805896805897, 0.8390663390663391, 0.8390663390663391, 0.8388615888615889, 0.8386568386568387, 0.8384520884520884, 0.8384520884520884, 0.8382473382473382, 0.838042588042588, 0.838042588042588, 0.8378378378378378, 0.8378378378378378, 0.8376330876330876, 0.8376330876330876, 0.8374283374283374, 0.8372235872235873, 0.8372235872235873, 0.8370188370188371, 0.8368140868140869, 0.8366093366093366, 0.8361998361998362, 0.8357903357903358, 0.8357903357903358, 0.8353808353808354, 0.8347665847665847, 0.8335380835380836, 0.8335380835380836, 0.8329238329238329, 0.8325143325143325, 0.8314905814905815, 0.8304668304668305, 0.8300573300573301, 0.8288288288288288, 0.8284193284193284, 0.828009828009828, 0.8273955773955773, 0.8273955773955773, 0.8263718263718264, 0.8257575757575758, 0.8245290745290745, 0.8214578214578214, 0.8208435708435708, 0.8202293202293203, 0.8179770679770679, 0.814086814086814]}], \"domain\": {\"x\": [0.0, 1.0], \"y\": [0.0, 1.0]}, \"line\": {\"color\": [0.8503276003276004, 0.8501228501228502, 0.8499180999181, 0.8499180999181, 0.8497133497133497, 0.8497133497133497, 0.8497133497133497, 0.8495085995085995, 0.8495085995085995, 0.8495085995085995, 0.8495085995085995, 0.8495085995085995, 0.8493038493038493, 0.8490990990990991, 0.8490990990990991, 0.8490990990990991, 0.8490990990990991, 0.8490990990990991, 0.8490990990990991, 0.8490990990990991, 0.8488943488943489, 0.8488943488943489, 0.8488943488943489, 0.8486895986895987, 0.8486895986895987, 0.8486895986895987, 0.8482800982800983, 0.8480753480753481, 0.8476658476658476, 0.8472563472563472, 0.8472563472563472, 0.8466420966420967, 0.8464373464373465, 0.846027846027846, 0.846027846027846, 0.8458230958230958, 0.8458230958230958, 0.8456183456183456, 0.8452088452088452, 0.8452088452088452, 0.8452088452088452, 0.845004095004095, 0.8441850941850941, 0.8437755937755937, 0.842956592956593, 0.8427518427518428, 0.8421375921375921, 0.8409090909090909, 0.8409090909090909, 0.8404995904995906, 0.8404995904995906, 0.8402948402948403, 0.8396805896805897, 0.8396805896805897, 0.8396805896805897, 0.8396805896805897, 0.8390663390663391, 0.8390663390663391, 0.8388615888615889, 0.8386568386568387, 0.8384520884520884, 0.8384520884520884, 0.8382473382473382, 0.838042588042588, 0.838042588042588, 0.8378378378378378, 0.8378378378378378, 0.8376330876330876, 0.8376330876330876, 0.8374283374283374, 0.8372235872235873, 0.8372235872235873, 0.8370188370188371, 0.8368140868140869, 0.8366093366093366, 0.8361998361998362, 0.8357903357903358, 0.8357903357903358, 0.8353808353808354, 0.8347665847665847, 0.8335380835380836, 0.8335380835380836, 0.8329238329238329, 0.8325143325143325, 0.8314905814905815, 0.8304668304668305, 0.8300573300573301, 0.8288288288288288, 0.8284193284193284, 0.828009828009828, 0.8273955773955773, 0.8273955773955773, 0.8263718263718264, 0.8257575757575758, 0.8245290745290745, 0.8214578214578214, 0.8208435708435708, 0.8202293202293203, 0.8179770679770679, 0.814086814086814], \"coloraxis\": \"coloraxis\"}, \"name\": \"\", \"type\": \"parcoords\"}],                        {\"coloraxis\": {\"colorbar\": {\"title\": {\"text\": \"mean test accuracy\"}}, \"colorscale\": [[0.0, \"rgb(0, 147, 146)\"], [0.16666666666666666, \"rgb(114, 170, 161)\"], [0.3333333333333333, \"rgb(177, 199, 179)\"], [0.5, \"rgb(241, 234, 200)\"], [0.6666666666666666, \"rgb(229, 185, 173)\"], [0.8333333333333334, \"rgb(217, 137, 148)\"], [1.0, \"rgb(208, 88, 126)\"]]}, \"legend\": {\"tracegroupgap\": 0}, \"margin\": {\"t\": 60}, \"template\": {\"data\": {\"bar\": [{\"error_x\": {\"color\": \"#2a3f5f\"}, \"error_y\": {\"color\": \"#2a3f5f\"}, \"marker\": {\"line\": {\"color\": \"#E5ECF6\", \"width\": 0.5}}, \"type\": \"bar\"}], \"barpolar\": [{\"marker\": {\"line\": {\"color\": \"#E5ECF6\", \"width\": 0.5}}, \"type\": \"barpolar\"}], \"carpet\": [{\"aaxis\": {\"endlinecolor\": \"#2a3f5f\", \"gridcolor\": \"white\", \"linecolor\": \"white\", \"minorgridcolor\": \"white\", \"startlinecolor\": \"#2a3f5f\"}, \"baxis\": {\"endlinecolor\": \"#2a3f5f\", \"gridcolor\": \"white\", \"linecolor\": \"white\", \"minorgridcolor\": \"white\", \"startlinecolor\": \"#2a3f5f\"}, \"type\": \"carpet\"}], \"choropleth\": [{\"colorbar\": {\"outlinewidth\": 0, \"ticks\": \"\"}, \"type\": \"choropleth\"}], \"contour\": [{\"colorbar\": {\"outlinewidth\": 0, \"ticks\": \"\"}, \"colorscale\": [[0.0, \"#0d0887\"], [0.1111111111111111, \"#46039f\"], [0.2222222222222222, \"#7201a8\"], [0.3333333333333333, \"#9c179e\"], [0.4444444444444444, \"#bd3786\"], [0.5555555555555556, \"#d8576b\"], [0.6666666666666666, \"#ed7953\"], [0.7777777777777778, \"#fb9f3a\"], [0.8888888888888888, \"#fdca26\"], [1.0, \"#f0f921\"]], \"type\": \"contour\"}], \"contourcarpet\": [{\"colorbar\": {\"outlinewidth\": 0, \"ticks\": \"\"}, \"type\": \"contourcarpet\"}], \"heatmap\": [{\"colorbar\": {\"outlinewidth\": 0, \"ticks\": \"\"}, \"colorscale\": [[0.0, \"#0d0887\"], [0.1111111111111111, \"#46039f\"], [0.2222222222222222, \"#7201a8\"], [0.3333333333333333, \"#9c179e\"], [0.4444444444444444, \"#bd3786\"], [0.5555555555555556, \"#d8576b\"], [0.6666666666666666, \"#ed7953\"], [0.7777777777777778, \"#fb9f3a\"], [0.8888888888888888, \"#fdca26\"], [1.0, \"#f0f921\"]], \"type\": \"heatmap\"}], \"heatmapgl\": [{\"colorbar\": {\"outlinewidth\": 0, \"ticks\": \"\"}, \"colorscale\": [[0.0, \"#0d0887\"], [0.1111111111111111, \"#46039f\"], [0.2222222222222222, \"#7201a8\"], [0.3333333333333333, \"#9c179e\"], [0.4444444444444444, \"#bd3786\"], [0.5555555555555556, \"#d8576b\"], [0.6666666666666666, \"#ed7953\"], [0.7777777777777778, \"#fb9f3a\"], [0.8888888888888888, \"#fdca26\"], [1.0, \"#f0f921\"]], \"type\": \"heatmapgl\"}], \"histogram\": [{\"marker\": {\"colorbar\": {\"outlinewidth\": 0, \"ticks\": \"\"}}, \"type\": \"histogram\"}], \"histogram2d\": [{\"colorbar\": {\"outlinewidth\": 0, \"ticks\": \"\"}, \"colorscale\": [[0.0, \"#0d0887\"], [0.1111111111111111, \"#46039f\"], [0.2222222222222222, \"#7201a8\"], [0.3333333333333333, \"#9c179e\"], [0.4444444444444444, \"#bd3786\"], [0.5555555555555556, \"#d8576b\"], [0.6666666666666666, \"#ed7953\"], [0.7777777777777778, \"#fb9f3a\"], [0.8888888888888888, \"#fdca26\"], [1.0, \"#f0f921\"]], \"type\": \"histogram2d\"}], \"histogram2dcontour\": [{\"colorbar\": {\"outlinewidth\": 0, \"ticks\": \"\"}, \"colorscale\": [[0.0, \"#0d0887\"], [0.1111111111111111, \"#46039f\"], [0.2222222222222222, \"#7201a8\"], [0.3333333333333333, \"#9c179e\"], [0.4444444444444444, \"#bd3786\"], [0.5555555555555556, \"#d8576b\"], [0.6666666666666666, \"#ed7953\"], [0.7777777777777778, \"#fb9f3a\"], [0.8888888888888888, \"#fdca26\"], [1.0, \"#f0f921\"]], \"type\": \"histogram2dcontour\"}], \"mesh3d\": [{\"colorbar\": {\"outlinewidth\": 0, \"ticks\": \"\"}, \"type\": \"mesh3d\"}], \"parcoords\": [{\"line\": {\"colorbar\": {\"outlinewidth\": 0, \"ticks\": \"\"}}, \"type\": \"parcoords\"}], \"pie\": [{\"automargin\": true, \"type\": \"pie\"}], \"scatter\": [{\"marker\": {\"colorbar\": {\"outlinewidth\": 0, \"ticks\": \"\"}}, \"type\": \"scatter\"}], \"scatter3d\": [{\"line\": {\"colorbar\": {\"outlinewidth\": 0, \"ticks\": \"\"}}, \"marker\": {\"colorbar\": {\"outlinewidth\": 0, \"ticks\": \"\"}}, \"type\": \"scatter3d\"}], \"scattercarpet\": [{\"marker\": {\"colorbar\": {\"outlinewidth\": 0, \"ticks\": \"\"}}, \"type\": \"scattercarpet\"}], \"scattergeo\": [{\"marker\": {\"colorbar\": {\"outlinewidth\": 0, \"ticks\": \"\"}}, \"type\": \"scattergeo\"}], \"scattergl\": [{\"marker\": {\"colorbar\": {\"outlinewidth\": 0, \"ticks\": \"\"}}, \"type\": \"scattergl\"}], \"scattermapbox\": [{\"marker\": {\"colorbar\": {\"outlinewidth\": 0, \"ticks\": \"\"}}, \"type\": \"scattermapbox\"}], \"scatterpolar\": [{\"marker\": {\"colorbar\": {\"outlinewidth\": 0, \"ticks\": \"\"}}, \"type\": \"scatterpolar\"}], \"scatterpolargl\": [{\"marker\": {\"colorbar\": {\"outlinewidth\": 0, \"ticks\": \"\"}}, \"type\": \"scatterpolargl\"}], \"scatterternary\": [{\"marker\": {\"colorbar\": {\"outlinewidth\": 0, \"ticks\": \"\"}}, \"type\": \"scatterternary\"}], \"surface\": [{\"colorbar\": {\"outlinewidth\": 0, \"ticks\": \"\"}, \"colorscale\": [[0.0, \"#0d0887\"], [0.1111111111111111, \"#46039f\"], [0.2222222222222222, \"#7201a8\"], [0.3333333333333333, \"#9c179e\"], [0.4444444444444444, \"#bd3786\"], [0.5555555555555556, \"#d8576b\"], [0.6666666666666666, \"#ed7953\"], [0.7777777777777778, \"#fb9f3a\"], [0.8888888888888888, \"#fdca26\"], [1.0, \"#f0f921\"]], \"type\": \"surface\"}], \"table\": [{\"cells\": {\"fill\": {\"color\": \"#EBF0F8\"}, \"line\": {\"color\": \"white\"}}, \"header\": {\"fill\": {\"color\": \"#C8D4E3\"}, \"line\": {\"color\": \"white\"}}, \"type\": \"table\"}]}, \"layout\": {\"annotationdefaults\": {\"arrowcolor\": \"#2a3f5f\", \"arrowhead\": 0, \"arrowwidth\": 1}, \"autotypenumbers\": \"strict\", \"coloraxis\": {\"colorbar\": {\"outlinewidth\": 0, \"ticks\": \"\"}}, \"colorscale\": {\"diverging\": [[0, \"#8e0152\"], [0.1, \"#c51b7d\"], [0.2, \"#de77ae\"], [0.3, \"#f1b6da\"], [0.4, \"#fde0ef\"], [0.5, \"#f7f7f7\"], [0.6, \"#e6f5d0\"], [0.7, \"#b8e186\"], [0.8, \"#7fbc41\"], [0.9, \"#4d9221\"], [1, \"#276419\"]], \"sequential\": [[0.0, \"#0d0887\"], [0.1111111111111111, \"#46039f\"], [0.2222222222222222, \"#7201a8\"], [0.3333333333333333, \"#9c179e\"], [0.4444444444444444, \"#bd3786\"], [0.5555555555555556, \"#d8576b\"], [0.6666666666666666, \"#ed7953\"], [0.7777777777777778, \"#fb9f3a\"], [0.8888888888888888, \"#fdca26\"], [1.0, \"#f0f921\"]], \"sequentialminus\": [[0.0, \"#0d0887\"], [0.1111111111111111, \"#46039f\"], [0.2222222222222222, \"#7201a8\"], [0.3333333333333333, \"#9c179e\"], [0.4444444444444444, \"#bd3786\"], [0.5555555555555556, \"#d8576b\"], [0.6666666666666666, \"#ed7953\"], [0.7777777777777778, \"#fb9f3a\"], [0.8888888888888888, \"#fdca26\"], [1.0, \"#f0f921\"]]}, \"colorway\": [\"#636efa\", \"#EF553B\", \"#00cc96\", \"#ab63fa\", \"#FFA15A\", \"#19d3f3\", \"#FF6692\", \"#B6E880\", \"#FF97FF\", \"#FECB52\"], \"font\": {\"color\": \"#2a3f5f\"}, \"geo\": {\"bgcolor\": \"white\", \"lakecolor\": \"white\", \"landcolor\": \"#E5ECF6\", \"showlakes\": true, \"showland\": true, \"subunitcolor\": \"white\"}, \"hoverlabel\": {\"align\": \"left\"}, \"hovermode\": \"closest\", \"mapbox\": {\"style\": \"light\"}, \"paper_bgcolor\": \"white\", \"plot_bgcolor\": \"#E5ECF6\", \"polar\": {\"angularaxis\": {\"gridcolor\": \"white\", \"linecolor\": \"white\", \"ticks\": \"\"}, \"bgcolor\": \"#E5ECF6\", \"radialaxis\": {\"gridcolor\": \"white\", \"linecolor\": \"white\", \"ticks\": \"\"}}, \"scene\": {\"xaxis\": {\"backgroundcolor\": \"#E5ECF6\", \"gridcolor\": \"white\", \"gridwidth\": 2, \"linecolor\": \"white\", \"showbackground\": true, \"ticks\": \"\", \"zerolinecolor\": \"white\"}, \"yaxis\": {\"backgroundcolor\": \"#E5ECF6\", \"gridcolor\": \"white\", \"gridwidth\": 2, \"linecolor\": \"white\", \"showbackground\": true, \"ticks\": \"\", \"zerolinecolor\": \"white\"}, \"zaxis\": {\"backgroundcolor\": \"#E5ECF6\", \"gridcolor\": \"white\", \"gridwidth\": 2, \"linecolor\": \"white\", \"showbackground\": true, \"ticks\": \"\", \"zerolinecolor\": \"white\"}}, \"shapedefaults\": {\"line\": {\"color\": \"#2a3f5f\"}}, \"ternary\": {\"aaxis\": {\"gridcolor\": \"white\", \"linecolor\": \"white\", \"ticks\": \"\"}, \"baxis\": {\"gridcolor\": \"white\", \"linecolor\": \"white\", \"ticks\": \"\"}, \"bgcolor\": \"#E5ECF6\", \"caxis\": {\"gridcolor\": \"white\", \"linecolor\": \"white\", \"ticks\": \"\"}}, \"title\": {\"x\": 0.05}, \"xaxis\": {\"automargin\": true, \"gridcolor\": \"white\", \"linecolor\": \"white\", \"ticks\": \"\", \"title\": {\"standoff\": 15}, \"zerolinecolor\": \"white\", \"zerolinewidth\": 2}, \"yaxis\": {\"automargin\": true, \"gridcolor\": \"white\", \"linecolor\": \"white\", \"ticks\": \"\", \"title\": {\"standoff\": 15}, \"zerolinecolor\": \"white\", \"zerolinewidth\": 2}}}},                        {\"responsive\": true}                    ).then(function(){\n",
       "                            \n",
       "var gd = document.getElementById('1a3945ad-0866-424b-ac24-a901c2844ad8');\n",
       "var x = new MutationObserver(function (mutations, observer) {{\n",
       "        var display = window.getComputedStyle(gd).display;\n",
       "        if (!display || display === 'none') {{\n",
       "            console.log([gd, 'removed!']);\n",
       "            Plotly.purge(gd);\n",
       "            observer.disconnect();\n",
       "        }}\n",
       "}});\n",
       "\n",
       "// Listen for the removal of the full notebook cells\n",
       "var notebookContainer = gd.closest('#notebook-container');\n",
       "if (notebookContainer) {{\n",
       "    x.observe(notebookContainer, {childList: true});\n",
       "}}\n",
       "\n",
       "// Listen for the clearing of the current output cell\n",
       "var outputEl = gd.closest('.output');\n",
       "if (outputEl) {{\n",
       "    x.observe(outputEl, {childList: true});\n",
       "}}\n",
       "\n",
       "                        })                };                });            </script>        </div>"
      ]
     },
     "metadata": {},
     "output_type": "display_data"
    }
   ],
   "source": [
    "import plotly.express as px\n",
    "\n",
    "fig = px.parallel_coordinates(\n",
    "    cv_results,\n",
    "    color=\"mean test accuracy\",\n",
    "    dimensions=[\"logC\", \"centering\", \"scaling\", \"mean test accuracy\"],\n",
    "    color_continuous_scale=px.colors.diverging.Tealrose,\n",
    ")\n",
    "fig.show()"
   ]
  },
  {
   "cell_type": "code",
   "execution_count": null,
   "id": "22ef8586",
   "metadata": {},
   "outputs": [],
   "source": []
  }
 ],
 "metadata": {
  "kernelspec": {
   "display_name": "Python 3",
   "language": "python",
   "name": "python3"
  },
  "language_info": {
   "codemirror_mode": {
    "name": "ipython",
    "version": 3
   },
   "file_extension": ".py",
   "mimetype": "text/x-python",
   "name": "python",
   "nbconvert_exporter": "python",
   "pygments_lexer": "ipython3",
   "version": "3.9.2"
  },
  "nbreset": "https://github.com/INRIA/scikit-learn-mooc/raw/master/notebooks/parameter_tuning_ex_03.ipynb"
 },
 "nbformat": 4,
 "nbformat_minor": 5
}
