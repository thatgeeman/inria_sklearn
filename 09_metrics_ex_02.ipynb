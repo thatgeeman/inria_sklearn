{
 "cells": [
  {
   "cell_type": "markdown",
   "id": "f0f1e461",
   "metadata": {},
   "source": [
    "# 📝 Exercise M7.03\n",
    "\n",
    "As with the classification metrics exercise, we will evaluate the regression\n",
    "metrics within a cross-validation framework to get familiar with the syntax.\n",
    "\n",
    "We will use the Ames house prices dataset."
   ]
  },
  {
   "cell_type": "code",
   "execution_count": 1,
   "id": "dc27079d",
   "metadata": {},
   "outputs": [],
   "source": [
    "import pandas as pd\n",
    "import numpy as np\n",
    "\n",
    "ames_housing = pd.read_csv(\"../datasets/house_prices.csv\")\n",
    "data = ames_housing.drop(columns=\"SalePrice\")\n",
    "target = ames_housing[\"SalePrice\"]\n",
    "data = data.select_dtypes(np.number)\n",
    "target /= 1000"
   ]
  },
  {
   "cell_type": "markdown",
   "id": "41635f37",
   "metadata": {},
   "source": [
    "<div class=\"admonition note alert alert-info\">\n",
    "<p class=\"first admonition-title\" style=\"font-weight: bold;\">Note</p>\n",
    "<p class=\"last\">If you want a deeper overview regarding this dataset, you can refer to the\n",
    "Appendix - Datasets description section at the end of this MOOC.</p>\n",
    "</div>"
   ]
  },
  {
   "cell_type": "markdown",
   "id": "e96ff751",
   "metadata": {},
   "source": [
    "The first step will be to create a linear regression model."
   ]
  },
  {
   "cell_type": "code",
   "execution_count": 2,
   "id": "2f13410b",
   "metadata": {},
   "outputs": [],
   "source": [
    "# Write your code here.\n",
    "from sklearn.linear_model import LinearRegression\n",
    "model = LinearRegression()"
   ]
  },
  {
   "cell_type": "markdown",
   "id": "dc9bb6f7",
   "metadata": {},
   "source": [
    "Then, use the `cross_val_score` to estimate the statistical performance of\n",
    "the model. Use a `KFold` cross-validation with 10 folds. Make the use of the\n",
    "$R^2$ score explicit by assigning the parameter `scoring` (even though it is\n",
    "the default score)."
   ]
  },
  {
   "cell_type": "code",
   "execution_count": 8,
   "id": "02b4cbe2",
   "metadata": {},
   "outputs": [],
   "source": [
    "# Write your code here.\n",
    "from sklearn.model_selection import cross_val_score, KFold, cross_validate"
   ]
  },
  {
   "cell_type": "code",
   "execution_count": 9,
   "id": "d27f73ab",
   "metadata": {},
   "outputs": [],
   "source": [
    "cv = KFold(n_splits=10)"
   ]
  },
  {
   "cell_type": "code",
   "execution_count": 10,
   "id": "2a378c96",
   "metadata": {},
   "outputs": [
    {
     "data": {
      "text/plain": [
       "array([0.84390289, 0.85497435, 0.88752303, 0.74951104, 0.81698014,\n",
       "       0.82013355, 0.81554085, 0.81452472, 0.50115778, 0.83330693])"
      ]
     },
     "execution_count": 10,
     "metadata": {},
     "output_type": "execute_result"
    }
   ],
   "source": [
    "cross_val_score(model, data, target, cv=cv, scoring='r2')"
   ]
  },
  {
   "cell_type": "markdown",
   "id": "d61521fc",
   "metadata": {},
   "source": [
    "Then, instead of using the $R^2$ score, use the mean absolute error. You need\n",
    "to refer to the documentation for the `scoring` parameter."
   ]
  },
  {
   "cell_type": "code",
   "execution_count": 11,
   "id": "ece7e970",
   "metadata": {},
   "outputs": [],
   "source": [
    "# Write your code here."
   ]
  },
  {
   "cell_type": "code",
   "execution_count": 12,
   "id": "7972e9f8",
   "metadata": {},
   "outputs": [
    {
     "data": {
      "text/plain": [
       "array([-20.48049905, -21.38003105, -21.26831487, -22.86887664,\n",
       "       -24.79955736, -18.95827641, -20.11793792, -20.5040172 ,\n",
       "       -26.76774564, -21.77871056])"
      ]
     },
     "execution_count": 12,
     "metadata": {},
     "output_type": "execute_result"
    }
   ],
   "source": [
    "cross_val_score(model, data, target, cv=cv, scoring='neg_mean_absolute_error')"
   ]
  },
  {
   "cell_type": "markdown",
   "id": "2e76f33d",
   "metadata": {},
   "source": [
    "Finally, use the `cross_validate` function and compute multiple scores/errors\n",
    "at once by passing a list of scorers to the `scoring` parameter. You can\n",
    "compute the $R^2$ score and the mean absolute error for instance."
   ]
  },
  {
   "cell_type": "code",
   "execution_count": 13,
   "id": "6dfa8b46",
   "metadata": {},
   "outputs": [
    {
     "data": {
      "text/plain": [
       "{'fit_time': array([0.00298786, 0.00261545, 0.00264597, 0.00264001, 0.00257492,\n",
       "        0.00257421, 0.00256228, 0.00257111, 0.00254321, 0.00254583]),\n",
       " 'score_time': array([0.00160003, 0.00148463, 0.00146794, 0.00146508, 0.00146127,\n",
       "        0.00146604, 0.00146866, 0.00145245, 0.00144601, 0.00146103]),\n",
       " 'test_r2': array([0.84390289, 0.85497435, 0.88752303, 0.74951104, 0.81698014,\n",
       "        0.82013355, 0.81554085, 0.81452472, 0.50115778, 0.83330693]),\n",
       " 'test_neg_mean_absolute_error': array([-20.48049905, -21.38003105, -21.26831487, -22.86887664,\n",
       "        -24.79955736, -18.95827641, -20.11793792, -20.5040172 ,\n",
       "        -26.76774564, -21.77871056])}"
      ]
     },
     "execution_count": 13,
     "metadata": {},
     "output_type": "execute_result"
    }
   ],
   "source": [
    "# Write your code here.\n",
    "cross_validate(model, data, target, cv=cv, scoring=['r2', 'neg_mean_absolute_error'])"
   ]
  },
  {
   "cell_type": "code",
   "execution_count": null,
   "id": "d738bfa2",
   "metadata": {},
   "outputs": [],
   "source": []
  }
 ],
 "metadata": {
  "jupytext": {
   "cell_metadata_filter": "-all",
   "main_language": "python",
   "notebook_metadata_filter": "-all"
  },
  "kernelspec": {
   "display_name": "Python 3",
   "language": "python",
   "name": "python3"
  },
  "language_info": {
   "codemirror_mode": {
    "name": "ipython",
    "version": 3
   },
   "file_extension": ".py",
   "mimetype": "text/x-python",
   "name": "python",
   "nbconvert_exporter": "python",
   "pygments_lexer": "ipython3",
   "version": "3.9.2"
  },
  "nbreset": "https://github.com/INRIA/scikit-learn-mooc/raw/master/notebooks/metrics_ex_02.ipynb"
 },
 "nbformat": 4,
 "nbformat_minor": 5
}
