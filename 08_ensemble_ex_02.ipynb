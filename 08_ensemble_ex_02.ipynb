{
 "cells": [
  {
   "cell_type": "markdown",
   "id": "deef611b",
   "metadata": {},
   "source": [
    "# 📝 Exercise M6.02\n",
    "\n",
    "The aim of this exercise it to explore some attributes available in\n",
    "scikit-learn random forest.\n",
    "\n",
    "First, we will fit the penguins regression dataset."
   ]
  },
  {
   "cell_type": "code",
   "execution_count": 1,
   "id": "f5532875",
   "metadata": {},
   "outputs": [],
   "source": [
    "import pandas as pd\n",
    "from sklearn.model_selection import train_test_split\n",
    "\n",
    "penguins = pd.read_csv(\"../datasets/penguins_regression.csv\")\n",
    "feature_names = [\"Flipper Length (mm)\"]\n",
    "target_name = \"Body Mass (g)\"\n",
    "data, target = penguins[feature_names], penguins[target_name]\n",
    "data_train, data_test, target_train, target_test = train_test_split(\n",
    "    data, target, random_state=0)"
   ]
  },
  {
   "cell_type": "markdown",
   "id": "e00e3925",
   "metadata": {},
   "source": [
    "<div class=\"admonition note alert alert-info\">\n",
    "<p class=\"first admonition-title\" style=\"font-weight: bold;\">Note</p>\n",
    "<p class=\"last\">If you want a deeper overview regarding this dataset, you can refer to the\n",
    "Appendix - Datasets description section at the end of this MOOC.</p>\n",
    "</div>"
   ]
  },
  {
   "cell_type": "markdown",
   "id": "6a9697d1",
   "metadata": {},
   "source": [
    "Create a random forest containing three trees. Train the forest and\n",
    "check the statistical performance on the testing set in terms of mean\n",
    "absolute error."
   ]
  },
  {
   "cell_type": "code",
   "execution_count": 18,
   "id": "c4ed9162",
   "metadata": {},
   "outputs": [],
   "source": [
    "# Write your code here.\n",
    "from sklearn.ensemble import RandomForestRegressor\n",
    "from sklearn.model_selection import cross_val_score, cross_validate"
   ]
  },
  {
   "cell_type": "code",
   "execution_count": 4,
   "id": "63b6ff7a",
   "metadata": {},
   "outputs": [],
   "source": [
    "rf_model = RandomForestRegressor(n_estimators=3,criterion='mae')"
   ]
  },
  {
   "cell_type": "code",
   "execution_count": 7,
   "id": "958aca25",
   "metadata": {},
   "outputs": [],
   "source": [
    "cv_result = cross_val_score(rf_model, data_train, target_train, cv=10)"
   ]
  },
  {
   "cell_type": "code",
   "execution_count": 8,
   "id": "41d35cd0",
   "metadata": {},
   "outputs": [
    {
     "data": {
      "text/plain": [
       "(0.7168447472112331, 0.05184267713529259)"
      ]
     },
     "execution_count": 8,
     "metadata": {},
     "output_type": "execute_result"
    }
   ],
   "source": [
    "cv_result.mean(), cv_result.std()"
   ]
  },
  {
   "cell_type": "code",
   "execution_count": 21,
   "id": "da1fa4d6",
   "metadata": {},
   "outputs": [],
   "source": [
    "cv_result = cross_validate(rf_model, data_train, target_train, cv=10, return_estimator=True)"
   ]
  },
  {
   "cell_type": "code",
   "execution_count": 24,
   "id": "4aea69a5",
   "metadata": {},
   "outputs": [
    {
     "data": {
      "text/plain": [
       "(0.7158254498354949, 0.07199968955981964)"
      ]
     },
     "execution_count": 24,
     "metadata": {},
     "output_type": "execute_result"
    }
   ],
   "source": [
    "cv_result['test_score'].mean(), cv_result['test_score'].std()"
   ]
  },
  {
   "cell_type": "code",
   "execution_count": 31,
   "id": "17d1684c",
   "metadata": {},
   "outputs": [
    {
     "data": {
      "text/plain": [
       "[0.658862301006659,\n",
       " 0.6730012381566108,\n",
       " 0.645430811976453,\n",
       " 0.6486462422117836,\n",
       " 0.6060543231498605,\n",
       " 0.6605351802166013,\n",
       " 0.6880691813400504,\n",
       " 0.636175171649291,\n",
       " 0.6914664026840923,\n",
       " 0.6516598308484715]"
      ]
     },
     "execution_count": 31,
     "metadata": {},
     "output_type": "execute_result"
    }
   ],
   "source": [
    "[est.score(data_test, target_test) for est in cv_result['estimator']]"
   ]
  },
  {
   "cell_type": "code",
   "execution_count": 33,
   "id": "37f1e822",
   "metadata": {},
   "outputs": [
    {
     "data": {
      "text/plain": [
       "RandomForestRegressor(criterion='mae', n_estimators=3)"
      ]
     },
     "execution_count": 33,
     "metadata": {},
     "output_type": "execute_result"
    }
   ],
   "source": [
    "rf_model.fit(data_train, target_train)"
   ]
  },
  {
   "cell_type": "code",
   "execution_count": 34,
   "id": "e0774bb4",
   "metadata": {},
   "outputs": [
    {
     "data": {
      "text/plain": [
       "0.6792459632457422"
      ]
     },
     "execution_count": 34,
     "metadata": {},
     "output_type": "execute_result"
    }
   ],
   "source": [
    "rf_model.score(data_test, target_test)"
   ]
  },
  {
   "cell_type": "code",
   "execution_count": 35,
   "id": "39b35604",
   "metadata": {},
   "outputs": [
    {
     "data": {
      "text/plain": [
       "[DecisionTreeRegressor(criterion='mae', max_features='auto',\n",
       "                       random_state=213113977),\n",
       " DecisionTreeRegressor(criterion='mae', max_features='auto',\n",
       "                       random_state=451500070),\n",
       " DecisionTreeRegressor(criterion='mae', max_features='auto',\n",
       "                       random_state=1008771907)]"
      ]
     },
     "execution_count": 35,
     "metadata": {},
     "output_type": "execute_result"
    }
   ],
   "source": [
    "rf_model.estimators_"
   ]
  },
  {
   "cell_type": "markdown",
   "id": "66c0ceed",
   "metadata": {},
   "source": [
    "The next steps of this exercise are to:\n",
    "\n",
    "- create a new dataset containing the penguins with a flipper length\n",
    "  between 170 mm and 230 mm;\n",
    "- plot the training data using a scatter plot;\n",
    "- plot the decision of each individual tree by predicting on the newly\n",
    "  created dataset;\n",
    "- plot the decision of the random forest using this newly created dataset.\n",
    "\n",
    "<div class=\"admonition tip alert alert-warning\">\n",
    "<p class=\"first admonition-title\" style=\"font-weight: bold;\">Tip</p>\n",
    "<p class=\"last\">The trees contained in the forest that you created can be accessed\n",
    "with the attribute <tt class=\"docutils literal\">estimators_</tt>.</p>\n",
    "</div>"
   ]
  },
  {
   "cell_type": "code",
   "execution_count": 58,
   "id": "5ec2fa33",
   "metadata": {},
   "outputs": [],
   "source": [
    "import seaborn as sns\n",
    "import numpy as np"
   ]
  },
  {
   "cell_type": "code",
   "execution_count": 59,
   "id": "cd36a472",
   "metadata": {},
   "outputs": [],
   "source": [
    "data_test = pd.DataFrame(np.linspace(170, 235, num=300),\n",
    "                           columns=data.columns)"
   ]
  },
  {
   "cell_type": "code",
   "execution_count": null,
   "id": "a4b52da9",
   "metadata": {},
   "outputs": [],
   "source": []
  },
  {
   "cell_type": "code",
   "execution_count": 60,
   "id": "6edc63e9",
   "metadata": {},
   "outputs": [],
   "source": [
    "pred_avg = rf_model.predict(data_test)"
   ]
  },
  {
   "cell_type": "code",
   "execution_count": 61,
   "id": "24f1eb14",
   "metadata": {},
   "outputs": [],
   "source": [
    "pred_est = [model.predict(data_test) for model in rf_model.estimators_]"
   ]
  },
  {
   "cell_type": "code",
   "execution_count": 63,
   "id": "80ab533e",
   "metadata": {},
   "outputs": [
    {
     "data": {
      "text/plain": [
       "<matplotlib.legend.Legend at 0x7fa4d43944f0>"
      ]
     },
     "execution_count": 63,
     "metadata": {},
     "output_type": "execute_result"
    },
    {
     "data": {
      "image/png": "[encoded data removed]",
      "text/plain": [
       "<Figure size 432x288 with 1 Axes>"
      ]
     },
     "metadata": {
      "needs_background": "light"
     },
     "output_type": "display_data"
    }
   ],
   "source": [
    "ax = sns.scatterplot(data=data_sub, x=feature_names[0], y=target_name)\n",
    "\n",
    "ax.plot(data_test,pred_est[0], linestyle='--', alpha=0.3, color='green', label='e1')\n",
    "ax.plot(data_test,pred_est[1], linestyle='--', alpha=0.3, color='green', label='e2')\n",
    "ax.plot(data_test,pred_est[2], linestyle='--', alpha=0.3, color='green', label='e3')\n",
    "ax.plot(data_test,pred_avg, linestyle='-', color='red', label='avg')\n",
    "ax.legend()"
   ]
  },
  {
   "cell_type": "code",
   "execution_count": null,
   "id": "8055220d",
   "metadata": {},
   "outputs": [],
   "source": []
  }
 ],
 "metadata": {
  "jupytext": {
   "cell_metadata_filter": "-all",
   "main_language": "python",
   "notebook_metadata_filter": "-all"
  },
  "kernelspec": {
   "display_name": "Python 3",
   "language": "python",
   "name": "python3"
  },
  "language_info": {
   "codemirror_mode": {
    "name": "ipython",
    "version": 3
   },
   "file_extension": ".py",
   "mimetype": "text/x-python",
   "name": "python",
   "nbconvert_exporter": "python",
   "pygments_lexer": "ipython3",
   "version": "3.9.2"
  },
  "nbreset": "https://github.com/INRIA/scikit-learn-mooc/raw/master/notebooks/ensemble_ex_02.ipynb"
 },
 "nbformat": 4,
 "nbformat_minor": 5
}
