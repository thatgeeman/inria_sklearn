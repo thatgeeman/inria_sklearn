{
 "cells": [
  {
   "cell_type": "markdown",
   "id": "1db34ffe",
   "metadata": {},
   "source": [
    "# Comparing results with baseline and chance level\n",
    "\n",
    "In this notebook, we present how to compare the statistical performance of a\n",
    "model to a minimal baseline.\n",
    "\n",
    "Indeed, in the previous notebook, we compared the testing error by\n",
    "taking into account the target distribution. A good practice is to compare\n",
    "the testing error with a dummy baseline and the chance level. In\n",
    "regression, we could use the `DummyRegressor` and predict the mean target\n",
    "without using the data. The chance level can be determined by permuting the\n",
    "labels and check the difference of result.\n",
    "\n",
    "Therefore, we will conduct experiment to get the score of a model and the two\n",
    "baselines. We will start by loading the California housing dataset."
   ]
  },
  {
   "cell_type": "markdown",
   "id": "3a007133",
   "metadata": {},
   "source": [
    "<div class=\"admonition note alert alert-info\">\n",
    "<p class=\"first admonition-title\" style=\"font-weight: bold;\">Note</p>\n",
    "<p class=\"last\">If you want a deeper overview regarding this dataset, you can refer to the\n",
    "Appendix - Datasets description section at the end of this MOOC.</p>\n",
    "</div>"
   ]
  },
  {
   "cell_type": "code",
   "execution_count": 1,
   "id": "f566c5d9",
   "metadata": {},
   "outputs": [],
   "source": [
    "from sklearn.datasets import fetch_california_housing\n",
    "\n",
    "data, target = fetch_california_housing(return_X_y=True, as_frame=True)\n",
    "target *= 100  # rescale the target in k$"
   ]
  },
  {
   "cell_type": "markdown",
   "id": "12f2da76",
   "metadata": {},
   "source": [
    "Across all evaluations, we will use a `ShuffleSplit` cross-validation."
   ]
  },
  {
   "cell_type": "code",
   "execution_count": 2,
   "id": "7cbef7be",
   "metadata": {},
   "outputs": [],
   "source": [
    "from sklearn.model_selection import ShuffleSplit\n",
    "\n",
    "cv = ShuffleSplit(n_splits=30, test_size=0.2, random_state=0)"
   ]
  },
  {
   "cell_type": "markdown",
   "id": "66316da0",
   "metadata": {},
   "source": [
    "We will start by running the cross-validation for the decision tree\n",
    "regressor which is our model of interest. Besides, we will store the\n",
    "testing error in a pandas series."
   ]
  },
  {
   "cell_type": "code",
   "execution_count": 3,
   "id": "688f2a12",
   "metadata": {},
   "outputs": [],
   "source": [
    "import pandas as pd\n",
    "from sklearn.tree import DecisionTreeRegressor\n",
    "from sklearn.model_selection import cross_validate\n",
    "\n",
    "regressor = DecisionTreeRegressor()\n",
    "result_regressor = cross_validate(regressor, data, target,\n",
    "                                  cv=cv, scoring=\"neg_mean_absolute_error\",\n",
    "                                  n_jobs=-1)\n",
    "\n",
    "errors_regressor = pd.Series(-result_regressor[\"test_score\"],\n",
    "                             name=\"Regressor error\")"
   ]
  },
  {
   "cell_type": "code",
   "execution_count": 8,
   "id": "b08d7535",
   "metadata": {},
   "outputs": [
    {
     "data": {
      "text/plain": [
       "0     46.782357\n",
       "1     46.618795\n",
       "2     44.506848\n",
       "3     43.956216\n",
       "4     47.848420\n",
       "5     44.733737\n",
       "6     43.986497\n",
       "7     44.738388\n",
       "8     45.521478\n",
       "9     44.738653\n",
       "10    47.108960\n",
       "11    46.357016\n",
       "12    45.802632\n",
       "13    45.116322\n",
       "14    46.911302\n",
       "15    44.178625\n",
       "16    45.907193\n",
       "17    46.434654\n",
       "18    45.001542\n",
       "19    46.742990\n",
       "20    43.365326\n",
       "21    45.495582\n",
       "22    45.726666\n",
       "23    46.665207\n",
       "24    46.047307\n",
       "25    46.051909\n",
       "26    44.606322\n",
       "27    46.282598\n",
       "28    45.121258\n",
       "29    48.354236\n",
       "Name: Regressor error, dtype: float64"
      ]
     },
     "execution_count": 8,
     "metadata": {},
     "output_type": "execute_result"
    }
   ],
   "source": [
    "errors_regressor"
   ]
  },
  {
   "cell_type": "markdown",
   "id": "a91f775f",
   "metadata": {},
   "source": [
    "Then, we will evaluate our first baseline. This baseline is called a dummy\n",
    "regressor. This dummy regressor will always predict the mean target computed\n",
    "on the training. Therefore, the dummy regressor will never use any\n",
    "information regarding the data `data`."
   ]
  },
  {
   "cell_type": "code",
   "execution_count": 4,
   "id": "d4b1855f",
   "metadata": {},
   "outputs": [],
   "source": [
    "from sklearn.dummy import DummyRegressor\n",
    "\n",
    "dummy = DummyRegressor()\n",
    "result_dummy = cross_validate(dummy, data, target,\n",
    "                              cv=cv, scoring=\"neg_mean_absolute_error\",\n",
    "                              n_jobs=-1)\n",
    "errors_dummy = pd.Series(-result_dummy[\"test_score\"], name=\"Dummy error\")"
   ]
  },
  {
   "cell_type": "code",
   "execution_count": 9,
   "id": "dcfe4403",
   "metadata": {},
   "outputs": [
    {
     "data": {
      "text/plain": [
       "0     90.713153\n",
       "1     90.539353\n",
       "2     91.941912\n",
       "3     90.213912\n",
       "4     92.015862\n",
       "5     90.542490\n",
       "6     89.757566\n",
       "7     92.477244\n",
       "8     90.947952\n",
       "9     91.991373\n",
       "10    92.023571\n",
       "11    90.556965\n",
       "12    91.539567\n",
       "13    91.185225\n",
       "14    92.298971\n",
       "15    91.084639\n",
       "16    90.984471\n",
       "17    89.981744\n",
       "18    90.547140\n",
       "19    89.820219\n",
       "20    91.768721\n",
       "21    92.305556\n",
       "22    90.503017\n",
       "23    92.147974\n",
       "24    91.386320\n",
       "25    90.815660\n",
       "26    92.216574\n",
       "27    90.107460\n",
       "28    90.620318\n",
       "29    91.165331\n",
       "Name: Dummy error, dtype: float64"
      ]
     },
     "execution_count": 9,
     "metadata": {},
     "output_type": "execute_result"
    }
   ],
   "source": [
    "errors_dummy"
   ]
  },
  {
   "cell_type": "markdown",
   "id": "cffc3b85",
   "metadata": {},
   "source": [
    "Finally, we will evaluate the statistical performance of the second baseline.\n",
    "This baseline will provide the statistical performance of the chance level.\n",
    "Indeed, we will train a decision tree on some training data and evaluate the\n",
    "same tree on data where the target vector has been randomized."
   ]
  },
  {
   "cell_type": "code",
   "execution_count": 5,
   "id": "0131d763",
   "metadata": {},
   "outputs": [],
   "source": [
    "from sklearn.model_selection import permutation_test_score\n",
    "\n",
    "regressor = DecisionTreeRegressor()\n",
    "score, permutation_score, pvalue = permutation_test_score(\n",
    "    regressor, data, target, cv=cv, scoring=\"neg_mean_absolute_error\",\n",
    "    n_jobs=-1, n_permutations=30)\n",
    "errors_permutation = pd.Series(-permutation_score, name=\"Permuted error\")"
   ]
  },
  {
   "cell_type": "code",
   "execution_count": 11,
   "id": "64a156b0",
   "metadata": {},
   "outputs": [],
   "source": [
    "permutation_test_score?"
   ]
  },
  {
   "cell_type": "code",
   "execution_count": 10,
   "id": "4253e0fc",
   "metadata": {},
   "outputs": [
    {
     "data": {
      "text/plain": [
       "0     129.032410\n",
       "1     129.398369\n",
       "2     128.900235\n",
       "3     129.202796\n",
       "4     128.835742\n",
       "5     129.253929\n",
       "6     130.017591\n",
       "7     128.861625\n",
       "8     129.033270\n",
       "9     129.462761\n",
       "10    129.361596\n",
       "11    129.841664\n",
       "12    128.837298\n",
       "13    129.285179\n",
       "14    129.230618\n",
       "15    129.135477\n",
       "16    129.100897\n",
       "17    129.109746\n",
       "18    128.949897\n",
       "19    129.402281\n",
       "20    129.247234\n",
       "21    129.028287\n",
       "22    129.291383\n",
       "23    129.633389\n",
       "24    129.266160\n",
       "25    129.526317\n",
       "26    129.620507\n",
       "27    129.210742\n",
       "28    128.903540\n",
       "29    129.347662\n",
       "Name: Permuted error, dtype: float64"
      ]
     },
     "execution_count": 10,
     "metadata": {},
     "output_type": "execute_result"
    }
   ],
   "source": [
    "errors_permutation"
   ]
  },
  {
   "cell_type": "markdown",
   "id": "34bea2c9",
   "metadata": {},
   "source": [
    "Finally, we plot the testing errors for the two baselines and the\n",
    "actual regressor."
   ]
  },
  {
   "cell_type": "code",
   "execution_count": 6,
   "id": "e129a6b7",
   "metadata": {},
   "outputs": [],
   "source": [
    "final_errors = pd.concat([errors_regressor, errors_dummy, errors_permutation],\n",
    "                         axis=1)"
   ]
  },
  {
   "cell_type": "code",
   "execution_count": 7,
   "id": "49ea920a",
   "metadata": {},
   "outputs": [
    {
     "data": {
      "image/png": "[encoded data removed]",
      "text/plain": [
       "<Figure size 432x288 with 1 Axes>"
      ]
     },
     "metadata": {
      "needs_background": "light"
     },
     "output_type": "display_data"
    }
   ],
   "source": [
    "import matplotlib.pyplot as plt\n",
    "\n",
    "final_errors.plot.hist(bins=50, density=True, edgecolor=\"black\")\n",
    "plt.legend(bbox_to_anchor=(1.05, 0.8), loc=\"upper left\")\n",
    "plt.xlabel(\"Mean absolute error (k$)\")\n",
    "_ = plt.title(\"Distribution of the testing errors\")"
   ]
  },
  {
   "cell_type": "markdown",
   "id": "d555e660",
   "metadata": {},
   "source": [
    "We see that even if the statistical performance of our model is far from\n",
    "being good, it is better than the two baselines. Besides, we see that the\n",
    "dummy regressor is better than a chance level regressor.\n",
    "\n",
    "In practice, using a dummy regressor might be sufficient as a baseline.\n",
    "Indeed, to obtain a reliable estimate the permutation of the target should\n",
    "be repeated and thus this method is costly. However, it gives the true\n",
    "chance level."
   ]
  }
 ],
 "metadata": {
  "jupytext": {
   "cell_metadata_filter": "-all",
   "main_language": "python",
   "notebook_metadata_filter": "-all"
  },
  "kernelspec": {
   "display_name": "Python 3",
   "language": "python",
   "name": "python3"
  },
  "language_info": {
   "codemirror_mode": {
    "name": "ipython",
    "version": 3
   },
   "file_extension": ".py",
   "mimetype": "text/x-python",
   "name": "python",
   "nbconvert_exporter": "python",
   "pygments_lexer": "ipython3",
   "version": "3.9.2"
  },
  "nbreset": "https://github.com/INRIA/scikit-learn-mooc/raw/master/notebooks/cross_validation_baseline.ipynb"
 },
 "nbformat": 4,
 "nbformat_minor": 5
}
