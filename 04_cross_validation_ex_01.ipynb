{
 "cells": [
  {
   "cell_type": "markdown",
   "id": "14f21f23",
   "metadata": {},
   "source": [
    "# 📝 Exercise M2.01\n",
    "\n",
    "The aim of this exercise is to make the following experiments:\n",
    "\n",
    "* train and test a support vector machine classifier through\n",
    "  cross-validation;\n",
    "* study the effect of the parameter gamma of this classifier using a\n",
    "  validation curve;\n",
    "* study if it would be useful in term of classification if we could add new\n",
    "  samples in the dataset using a learning curve.\n",
    "\n",
    "To make these experiments we will first load the blood transfusion dataset."
   ]
  },
  {
   "cell_type": "markdown",
   "id": "72d5d632",
   "metadata": {},
   "source": [
    "<div class=\"admonition note alert alert-info\">\n",
    "<p class=\"first admonition-title\" style=\"font-weight: bold;\">Note</p>\n",
    "<p class=\"last\">If you want a deeper overview regarding this dataset, you can refer to the\n",
    "Appendix - Datasets description section at the end of this MOOC.</p>\n",
    "</div>"
   ]
  },
  {
   "cell_type": "code",
   "execution_count": 1,
   "id": "788e8510",
   "metadata": {},
   "outputs": [],
   "source": [
    "import pandas as pd\n",
    "\n",
    "blood_transfusion = pd.read_csv(\"../datasets/blood_transfusion.csv\")\n",
    "data = blood_transfusion.drop(columns=\"Class\")\n",
    "target = blood_transfusion[\"Class\"]"
   ]
  },
  {
   "cell_type": "markdown",
   "id": "81b48758",
   "metadata": {},
   "source": [
    "We will use a support vector machine classifier (SVM). In its most simple\n",
    "form, a SVM classifier is a linear classifier behaving similarly to a\n",
    "logistic regression. Indeed, the optimization used to find the optimal\n",
    "weights of the linear model are different but we don't need to know these\n",
    "details for the exercise.\n",
    "\n",
    "Also, this classifier can become more flexible/expressive by using a\n",
    "so-called kernel making the model becomes non-linear. Again, no requirement\n",
    "regarding the mathematics is required to accomplish this exercise.\n",
    "\n",
    "We will use an RBF kernel where a parameter `gamma` allows to tune the\n",
    "flexibility of the model.\n",
    "\n",
    "First let's create a predictive pipeline made of:\n",
    "\n",
    "* a [`sklearn.preprocessing.StandardScaler`](https://scikit-learn.org/stable/modules/generated/sklearn.preprocessing.StandardScaler.html)\n",
    "  with default parameter;\n",
    "* a [`sklearn.svm.SVC`](https://scikit-learn.org/stable/modules/generated/sklearn.svm.SVC.html)\n",
    "  where the parameter `kernel` could be set to `\"rbf\"`. Note that this is the\n",
    "  default."
   ]
  },
  {
   "cell_type": "code",
   "execution_count": 16,
   "id": "507bba27",
   "metadata": {},
   "outputs": [],
   "source": [
    "# Write your code here.\n",
    "from sklearn.pipeline import make_pipeline\n",
    "from sklearn.preprocessing import StandardScaler\n",
    "from sklearn.svm import SVC\n",
    "model = make_pipeline(StandardScaler(),SVC(kernel='rbf', gamma=1))"
   ]
  },
  {
   "cell_type": "code",
   "execution_count": 17,
   "id": "c80f2421",
   "metadata": {},
   "outputs": [],
   "source": [
    "from sklearn import set_config\n",
    "set_config(display='diagram')"
   ]
  },
  {
   "cell_type": "code",
   "execution_count": 18,
   "id": "9843edf9",
   "metadata": {},
   "outputs": [
    {
     "data": {
      "text/html": [
       "<style>#sk-fc586b95-77b2-44c8-87b2-b872b539dfa2 {color: black;background-color: white;}#sk-fc586b95-77b2-44c8-87b2-b872b539dfa2 pre{padding: 0;}#sk-fc586b95-77b2-44c8-87b2-b872b539dfa2 div.sk-toggleable {background-color: white;}#sk-fc586b95-77b2-44c8-87b2-b872b539dfa2 label.sk-toggleable__label {cursor: pointer;display: block;width: 100%;margin-bottom: 0;padding: 0.2em 0.3em;box-sizing: border-box;text-align: center;}#sk-fc586b95-77b2-44c8-87b2-b872b539dfa2 div.sk-toggleable__content {max-height: 0;max-width: 0;overflow: hidden;text-align: left;background-color: #f0f8ff;}#sk-fc586b95-77b2-44c8-87b2-b872b539dfa2 div.sk-toggleable__content pre {margin: 0.2em;color: black;border-radius: 0.25em;background-color: #f0f8ff;}#sk-fc586b95-77b2-44c8-87b2-b872b539dfa2 input.sk-toggleable__control:checked~div.sk-toggleable__content {max-height: 200px;max-width: 100%;overflow: auto;}#sk-fc586b95-77b2-44c8-87b2-b872b539dfa2 div.sk-estimator input.sk-toggleable__control:checked~label.sk-toggleable__label {background-color: #d4ebff;}#sk-fc586b95-77b2-44c8-87b2-b872b539dfa2 div.sk-label input.sk-toggleable__control:checked~label.sk-toggleable__label {background-color: #d4ebff;}#sk-fc586b95-77b2-44c8-87b2-b872b539dfa2 input.sk-hidden--visually {border: 0;clip: rect(1px 1px 1px 1px);clip: rect(1px, 1px, 1px, 1px);height: 1px;margin: -1px;overflow: hidden;padding: 0;position: absolute;width: 1px;}#sk-fc586b95-77b2-44c8-87b2-b872b539dfa2 div.sk-estimator {font-family: monospace;background-color: #f0f8ff;margin: 0.25em 0.25em;border: 1px dotted black;border-radius: 0.25em;box-sizing: border-box;}#sk-fc586b95-77b2-44c8-87b2-b872b539dfa2 div.sk-estimator:hover {background-color: #d4ebff;}#sk-fc586b95-77b2-44c8-87b2-b872b539dfa2 div.sk-parallel-item::after {content: \"\";width: 100%;border-bottom: 1px solid gray;flex-grow: 1;}#sk-fc586b95-77b2-44c8-87b2-b872b539dfa2 div.sk-label:hover label.sk-toggleable__label {background-color: #d4ebff;}#sk-fc586b95-77b2-44c8-87b2-b872b539dfa2 div.sk-serial::before {content: \"\";position: absolute;border-left: 1px solid gray;box-sizing: border-box;top: 2em;bottom: 0;left: 50%;}#sk-fc586b95-77b2-44c8-87b2-b872b539dfa2 div.sk-serial {display: flex;flex-direction: column;align-items: center;background-color: white;}#sk-fc586b95-77b2-44c8-87b2-b872b539dfa2 div.sk-item {z-index: 1;}#sk-fc586b95-77b2-44c8-87b2-b872b539dfa2 div.sk-parallel {display: flex;align-items: stretch;justify-content: center;background-color: white;}#sk-fc586b95-77b2-44c8-87b2-b872b539dfa2 div.sk-parallel-item {display: flex;flex-direction: column;position: relative;background-color: white;}#sk-fc586b95-77b2-44c8-87b2-b872b539dfa2 div.sk-parallel-item:first-child::after {align-self: flex-end;width: 50%;}#sk-fc586b95-77b2-44c8-87b2-b872b539dfa2 div.sk-parallel-item:last-child::after {align-self: flex-start;width: 50%;}#sk-fc586b95-77b2-44c8-87b2-b872b539dfa2 div.sk-parallel-item:only-child::after {width: 0;}#sk-fc586b95-77b2-44c8-87b2-b872b539dfa2 div.sk-dashed-wrapped {border: 1px dashed gray;margin: 0.2em;box-sizing: border-box;padding-bottom: 0.1em;background-color: white;position: relative;}#sk-fc586b95-77b2-44c8-87b2-b872b539dfa2 div.sk-label label {font-family: monospace;font-weight: bold;background-color: white;display: inline-block;line-height: 1.2em;}#sk-fc586b95-77b2-44c8-87b2-b872b539dfa2 div.sk-label-container {position: relative;z-index: 2;text-align: center;}#sk-fc586b95-77b2-44c8-87b2-b872b539dfa2 div.sk-container {display: inline-block;position: relative;}</style><div id=\"sk-fc586b95-77b2-44c8-87b2-b872b539dfa2\" class\"sk-top-container\"><div class=\"sk-container\"><div class=\"sk-item sk-dashed-wrapped\"><div class=\"sk-label-container\"><div class=\"sk-label sk-toggleable\"><input class=\"sk-toggleable__control sk-hidden--visually\" id=\"4a4bb985-5b68-4041-b890-8583ad2f0995\" type=\"checkbox\" ><label class=\"sk-toggleable__label\" for=\"4a4bb985-5b68-4041-b890-8583ad2f0995\">Pipeline</label><div class=\"sk-toggleable__content\"><pre>Pipeline(steps=[('standardscaler', StandardScaler()), ('svc', SVC(gamma=1))])</pre></div></div></div><div class=\"sk-serial\"><div class=\"sk-item\"><div class=\"sk-estimator sk-toggleable\"><input class=\"sk-toggleable__control sk-hidden--visually\" id=\"5d5fe0f6-3f45-439d-8ef3-d6aa09277a67\" type=\"checkbox\" ><label class=\"sk-toggleable__label\" for=\"5d5fe0f6-3f45-439d-8ef3-d6aa09277a67\">StandardScaler</label><div class=\"sk-toggleable__content\"><pre>StandardScaler()</pre></div></div></div><div class=\"sk-item\"><div class=\"sk-estimator sk-toggleable\"><input class=\"sk-toggleable__control sk-hidden--visually\" id=\"a234b530-504c-44ed-834c-2b414e89dbd5\" type=\"checkbox\" ><label class=\"sk-toggleable__label\" for=\"a234b530-504c-44ed-834c-2b414e89dbd5\">SVC</label><div class=\"sk-toggleable__content\"><pre>SVC(gamma=1)</pre></div></div></div></div></div></div></div>"
      ],
      "text/plain": [
       "Pipeline(steps=[('standardscaler', StandardScaler()), ('svc', SVC(gamma=1))])"
      ]
     },
     "execution_count": 18,
     "metadata": {},
     "output_type": "execute_result"
    }
   ],
   "source": [
    "model"
   ]
  },
  {
   "cell_type": "markdown",
   "id": "d9ef6ceb",
   "metadata": {},
   "source": [
    "Evaluate the statistical performance of your model by cross-validation with a\n",
    "`ShuffleSplit` scheme. Thus, you can use\n",
    "[`sklearn.model_selection.cross_validate`](https://scikit-learn.org/stable/modules/generated/sklearn.model_selection.cross_validate.html)\n",
    "and pass a [`sklearn.model_selection.ShuffleSplit`](https://scikit-learn.org/stable/modules/generated/sklearn.model_selection.ShuffleSplit.html)\n",
    "to the `cv` parameter. Only fix the `random_state=0` in the `ShuffleSplit`\n",
    "and let the other parameters to the default."
   ]
  },
  {
   "cell_type": "code",
   "execution_count": 19,
   "id": "1b45f7d7",
   "metadata": {},
   "outputs": [],
   "source": [
    "# Write your code here.\n",
    "from sklearn.model_selection import cross_validate, ShuffleSplit"
   ]
  },
  {
   "cell_type": "code",
   "execution_count": 20,
   "id": "f6076f01",
   "metadata": {},
   "outputs": [
    {
     "data": {
      "text/plain": [
       "ShuffleSplit(n_splits=10, random_state=0, test_size=None, train_size=None)"
      ]
     },
     "execution_count": 20,
     "metadata": {},
     "output_type": "execute_result"
    }
   ],
   "source": [
    "cv = ShuffleSplit(random_state=0)\n",
    "cv"
   ]
  },
  {
   "cell_type": "code",
   "execution_count": 22,
   "id": "d1205135",
   "metadata": {},
   "outputs": [],
   "source": [
    "cv_result = cross_validate(model, X = data, y = target, cv = cv)"
   ]
  },
  {
   "cell_type": "code",
   "execution_count": 25,
   "id": "8d9c9cfa",
   "metadata": {},
   "outputs": [
    {
     "data": {
      "text/plain": [
       "(0.7853333333333333, 0.034486712417006835)"
      ]
     },
     "execution_count": 25,
     "metadata": {},
     "output_type": "execute_result"
    }
   ],
   "source": [
    "cv_result['test_score'].mean(), cv_result['test_score'].std()"
   ]
  },
  {
   "cell_type": "markdown",
   "id": "4fdeb6e5",
   "metadata": {},
   "source": [
    "As previously mentioned, the parameter `gamma` is one of the parameter\n",
    "controlling under/over-fitting in support vector machine with an RBF kernel.\n",
    "\n",
    "Compute the validation curve\n",
    "(using [`sklearn.model_selection.validation_curve`](https://scikit-learn.org/stable/modules/generated/sklearn.model_selection.validation_curve.html))\n",
    "to evaluate the effect of the parameter `gamma`. You can vary its value\n",
    "between `10e-3` and `10e2` by generating samples on a logarithmic scale.\n",
    "Thus, you can use `np.logspace(-3, 2, num=30)`.\n",
    "\n",
    "Since we are manipulating a `Pipeline` the parameter name will be set to\n",
    "`svc__gamma` instead of only `gamma`. You can retrieve the parameter name\n",
    "using `model.get_params().keys()`. We will go more into details regarding\n",
    "accessing and setting hyperparameter in the next section."
   ]
  },
  {
   "cell_type": "code",
   "execution_count": 27,
   "id": "81ce5b83",
   "metadata": {},
   "outputs": [],
   "source": [
    "# Write your code here.\n",
    "from sklearn.model_selection import validation_curve\n",
    "import numpy as np\n",
    "gammas = np.logspace(-3, 2, num=30)"
   ]
  },
  {
   "cell_type": "code",
   "execution_count": 29,
   "id": "97247828",
   "metadata": {},
   "outputs": [
    {
     "data": {
      "text/plain": [
       "1"
      ]
     },
     "execution_count": 29,
     "metadata": {},
     "output_type": "execute_result"
    }
   ],
   "source": [
    "model.get_params()['svc__gamma']"
   ]
  },
  {
   "cell_type": "code",
   "execution_count": 34,
   "id": "6efee478",
   "metadata": {},
   "outputs": [
    {
     "data": {
      "text/plain": [
       "0.001"
      ]
     },
     "execution_count": 34,
     "metadata": {},
     "output_type": "execute_result"
    }
   ],
   "source": [
    "gammas[0]"
   ]
  },
  {
   "cell_type": "code",
   "execution_count": 30,
   "id": "ffbb7519",
   "metadata": {},
   "outputs": [],
   "source": [
    "validation_curve?"
   ]
  },
  {
   "cell_type": "code",
   "execution_count": 35,
   "id": "e2b20018",
   "metadata": {},
   "outputs": [
    {
     "name": "stdout",
     "output_type": "stream",
     "text": [
      "0.7613333333333333 0.04019950248448358\n",
      "0.7613333333333333 0.04019950248448358\n",
      "0.7613333333333333 0.04019950248448358\n",
      "0.7613333333333333 0.04019950248448358\n",
      "0.7613333333333333 0.04019950248448358\n",
      "0.7613333333333333 0.03975480404233489\n",
      "0.7613333333333332 0.04019950248448358\n",
      "0.764 0.036781637931023264\n",
      "0.7626666666666667 0.035677568427359065\n",
      "0.7613333333333334 0.03649048582241069\n",
      "0.7666666666666666 0.037830029224296284\n",
      "0.7626666666666666 0.04249967320135793\n",
      "0.7626666666666666 0.041654664938168814\n",
      "0.7626666666666667 0.03946306289852997\n",
      "0.7626666666666667 0.03946306289852998\n",
      "0.7826666666666667 0.03322649545167232\n",
      "0.784 0.03900997023554081\n",
      "0.78 0.04011095721731019\n",
      "0.7893333333333333 0.03309246305597562\n",
      "0.7853333333333334 0.037923900408874375\n",
      "0.7813333333333332 0.03435759660460035\n",
      "0.7813333333333333 0.03435759660460033\n",
      "0.7733333333333334 0.03627058802329451\n",
      "0.7653333333333332 0.029933259094191544\n",
      "0.7613333333333333 0.03550273854851826\n",
      "0.7613333333333333 0.03290390047800817\n",
      "0.764 0.03678163793102326\n",
      "0.756 0.036295086903509854\n",
      "0.7573333333333334 0.032\n",
      "0.7586666666666668 0.03290390047800817\n"
     ]
    }
   ],
   "source": [
    "for idx,val in enumerate(gammas):\n",
    "    model = make_pipeline(StandardScaler(),SVC(kernel='rbf', gamma=val))\n",
    "    cv_result = cross_validate(model, X = data, y = target, cv = cv)\n",
    "    print(cv_result['test_score'].mean(), cv_result['test_score'].std())"
   ]
  },
  {
   "cell_type": "markdown",
   "id": "17c7c03b",
   "metadata": {},
   "source": [
    "Plot the validation curve for the train and test scores."
   ]
  },
  {
   "cell_type": "code",
   "execution_count": 45,
   "id": "0b245170",
   "metadata": {},
   "outputs": [],
   "source": [
    "# Write your code here.\n",
    "train_scores, test_scores = validation_curve(model, data, target, cv= cv, param_name='svc__gamma',param_range=gammas)"
   ]
  },
  {
   "cell_type": "code",
   "execution_count": 46,
   "id": "3ac3a2db",
   "metadata": {},
   "outputs": [
    {
     "data": {
      "image/png": "[encoded data removed]",
      "text/plain": [
       "<Figure size 432x288 with 1 Axes>"
      ]
     },
     "metadata": {
      "needs_background": "light"
     },
     "output_type": "display_data"
    }
   ],
   "source": [
    "import matplotlib.pyplot as plt\n",
    "plt.errorbar(gammas, train_scores.mean(axis=1),\n",
    "             yerr=train_scores.std(axis=1), label='Training score')\n",
    "plt.errorbar(gammas, test_scores.mean(axis=1),\n",
    "             yerr=test_scores.std(axis=1), label='Testing score')\n",
    "plt.legend()\n",
    "\n",
    "plt.xscale(\"log\")\n",
    "plt.xlabel(r\"Value of hyperparameter $\\gamma$\")\n",
    "plt.ylabel(\"Accuracy score\")\n",
    "_ = plt.title(\"Validation score of support vector machine\")"
   ]
  },
  {
   "cell_type": "markdown",
   "id": "6f922799",
   "metadata": {},
   "source": [
    "Now, you can perform an analysis to check whether adding new samples to the\n",
    "dataset could help our model to better generalize. Compute the learning curve\n",
    "(using [`sklearn.model_selection.learning_curve`](https://scikit-learn.org/stable/modules/generated/sklearn.model_selection.learning_curve.html))\n",
    "by computing the train and test scores for different training dataset size.\n",
    "Plot the train and test scores with respect to the number of samples."
   ]
  },
  {
   "cell_type": "code",
   "execution_count": 47,
   "id": "bf77d372",
   "metadata": {},
   "outputs": [],
   "source": [
    "# Write your code here.\n",
    "from sklearn.model_selection import learning_curve"
   ]
  },
  {
   "cell_type": "code",
   "execution_count": 62,
   "id": "a4a94524",
   "metadata": {},
   "outputs": [],
   "source": [
    "train_sizes = np.linspace(0.1, 1, num=10)"
   ]
  },
  {
   "cell_type": "code",
   "execution_count": 48,
   "id": "2fa48100",
   "metadata": {},
   "outputs": [],
   "source": [
    "learning_curve?"
   ]
  },
  {
   "cell_type": "code",
   "execution_count": 63,
   "id": "6d8e433d",
   "metadata": {},
   "outputs": [],
   "source": [
    "# Write your code here.\n",
    "result = learning_curve(model, data, target, cv= cv, \n",
    "                        train_sizes=train_sizes)"
   ]
  },
  {
   "cell_type": "code",
   "execution_count": 64,
   "id": "ef87e4d5",
   "metadata": {},
   "outputs": [
    {
     "data": {
      "text/plain": [
       "3"
      ]
     },
     "execution_count": 64,
     "metadata": {},
     "output_type": "execute_result"
    }
   ],
   "source": [
    "len(result)"
   ]
  },
  {
   "cell_type": "code",
   "execution_count": 65,
   "id": "1dd75a17",
   "metadata": {},
   "outputs": [],
   "source": [
    "train_score_mean, train_score_std = result[1].mean(axis=1), result[1].std(axis=1)"
   ]
  },
  {
   "cell_type": "code",
   "execution_count": 66,
   "id": "9a39d280",
   "metadata": {},
   "outputs": [],
   "source": [
    "test_score_mean, test_score_std = result[2].mean(axis=1), result[2].std(axis=1)"
   ]
  },
  {
   "cell_type": "code",
   "execution_count": 67,
   "id": "f0462823",
   "metadata": {},
   "outputs": [
    {
     "data": {
      "text/plain": [
       "<ErrorbarContainer object of 3 artists>"
      ]
     },
     "execution_count": 67,
     "metadata": {},
     "output_type": "execute_result"
    },
    {
     "data": {
      "image/png": "[encoded data removed]",
      "text/plain": [
       "<Figure size 432x288 with 1 Axes>"
      ]
     },
     "metadata": {
      "needs_background": "light"
     },
     "output_type": "display_data"
    }
   ],
   "source": [
    "plt.errorbar(result[0], train_score_mean, yerr=train_score_std, label='train')\n",
    "plt.errorbar(result[0], test_score_mean, yerr=test_score_std, label='test score')"
   ]
  },
  {
   "cell_type": "code",
   "execution_count": null,
   "id": "ce149aaa",
   "metadata": {},
   "outputs": [],
   "source": []
  }
 ],
 "metadata": {
  "jupytext": {
   "cell_metadata_filter": "-all",
   "main_language": "python",
   "notebook_metadata_filter": "-all"
  },
  "kernelspec": {
   "display_name": "Python 3",
   "language": "python",
   "name": "python3"
  },
  "language_info": {
   "codemirror_mode": {
    "name": "ipython",
    "version": 3
   },
   "file_extension": ".py",
   "mimetype": "text/x-python",
   "name": "python",
   "nbconvert_exporter": "python",
   "pygments_lexer": "ipython3",
   "version": "3.9.2"
  },
  "nbreset": "https://github.com/INRIA/scikit-learn-mooc/raw/master/notebooks/cross_validation_ex_01.ipynb"
 },
 "nbformat": 4,
 "nbformat_minor": 5
}
