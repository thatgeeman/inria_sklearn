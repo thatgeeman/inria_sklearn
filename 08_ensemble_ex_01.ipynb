{
 "cells": [
  {
   "cell_type": "markdown",
   "id": "64b2f9a3",
   "metadata": {},
   "source": [
    "# 📝 Exercise M6.01\n",
    "\n",
    "The aim of this notebook is to investigate if we can tune the hyperparameters\n",
    "of a bagging regressor and evaluate the gain obtained.\n",
    "\n",
    "We will load the California housing dataset and split it into a training and\n",
    "a testing set."
   ]
  },
  {
   "cell_type": "code",
   "execution_count": 1,
   "id": "a5907105",
   "metadata": {},
   "outputs": [],
   "source": [
    "from sklearn.datasets import fetch_california_housing\n",
    "from sklearn.model_selection import train_test_split\n",
    "\n",
    "data, target = fetch_california_housing(as_frame=True, return_X_y=True)\n",
    "target *= 100  # rescale the target in k$\n",
    "data_train, data_test, target_train, target_test = train_test_split(\n",
    "    data, target, random_state=0, test_size=0.5)"
   ]
  },
  {
   "cell_type": "markdown",
   "id": "715c6810",
   "metadata": {},
   "source": [
    "<div class=\"admonition note alert alert-info\">\n",
    "<p class=\"first admonition-title\" style=\"font-weight: bold;\">Note</p>\n",
    "<p class=\"last\">If you want a deeper overview regarding this dataset, you can refer to the\n",
    "Appendix - Datasets description section at the end of this MOOC.</p>\n",
    "</div>"
   ]
  },
  {
   "cell_type": "markdown",
   "id": "203070f9",
   "metadata": {},
   "source": [
    "Create a `BaggingRegressor` and provide a `DecisionTreeRegressor`\n",
    "to its parameter `base_estimator`. Train the regressor and evaluate its\n",
    "statistical performance on the testing set using the mean absolute error."
   ]
  },
  {
   "cell_type": "code",
   "execution_count": 39,
   "id": "0a04b96a",
   "metadata": {},
   "outputs": [],
   "source": [
    "BaggingRegressor?"
   ]
  },
  {
   "cell_type": "code",
   "execution_count": 40,
   "id": "077d29eb",
   "metadata": {},
   "outputs": [],
   "source": [
    "# Write your code here.\n",
    "from sklearn.tree import DecisionTreeRegressor\n",
    "from sklearn.ensemble import BaggingRegressor\n",
    "from sklearn.metrics import mean_absolute_error\n",
    "\n",
    "rgr =  BaggingRegressor(base_estimator=DecisionTreeRegressor())"
   ]
  },
  {
   "cell_type": "code",
   "execution_count": 41,
   "id": "4e722eb4",
   "metadata": {},
   "outputs": [],
   "source": [
    "rgr.fit?"
   ]
  },
  {
   "cell_type": "code",
   "execution_count": 42,
   "id": "0b4f3e6e",
   "metadata": {},
   "outputs": [
    {
     "data": {
      "text/plain": [
       "BaggingRegressor(base_estimator=DecisionTreeRegressor())"
      ]
     },
     "execution_count": 42,
     "metadata": {},
     "output_type": "execute_result"
    }
   ],
   "source": [
    "rgr.fit(data_train, target_train)"
   ]
  },
  {
   "cell_type": "code",
   "execution_count": 43,
   "id": "d5a481ad",
   "metadata": {},
   "outputs": [],
   "source": [
    "rgr.score?"
   ]
  },
  {
   "cell_type": "code",
   "execution_count": 44,
   "id": "7c602fba",
   "metadata": {},
   "outputs": [
    {
     "data": {
      "text/plain": [
       "0.7658179145428943"
      ]
     },
     "execution_count": 44,
     "metadata": {},
     "output_type": "execute_result"
    }
   ],
   "source": [
    "rgr.score(data_test,target_test)"
   ]
  },
  {
   "cell_type": "code",
   "execution_count": 79,
   "id": "dddb7008",
   "metadata": {},
   "outputs": [],
   "source": [
    "preds = rgr.predict(data_test)"
   ]
  },
  {
   "cell_type": "code",
   "execution_count": 80,
   "id": "9edff6fc",
   "metadata": {},
   "outputs": [
    {
     "data": {
      "text/plain": [
       "36.88547079457364"
      ]
     },
     "execution_count": 80,
     "metadata": {},
     "output_type": "execute_result"
    }
   ],
   "source": [
    "mean_absolute_error(target_test,preds)"
   ]
  },
  {
   "cell_type": "markdown",
   "id": "87922c08",
   "metadata": {},
   "source": [
    "Now, create a `RandomizedSearchCV` instance using the previous model and\n",
    "tune the important parameters of the bagging regressor. Find the best\n",
    "parameters  and check if you are able to find a set of parameters that\n",
    "improve the default regressor still using the mean absolute error as a\n",
    "metric.\n",
    "\n",
    "<div class=\"admonition tip alert alert-warning\">\n",
    "<p class=\"first admonition-title\" style=\"font-weight: bold;\">Tip</p>\n",
    "<p class=\"last\">You can list the bagging regressor's parameters using the <tt class=\"docutils literal\">get_params</tt>\n",
    "method.</p>\n",
    "</div>"
   ]
  },
  {
   "cell_type": "code",
   "execution_count": 45,
   "id": "9bb6ef3f",
   "metadata": {},
   "outputs": [],
   "source": [
    "# Write your code here.\n",
    "from sklearn.model_selection import RandomizedSearchCV"
   ]
  },
  {
   "cell_type": "code",
   "execution_count": 46,
   "id": "1d98c878",
   "metadata": {},
   "outputs": [],
   "source": [
    " #rgr.get_params()"
   ]
  },
  {
   "cell_type": "code",
   "execution_count": 63,
   "id": "f1f12149",
   "metadata": {},
   "outputs": [],
   "source": [
    "from scipy.stats import norm, randint"
   ]
  },
  {
   "cell_type": "code",
   "execution_count": 64,
   "id": "4ec2c20e",
   "metadata": {},
   "outputs": [],
   "source": [
    "param_distributions = {\n",
    "    \"n_estimators\": randint(10, 30),\n",
    "    \"max_samples\": [0.5, 0.8, 1.0],\n",
    "    \"max_features\": [0.5, 0.8, 1.0],\n",
    "    \"base_estimator__max_depth\": randint(3, 10),\n",
    "}"
   ]
  },
  {
   "cell_type": "code",
   "execution_count": 65,
   "id": "7c9b994d",
   "metadata": {},
   "outputs": [],
   "source": [
    "rgr_psearch = RandomizedSearchCV(rgr, param_distributions=param_distributions, \\\n",
    "                   scoring='neg_mean_absolute_error', cv=3,n_jobs=3)"
   ]
  },
  {
   "cell_type": "code",
   "execution_count": 66,
   "id": "0cb8f865",
   "metadata": {},
   "outputs": [],
   "source": [
    "_ = rgr_psearch.fit(data,target)"
   ]
  },
  {
   "cell_type": "code",
   "execution_count": 67,
   "id": "4ff3ea62",
   "metadata": {},
   "outputs": [
    {
     "data": {
      "text/plain": [
       "{'base_estimator__max_depth': 6,\n",
       " 'max_features': 1.0,\n",
       " 'max_samples': 0.5,\n",
       " 'n_estimators': 23}"
      ]
     },
     "execution_count": 67,
     "metadata": {},
     "output_type": "execute_result"
    }
   ],
   "source": [
    "rgr_psearch.best_params_"
   ]
  },
  {
   "cell_type": "code",
   "execution_count": 68,
   "id": "550b29f5",
   "metadata": {},
   "outputs": [
    {
     "data": {
      "text/plain": [
       "-51.798449137624004"
      ]
     },
     "execution_count": 68,
     "metadata": {},
     "output_type": "execute_result"
    }
   ],
   "source": [
    "rgr_psearch.best_score_"
   ]
  },
  {
   "cell_type": "code",
   "execution_count": 70,
   "id": "ede67d63",
   "metadata": {},
   "outputs": [],
   "source": [
    "import pandas as pd"
   ]
  },
  {
   "cell_type": "code",
   "execution_count": 73,
   "id": "1ec0265c",
   "metadata": {},
   "outputs": [],
   "source": [
    "cv_results = pd.DataFrame(rgr_psearch.cv_results_).sort_values(by=\"rank_test_score\")"
   ]
  },
  {
   "cell_type": "code",
   "execution_count": 74,
   "id": "99b2833f",
   "metadata": {},
   "outputs": [],
   "source": [
    "cv_results[\"mean_test_score\"] = -cv_results[\"mean_test_score\"]"
   ]
  },
  {
   "cell_type": "code",
   "execution_count": 75,
   "id": "99df1b25",
   "metadata": {},
   "outputs": [
    {
     "data": {
      "text/plain": [
       "8    51.798449\n",
       "9    52.377097\n",
       "1    53.331383\n",
       "4    53.968620\n",
       "5    55.845047\n",
       "0    56.994576\n",
       "3    58.604706\n",
       "2    59.333788\n",
       "6    61.739287\n",
       "7    63.570279\n",
       "Name: mean_test_score, dtype: float64"
      ]
     },
     "execution_count": 75,
     "metadata": {},
     "output_type": "execute_result"
    }
   ],
   "source": [
    "cv_results[\"mean_test_score\"]"
   ]
  },
  {
   "cell_type": "code",
   "execution_count": 76,
   "id": "96e7b9f2",
   "metadata": {},
   "outputs": [],
   "source": [
    "preds = rgr_psearch.predict(data_test)"
   ]
  },
  {
   "cell_type": "code",
   "execution_count": 78,
   "id": "949735e3",
   "metadata": {},
   "outputs": [
    {
     "data": {
      "text/plain": [
       "44.241150510387186"
      ]
     },
     "execution_count": 78,
     "metadata": {},
     "output_type": "execute_result"
    }
   ],
   "source": [
    "mean_absolute_error(target_test,preds)"
   ]
  },
  {
   "cell_type": "markdown",
   "id": "95058854",
   "metadata": {},
   "source": [
    "We see that the bagging regressor provides a predictor in which fine tuning\n",
    "is not as important as in the case of fitting a single decision tree."
   ]
  }
 ],
 "metadata": {
  "jupytext": {
   "cell_metadata_filter": "-all",
   "main_language": "python",
   "notebook_metadata_filter": "-all"
  },
  "kernelspec": {
   "display_name": "Python 3",
   "language": "python",
   "name": "python3"
  },
  "language_info": {
   "codemirror_mode": {
    "name": "ipython",
    "version": 3
   },
   "file_extension": ".py",
   "mimetype": "text/x-python",
   "name": "python",
   "nbconvert_exporter": "python",
   "pygments_lexer": "ipython3",
   "version": "3.9.2"
  },
  "nbreset": "https://github.com/INRIA/scikit-learn-mooc/raw/master/notebooks/ensemble_ex_01.ipynb"
 },
 "nbformat": 4,
 "nbformat_minor": 5
}
