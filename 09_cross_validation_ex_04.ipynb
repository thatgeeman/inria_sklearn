{
 "cells": [
  {
   "cell_type": "markdown",
   "id": "fcee0d2c",
   "metadata": {},
   "source": [
    "# 📝 Introductory exercise for sample grouping\n",
    "\n",
    "This exercise aims at highlighting issues that one could encounter when\n",
    "discarding grouping pattern existing in a dataset.\n",
    "\n",
    "We will use the digits dataset which includes some grouping pattern."
   ]
  },
  {
   "cell_type": "code",
   "execution_count": 1,
   "id": "4d9fb827",
   "metadata": {},
   "outputs": [],
   "source": [
    "from sklearn.datasets import load_digits\n",
    "\n",
    "data, target = load_digits(return_X_y=True, as_frame=True)"
   ]
  },
  {
   "cell_type": "markdown",
   "id": "e0b48c07",
   "metadata": {},
   "source": [
    "The first step is to create a model. Use a machine learning pipeline\n",
    "composed of a scaler followed by a logistic regression classifier."
   ]
  },
  {
   "cell_type": "code",
   "execution_count": 4,
   "id": "af0ccf4f",
   "metadata": {},
   "outputs": [],
   "source": [
    "# Write your code here.\n",
    "from sklearn.preprocessing import StandardScaler\n",
    "from sklearn.linear_model import LogisticRegression\n",
    "from sklearn.pipeline import make_pipeline\n",
    "model = make_pipeline(StandardScaler(), LogisticRegression(max_iter=500))\n"
   ]
  },
  {
   "cell_type": "markdown",
   "id": "ea703510",
   "metadata": {},
   "source": [
    "Then, create a a `KFold` object making sure that the data will not be\n",
    "shuffled during the cross-validation. Use the previous model, data, and\n",
    "cross-validation strategy defined to estimate the statistical performance of\n",
    "the model."
   ]
  },
  {
   "cell_type": "code",
   "execution_count": 5,
   "id": "fb1fdcbc",
   "metadata": {},
   "outputs": [],
   "source": [
    "# Write your code here.\n",
    "from sklearn.model_selection import KFold, cross_validate\n",
    "\n",
    "cv = KFold(shuffle=False)\n",
    "cv_res = cross_validate(model, data, target, cv=cv)"
   ]
  },
  {
   "cell_type": "code",
   "execution_count": 7,
   "id": "19580e4d",
   "metadata": {},
   "outputs": [
    {
     "data": {
      "text/plain": [
       "0.9209996904982978"
      ]
     },
     "execution_count": 7,
     "metadata": {},
     "output_type": "execute_result"
    }
   ],
   "source": [
    "cv_res['test_score'].mean()"
   ]
  },
  {
   "cell_type": "markdown",
   "id": "82bc8542",
   "metadata": {},
   "source": [
    "Finally, perform the same experiment by shuffling the data within the\n",
    "cross-validation. Draw some conclusion regarding the dataset."
   ]
  },
  {
   "cell_type": "code",
   "execution_count": 8,
   "id": "774b4063",
   "metadata": {},
   "outputs": [
    {
     "data": {
      "text/plain": [
       "0.9671757969668834"
      ]
     },
     "execution_count": 8,
     "metadata": {},
     "output_type": "execute_result"
    }
   ],
   "source": [
    "# Write your code here.\n",
    "# Write your code here.\n",
    "from sklearn.model_selection import KFold, cross_validate\n",
    "\n",
    "cv = KFold(shuffle=True)\n",
    "cv_res = cross_validate(model, data, target, cv=cv)\n",
    "cv_res['test_score'].mean()"
   ]
  },
  {
   "cell_type": "markdown",
   "id": "ff232ad7",
   "metadata": {},
   "source": [
    "If the data ordering is not arbitrary (e.g. samples with the same class label are contiguous), shufﬂing it ﬁrst may be essential to get a meaningful cross- validation result. However, the opposite may be true if the samples are not independently and identically distributed."
   ]
  },
  {
   "cell_type": "code",
   "execution_count": null,
   "id": "3b1182e9",
   "metadata": {},
   "outputs": [],
   "source": []
  }
 ],
 "metadata": {
  "jupytext": {
   "cell_metadata_filter": "-all",
   "main_language": "python",
   "notebook_metadata_filter": "-all"
  },
  "kernelspec": {
   "display_name": "Python 3",
   "language": "python",
   "name": "python3"
  },
  "language_info": {
   "codemirror_mode": {
    "name": "ipython",
    "version": 3
   },
   "file_extension": ".py",
   "mimetype": "text/x-python",
   "name": "python",
   "nbconvert_exporter": "python",
   "pygments_lexer": "ipython3",
   "version": "3.9.2"
  },
  "nbreset": "https://github.com/INRIA/scikit-learn-mooc/raw/master/notebooks/cross_validation_ex_04.ipynb"
 },
 "nbformat": 4,
 "nbformat_minor": 5
}
