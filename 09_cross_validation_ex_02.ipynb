{
 "cells": [
  {
   "cell_type": "markdown",
   "id": "528c3ae9",
   "metadata": {},
   "source": [
    "# 📝 Exercise M7.01\n",
    "\n",
    "This notebook aims at building baseline classifiers, which we'll use to\n",
    "compare our predictive model. Besides, we will check the differences with\n",
    "the baselines that we saw in regression.\n",
    "\n",
    "We will use the adult census dataset, using only the numerical features."
   ]
  },
  {
   "cell_type": "code",
   "execution_count": 1,
   "id": "9c33f7af",
   "metadata": {},
   "outputs": [],
   "source": [
    "import pandas as pd\n",
    "\n",
    "adult_census = pd.read_csv(\"../datasets/adult-census-numeric-all.csv\")\n",
    "data, target = adult_census.drop(columns=\"class\"), adult_census[\"class\"]"
   ]
  },
  {
   "cell_type": "markdown",
   "id": "21ecf6a6",
   "metadata": {},
   "source": [
    "First, define a `ShuffleSplit` cross-validation strategy taking half of the\n",
    "sample as a testing at each round."
   ]
  },
  {
   "cell_type": "code",
   "execution_count": 2,
   "id": "ca0b7c8a",
   "metadata": {},
   "outputs": [],
   "source": [
    "# Write your code here.\n",
    "from sklearn.model_selection import ShuffleSplit"
   ]
  },
  {
   "cell_type": "code",
   "execution_count": 4,
   "id": "32054afc",
   "metadata": {},
   "outputs": [],
   "source": [
    "cv = ShuffleSplit(test_size=0.5, random_state=0)"
   ]
  },
  {
   "cell_type": "markdown",
   "id": "a5f7bf7d",
   "metadata": {},
   "source": [
    "Next, create a machine learning pipeline composed of a transformer to\n",
    "standardize the data followed by a logistic regression."
   ]
  },
  {
   "cell_type": "code",
   "execution_count": 5,
   "id": "9f18fdb7",
   "metadata": {},
   "outputs": [],
   "source": [
    "# Write your code here.\n",
    "from sklearn.pipeline import make_pipeline\n",
    "from sklearn.preprocessing import StandardScaler\n",
    "from sklearn.linear_model import LogisticRegression"
   ]
  },
  {
   "cell_type": "code",
   "execution_count": 7,
   "id": "0a72e58a",
   "metadata": {},
   "outputs": [],
   "source": [
    "model = make_pipeline(StandardScaler(), LogisticRegression())"
   ]
  },
  {
   "cell_type": "markdown",
   "id": "3759c864",
   "metadata": {},
   "source": [
    "Get the test score by using the model, the data, and the cross-validation\n",
    "strategy that you defined above."
   ]
  },
  {
   "cell_type": "code",
   "execution_count": 8,
   "id": "8917bee5",
   "metadata": {},
   "outputs": [],
   "source": [
    "# Write your code here.\n",
    "from sklearn.model_selection import cross_validate"
   ]
  },
  {
   "cell_type": "code",
   "execution_count": 9,
   "id": "e18f8b01",
   "metadata": {},
   "outputs": [],
   "source": [
    "cv_result = cross_validate(model, data, target, cv=cv)"
   ]
  },
  {
   "cell_type": "code",
   "execution_count": 11,
   "id": "17a11189",
   "metadata": {},
   "outputs": [
    {
     "data": {
      "text/plain": [
       "(0.8138323573973221, 0.001978039115770915)"
      ]
     },
     "execution_count": 11,
     "metadata": {},
     "output_type": "execute_result"
    }
   ],
   "source": [
    "cv_result['test_score'].mean(), cv_result['test_score'].std()"
   ]
  },
  {
   "cell_type": "code",
   "execution_count": 28,
   "id": "9770614c",
   "metadata": {},
   "outputs": [],
   "source": [
    "log_rgr = pd.DataFrame(cv_result['test_score'], columns=['log_rgr'])"
   ]
  },
  {
   "cell_type": "markdown",
   "id": "0729587f",
   "metadata": {},
   "source": [
    "Using the `sklearn.model_selection.permutation_test_score` function,\n",
    "check the chance level of the previous model."
   ]
  },
  {
   "cell_type": "code",
   "execution_count": 12,
   "id": "5f0d7095",
   "metadata": {},
   "outputs": [],
   "source": [
    "# Write your code here.\n",
    "from sklearn.model_selection import permutation_test_score"
   ]
  },
  {
   "cell_type": "code",
   "execution_count": 22,
   "id": "b6a02890",
   "metadata": {},
   "outputs": [],
   "source": [
    "perm_result = permutation_test_score(model, data, target, cv=cv, n_permutations=10, random_state=0)"
   ]
  },
  {
   "cell_type": "code",
   "execution_count": 31,
   "id": "0323b319",
   "metadata": {},
   "outputs": [
    {
     "data": {
      "text/plain": [
       "(0.8138323573973221,\n",
       " array([0.7601122 , 0.76123828, 0.76055035, 0.76139798, 0.76100078,\n",
       "        0.76119324, 0.76109086, 0.76092298, 0.76154949, 0.76044388]),\n",
       " 0.09090909090909091)"
      ]
     },
     "execution_count": 31,
     "metadata": {},
     "output_type": "execute_result"
    }
   ],
   "source": [
    "perm_result"
   ]
  },
  {
   "cell_type": "code",
   "execution_count": 32,
   "id": "12924ef8",
   "metadata": {},
   "outputs": [],
   "source": [
    "perm = pd.DataFrame(perm_result[1], columns=['perm'])"
   ]
  },
  {
   "cell_type": "markdown",
   "id": "c09adc94",
   "metadata": {},
   "source": [
    "Finally, compute the test score of a dummy classifier which would predict\n",
    "the most frequent class from the training set. You can look at the\n",
    "`sklearn.dummy.DummyClassifier` class."
   ]
  },
  {
   "cell_type": "code",
   "execution_count": 16,
   "id": "f3860e67",
   "metadata": {},
   "outputs": [],
   "source": [
    "# Write your code here.\n",
    "from sklearn.dummy import DummyClassifier"
   ]
  },
  {
   "cell_type": "code",
   "execution_count": 18,
   "id": "9a4f59f8",
   "metadata": {},
   "outputs": [],
   "source": [
    "model_dummy = DummyClassifier(strategy='most_frequent')"
   ]
  },
  {
   "cell_type": "code",
   "execution_count": 19,
   "id": "0adc0b0f",
   "metadata": {},
   "outputs": [],
   "source": [
    "cv_result_dummy = cross_validate(model_dummy, data, target, cv=cv)"
   ]
  },
  {
   "cell_type": "code",
   "execution_count": 20,
   "id": "57259751",
   "metadata": {},
   "outputs": [
    {
     "data": {
      "text/plain": [
       "0.7600221121166209"
      ]
     },
     "execution_count": 20,
     "metadata": {},
     "output_type": "execute_result"
    }
   ],
   "source": [
    "cv_result_dummy['test_score'].mean()"
   ]
  },
  {
   "cell_type": "code",
   "execution_count": 29,
   "id": "ee99d41d",
   "metadata": {},
   "outputs": [],
   "source": [
    "dummy_clf = pd.DataFrame(cv_result_dummy['test_score'], columns=['dummy_clf'])"
   ]
  },
  {
   "cell_type": "markdown",
   "id": "ffa9e1ca",
   "metadata": {},
   "source": [
    "Now that we collected the results from the baselines and the model, plot\n",
    "the distributions of the different test scores."
   ]
  },
  {
   "cell_type": "markdown",
   "id": "915f4c70",
   "metadata": {},
   "source": [
    "We concatenate the different test score in the same pandas dataframe."
   ]
  },
  {
   "cell_type": "code",
   "execution_count": 36,
   "id": "1a94c6cd",
   "metadata": {},
   "outputs": [],
   "source": [
    "pd.concat?"
   ]
  },
  {
   "cell_type": "code",
   "execution_count": 50,
   "id": "446c4354",
   "metadata": {},
   "outputs": [],
   "source": [
    "# Write your code here.\n",
    "res = pd.concat([log_rgr,perm,dummy_clf], axis=1)"
   ]
  },
  {
   "cell_type": "code",
   "execution_count": 51,
   "id": "bf3e0404",
   "metadata": {},
   "outputs": [
    {
     "data": {
      "text/html": [
       "<div>\n",
       "<style scoped>\n",
       "    .dataframe tbody tr th:only-of-type {\n",
       "        vertical-align: middle;\n",
       "    }\n",
       "\n",
       "    .dataframe tbody tr th {\n",
       "        vertical-align: top;\n",
       "    }\n",
       "\n",
       "    .dataframe thead th {\n",
       "        text-align: right;\n",
       "    }\n",
       "</style>\n",
       "<table border=\"1\" class=\"dataframe\">\n",
       "  <thead>\n",
       "    <tr style=\"text-align: right;\">\n",
       "      <th></th>\n",
       "      <th>log_rgr</th>\n",
       "      <th>perm</th>\n",
       "      <th>dummy_clf</th>\n",
       "    </tr>\n",
       "  </thead>\n",
       "  <tbody>\n",
       "    <tr>\n",
       "      <th>0</th>\n",
       "      <td>0.815937</td>\n",
       "      <td>0.760112</td>\n",
       "      <td>0.760329</td>\n",
       "    </tr>\n",
       "    <tr>\n",
       "      <th>1</th>\n",
       "      <td>0.813849</td>\n",
       "      <td>0.761238</td>\n",
       "      <td>0.756808</td>\n",
       "    </tr>\n",
       "    <tr>\n",
       "      <th>2</th>\n",
       "      <td>0.815036</td>\n",
       "      <td>0.760550</td>\n",
       "      <td>0.759142</td>\n",
       "    </tr>\n",
       "    <tr>\n",
       "      <th>3</th>\n",
       "      <td>0.815569</td>\n",
       "      <td>0.761398</td>\n",
       "      <td>0.760739</td>\n",
       "    </tr>\n",
       "    <tr>\n",
       "      <th>4</th>\n",
       "      <td>0.810982</td>\n",
       "      <td>0.761001</td>\n",
       "      <td>0.761681</td>\n",
       "    </tr>\n",
       "    <tr>\n",
       "      <th>5</th>\n",
       "      <td>0.814709</td>\n",
       "      <td>0.761193</td>\n",
       "      <td>0.761885</td>\n",
       "    </tr>\n",
       "    <tr>\n",
       "      <th>6</th>\n",
       "      <td>0.813112</td>\n",
       "      <td>0.761091</td>\n",
       "      <td>0.757463</td>\n",
       "    </tr>\n",
       "    <tr>\n",
       "      <th>7</th>\n",
       "      <td>0.810327</td>\n",
       "      <td>0.760923</td>\n",
       "      <td>0.757176</td>\n",
       "    </tr>\n",
       "    <tr>\n",
       "      <th>8</th>\n",
       "      <td>0.812416</td>\n",
       "      <td>0.761549</td>\n",
       "      <td>0.761885</td>\n",
       "    </tr>\n",
       "    <tr>\n",
       "      <th>9</th>\n",
       "      <td>0.816388</td>\n",
       "      <td>0.760444</td>\n",
       "      <td>0.763114</td>\n",
       "    </tr>\n",
       "  </tbody>\n",
       "</table>\n",
       "</div>"
      ],
      "text/plain": [
       "    log_rgr      perm  dummy_clf\n",
       "0  0.815937  0.760112   0.760329\n",
       "1  0.813849  0.761238   0.756808\n",
       "2  0.815036  0.760550   0.759142\n",
       "3  0.815569  0.761398   0.760739\n",
       "4  0.810982  0.761001   0.761681\n",
       "5  0.814709  0.761193   0.761885\n",
       "6  0.813112  0.761091   0.757463\n",
       "7  0.810327  0.760923   0.757176\n",
       "8  0.812416  0.761549   0.761885\n",
       "9  0.816388  0.760444   0.763114"
      ]
     },
     "execution_count": 51,
     "metadata": {},
     "output_type": "execute_result"
    }
   ],
   "source": [
    "res"
   ]
  },
  {
   "cell_type": "markdown",
   "id": "07e0260f",
   "metadata": {},
   "source": [
    "Next, plot the distributions of the test scores."
   ]
  },
  {
   "cell_type": "code",
   "execution_count": 53,
   "id": "6a4429b8",
   "metadata": {},
   "outputs": [
    {
     "data": {
      "text/plain": [
       "<matplotlib.legend.Legend at 0x7f63dceaaf40>"
      ]
     },
     "execution_count": 53,
     "metadata": {},
     "output_type": "execute_result"
    },
    {
     "data": {
      "image/png": "[encoded data removed]",
      "text/plain": [
       "<Figure size 432x288 with 1 Axes>"
      ]
     },
     "metadata": {
      "needs_background": "light"
     },
     "output_type": "display_data"
    }
   ],
   "source": [
    "# Write your code here.\n",
    "ax = res.plot.hist(bins=50, density=True, edgecolor=\"black\")\n",
    "ax.legend(bbox_to_anchor=(1.05,1))"
   ]
  },
  {
   "cell_type": "markdown",
   "id": "eb4041de",
   "metadata": {},
   "source": [
    "Change the strategy of the dummy classifier to `stratified`, compute the\n",
    "results and plot the distribution together with the other results. Explain\n",
    "why the results get worse."
   ]
  },
  {
   "cell_type": "code",
   "execution_count": 46,
   "id": "f46af0f0",
   "metadata": {},
   "outputs": [
    {
     "data": {
      "text/plain": [
       "0.635772490888989"
      ]
     },
     "execution_count": 46,
     "metadata": {},
     "output_type": "execute_result"
    }
   ],
   "source": [
    "# Write your code here.\n",
    "model_dummy2 = DummyClassifier(strategy='stratified')\n",
    "cv_result_dummy2 = cross_validate(model_dummy2, data, target, cv=cv)\n",
    "cv_result_dummy2['test_score'].mean()"
   ]
  },
  {
   "cell_type": "code",
   "execution_count": 47,
   "id": "02daaaeb",
   "metadata": {},
   "outputs": [],
   "source": [
    "dummy_clf2 = pd.DataFrame(cv_result_dummy2['test_score'], columns=['dummy_clf2'])"
   ]
  },
  {
   "cell_type": "code",
   "execution_count": 55,
   "id": "b4c6429b",
   "metadata": {},
   "outputs": [],
   "source": [
    "# Write your code here.\n",
    "res = pd.concat([log_rgr,perm,dummy_clf,dummy_clf2], axis=1)"
   ]
  },
  {
   "cell_type": "code",
   "execution_count": 56,
   "id": "5cbc92be",
   "metadata": {},
   "outputs": [
    {
     "data": {
      "text/plain": [
       "<matplotlib.legend.Legend at 0x7f63dcb44eb0>"
      ]
     },
     "execution_count": 56,
     "metadata": {},
     "output_type": "execute_result"
    },
    {
     "data": {
      "image/png": "[encoded data removed]",
      "text/plain": [
       "<Figure size 432x288 with 1 Axes>"
      ]
     },
     "metadata": {
      "needs_background": "light"
     },
     "output_type": "display_data"
    }
   ],
   "source": [
    "# Write your code here.\n",
    "ax = res.plot.hist(bins=50, density=True, edgecolor=\"black\")\n",
    "ax.legend(bbox_to_anchor=(1.05,1))"
   ]
  },
  {
   "cell_type": "markdown",
   "id": "d188ad1d",
   "metadata": {},
   "source": [
    "We see that using strategy=\"stratified\", the results are much worse than with the most_frequent strategy. Since the classes are imbalanced, predicting the most frequent involves that we will be right for the proportion of this class (~75% of the samples). However, by using the stratified strategy, wrong predictions will be made even for the most frequent class, hence we obtain a lower accuracy."
   ]
  },
  {
   "cell_type": "code",
   "execution_count": null,
   "id": "b04b175b",
   "metadata": {},
   "outputs": [],
   "source": []
  }
 ],
 "metadata": {
  "jupytext": {
   "cell_metadata_filter": "-all",
   "main_language": "python",
   "notebook_metadata_filter": "-all"
  },
  "kernelspec": {
   "display_name": "Python 3",
   "language": "python",
   "name": "python3"
  },
  "language_info": {
   "codemirror_mode": {
    "name": "ipython",
    "version": 3
   },
   "file_extension": ".py",
   "mimetype": "text/x-python",
   "name": "python",
   "nbconvert_exporter": "python",
   "pygments_lexer": "ipython3",
   "version": "3.9.2"
  },
  "nbreset": "https://github.com/INRIA/scikit-learn-mooc/raw/master/notebooks/cross_validation_ex_02.ipynb"
 },
 "nbformat": 4,
 "nbformat_minor": 5
}
