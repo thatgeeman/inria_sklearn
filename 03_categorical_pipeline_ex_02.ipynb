{
 "cells": [
  {
   "cell_type": "markdown",
   "id": "63609f79",
   "metadata": {},
   "source": [
    "# 📝 Exercise M1.05\n",
    "\n",
    "The goal of this exercise is to evaluate the impact of feature preprocessing\n",
    "on a pipeline that uses a decision-tree-based classifier instead of logistic\n",
    "regression.\n",
    "\n",
    "- The first question is to empirically evaluate whether scaling numerical\n",
    "  feature is helpful or not;\n",
    "- The second question is to evaluate whether it is empirically better (both\n",
    "  from a computational and a statistical perspective) to use integer coded or\n",
    "  one-hot encoded categories."
   ]
  },
  {
   "cell_type": "code",
   "execution_count": 1,
   "id": "64cb829c",
   "metadata": {},
   "outputs": [],
   "source": [
    "import pandas as pd\n",
    "\n",
    "adult_census = pd.read_csv(\"../datasets/adult-census.csv\")"
   ]
  },
  {
   "cell_type": "code",
   "execution_count": 2,
   "id": "136342aa",
   "metadata": {},
   "outputs": [],
   "source": [
    "target_name = \"class\"\n",
    "target = adult_census[target_name]\n",
    "data = adult_census.drop(columns=[target_name, \"education-num\"])"
   ]
  },
  {
   "cell_type": "markdown",
   "id": "fcecbe88",
   "metadata": {},
   "source": [
    "As in the previous notebooks, we use the utility `make_column_selector`\n",
    "to only select column with a specific data type. Besides, we list in\n",
    "advance all categories for the categorical columns."
   ]
  },
  {
   "cell_type": "code",
   "execution_count": 3,
   "id": "cd965231",
   "metadata": {},
   "outputs": [],
   "source": [
    "from sklearn.compose import make_column_selector as selector\n",
    "\n",
    "numerical_columns_selector = selector(dtype_exclude=object)\n",
    "categorical_columns_selector = selector(dtype_include=object)\n",
    "numerical_columns = numerical_columns_selector(data)\n",
    "categorical_columns = categorical_columns_selector(data)"
   ]
  },
  {
   "cell_type": "markdown",
   "id": "81b2c46f",
   "metadata": {},
   "source": [
    "## Reference pipeline (no numerical scaling and integer-coded categories)\n",
    "\n",
    "First let's time the pipeline we used in the main notebook to serve as a\n",
    "reference:"
   ]
  },
  {
   "cell_type": "code",
   "execution_count": 4,
   "id": "47f37aa7",
   "metadata": {},
   "outputs": [
    {
     "name": "stdout",
     "output_type": "stream",
     "text": [
      "The mean cross-validation accuracy is: 0.874 +/- 0.002\n",
      "CPU times: user 12.4 s, sys: 139 ms, total: 12.5 s\n",
      "Wall time: 3.73 s\n"
     ]
    }
   ],
   "source": [
    "%%time\n",
    "from sklearn.model_selection import cross_validate\n",
    "from sklearn.pipeline import make_pipeline\n",
    "from sklearn.compose import ColumnTransformer\n",
    "from sklearn.preprocessing import OrdinalEncoder\n",
    "from sklearn.experimental import enable_hist_gradient_boosting\n",
    "from sklearn.ensemble import HistGradientBoostingClassifier\n",
    "\n",
    "categorical_preprocessor = OrdinalEncoder(handle_unknown=\"use_encoded_value\",\n",
    "                                          unknown_value=-1)\n",
    "preprocessor = ColumnTransformer([\n",
    "    ('categorical', categorical_preprocessor, categorical_columns)],\n",
    "    remainder=\"passthrough\")\n",
    "\n",
    "model = make_pipeline(preprocessor, HistGradientBoostingClassifier())\n",
    "cv_results = cross_validate(model, data, target)\n",
    "scores = cv_results[\"test_score\"]\n",
    "print(\"The mean cross-validation accuracy is: \"\n",
    "      f\"{scores.mean():.3f} +/- {scores.std():.3f}\")"
   ]
  },
  {
   "cell_type": "markdown",
   "id": "dc543af0",
   "metadata": {},
   "source": [
    "## Scaling numerical features\n",
    "\n",
    "Let's write a similar pipeline that also scales the numerical features using\n",
    "`StandardScaler` (or similar):"
   ]
  },
  {
   "cell_type": "code",
   "execution_count": 6,
   "id": "5ef15f97",
   "metadata": {},
   "outputs": [
    {
     "name": "stdout",
     "output_type": "stream",
     "text": [
      "CPU times: user 142 µs, sys: 6 µs, total: 148 µs\n",
      "Wall time: 151 µs\n"
     ]
    }
   ],
   "source": [
    "%%time\n",
    "# Write your code here.\n",
    "from sklearn.preprocessing import StandardScaler\n",
    "categorical_preprocessor = OrdinalEncoder(handle_unknown=\"use_encoded_value\",\n",
    "                                          unknown_value=-1)\n",
    "numerical_preprocessor = StandardScaler()\n",
    "\n",
    "preprocessor = ColumnTransformer([\n",
    "    ('categorical', categorical_preprocessor, categorical_columns),\n",
    "    ('numerical',numerical_preprocessor, numerical_columns)],\n",
    "    remainder=\"passthrough\")\n",
    "\n",
    "model = make_pipeline(preprocessor, HistGradientBoostingClassifier())"
   ]
  },
  {
   "cell_type": "code",
   "execution_count": 8,
   "id": "46a9791c",
   "metadata": {},
   "outputs": [
    {
     "data": {
      "text/html": [
       "<style>#sk-7b0eb153-e792-457c-8c68-961fe646af56 {color: black;background-color: white;}#sk-7b0eb153-e792-457c-8c68-961fe646af56 pre{padding: 0;}#sk-7b0eb153-e792-457c-8c68-961fe646af56 div.sk-toggleable {background-color: white;}#sk-7b0eb153-e792-457c-8c68-961fe646af56 label.sk-toggleable__label {cursor: pointer;display: block;width: 100%;margin-bottom: 0;padding: 0.2em 0.3em;box-sizing: border-box;text-align: center;}#sk-7b0eb153-e792-457c-8c68-961fe646af56 div.sk-toggleable__content {max-height: 0;max-width: 0;overflow: hidden;text-align: left;background-color: #f0f8ff;}#sk-7b0eb153-e792-457c-8c68-961fe646af56 div.sk-toggleable__content pre {margin: 0.2em;color: black;border-radius: 0.25em;background-color: #f0f8ff;}#sk-7b0eb153-e792-457c-8c68-961fe646af56 input.sk-toggleable__control:checked~div.sk-toggleable__content {max-height: 200px;max-width: 100%;overflow: auto;}#sk-7b0eb153-e792-457c-8c68-961fe646af56 div.sk-estimator input.sk-toggleable__control:checked~label.sk-toggleable__label {background-color: #d4ebff;}#sk-7b0eb153-e792-457c-8c68-961fe646af56 div.sk-label input.sk-toggleable__control:checked~label.sk-toggleable__label {background-color: #d4ebff;}#sk-7b0eb153-e792-457c-8c68-961fe646af56 input.sk-hidden--visually {border: 0;clip: rect(1px 1px 1px 1px);clip: rect(1px, 1px, 1px, 1px);height: 1px;margin: -1px;overflow: hidden;padding: 0;position: absolute;width: 1px;}#sk-7b0eb153-e792-457c-8c68-961fe646af56 div.sk-estimator {font-family: monospace;background-color: #f0f8ff;margin: 0.25em 0.25em;border: 1px dotted black;border-radius: 0.25em;box-sizing: border-box;}#sk-7b0eb153-e792-457c-8c68-961fe646af56 div.sk-estimator:hover {background-color: #d4ebff;}#sk-7b0eb153-e792-457c-8c68-961fe646af56 div.sk-parallel-item::after {content: \"\";width: 100%;border-bottom: 1px solid gray;flex-grow: 1;}#sk-7b0eb153-e792-457c-8c68-961fe646af56 div.sk-label:hover label.sk-toggleable__label {background-color: #d4ebff;}#sk-7b0eb153-e792-457c-8c68-961fe646af56 div.sk-serial::before {content: \"\";position: absolute;border-left: 1px solid gray;box-sizing: border-box;top: 2em;bottom: 0;left: 50%;}#sk-7b0eb153-e792-457c-8c68-961fe646af56 div.sk-serial {display: flex;flex-direction: column;align-items: center;background-color: white;}#sk-7b0eb153-e792-457c-8c68-961fe646af56 div.sk-item {z-index: 1;}#sk-7b0eb153-e792-457c-8c68-961fe646af56 div.sk-parallel {display: flex;align-items: stretch;justify-content: center;background-color: white;}#sk-7b0eb153-e792-457c-8c68-961fe646af56 div.sk-parallel-item {display: flex;flex-direction: column;position: relative;background-color: white;}#sk-7b0eb153-e792-457c-8c68-961fe646af56 div.sk-parallel-item:first-child::after {align-self: flex-end;width: 50%;}#sk-7b0eb153-e792-457c-8c68-961fe646af56 div.sk-parallel-item:last-child::after {align-self: flex-start;width: 50%;}#sk-7b0eb153-e792-457c-8c68-961fe646af56 div.sk-parallel-item:only-child::after {width: 0;}#sk-7b0eb153-e792-457c-8c68-961fe646af56 div.sk-dashed-wrapped {border: 1px dashed gray;margin: 0.2em;box-sizing: border-box;padding-bottom: 0.1em;background-color: white;position: relative;}#sk-7b0eb153-e792-457c-8c68-961fe646af56 div.sk-label label {font-family: monospace;font-weight: bold;background-color: white;display: inline-block;line-height: 1.2em;}#sk-7b0eb153-e792-457c-8c68-961fe646af56 div.sk-label-container {position: relative;z-index: 2;text-align: center;}#sk-7b0eb153-e792-457c-8c68-961fe646af56 div.sk-container {display: inline-block;position: relative;}</style><div id=\"sk-7b0eb153-e792-457c-8c68-961fe646af56\" class\"sk-top-container\"><div class=\"sk-container\"><div class=\"sk-item sk-dashed-wrapped\"><div class=\"sk-label-container\"><div class=\"sk-label sk-toggleable\"><input class=\"sk-toggleable__control sk-hidden--visually\" id=\"b7370338-1167-4a8a-89a9-683a91c53114\" type=\"checkbox\" ><label class=\"sk-toggleable__label\" for=\"b7370338-1167-4a8a-89a9-683a91c53114\">Pipeline</label><div class=\"sk-toggleable__content\"><pre>Pipeline(steps=[('columntransformer',\n",
       "                 ColumnTransformer(remainder='passthrough',\n",
       "                                   transformers=[('categorical',\n",
       "                                                  OrdinalEncoder(handle_unknown='use_encoded_value',\n",
       "                                                                 unknown_value=-1),\n",
       "                                                  ['workclass', 'education',\n",
       "                                                   'marital-status',\n",
       "                                                   'occupation', 'relationship',\n",
       "                                                   'race', 'sex',\n",
       "                                                   'native-country']),\n",
       "                                                 ('numerical', StandardScaler(),\n",
       "                                                  ['age', 'capital-gain',\n",
       "                                                   'capital-loss',\n",
       "                                                   'hours-per-week'])])),\n",
       "                ('histgradientboostingclassifier',\n",
       "                 HistGradientBoostingClassifier())])</pre></div></div></div><div class=\"sk-serial\"><div class=\"sk-item sk-dashed-wrapped\"><div class=\"sk-label-container\"><div class=\"sk-label sk-toggleable\"><input class=\"sk-toggleable__control sk-hidden--visually\" id=\"96bf2a64-05db-4a3b-9c59-942eed78213b\" type=\"checkbox\" ><label class=\"sk-toggleable__label\" for=\"96bf2a64-05db-4a3b-9c59-942eed78213b\">columntransformer: ColumnTransformer</label><div class=\"sk-toggleable__content\"><pre>ColumnTransformer(remainder='passthrough',\n",
       "                  transformers=[('categorical',\n",
       "                                 OrdinalEncoder(handle_unknown='use_encoded_value',\n",
       "                                                unknown_value=-1),\n",
       "                                 ['workclass', 'education', 'marital-status',\n",
       "                                  'occupation', 'relationship', 'race', 'sex',\n",
       "                                  'native-country']),\n",
       "                                ('numerical', StandardScaler(),\n",
       "                                 ['age', 'capital-gain', 'capital-loss',\n",
       "                                  'hours-per-week'])])</pre></div></div></div><div class=\"sk-parallel\"><div class=\"sk-parallel-item\"><div class=\"sk-item\"><div class=\"sk-label-container\"><div class=\"sk-label sk-toggleable\"><input class=\"sk-toggleable__control sk-hidden--visually\" id=\"503c8a34-3695-42b4-9762-5b46f5f40768\" type=\"checkbox\" ><label class=\"sk-toggleable__label\" for=\"503c8a34-3695-42b4-9762-5b46f5f40768\">categorical</label><div class=\"sk-toggleable__content\"><pre>['workclass', 'education', 'marital-status', 'occupation', 'relationship', 'race', 'sex', 'native-country']</pre></div></div></div><div class=\"sk-serial\"><div class=\"sk-item\"><div class=\"sk-estimator sk-toggleable\"><input class=\"sk-toggleable__control sk-hidden--visually\" id=\"0180a74d-173d-4da1-9b61-b7d81fb45230\" type=\"checkbox\" ><label class=\"sk-toggleable__label\" for=\"0180a74d-173d-4da1-9b61-b7d81fb45230\">OrdinalEncoder</label><div class=\"sk-toggleable__content\"><pre>OrdinalEncoder(handle_unknown='use_encoded_value', unknown_value=-1)</pre></div></div></div></div></div></div><div class=\"sk-parallel-item\"><div class=\"sk-item\"><div class=\"sk-label-container\"><div class=\"sk-label sk-toggleable\"><input class=\"sk-toggleable__control sk-hidden--visually\" id=\"ca513dfe-ac96-4f63-bb5f-19f524238f83\" type=\"checkbox\" ><label class=\"sk-toggleable__label\" for=\"ca513dfe-ac96-4f63-bb5f-19f524238f83\">numerical</label><div class=\"sk-toggleable__content\"><pre>['age', 'capital-gain', 'capital-loss', 'hours-per-week']</pre></div></div></div><div class=\"sk-serial\"><div class=\"sk-item\"><div class=\"sk-estimator sk-toggleable\"><input class=\"sk-toggleable__control sk-hidden--visually\" id=\"690cbb2e-214e-4e45-b34c-3fbe22d01b05\" type=\"checkbox\" ><label class=\"sk-toggleable__label\" for=\"690cbb2e-214e-4e45-b34c-3fbe22d01b05\">StandardScaler</label><div class=\"sk-toggleable__content\"><pre>StandardScaler()</pre></div></div></div></div></div></div><div class=\"sk-parallel-item\"><div class=\"sk-item\"><div class=\"sk-label-container\"><div class=\"sk-label sk-toggleable\"><input class=\"sk-toggleable__control sk-hidden--visually\" id=\"d0ce8c8d-8e51-4bf1-8889-5a53bda0f6d4\" type=\"checkbox\" ><label class=\"sk-toggleable__label\" for=\"d0ce8c8d-8e51-4bf1-8889-5a53bda0f6d4\">remainder</label><div class=\"sk-toggleable__content\"><pre></pre></div></div></div><div class=\"sk-serial\"><div class=\"sk-item\"><div class=\"sk-estimator sk-toggleable\"><input class=\"sk-toggleable__control sk-hidden--visually\" id=\"ee9a1a8b-b01a-4514-a6d0-3c560bcf9860\" type=\"checkbox\" ><label class=\"sk-toggleable__label\" for=\"ee9a1a8b-b01a-4514-a6d0-3c560bcf9860\">passthrough</label><div class=\"sk-toggleable__content\"><pre>passthrough</pre></div></div></div></div></div></div></div></div><div class=\"sk-item\"><div class=\"sk-estimator sk-toggleable\"><input class=\"sk-toggleable__control sk-hidden--visually\" id=\"7696c559-45fb-46cf-9797-9ed98297fd2c\" type=\"checkbox\" ><label class=\"sk-toggleable__label\" for=\"7696c559-45fb-46cf-9797-9ed98297fd2c\">HistGradientBoostingClassifier</label><div class=\"sk-toggleable__content\"><pre>HistGradientBoostingClassifier()</pre></div></div></div></div></div></div></div>"
      ],
      "text/plain": [
       "Pipeline(steps=[('columntransformer',\n",
       "                 ColumnTransformer(remainder='passthrough',\n",
       "                                   transformers=[('categorical',\n",
       "                                                  OrdinalEncoder(handle_unknown='use_encoded_value',\n",
       "                                                                 unknown_value=-1),\n",
       "                                                  ['workclass', 'education',\n",
       "                                                   'marital-status',\n",
       "                                                   'occupation', 'relationship',\n",
       "                                                   'race', 'sex',\n",
       "                                                   'native-country']),\n",
       "                                                 ('numerical', StandardScaler(),\n",
       "                                                  ['age', 'capital-gain',\n",
       "                                                   'capital-loss',\n",
       "                                                   'hours-per-week'])])),\n",
       "                ('histgradientboostingclassifier',\n",
       "                 HistGradientBoostingClassifier())])"
      ]
     },
     "execution_count": 8,
     "metadata": {},
     "output_type": "execute_result"
    }
   ],
   "source": [
    "from sklearn import set_config\n",
    "set_config(display='diagram')\n",
    "model"
   ]
  },
  {
   "cell_type": "code",
   "execution_count": 9,
   "id": "57c68279",
   "metadata": {},
   "outputs": [
    {
     "name": "stdout",
     "output_type": "stream",
     "text": [
      "The mean cross-validation accuracy is: 0.873 +/- 0.003\n"
     ]
    }
   ],
   "source": [
    "cv_results = cross_validate(model, data, target)\n",
    "scores = cv_results[\"test_score\"]\n",
    "print(\"The mean cross-validation accuracy is: \"\n",
    "      f\"{scores.mean():.3f} +/- {scores.std():.3f}\")"
   ]
  },
  {
   "cell_type": "markdown",
   "id": "63090380",
   "metadata": {},
   "source": [
    "## One-hot encoding of categorical variables\n",
    "\n",
    "For linear models, we have observed that integer coding of categorical\n",
    "variables can be very detrimental. However for\n",
    "`HistGradientBoostingClassifier` models, it does not seem to be the case as\n",
    "the cross-validation of the reference pipeline with `OrdinalEncoder` is good.\n",
    "\n",
    "Let's see if we can get an even better accuracy with `OneHotEncoder`.\n",
    "\n",
    "Hint: `HistGradientBoostingClassifier` does not yet support sparse input\n",
    "data. You might want to use\n",
    "`OneHotEncoder(handle_unknown=\"ignore\", sparse=False)` to force the use of a\n",
    "dense representation as a workaround."
   ]
  },
  {
   "cell_type": "code",
   "execution_count": 11,
   "id": "e672fd4c",
   "metadata": {},
   "outputs": [
    {
     "name": "stdout",
     "output_type": "stream",
     "text": [
      "CPU times: user 142 µs, sys: 4 µs, total: 146 µs\n",
      "Wall time: 149 µs\n"
     ]
    }
   ],
   "source": [
    "%%time\n",
    "# Write your code here.\n",
    "from sklearn.preprocessing import OneHotEncoder\n",
    "categorical_preprocessor = OneHotEncoder(handle_unknown=\"ignore\",\n",
    "                                          sparse=False)\n",
    "numerical_preprocessor = StandardScaler()\n",
    "\n",
    "preprocessor = ColumnTransformer([\n",
    "    ('categorical', categorical_preprocessor, categorical_columns),\n",
    "    ('numerical',numerical_preprocessor, numerical_columns)],\n",
    "    remainder=\"passthrough\")\n",
    "\n",
    "model = make_pipeline(preprocessor, HistGradientBoostingClassifier())"
   ]
  },
  {
   "cell_type": "code",
   "execution_count": 12,
   "id": "ab3effd8",
   "metadata": {},
   "outputs": [
    {
     "data": {
      "text/html": [
       "<style>#sk-79bdedea-2e26-4396-bb36-ee9457e4bfb8 {color: black;background-color: white;}#sk-79bdedea-2e26-4396-bb36-ee9457e4bfb8 pre{padding: 0;}#sk-79bdedea-2e26-4396-bb36-ee9457e4bfb8 div.sk-toggleable {background-color: white;}#sk-79bdedea-2e26-4396-bb36-ee9457e4bfb8 label.sk-toggleable__label {cursor: pointer;display: block;width: 100%;margin-bottom: 0;padding: 0.2em 0.3em;box-sizing: border-box;text-align: center;}#sk-79bdedea-2e26-4396-bb36-ee9457e4bfb8 div.sk-toggleable__content {max-height: 0;max-width: 0;overflow: hidden;text-align: left;background-color: #f0f8ff;}#sk-79bdedea-2e26-4396-bb36-ee9457e4bfb8 div.sk-toggleable__content pre {margin: 0.2em;color: black;border-radius: 0.25em;background-color: #f0f8ff;}#sk-79bdedea-2e26-4396-bb36-ee9457e4bfb8 input.sk-toggleable__control:checked~div.sk-toggleable__content {max-height: 200px;max-width: 100%;overflow: auto;}#sk-79bdedea-2e26-4396-bb36-ee9457e4bfb8 div.sk-estimator input.sk-toggleable__control:checked~label.sk-toggleable__label {background-color: #d4ebff;}#sk-79bdedea-2e26-4396-bb36-ee9457e4bfb8 div.sk-label input.sk-toggleable__control:checked~label.sk-toggleable__label {background-color: #d4ebff;}#sk-79bdedea-2e26-4396-bb36-ee9457e4bfb8 input.sk-hidden--visually {border: 0;clip: rect(1px 1px 1px 1px);clip: rect(1px, 1px, 1px, 1px);height: 1px;margin: -1px;overflow: hidden;padding: 0;position: absolute;width: 1px;}#sk-79bdedea-2e26-4396-bb36-ee9457e4bfb8 div.sk-estimator {font-family: monospace;background-color: #f0f8ff;margin: 0.25em 0.25em;border: 1px dotted black;border-radius: 0.25em;box-sizing: border-box;}#sk-79bdedea-2e26-4396-bb36-ee9457e4bfb8 div.sk-estimator:hover {background-color: #d4ebff;}#sk-79bdedea-2e26-4396-bb36-ee9457e4bfb8 div.sk-parallel-item::after {content: \"\";width: 100%;border-bottom: 1px solid gray;flex-grow: 1;}#sk-79bdedea-2e26-4396-bb36-ee9457e4bfb8 div.sk-label:hover label.sk-toggleable__label {background-color: #d4ebff;}#sk-79bdedea-2e26-4396-bb36-ee9457e4bfb8 div.sk-serial::before {content: \"\";position: absolute;border-left: 1px solid gray;box-sizing: border-box;top: 2em;bottom: 0;left: 50%;}#sk-79bdedea-2e26-4396-bb36-ee9457e4bfb8 div.sk-serial {display: flex;flex-direction: column;align-items: center;background-color: white;}#sk-79bdedea-2e26-4396-bb36-ee9457e4bfb8 div.sk-item {z-index: 1;}#sk-79bdedea-2e26-4396-bb36-ee9457e4bfb8 div.sk-parallel {display: flex;align-items: stretch;justify-content: center;background-color: white;}#sk-79bdedea-2e26-4396-bb36-ee9457e4bfb8 div.sk-parallel-item {display: flex;flex-direction: column;position: relative;background-color: white;}#sk-79bdedea-2e26-4396-bb36-ee9457e4bfb8 div.sk-parallel-item:first-child::after {align-self: flex-end;width: 50%;}#sk-79bdedea-2e26-4396-bb36-ee9457e4bfb8 div.sk-parallel-item:last-child::after {align-self: flex-start;width: 50%;}#sk-79bdedea-2e26-4396-bb36-ee9457e4bfb8 div.sk-parallel-item:only-child::after {width: 0;}#sk-79bdedea-2e26-4396-bb36-ee9457e4bfb8 div.sk-dashed-wrapped {border: 1px dashed gray;margin: 0.2em;box-sizing: border-box;padding-bottom: 0.1em;background-color: white;position: relative;}#sk-79bdedea-2e26-4396-bb36-ee9457e4bfb8 div.sk-label label {font-family: monospace;font-weight: bold;background-color: white;display: inline-block;line-height: 1.2em;}#sk-79bdedea-2e26-4396-bb36-ee9457e4bfb8 div.sk-label-container {position: relative;z-index: 2;text-align: center;}#sk-79bdedea-2e26-4396-bb36-ee9457e4bfb8 div.sk-container {display: inline-block;position: relative;}</style><div id=\"sk-79bdedea-2e26-4396-bb36-ee9457e4bfb8\" class\"sk-top-container\"><div class=\"sk-container\"><div class=\"sk-item sk-dashed-wrapped\"><div class=\"sk-label-container\"><div class=\"sk-label sk-toggleable\"><input class=\"sk-toggleable__control sk-hidden--visually\" id=\"86ee8610-2fac-4f94-a8a4-ffb4d33d2cee\" type=\"checkbox\" ><label class=\"sk-toggleable__label\" for=\"86ee8610-2fac-4f94-a8a4-ffb4d33d2cee\">Pipeline</label><div class=\"sk-toggleable__content\"><pre>Pipeline(steps=[('columntransformer',\n",
       "                 ColumnTransformer(remainder='passthrough',\n",
       "                                   transformers=[('categorical',\n",
       "                                                  OneHotEncoder(handle_unknown='ignore',\n",
       "                                                                sparse=False),\n",
       "                                                  ['workclass', 'education',\n",
       "                                                   'marital-status',\n",
       "                                                   'occupation', 'relationship',\n",
       "                                                   'race', 'sex',\n",
       "                                                   'native-country']),\n",
       "                                                 ('numerical', StandardScaler(),\n",
       "                                                  ['age', 'capital-gain',\n",
       "                                                   'capital-loss',\n",
       "                                                   'hours-per-week'])])),\n",
       "                ('histgradientboostingclassifier',\n",
       "                 HistGradientBoostingClassifier())])</pre></div></div></div><div class=\"sk-serial\"><div class=\"sk-item sk-dashed-wrapped\"><div class=\"sk-label-container\"><div class=\"sk-label sk-toggleable\"><input class=\"sk-toggleable__control sk-hidden--visually\" id=\"81a84865-37f5-4e40-b676-cee7158097ec\" type=\"checkbox\" ><label class=\"sk-toggleable__label\" for=\"81a84865-37f5-4e40-b676-cee7158097ec\">columntransformer: ColumnTransformer</label><div class=\"sk-toggleable__content\"><pre>ColumnTransformer(remainder='passthrough',\n",
       "                  transformers=[('categorical',\n",
       "                                 OneHotEncoder(handle_unknown='ignore',\n",
       "                                               sparse=False),\n",
       "                                 ['workclass', 'education', 'marital-status',\n",
       "                                  'occupation', 'relationship', 'race', 'sex',\n",
       "                                  'native-country']),\n",
       "                                ('numerical', StandardScaler(),\n",
       "                                 ['age', 'capital-gain', 'capital-loss',\n",
       "                                  'hours-per-week'])])</pre></div></div></div><div class=\"sk-parallel\"><div class=\"sk-parallel-item\"><div class=\"sk-item\"><div class=\"sk-label-container\"><div class=\"sk-label sk-toggleable\"><input class=\"sk-toggleable__control sk-hidden--visually\" id=\"30392c52-c699-4232-b41d-8ca24c2813e5\" type=\"checkbox\" ><label class=\"sk-toggleable__label\" for=\"30392c52-c699-4232-b41d-8ca24c2813e5\">categorical</label><div class=\"sk-toggleable__content\"><pre>['workclass', 'education', 'marital-status', 'occupation', 'relationship', 'race', 'sex', 'native-country']</pre></div></div></div><div class=\"sk-serial\"><div class=\"sk-item\"><div class=\"sk-estimator sk-toggleable\"><input class=\"sk-toggleable__control sk-hidden--visually\" id=\"a353e791-eafc-400c-871f-cfe33269db49\" type=\"checkbox\" ><label class=\"sk-toggleable__label\" for=\"a353e791-eafc-400c-871f-cfe33269db49\">OneHotEncoder</label><div class=\"sk-toggleable__content\"><pre>OneHotEncoder(handle_unknown='ignore', sparse=False)</pre></div></div></div></div></div></div><div class=\"sk-parallel-item\"><div class=\"sk-item\"><div class=\"sk-label-container\"><div class=\"sk-label sk-toggleable\"><input class=\"sk-toggleable__control sk-hidden--visually\" id=\"909788b3-1b68-4231-8e20-8f987915226f\" type=\"checkbox\" ><label class=\"sk-toggleable__label\" for=\"909788b3-1b68-4231-8e20-8f987915226f\">numerical</label><div class=\"sk-toggleable__content\"><pre>['age', 'capital-gain', 'capital-loss', 'hours-per-week']</pre></div></div></div><div class=\"sk-serial\"><div class=\"sk-item\"><div class=\"sk-estimator sk-toggleable\"><input class=\"sk-toggleable__control sk-hidden--visually\" id=\"c5b9710a-949d-4f71-aa8f-375e1e15b5e0\" type=\"checkbox\" ><label class=\"sk-toggleable__label\" for=\"c5b9710a-949d-4f71-aa8f-375e1e15b5e0\">StandardScaler</label><div class=\"sk-toggleable__content\"><pre>StandardScaler()</pre></div></div></div></div></div></div><div class=\"sk-parallel-item\"><div class=\"sk-item\"><div class=\"sk-label-container\"><div class=\"sk-label sk-toggleable\"><input class=\"sk-toggleable__control sk-hidden--visually\" id=\"b2243198-c813-4094-9630-b59b3fe2b614\" type=\"checkbox\" ><label class=\"sk-toggleable__label\" for=\"b2243198-c813-4094-9630-b59b3fe2b614\">remainder</label><div class=\"sk-toggleable__content\"><pre></pre></div></div></div><div class=\"sk-serial\"><div class=\"sk-item\"><div class=\"sk-estimator sk-toggleable\"><input class=\"sk-toggleable__control sk-hidden--visually\" id=\"66280414-d333-4e10-a9b5-c928e55a95d0\" type=\"checkbox\" ><label class=\"sk-toggleable__label\" for=\"66280414-d333-4e10-a9b5-c928e55a95d0\">passthrough</label><div class=\"sk-toggleable__content\"><pre>passthrough</pre></div></div></div></div></div></div></div></div><div class=\"sk-item\"><div class=\"sk-estimator sk-toggleable\"><input class=\"sk-toggleable__control sk-hidden--visually\" id=\"4ba4a680-ba18-41d3-b308-3e4bd8ec6e78\" type=\"checkbox\" ><label class=\"sk-toggleable__label\" for=\"4ba4a680-ba18-41d3-b308-3e4bd8ec6e78\">HistGradientBoostingClassifier</label><div class=\"sk-toggleable__content\"><pre>HistGradientBoostingClassifier()</pre></div></div></div></div></div></div></div>"
      ],
      "text/plain": [
       "Pipeline(steps=[('columntransformer',\n",
       "                 ColumnTransformer(remainder='passthrough',\n",
       "                                   transformers=[('categorical',\n",
       "                                                  OneHotEncoder(handle_unknown='ignore',\n",
       "                                                                sparse=False),\n",
       "                                                  ['workclass', 'education',\n",
       "                                                   'marital-status',\n",
       "                                                   'occupation', 'relationship',\n",
       "                                                   'race', 'sex',\n",
       "                                                   'native-country']),\n",
       "                                                 ('numerical', StandardScaler(),\n",
       "                                                  ['age', 'capital-gain',\n",
       "                                                   'capital-loss',\n",
       "                                                   'hours-per-week'])])),\n",
       "                ('histgradientboostingclassifier',\n",
       "                 HistGradientBoostingClassifier())])"
      ]
     },
     "execution_count": 12,
     "metadata": {},
     "output_type": "execute_result"
    }
   ],
   "source": [
    "from sklearn import set_config\n",
    "set_config(display='diagram')\n",
    "model"
   ]
  },
  {
   "cell_type": "code",
   "execution_count": 13,
   "id": "d003ec96",
   "metadata": {},
   "outputs": [
    {
     "name": "stdout",
     "output_type": "stream",
     "text": [
      "The mean cross-validation accuracy is: 0.873 +/- 0.003\n"
     ]
    }
   ],
   "source": [
    "cv_results = cross_validate(model, data, target)\n",
    "scores = cv_results[\"test_score\"]\n",
    "print(\"The mean cross-validation accuracy is: \"\n",
    "      f\"{scores.mean():.3f} +/- {scores.std():.3f}\")"
   ]
  },
  {
   "cell_type": "code",
   "execution_count": null,
   "id": "23d2430b",
   "metadata": {},
   "outputs": [],
   "source": []
  }
 ],
 "metadata": {
  "kernelspec": {
   "display_name": "Python 3",
   "language": "python",
   "name": "python3"
  },
  "language_info": {
   "codemirror_mode": {
    "name": "ipython",
    "version": 3
   },
   "file_extension": ".py",
   "mimetype": "text/x-python",
   "name": "python",
   "nbconvert_exporter": "python",
   "pygments_lexer": "ipython3",
   "version": "3.9.2"
  },
  "nbreset": "https://github.com/INRIA/scikit-learn-mooc/raw/master/notebooks/03_categorical_pipeline_ex_02.ipynb"
 },
 "nbformat": 4,
 "nbformat_minor": 5
}
