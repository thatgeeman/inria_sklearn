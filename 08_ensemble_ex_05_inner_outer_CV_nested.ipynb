{
 "cells": [
  {
   "cell_type": "markdown",
   "id": "0d36f5f3",
   "metadata": {},
   "source": [
    "# 📝 Exercise M6.05\n",
    "\n",
    "The aim of the exercise is to get familiar with the histogram\n",
    "gradient-boosting in scikit-learn. Besides, we will use this model within\n",
    "a cross-validation framework in order to inspect internal parameters found\n",
    "via grid-search.\n",
    "\n",
    "We will use the California housing dataset."
   ]
  },
  {
   "cell_type": "code",
   "execution_count": 1,
   "id": "4604c4ac",
   "metadata": {},
   "outputs": [],
   "source": [
    "from sklearn.datasets import fetch_california_housing\n",
    "\n",
    "data, target = fetch_california_housing(return_X_y=True, as_frame=True)\n",
    "target *= 100  # rescale the target in k$"
   ]
  },
  {
   "cell_type": "markdown",
   "id": "de708f25",
   "metadata": {},
   "source": [
    "First, create a histogram gradient boosting regressor. You can set the\n",
    "trees number to be large, and configure the model to use early-stopping."
   ]
  },
  {
   "cell_type": "code",
   "execution_count": 2,
   "id": "e8f8261e",
   "metadata": {},
   "outputs": [],
   "source": [
    "# Write your code here."
   ]
  },
  {
   "cell_type": "code",
   "execution_count": 3,
   "id": "8589c50c",
   "metadata": {},
   "outputs": [],
   "source": [
    "from sklearn.experimental import enable_hist_gradient_boosting\n",
    "from sklearn.ensemble import HistGradientBoostingRegressor"
   ]
  },
  {
   "cell_type": "code",
   "execution_count": 6,
   "id": "e98c34d7",
   "metadata": {},
   "outputs": [],
   "source": [
    "model = HistGradientBoostingRegressor?"
   ]
  },
  {
   "cell_type": "code",
   "execution_count": 7,
   "id": "de1ac62b",
   "metadata": {},
   "outputs": [],
   "source": [
    "model = HistGradientBoostingRegressor(max_iter=1000, n_iter_no_change=5)"
   ]
  },
  {
   "cell_type": "markdown",
   "id": "e932246e",
   "metadata": {},
   "source": [
    "We will use a grid-search to find some optimal parameter for this model.\n",
    "In this grid-search, you should search for the following parameters:\n",
    "\n",
    "* `max_depth: [3, 8]`;\n",
    "* `max_leaf_nodes: [15, 31]`;\n",
    "* `learning_rate: [0.1, 1]`.\n",
    "\n",
    "Feel free to explore the space with additional values. Create the\n",
    "grid-search providing the previous gradient boosting instance as the model."
   ]
  },
  {
   "cell_type": "code",
   "execution_count": 10,
   "id": "24fec112",
   "metadata": {},
   "outputs": [],
   "source": [
    "# Write your code here.\n",
    "from sklearn.model_selection import GridSearchCV\n",
    "param_grid ={\n",
    "    'max_depth': [3, 8],\n",
    "    'max_leaf_nodes': [15, 31],\n",
    "    'learning_rate': [0.1, 1]\n",
    "}"
   ]
  },
  {
   "cell_type": "code",
   "execution_count": 11,
   "id": "1099ad00",
   "metadata": {},
   "outputs": [],
   "source": [
    "gsearch = GridSearchCV(model, param_grid=param_grid, cv=5, n_jobs=10)"
   ]
  },
  {
   "cell_type": "code",
   "execution_count": 13,
   "id": "db2e7318",
   "metadata": {},
   "outputs": [
    {
     "data": {
      "text/plain": [
       "GridSearchCV(cv=5,\n",
       "             estimator=HistGradientBoostingRegressor(max_iter=1000,\n",
       "                                                     n_iter_no_change=5),\n",
       "             n_jobs=10,\n",
       "             param_grid={'learning_rate': [0.1, 1], 'max_depth': [3, 8],\n",
       "                         'max_leaf_nodes': [15, 31]})"
      ]
     },
     "execution_count": 13,
     "metadata": {},
     "output_type": "execute_result"
    }
   ],
   "source": [
    "gsearch.fit(data, target)"
   ]
  },
  {
   "cell_type": "code",
   "execution_count": 16,
   "id": "46a558e5",
   "metadata": {},
   "outputs": [
    {
     "data": {
      "text/plain": [
       "0.8682855807993711"
      ]
     },
     "execution_count": 16,
     "metadata": {},
     "output_type": "execute_result"
    }
   ],
   "source": [
    "gsearch.score(data, target)"
   ]
  },
  {
   "cell_type": "code",
   "execution_count": 18,
   "id": "5004e4cf",
   "metadata": {},
   "outputs": [],
   "source": [
    "import pandas as pd"
   ]
  },
  {
   "cell_type": "code",
   "execution_count": null,
   "id": "f67dba33",
   "metadata": {},
   "outputs": [],
   "source": []
  },
  {
   "cell_type": "code",
   "execution_count": 25,
   "id": "4cd4912f",
   "metadata": {},
   "outputs": [],
   "source": [
    "cv_res = pd.DataFrame(gsearch.cv_results_).sort_values('rank_test_score')"
   ]
  },
  {
   "cell_type": "code",
   "execution_count": 26,
   "id": "7a74a60a",
   "metadata": {},
   "outputs": [
    {
     "data": {
      "text/html": [
       "<div>\n",
       "<style scoped>\n",
       "    .dataframe tbody tr th:only-of-type {\n",
       "        vertical-align: middle;\n",
       "    }\n",
       "\n",
       "    .dataframe tbody tr th {\n",
       "        vertical-align: top;\n",
       "    }\n",
       "\n",
       "    .dataframe thead th {\n",
       "        text-align: right;\n",
       "    }\n",
       "</style>\n",
       "<table border=\"1\" class=\"dataframe\">\n",
       "  <thead>\n",
       "    <tr style=\"text-align: right;\">\n",
       "      <th></th>\n",
       "      <th>mean_fit_time</th>\n",
       "      <th>std_fit_time</th>\n",
       "      <th>mean_score_time</th>\n",
       "      <th>std_score_time</th>\n",
       "      <th>param_learning_rate</th>\n",
       "      <th>param_max_depth</th>\n",
       "      <th>param_max_leaf_nodes</th>\n",
       "      <th>params</th>\n",
       "      <th>split0_test_score</th>\n",
       "      <th>split1_test_score</th>\n",
       "      <th>split2_test_score</th>\n",
       "      <th>split3_test_score</th>\n",
       "      <th>split4_test_score</th>\n",
       "      <th>mean_test_score</th>\n",
       "      <th>std_test_score</th>\n",
       "      <th>rank_test_score</th>\n",
       "    </tr>\n",
       "  </thead>\n",
       "  <tbody>\n",
       "    <tr>\n",
       "      <th>2</th>\n",
       "      <td>0.517155</td>\n",
       "      <td>0.050296</td>\n",
       "      <td>0.024872</td>\n",
       "      <td>0.002998</td>\n",
       "      <td>0.1</td>\n",
       "      <td>8</td>\n",
       "      <td>15</td>\n",
       "      <td>{'learning_rate': 0.1, 'max_depth': 8, 'max_le...</td>\n",
       "      <td>0.666632</td>\n",
       "      <td>0.711720</td>\n",
       "      <td>0.742450</td>\n",
       "      <td>0.696222</td>\n",
       "      <td>0.665807</td>\n",
       "      <td>0.696566</td>\n",
       "      <td>0.028904</td>\n",
       "      <td>1</td>\n",
       "    </tr>\n",
       "    <tr>\n",
       "      <th>1</th>\n",
       "      <td>0.462722</td>\n",
       "      <td>0.060256</td>\n",
       "      <td>0.029524</td>\n",
       "      <td>0.003953</td>\n",
       "      <td>0.1</td>\n",
       "      <td>3</td>\n",
       "      <td>31</td>\n",
       "      <td>{'learning_rate': 0.1, 'max_depth': 3, 'max_le...</td>\n",
       "      <td>0.681113</td>\n",
       "      <td>0.693041</td>\n",
       "      <td>0.745766</td>\n",
       "      <td>0.661814</td>\n",
       "      <td>0.684698</td>\n",
       "      <td>0.693286</td>\n",
       "      <td>0.028166</td>\n",
       "      <td>2</td>\n",
       "    </tr>\n",
       "    <tr>\n",
       "      <th>0</th>\n",
       "      <td>0.385242</td>\n",
       "      <td>0.133288</td>\n",
       "      <td>0.024220</td>\n",
       "      <td>0.008311</td>\n",
       "      <td>0.1</td>\n",
       "      <td>3</td>\n",
       "      <td>15</td>\n",
       "      <td>{'learning_rate': 0.1, 'max_depth': 3, 'max_le...</td>\n",
       "      <td>0.660697</td>\n",
       "      <td>0.703999</td>\n",
       "      <td>0.741798</td>\n",
       "      <td>0.680985</td>\n",
       "      <td>0.672856</td>\n",
       "      <td>0.692067</td>\n",
       "      <td>0.028606</td>\n",
       "      <td>3</td>\n",
       "    </tr>\n",
       "    <tr>\n",
       "      <th>3</th>\n",
       "      <td>0.682925</td>\n",
       "      <td>0.065915</td>\n",
       "      <td>0.024300</td>\n",
       "      <td>0.002644</td>\n",
       "      <td>0.1</td>\n",
       "      <td>8</td>\n",
       "      <td>31</td>\n",
       "      <td>{'learning_rate': 0.1, 'max_depth': 8, 'max_le...</td>\n",
       "      <td>0.633555</td>\n",
       "      <td>0.718835</td>\n",
       "      <td>0.740755</td>\n",
       "      <td>0.683892</td>\n",
       "      <td>0.676432</td>\n",
       "      <td>0.690694</td>\n",
       "      <td>0.036912</td>\n",
       "      <td>4</td>\n",
       "    </tr>\n",
       "    <tr>\n",
       "      <th>6</th>\n",
       "      <td>0.072822</td>\n",
       "      <td>0.004489</td>\n",
       "      <td>0.003520</td>\n",
       "      <td>0.000198</td>\n",
       "      <td>1</td>\n",
       "      <td>8</td>\n",
       "      <td>15</td>\n",
       "      <td>{'learning_rate': 1, 'max_depth': 8, 'max_leaf...</td>\n",
       "      <td>0.615504</td>\n",
       "      <td>0.599339</td>\n",
       "      <td>0.705292</td>\n",
       "      <td>0.611391</td>\n",
       "      <td>0.580748</td>\n",
       "      <td>0.622455</td>\n",
       "      <td>0.043143</td>\n",
       "      <td>5</td>\n",
       "    </tr>\n",
       "    <tr>\n",
       "      <th>5</th>\n",
       "      <td>0.087046</td>\n",
       "      <td>0.014766</td>\n",
       "      <td>0.005734</td>\n",
       "      <td>0.001163</td>\n",
       "      <td>1</td>\n",
       "      <td>3</td>\n",
       "      <td>31</td>\n",
       "      <td>{'learning_rate': 1, 'max_depth': 3, 'max_leaf...</td>\n",
       "      <td>0.610597</td>\n",
       "      <td>0.649847</td>\n",
       "      <td>0.668758</td>\n",
       "      <td>0.554809</td>\n",
       "      <td>0.569679</td>\n",
       "      <td>0.610738</td>\n",
       "      <td>0.044068</td>\n",
       "      <td>6</td>\n",
       "    </tr>\n",
       "    <tr>\n",
       "      <th>4</th>\n",
       "      <td>0.078123</td>\n",
       "      <td>0.010195</td>\n",
       "      <td>0.005006</td>\n",
       "      <td>0.000714</td>\n",
       "      <td>1</td>\n",
       "      <td>3</td>\n",
       "      <td>15</td>\n",
       "      <td>{'learning_rate': 1, 'max_depth': 3, 'max_leaf...</td>\n",
       "      <td>0.534480</td>\n",
       "      <td>0.637910</td>\n",
       "      <td>0.668022</td>\n",
       "      <td>0.485850</td>\n",
       "      <td>0.613448</td>\n",
       "      <td>0.587942</td>\n",
       "      <td>0.067589</td>\n",
       "      <td>7</td>\n",
       "    </tr>\n",
       "    <tr>\n",
       "      <th>7</th>\n",
       "      <td>0.084296</td>\n",
       "      <td>0.008677</td>\n",
       "      <td>0.003322</td>\n",
       "      <td>0.000306</td>\n",
       "      <td>1</td>\n",
       "      <td>8</td>\n",
       "      <td>31</td>\n",
       "      <td>{'learning_rate': 1, 'max_depth': 8, 'max_leaf...</td>\n",
       "      <td>0.380917</td>\n",
       "      <td>0.569978</td>\n",
       "      <td>0.680388</td>\n",
       "      <td>0.400270</td>\n",
       "      <td>0.592570</td>\n",
       "      <td>0.524825</td>\n",
       "      <td>0.115803</td>\n",
       "      <td>8</td>\n",
       "    </tr>\n",
       "  </tbody>\n",
       "</table>\n",
       "</div>"
      ],
      "text/plain": [
       "   mean_fit_time  std_fit_time  mean_score_time  std_score_time  \\\n",
       "2       0.517155      0.050296         0.024872        0.002998   \n",
       "1       0.462722      0.060256         0.029524        0.003953   \n",
       "0       0.385242      0.133288         0.024220        0.008311   \n",
       "3       0.682925      0.065915         0.024300        0.002644   \n",
       "6       0.072822      0.004489         0.003520        0.000198   \n",
       "5       0.087046      0.014766         0.005734        0.001163   \n",
       "4       0.078123      0.010195         0.005006        0.000714   \n",
       "7       0.084296      0.008677         0.003322        0.000306   \n",
       "\n",
       "  param_learning_rate param_max_depth param_max_leaf_nodes  \\\n",
       "2                 0.1               8                   15   \n",
       "1                 0.1               3                   31   \n",
       "0                 0.1               3                   15   \n",
       "3                 0.1               8                   31   \n",
       "6                   1               8                   15   \n",
       "5                   1               3                   31   \n",
       "4                   1               3                   15   \n",
       "7                   1               8                   31   \n",
       "\n",
       "                                              params  split0_test_score  \\\n",
       "2  {'learning_rate': 0.1, 'max_depth': 8, 'max_le...           0.666632   \n",
       "1  {'learning_rate': 0.1, 'max_depth': 3, 'max_le...           0.681113   \n",
       "0  {'learning_rate': 0.1, 'max_depth': 3, 'max_le...           0.660697   \n",
       "3  {'learning_rate': 0.1, 'max_depth': 8, 'max_le...           0.633555   \n",
       "6  {'learning_rate': 1, 'max_depth': 8, 'max_leaf...           0.615504   \n",
       "5  {'learning_rate': 1, 'max_depth': 3, 'max_leaf...           0.610597   \n",
       "4  {'learning_rate': 1, 'max_depth': 3, 'max_leaf...           0.534480   \n",
       "7  {'learning_rate': 1, 'max_depth': 8, 'max_leaf...           0.380917   \n",
       "\n",
       "   split1_test_score  split2_test_score  split3_test_score  split4_test_score  \\\n",
       "2           0.711720           0.742450           0.696222           0.665807   \n",
       "1           0.693041           0.745766           0.661814           0.684698   \n",
       "0           0.703999           0.741798           0.680985           0.672856   \n",
       "3           0.718835           0.740755           0.683892           0.676432   \n",
       "6           0.599339           0.705292           0.611391           0.580748   \n",
       "5           0.649847           0.668758           0.554809           0.569679   \n",
       "4           0.637910           0.668022           0.485850           0.613448   \n",
       "7           0.569978           0.680388           0.400270           0.592570   \n",
       "\n",
       "   mean_test_score  std_test_score  rank_test_score  \n",
       "2         0.696566        0.028904                1  \n",
       "1         0.693286        0.028166                2  \n",
       "0         0.692067        0.028606                3  \n",
       "3         0.690694        0.036912                4  \n",
       "6         0.622455        0.043143                5  \n",
       "5         0.610738        0.044068                6  \n",
       "4         0.587942        0.067589                7  \n",
       "7         0.524825        0.115803                8  "
      ]
     },
     "execution_count": 26,
     "metadata": {},
     "output_type": "execute_result"
    }
   ],
   "source": [
    "cv_res"
   ]
  },
  {
   "cell_type": "markdown",
   "id": "e6ea20c8",
   "metadata": {},
   "source": [
    "Finally, we will run our experiment through cross-validation. In this regard,\n",
    "define a 5-fold cross-validation. Besides, be sure to shuffle the data.\n",
    "Subsequently, use the function `sklearn.model_selection.cross_validate`\n",
    "to run the cross-validation. You should also set `return_estimator=True`,\n",
    "so that we can investigate the inner model trained via cross-validation."
   ]
  },
  {
   "cell_type": "code",
   "execution_count": 60,
   "id": "bedfdd8c",
   "metadata": {},
   "outputs": [],
   "source": [
    "# Write your code here.\n",
    "from sklearn.model_selection import cross_validate\n",
    "from sklearn.model_selection import KFold\n",
    "\n",
    "cv = KFold(n_splits=5, shuffle=True, random_state=0)"
   ]
  },
  {
   "cell_type": "code",
   "execution_count": 74,
   "id": "7f6b9a1d",
   "metadata": {},
   "outputs": [],
   "source": [
    "cv_res = cross_validate(gsearch, data, \\\n",
    "                        target,return_estimator=True, cv=cv)"
   ]
  },
  {
   "cell_type": "code",
   "execution_count": 75,
   "id": "d916c11b",
   "metadata": {},
   "outputs": [
    {
     "data": {
      "text/plain": [
       "{'fit_time': array([2.51850247, 2.17695618, 2.13500023, 1.82906008, 1.98635793]),\n",
       " 'score_time': array([0.0190506 , 0.03619504, 0.02148032, 0.02942729, 0.04241443]),\n",
       " 'estimator': [GridSearchCV(cv=5,\n",
       "               estimator=HistGradientBoostingRegressor(max_iter=1000,\n",
       "                                                       n_iter_no_change=5),\n",
       "               n_jobs=10,\n",
       "               param_grid={'learning_rate': [0.1, 1], 'max_depth': [3, 8],\n",
       "                           'max_leaf_nodes': [15, 31]}),\n",
       "  GridSearchCV(cv=5,\n",
       "               estimator=HistGradientBoostingRegressor(max_iter=1000,\n",
       "                                                       n_iter_no_change=5),\n",
       "               n_jobs=10,\n",
       "               param_grid={'learning_rate': [0.1, 1], 'max_depth': [3, 8],\n",
       "                           'max_leaf_nodes': [15, 31]}),\n",
       "  GridSearchCV(cv=5,\n",
       "               estimator=HistGradientBoostingRegressor(max_iter=1000,\n",
       "                                                       n_iter_no_change=5),\n",
       "               n_jobs=10,\n",
       "               param_grid={'learning_rate': [0.1, 1], 'max_depth': [3, 8],\n",
       "                           'max_leaf_nodes': [15, 31]}),\n",
       "  GridSearchCV(cv=5,\n",
       "               estimator=HistGradientBoostingRegressor(max_iter=1000,\n",
       "                                                       n_iter_no_change=5),\n",
       "               n_jobs=10,\n",
       "               param_grid={'learning_rate': [0.1, 1], 'max_depth': [3, 8],\n",
       "                           'max_leaf_nodes': [15, 31]}),\n",
       "  GridSearchCV(cv=5,\n",
       "               estimator=HistGradientBoostingRegressor(max_iter=1000,\n",
       "                                                       n_iter_no_change=5),\n",
       "               n_jobs=10,\n",
       "               param_grid={'learning_rate': [0.1, 1], 'max_depth': [3, 8],\n",
       "                           'max_leaf_nodes': [15, 31]})],\n",
       " 'test_score': array([0.83790898, 0.83649854, 0.83981591, 0.82335967, 0.82581089])}"
      ]
     },
     "execution_count": 75,
     "metadata": {},
     "output_type": "execute_result"
    }
   ],
   "source": [
    "cv_res"
   ]
  },
  {
   "cell_type": "code",
   "execution_count": 76,
   "id": "acf1fb31",
   "metadata": {},
   "outputs": [
    {
     "data": {
      "text/plain": [
       "(0.8326787987978435, 0.006736435865890899)"
      ]
     },
     "execution_count": 76,
     "metadata": {},
     "output_type": "execute_result"
    }
   ],
   "source": [
    "cv_res['test_score'].mean(),cv_res['test_score'].std()"
   ]
  },
  {
   "cell_type": "markdown",
   "id": "0509a4ae",
   "metadata": {},
   "source": [
    "Now that we got the cross-validation results, print out the mean and\n",
    "standard deviation score."
   ]
  },
  {
   "cell_type": "code",
   "execution_count": 77,
   "id": "b6ba442d",
   "metadata": {},
   "outputs": [],
   "source": [
    "# Write your code here."
   ]
  },
  {
   "cell_type": "markdown",
   "id": "2c9b6118",
   "metadata": {},
   "source": [
    "Then, inspect the `estimator` entry of the results and check the best\n",
    "parameters values. Besides, check the number of trees used by the model."
   ]
  },
  {
   "cell_type": "code",
   "execution_count": 78,
   "id": "b24fcc87",
   "metadata": {},
   "outputs": [],
   "source": [
    "# Write your code here.\n",
    "model_0 = cv_res['estimator'][0]"
   ]
  },
  {
   "cell_type": "code",
   "execution_count": 79,
   "id": "119f78f4",
   "metadata": {},
   "outputs": [
    {
     "data": {
      "text/plain": [
       "{'cv': 5,\n",
       " 'error_score': nan,\n",
       " 'estimator__categorical_features': None,\n",
       " 'estimator__early_stopping': 'auto',\n",
       " 'estimator__l2_regularization': 0.0,\n",
       " 'estimator__learning_rate': 0.1,\n",
       " 'estimator__loss': 'least_squares',\n",
       " 'estimator__max_bins': 255,\n",
       " 'estimator__max_depth': None,\n",
       " 'estimator__max_iter': 1000,\n",
       " 'estimator__max_leaf_nodes': 31,\n",
       " 'estimator__min_samples_leaf': 20,\n",
       " 'estimator__monotonic_cst': None,\n",
       " 'estimator__n_iter_no_change': 5,\n",
       " 'estimator__random_state': None,\n",
       " 'estimator__scoring': 'loss',\n",
       " 'estimator__tol': 1e-07,\n",
       " 'estimator__validation_fraction': 0.1,\n",
       " 'estimator__verbose': 0,\n",
       " 'estimator__warm_start': False,\n",
       " 'estimator': HistGradientBoostingRegressor(max_iter=1000, n_iter_no_change=5),\n",
       " 'n_jobs': 10,\n",
       " 'param_grid': {'max_depth': [3, 8],\n",
       "  'max_leaf_nodes': [15, 31],\n",
       "  'learning_rate': [0.1, 1]},\n",
       " 'pre_dispatch': '2*n_jobs',\n",
       " 'refit': True,\n",
       " 'return_train_score': False,\n",
       " 'scoring': None,\n",
       " 'verbose': 0}"
      ]
     },
     "execution_count": 79,
     "metadata": {},
     "output_type": "execute_result"
    }
   ],
   "source": [
    "model_0.get_params()"
   ]
  },
  {
   "cell_type": "code",
   "execution_count": 80,
   "id": "5496600c",
   "metadata": {},
   "outputs": [],
   "source": [
    "cv_dict = {f\"model_{idx}\": est.get_params() for idx,est in enumerate(cv_res['estimator'])}"
   ]
  },
  {
   "cell_type": "code",
   "execution_count": 81,
   "id": "5d71ccb8",
   "metadata": {},
   "outputs": [
    {
     "data": {
      "text/html": [
       "<div>\n",
       "<style scoped>\n",
       "    .dataframe tbody tr th:only-of-type {\n",
       "        vertical-align: middle;\n",
       "    }\n",
       "\n",
       "    .dataframe tbody tr th {\n",
       "        vertical-align: top;\n",
       "    }\n",
       "\n",
       "    .dataframe thead th {\n",
       "        text-align: right;\n",
       "    }\n",
       "</style>\n",
       "<table border=\"1\" class=\"dataframe\">\n",
       "  <thead>\n",
       "    <tr style=\"text-align: right;\">\n",
       "      <th></th>\n",
       "      <th>model_0</th>\n",
       "      <th>model_1</th>\n",
       "      <th>model_2</th>\n",
       "      <th>model_3</th>\n",
       "      <th>model_4</th>\n",
       "    </tr>\n",
       "  </thead>\n",
       "  <tbody>\n",
       "    <tr>\n",
       "      <th>cv</th>\n",
       "      <td>5</td>\n",
       "      <td>5</td>\n",
       "      <td>5</td>\n",
       "      <td>5</td>\n",
       "      <td>5</td>\n",
       "    </tr>\n",
       "    <tr>\n",
       "      <th>error_score</th>\n",
       "      <td>NaN</td>\n",
       "      <td>NaN</td>\n",
       "      <td>NaN</td>\n",
       "      <td>NaN</td>\n",
       "      <td>NaN</td>\n",
       "    </tr>\n",
       "    <tr>\n",
       "      <th>estimator__categorical_features</th>\n",
       "      <td>None</td>\n",
       "      <td>None</td>\n",
       "      <td>None</td>\n",
       "      <td>None</td>\n",
       "      <td>None</td>\n",
       "    </tr>\n",
       "    <tr>\n",
       "      <th>estimator__early_stopping</th>\n",
       "      <td>auto</td>\n",
       "      <td>auto</td>\n",
       "      <td>auto</td>\n",
       "      <td>auto</td>\n",
       "      <td>auto</td>\n",
       "    </tr>\n",
       "    <tr>\n",
       "      <th>estimator__l2_regularization</th>\n",
       "      <td>0.0</td>\n",
       "      <td>0.0</td>\n",
       "      <td>0.0</td>\n",
       "      <td>0.0</td>\n",
       "      <td>0.0</td>\n",
       "    </tr>\n",
       "    <tr>\n",
       "      <th>estimator__learning_rate</th>\n",
       "      <td>0.1</td>\n",
       "      <td>0.1</td>\n",
       "      <td>0.1</td>\n",
       "      <td>0.1</td>\n",
       "      <td>0.1</td>\n",
       "    </tr>\n",
       "    <tr>\n",
       "      <th>estimator__loss</th>\n",
       "      <td>least_squares</td>\n",
       "      <td>least_squares</td>\n",
       "      <td>least_squares</td>\n",
       "      <td>least_squares</td>\n",
       "      <td>least_squares</td>\n",
       "    </tr>\n",
       "    <tr>\n",
       "      <th>estimator__max_bins</th>\n",
       "      <td>255</td>\n",
       "      <td>255</td>\n",
       "      <td>255</td>\n",
       "      <td>255</td>\n",
       "      <td>255</td>\n",
       "    </tr>\n",
       "    <tr>\n",
       "      <th>estimator__max_depth</th>\n",
       "      <td>None</td>\n",
       "      <td>None</td>\n",
       "      <td>None</td>\n",
       "      <td>None</td>\n",
       "      <td>None</td>\n",
       "    </tr>\n",
       "    <tr>\n",
       "      <th>estimator__max_iter</th>\n",
       "      <td>1000</td>\n",
       "      <td>1000</td>\n",
       "      <td>1000</td>\n",
       "      <td>1000</td>\n",
       "      <td>1000</td>\n",
       "    </tr>\n",
       "    <tr>\n",
       "      <th>estimator__max_leaf_nodes</th>\n",
       "      <td>31</td>\n",
       "      <td>31</td>\n",
       "      <td>31</td>\n",
       "      <td>31</td>\n",
       "      <td>31</td>\n",
       "    </tr>\n",
       "    <tr>\n",
       "      <th>estimator__min_samples_leaf</th>\n",
       "      <td>20</td>\n",
       "      <td>20</td>\n",
       "      <td>20</td>\n",
       "      <td>20</td>\n",
       "      <td>20</td>\n",
       "    </tr>\n",
       "    <tr>\n",
       "      <th>estimator__monotonic_cst</th>\n",
       "      <td>None</td>\n",
       "      <td>None</td>\n",
       "      <td>None</td>\n",
       "      <td>None</td>\n",
       "      <td>None</td>\n",
       "    </tr>\n",
       "    <tr>\n",
       "      <th>estimator__n_iter_no_change</th>\n",
       "      <td>5</td>\n",
       "      <td>5</td>\n",
       "      <td>5</td>\n",
       "      <td>5</td>\n",
       "      <td>5</td>\n",
       "    </tr>\n",
       "    <tr>\n",
       "      <th>estimator__random_state</th>\n",
       "      <td>None</td>\n",
       "      <td>None</td>\n",
       "      <td>None</td>\n",
       "      <td>None</td>\n",
       "      <td>None</td>\n",
       "    </tr>\n",
       "    <tr>\n",
       "      <th>estimator__scoring</th>\n",
       "      <td>loss</td>\n",
       "      <td>loss</td>\n",
       "      <td>loss</td>\n",
       "      <td>loss</td>\n",
       "      <td>loss</td>\n",
       "    </tr>\n",
       "    <tr>\n",
       "      <th>estimator__tol</th>\n",
       "      <td>0.0</td>\n",
       "      <td>0.0</td>\n",
       "      <td>0.0</td>\n",
       "      <td>0.0</td>\n",
       "      <td>0.0</td>\n",
       "    </tr>\n",
       "    <tr>\n",
       "      <th>estimator__validation_fraction</th>\n",
       "      <td>0.1</td>\n",
       "      <td>0.1</td>\n",
       "      <td>0.1</td>\n",
       "      <td>0.1</td>\n",
       "      <td>0.1</td>\n",
       "    </tr>\n",
       "    <tr>\n",
       "      <th>estimator__verbose</th>\n",
       "      <td>0</td>\n",
       "      <td>0</td>\n",
       "      <td>0</td>\n",
       "      <td>0</td>\n",
       "      <td>0</td>\n",
       "    </tr>\n",
       "    <tr>\n",
       "      <th>estimator__warm_start</th>\n",
       "      <td>False</td>\n",
       "      <td>False</td>\n",
       "      <td>False</td>\n",
       "      <td>False</td>\n",
       "      <td>False</td>\n",
       "    </tr>\n",
       "    <tr>\n",
       "      <th>estimator</th>\n",
       "      <td>HistGradientBoostingRegressor(max_iter=1000, n...</td>\n",
       "      <td>HistGradientBoostingRegressor(max_iter=1000, n...</td>\n",
       "      <td>HistGradientBoostingRegressor(max_iter=1000, n...</td>\n",
       "      <td>HistGradientBoostingRegressor(max_iter=1000, n...</td>\n",
       "      <td>HistGradientBoostingRegressor(max_iter=1000, n...</td>\n",
       "    </tr>\n",
       "    <tr>\n",
       "      <th>n_jobs</th>\n",
       "      <td>10</td>\n",
       "      <td>10</td>\n",
       "      <td>10</td>\n",
       "      <td>10</td>\n",
       "      <td>10</td>\n",
       "    </tr>\n",
       "    <tr>\n",
       "      <th>param_grid</th>\n",
       "      <td>{'max_depth': [3, 8], 'max_leaf_nodes': [15, 3...</td>\n",
       "      <td>{'max_depth': [3, 8], 'max_leaf_nodes': [15, 3...</td>\n",
       "      <td>{'max_depth': [3, 8], 'max_leaf_nodes': [15, 3...</td>\n",
       "      <td>{'max_depth': [3, 8], 'max_leaf_nodes': [15, 3...</td>\n",
       "      <td>{'max_depth': [3, 8], 'max_leaf_nodes': [15, 3...</td>\n",
       "    </tr>\n",
       "    <tr>\n",
       "      <th>pre_dispatch</th>\n",
       "      <td>2*n_jobs</td>\n",
       "      <td>2*n_jobs</td>\n",
       "      <td>2*n_jobs</td>\n",
       "      <td>2*n_jobs</td>\n",
       "      <td>2*n_jobs</td>\n",
       "    </tr>\n",
       "    <tr>\n",
       "      <th>refit</th>\n",
       "      <td>True</td>\n",
       "      <td>True</td>\n",
       "      <td>True</td>\n",
       "      <td>True</td>\n",
       "      <td>True</td>\n",
       "    </tr>\n",
       "    <tr>\n",
       "      <th>return_train_score</th>\n",
       "      <td>False</td>\n",
       "      <td>False</td>\n",
       "      <td>False</td>\n",
       "      <td>False</td>\n",
       "      <td>False</td>\n",
       "    </tr>\n",
       "    <tr>\n",
       "      <th>scoring</th>\n",
       "      <td>None</td>\n",
       "      <td>None</td>\n",
       "      <td>None</td>\n",
       "      <td>None</td>\n",
       "      <td>None</td>\n",
       "    </tr>\n",
       "    <tr>\n",
       "      <th>verbose</th>\n",
       "      <td>0</td>\n",
       "      <td>0</td>\n",
       "      <td>0</td>\n",
       "      <td>0</td>\n",
       "      <td>0</td>\n",
       "    </tr>\n",
       "  </tbody>\n",
       "</table>\n",
       "</div>"
      ],
      "text/plain": [
       "                                                                           model_0  \\\n",
       "cv                                                                               5   \n",
       "error_score                                                                    NaN   \n",
       "estimator__categorical_features                                               None   \n",
       "estimator__early_stopping                                                     auto   \n",
       "estimator__l2_regularization                                                   0.0   \n",
       "estimator__learning_rate                                                       0.1   \n",
       "estimator__loss                                                      least_squares   \n",
       "estimator__max_bins                                                            255   \n",
       "estimator__max_depth                                                          None   \n",
       "estimator__max_iter                                                           1000   \n",
       "estimator__max_leaf_nodes                                                       31   \n",
       "estimator__min_samples_leaf                                                     20   \n",
       "estimator__monotonic_cst                                                      None   \n",
       "estimator__n_iter_no_change                                                      5   \n",
       "estimator__random_state                                                       None   \n",
       "estimator__scoring                                                            loss   \n",
       "estimator__tol                                                                 0.0   \n",
       "estimator__validation_fraction                                                 0.1   \n",
       "estimator__verbose                                                               0   \n",
       "estimator__warm_start                                                        False   \n",
       "estimator                        HistGradientBoostingRegressor(max_iter=1000, n...   \n",
       "n_jobs                                                                          10   \n",
       "param_grid                       {'max_depth': [3, 8], 'max_leaf_nodes': [15, 3...   \n",
       "pre_dispatch                                                              2*n_jobs   \n",
       "refit                                                                         True   \n",
       "return_train_score                                                           False   \n",
       "scoring                                                                       None   \n",
       "verbose                                                                          0   \n",
       "\n",
       "                                                                           model_1  \\\n",
       "cv                                                                               5   \n",
       "error_score                                                                    NaN   \n",
       "estimator__categorical_features                                               None   \n",
       "estimator__early_stopping                                                     auto   \n",
       "estimator__l2_regularization                                                   0.0   \n",
       "estimator__learning_rate                                                       0.1   \n",
       "estimator__loss                                                      least_squares   \n",
       "estimator__max_bins                                                            255   \n",
       "estimator__max_depth                                                          None   \n",
       "estimator__max_iter                                                           1000   \n",
       "estimator__max_leaf_nodes                                                       31   \n",
       "estimator__min_samples_leaf                                                     20   \n",
       "estimator__monotonic_cst                                                      None   \n",
       "estimator__n_iter_no_change                                                      5   \n",
       "estimator__random_state                                                       None   \n",
       "estimator__scoring                                                            loss   \n",
       "estimator__tol                                                                 0.0   \n",
       "estimator__validation_fraction                                                 0.1   \n",
       "estimator__verbose                                                               0   \n",
       "estimator__warm_start                                                        False   \n",
       "estimator                        HistGradientBoostingRegressor(max_iter=1000, n...   \n",
       "n_jobs                                                                          10   \n",
       "param_grid                       {'max_depth': [3, 8], 'max_leaf_nodes': [15, 3...   \n",
       "pre_dispatch                                                              2*n_jobs   \n",
       "refit                                                                         True   \n",
       "return_train_score                                                           False   \n",
       "scoring                                                                       None   \n",
       "verbose                                                                          0   \n",
       "\n",
       "                                                                           model_2  \\\n",
       "cv                                                                               5   \n",
       "error_score                                                                    NaN   \n",
       "estimator__categorical_features                                               None   \n",
       "estimator__early_stopping                                                     auto   \n",
       "estimator__l2_regularization                                                   0.0   \n",
       "estimator__learning_rate                                                       0.1   \n",
       "estimator__loss                                                      least_squares   \n",
       "estimator__max_bins                                                            255   \n",
       "estimator__max_depth                                                          None   \n",
       "estimator__max_iter                                                           1000   \n",
       "estimator__max_leaf_nodes                                                       31   \n",
       "estimator__min_samples_leaf                                                     20   \n",
       "estimator__monotonic_cst                                                      None   \n",
       "estimator__n_iter_no_change                                                      5   \n",
       "estimator__random_state                                                       None   \n",
       "estimator__scoring                                                            loss   \n",
       "estimator__tol                                                                 0.0   \n",
       "estimator__validation_fraction                                                 0.1   \n",
       "estimator__verbose                                                               0   \n",
       "estimator__warm_start                                                        False   \n",
       "estimator                        HistGradientBoostingRegressor(max_iter=1000, n...   \n",
       "n_jobs                                                                          10   \n",
       "param_grid                       {'max_depth': [3, 8], 'max_leaf_nodes': [15, 3...   \n",
       "pre_dispatch                                                              2*n_jobs   \n",
       "refit                                                                         True   \n",
       "return_train_score                                                           False   \n",
       "scoring                                                                       None   \n",
       "verbose                                                                          0   \n",
       "\n",
       "                                                                           model_3  \\\n",
       "cv                                                                               5   \n",
       "error_score                                                                    NaN   \n",
       "estimator__categorical_features                                               None   \n",
       "estimator__early_stopping                                                     auto   \n",
       "estimator__l2_regularization                                                   0.0   \n",
       "estimator__learning_rate                                                       0.1   \n",
       "estimator__loss                                                      least_squares   \n",
       "estimator__max_bins                                                            255   \n",
       "estimator__max_depth                                                          None   \n",
       "estimator__max_iter                                                           1000   \n",
       "estimator__max_leaf_nodes                                                       31   \n",
       "estimator__min_samples_leaf                                                     20   \n",
       "estimator__monotonic_cst                                                      None   \n",
       "estimator__n_iter_no_change                                                      5   \n",
       "estimator__random_state                                                       None   \n",
       "estimator__scoring                                                            loss   \n",
       "estimator__tol                                                                 0.0   \n",
       "estimator__validation_fraction                                                 0.1   \n",
       "estimator__verbose                                                               0   \n",
       "estimator__warm_start                                                        False   \n",
       "estimator                        HistGradientBoostingRegressor(max_iter=1000, n...   \n",
       "n_jobs                                                                          10   \n",
       "param_grid                       {'max_depth': [3, 8], 'max_leaf_nodes': [15, 3...   \n",
       "pre_dispatch                                                              2*n_jobs   \n",
       "refit                                                                         True   \n",
       "return_train_score                                                           False   \n",
       "scoring                                                                       None   \n",
       "verbose                                                                          0   \n",
       "\n",
       "                                                                           model_4  \n",
       "cv                                                                               5  \n",
       "error_score                                                                    NaN  \n",
       "estimator__categorical_features                                               None  \n",
       "estimator__early_stopping                                                     auto  \n",
       "estimator__l2_regularization                                                   0.0  \n",
       "estimator__learning_rate                                                       0.1  \n",
       "estimator__loss                                                      least_squares  \n",
       "estimator__max_bins                                                            255  \n",
       "estimator__max_depth                                                          None  \n",
       "estimator__max_iter                                                           1000  \n",
       "estimator__max_leaf_nodes                                                       31  \n",
       "estimator__min_samples_leaf                                                     20  \n",
       "estimator__monotonic_cst                                                      None  \n",
       "estimator__n_iter_no_change                                                      5  \n",
       "estimator__random_state                                                       None  \n",
       "estimator__scoring                                                            loss  \n",
       "estimator__tol                                                                 0.0  \n",
       "estimator__validation_fraction                                                 0.1  \n",
       "estimator__verbose                                                               0  \n",
       "estimator__warm_start                                                        False  \n",
       "estimator                        HistGradientBoostingRegressor(max_iter=1000, n...  \n",
       "n_jobs                                                                          10  \n",
       "param_grid                       {'max_depth': [3, 8], 'max_leaf_nodes': [15, 3...  \n",
       "pre_dispatch                                                              2*n_jobs  \n",
       "refit                                                                         True  \n",
       "return_train_score                                                           False  \n",
       "scoring                                                                       None  \n",
       "verbose                                                                          0  "
      ]
     },
     "execution_count": 81,
     "metadata": {},
     "output_type": "execute_result"
    }
   ],
   "source": [
    "pd.DataFrame(cv_dict)"
   ]
  },
  {
   "cell_type": "markdown",
   "id": "357e145e",
   "metadata": {},
   "source": []
  },
  {
   "cell_type": "code",
   "execution_count": 113,
   "id": "fb7160c3",
   "metadata": {},
   "outputs": [
    {
     "data": {
      "text/plain": [
       "array([0.83790898, 0.83649854, 0.83981591, 0.82335967, 0.82581089])"
      ]
     },
     "execution_count": 113,
     "metadata": {},
     "output_type": "execute_result"
    }
   ],
   "source": [
    "# Write your code here.\n",
    "cv_res['test_score']"
   ]
  },
  {
   "cell_type": "code",
   "execution_count": 84,
   "id": "ecbf5a8c",
   "metadata": {},
   "outputs": [
    {
     "data": {
      "text/plain": [
       "{'learning_rate': 0.1, 'max_depth': 8, 'max_leaf_nodes': 31}"
      ]
     },
     "execution_count": 84,
     "metadata": {},
     "output_type": "execute_result"
    }
   ],
   "source": [
    "cv_res['estimator'][0].best_params_"
   ]
  },
  {
   "cell_type": "markdown",
   "id": "8e29d5f6",
   "metadata": {},
   "source": [
    "This is the performance of the outer CV"
   ]
  },
  {
   "cell_type": "code",
   "execution_count": 85,
   "id": "675729f5",
   "metadata": {},
   "outputs": [
    {
     "name": "stdout",
     "output_type": "stream",
     "text": [
      "{'learning_rate': 0.1, 'max_depth': 8, 'max_leaf_nodes': 31}\n",
      "# trees: 119\n",
      "{'learning_rate': 0.1, 'max_depth': 8, 'max_leaf_nodes': 15}\n",
      "# trees: 294\n",
      "{'learning_rate': 0.1, 'max_depth': 8, 'max_leaf_nodes': 31}\n",
      "# trees: 148\n",
      "{'learning_rate': 0.1, 'max_depth': 3, 'max_leaf_nodes': 31}\n",
      "# trees: 277\n",
      "{'learning_rate': 0.1, 'max_depth': 3, 'max_leaf_nodes': 15}\n",
      "# trees: 413\n"
     ]
    }
   ],
   "source": [
    "for estimator in cv_res[\"estimator\"]:\n",
    "    print(estimator.best_params_)\n",
    "    print(f\"# trees: {estimator.best_estimator_.n_iter_}\")"
   ]
  },
  {
   "cell_type": "markdown",
   "id": "c16c1824",
   "metadata": {},
   "source": [
    "We observe that the parameters are varying. We can get the intuition that results of the inner CV are very close for certain set of parameters.\n",
    "\n"
   ]
  },
  {
   "cell_type": "markdown",
   "id": "58c0b3aa",
   "metadata": {},
   "source": [
    "Inspect the results of the inner CV for each estimator of the outer CV.\n",
    "Aggregate the mean test score for each parameter combination and make a box\n",
    "plot of these scores."
   ]
  },
  {
   "cell_type": "markdown",
   "id": "8c25049c",
   "metadata": {},
   "source": [
    "https://machinelearningmastery.com/nested-cross-validation-for-machine-learning-with-python/\n",
    "\n",
    "\n"
   ]
  },
  {
   "cell_type": "markdown",
   "id": "69e8f575",
   "metadata": {},
   "source": [
    "Thi is the inner CV"
   ]
  },
  {
   "cell_type": "code",
   "execution_count": 103,
   "id": "30953eea",
   "metadata": {},
   "outputs": [
    {
     "data": {
      "text/plain": [
       "HistGradientBoostingRegressor(max_depth=8, max_iter=1000, max_leaf_nodes=15,\n",
       "                              n_iter_no_change=5)"
      ]
     },
     "execution_count": 103,
     "metadata": {},
     "output_type": "execute_result"
    }
   ],
   "source": [
    "gsearch.best_estimator_"
   ]
  },
  {
   "cell_type": "markdown",
   "id": "3ea1dd30",
   "metadata": {},
   "source": [
    "This is outer CV"
   ]
  },
  {
   "cell_type": "code",
   "execution_count": 104,
   "id": "d09bc64d",
   "metadata": {},
   "outputs": [
    {
     "data": {
      "text/plain": [
       "HistGradientBoostingRegressor(max_depth=8, max_iter=1000, n_iter_no_change=5)"
      ]
     },
     "execution_count": 104,
     "metadata": {},
     "output_type": "execute_result"
    }
   ],
   "source": [
    "cv_res['estimator'][0].best_estimator_"
   ]
  },
  {
   "cell_type": "markdown",
   "id": "b60f310f",
   "metadata": {},
   "source": [
    "** Outer cv is from cross_validate(), stored in cv_res['test_score'] **\n",
    "\n",
    "** The inner CV is from the grid search, stored in  cv_res.cv_results_, done over one fold passed to it (this fold is again is split into folds for validation). To find the best model. **"
   ]
  },
  {
   "cell_type": "code",
   "execution_count": 105,
   "id": "bf5b9973",
   "metadata": {},
   "outputs": [],
   "source": [
    "index_columns = [f\"param_{name}\" for name in param_grid.keys()]\n",
    "columns = index_columns + [\"mean_test_score\"]"
   ]
  },
  {
   "cell_type": "code",
   "execution_count": 106,
   "id": "f2d4332d",
   "metadata": {},
   "outputs": [
    {
     "data": {
      "text/plain": [
       "['param_max_depth', 'param_max_leaf_nodes', 'param_learning_rate']"
      ]
     },
     "execution_count": 106,
     "metadata": {},
     "output_type": "execute_result"
    }
   ],
   "source": [
    "index_columns"
   ]
  },
  {
   "cell_type": "code",
   "execution_count": 107,
   "id": "8ac1a5aa",
   "metadata": {},
   "outputs": [
    {
     "data": {
      "text/plain": [
       "['param_max_depth',\n",
       " 'param_max_leaf_nodes',\n",
       " 'param_learning_rate',\n",
       " 'mean_test_score']"
      ]
     },
     "execution_count": 107,
     "metadata": {},
     "output_type": "execute_result"
    }
   ],
   "source": [
    "columns"
   ]
  },
  {
   "cell_type": "code",
   "execution_count": 108,
   "id": "685504c0",
   "metadata": {},
   "outputs": [],
   "source": [
    "est = cv_res['estimator'][0]"
   ]
  },
  {
   "cell_type": "code",
   "execution_count": 109,
   "id": "ab225a7e",
   "metadata": {},
   "outputs": [
    {
     "data": {
      "text/html": [
       "<div>\n",
       "<style scoped>\n",
       "    .dataframe tbody tr th:only-of-type {\n",
       "        vertical-align: middle;\n",
       "    }\n",
       "\n",
       "    .dataframe tbody tr th {\n",
       "        vertical-align: top;\n",
       "    }\n",
       "\n",
       "    .dataframe thead th {\n",
       "        text-align: right;\n",
       "    }\n",
       "</style>\n",
       "<table border=\"1\" class=\"dataframe\">\n",
       "  <thead>\n",
       "    <tr style=\"text-align: right;\">\n",
       "      <th></th>\n",
       "      <th>param_max_depth</th>\n",
       "      <th>param_max_leaf_nodes</th>\n",
       "      <th>param_learning_rate</th>\n",
       "      <th>mean_test_score</th>\n",
       "    </tr>\n",
       "  </thead>\n",
       "  <tbody>\n",
       "    <tr>\n",
       "      <th>0</th>\n",
       "      <td>3</td>\n",
       "      <td>15</td>\n",
       "      <td>0.1</td>\n",
       "      <td>0.693516</td>\n",
       "    </tr>\n",
       "    <tr>\n",
       "      <th>1</th>\n",
       "      <td>3</td>\n",
       "      <td>31</td>\n",
       "      <td>0.1</td>\n",
       "      <td>0.680275</td>\n",
       "    </tr>\n",
       "    <tr>\n",
       "      <th>2</th>\n",
       "      <td>8</td>\n",
       "      <td>15</td>\n",
       "      <td>0.1</td>\n",
       "      <td>0.691233</td>\n",
       "    </tr>\n",
       "    <tr>\n",
       "      <th>3</th>\n",
       "      <td>8</td>\n",
       "      <td>31</td>\n",
       "      <td>0.1</td>\n",
       "      <td>0.694603</td>\n",
       "    </tr>\n",
       "    <tr>\n",
       "      <th>4</th>\n",
       "      <td>3</td>\n",
       "      <td>15</td>\n",
       "      <td>1</td>\n",
       "      <td>0.648052</td>\n",
       "    </tr>\n",
       "    <tr>\n",
       "      <th>5</th>\n",
       "      <td>3</td>\n",
       "      <td>31</td>\n",
       "      <td>1</td>\n",
       "      <td>0.634257</td>\n",
       "    </tr>\n",
       "    <tr>\n",
       "      <th>6</th>\n",
       "      <td>8</td>\n",
       "      <td>15</td>\n",
       "      <td>1</td>\n",
       "      <td>0.603733</td>\n",
       "    </tr>\n",
       "    <tr>\n",
       "      <th>7</th>\n",
       "      <td>8</td>\n",
       "      <td>31</td>\n",
       "      <td>1</td>\n",
       "      <td>0.587622</td>\n",
       "    </tr>\n",
       "  </tbody>\n",
       "</table>\n",
       "</div>"
      ],
      "text/plain": [
       "  param_max_depth param_max_leaf_nodes param_learning_rate  mean_test_score\n",
       "0               3                   15                 0.1         0.693516\n",
       "1               3                   31                 0.1         0.680275\n",
       "2               8                   15                 0.1         0.691233\n",
       "3               8                   31                 0.1         0.694603\n",
       "4               3                   15                   1         0.648052\n",
       "5               3                   31                   1         0.634257\n",
       "6               8                   15                   1         0.603733\n",
       "7               8                   31                   1         0.587622"
      ]
     },
     "execution_count": 109,
     "metadata": {},
     "output_type": "execute_result"
    }
   ],
   "source": [
    "search_cv_results = pd.DataFrame(est.cv_results_)[columns]\n",
    "search_cv_results"
   ]
  },
  {
   "cell_type": "code",
   "execution_count": 110,
   "id": "0d8f97f5",
   "metadata": {},
   "outputs": [
    {
     "data": {
      "text/html": [
       "<div>\n",
       "<style scoped>\n",
       "    .dataframe tbody tr th:only-of-type {\n",
       "        vertical-align: middle;\n",
       "    }\n",
       "\n",
       "    .dataframe tbody tr th {\n",
       "        vertical-align: top;\n",
       "    }\n",
       "\n",
       "    .dataframe thead th {\n",
       "        text-align: right;\n",
       "    }\n",
       "</style>\n",
       "<table border=\"1\" class=\"dataframe\">\n",
       "  <thead>\n",
       "    <tr style=\"text-align: right;\">\n",
       "      <th></th>\n",
       "      <th></th>\n",
       "      <th></th>\n",
       "      <th>mean_test_score</th>\n",
       "    </tr>\n",
       "    <tr>\n",
       "      <th>param_max_depth</th>\n",
       "      <th>param_max_leaf_nodes</th>\n",
       "      <th>param_learning_rate</th>\n",
       "      <th></th>\n",
       "    </tr>\n",
       "  </thead>\n",
       "  <tbody>\n",
       "    <tr>\n",
       "      <th rowspan=\"2\" valign=\"top\">3</th>\n",
       "      <th>15</th>\n",
       "      <th>0.1</th>\n",
       "      <td>0.693516</td>\n",
       "    </tr>\n",
       "    <tr>\n",
       "      <th>31</th>\n",
       "      <th>0.1</th>\n",
       "      <td>0.680275</td>\n",
       "    </tr>\n",
       "    <tr>\n",
       "      <th rowspan=\"2\" valign=\"top\">8</th>\n",
       "      <th>15</th>\n",
       "      <th>0.1</th>\n",
       "      <td>0.691233</td>\n",
       "    </tr>\n",
       "    <tr>\n",
       "      <th>31</th>\n",
       "      <th>0.1</th>\n",
       "      <td>0.694603</td>\n",
       "    </tr>\n",
       "    <tr>\n",
       "      <th rowspan=\"2\" valign=\"top\">3</th>\n",
       "      <th>15</th>\n",
       "      <th>1.0</th>\n",
       "      <td>0.648052</td>\n",
       "    </tr>\n",
       "    <tr>\n",
       "      <th>31</th>\n",
       "      <th>1.0</th>\n",
       "      <td>0.634257</td>\n",
       "    </tr>\n",
       "    <tr>\n",
       "      <th rowspan=\"2\" valign=\"top\">8</th>\n",
       "      <th>15</th>\n",
       "      <th>1.0</th>\n",
       "      <td>0.603733</td>\n",
       "    </tr>\n",
       "    <tr>\n",
       "      <th>31</th>\n",
       "      <th>1.0</th>\n",
       "      <td>0.587622</td>\n",
       "    </tr>\n",
       "  </tbody>\n",
       "</table>\n",
       "</div>"
      ],
      "text/plain": [
       "                                                          mean_test_score\n",
       "param_max_depth param_max_leaf_nodes param_learning_rate                 \n",
       "3               15                   0.1                         0.693516\n",
       "                31                   0.1                         0.680275\n",
       "8               15                   0.1                         0.691233\n",
       "                31                   0.1                         0.694603\n",
       "3               15                   1.0                         0.648052\n",
       "                31                   1.0                         0.634257\n",
       "8               15                   1.0                         0.603733\n",
       "                31                   1.0                         0.587622"
      ]
     },
     "execution_count": 110,
     "metadata": {},
     "output_type": "execute_result"
    }
   ],
   "source": [
    "search_cv_results= search_cv_results.set_index(index_columns)\n",
    "search_cv_results"
   ]
  },
  {
   "cell_type": "code",
   "execution_count": 111,
   "id": "e67e852e",
   "metadata": {},
   "outputs": [
    {
     "data": {
      "text/html": [
       "<div>\n",
       "<style scoped>\n",
       "    .dataframe tbody tr th:only-of-type {\n",
       "        vertical-align: middle;\n",
       "    }\n",
       "\n",
       "    .dataframe tbody tr th {\n",
       "        vertical-align: top;\n",
       "    }\n",
       "\n",
       "    .dataframe thead th {\n",
       "        text-align: right;\n",
       "    }\n",
       "</style>\n",
       "<table border=\"1\" class=\"dataframe\">\n",
       "  <thead>\n",
       "    <tr style=\"text-align: right;\">\n",
       "      <th></th>\n",
       "      <th></th>\n",
       "      <th></th>\n",
       "      <th>CV 4</th>\n",
       "    </tr>\n",
       "    <tr>\n",
       "      <th>param_max_depth</th>\n",
       "      <th>param_max_leaf_nodes</th>\n",
       "      <th>param_learning_rate</th>\n",
       "      <th></th>\n",
       "    </tr>\n",
       "  </thead>\n",
       "  <tbody>\n",
       "    <tr>\n",
       "      <th rowspan=\"2\" valign=\"top\">3</th>\n",
       "      <th>15</th>\n",
       "      <th>0.1</th>\n",
       "      <td>0.693516</td>\n",
       "    </tr>\n",
       "    <tr>\n",
       "      <th>31</th>\n",
       "      <th>0.1</th>\n",
       "      <td>0.680275</td>\n",
       "    </tr>\n",
       "    <tr>\n",
       "      <th rowspan=\"2\" valign=\"top\">8</th>\n",
       "      <th>15</th>\n",
       "      <th>0.1</th>\n",
       "      <td>0.691233</td>\n",
       "    </tr>\n",
       "    <tr>\n",
       "      <th>31</th>\n",
       "      <th>0.1</th>\n",
       "      <td>0.694603</td>\n",
       "    </tr>\n",
       "    <tr>\n",
       "      <th rowspan=\"2\" valign=\"top\">3</th>\n",
       "      <th>15</th>\n",
       "      <th>1.0</th>\n",
       "      <td>0.648052</td>\n",
       "    </tr>\n",
       "    <tr>\n",
       "      <th>31</th>\n",
       "      <th>1.0</th>\n",
       "      <td>0.634257</td>\n",
       "    </tr>\n",
       "    <tr>\n",
       "      <th rowspan=\"2\" valign=\"top\">8</th>\n",
       "      <th>15</th>\n",
       "      <th>1.0</th>\n",
       "      <td>0.603733</td>\n",
       "    </tr>\n",
       "    <tr>\n",
       "      <th>31</th>\n",
       "      <th>1.0</th>\n",
       "      <td>0.587622</td>\n",
       "    </tr>\n",
       "  </tbody>\n",
       "</table>\n",
       "</div>"
      ],
      "text/plain": [
       "                                                              CV 4\n",
       "param_max_depth param_max_leaf_nodes param_learning_rate          \n",
       "3               15                   0.1                  0.693516\n",
       "                31                   0.1                  0.680275\n",
       "8               15                   0.1                  0.691233\n",
       "                31                   0.1                  0.694603\n",
       "3               15                   1.0                  0.648052\n",
       "                31                   1.0                  0.634257\n",
       "8               15                   1.0                  0.603733\n",
       "                31                   1.0                  0.587622"
      ]
     },
     "execution_count": 111,
     "metadata": {},
     "output_type": "execute_result"
    }
   ],
   "source": [
    "search_cv_results.rename(\n",
    "        columns={\"mean_test_score\": f\"CV {cv_idx}\"})"
   ]
  },
  {
   "cell_type": "code",
   "execution_count": 112,
   "id": "88895224",
   "metadata": {},
   "outputs": [],
   "source": [
    "import pandas as pd\n",
    "\n",
    "inner_cv_results = []\n",
    "for cv_idx, estimator in enumerate(cv_res[\"estimator\"]):\n",
    "    search_cv_results = pd.DataFrame(estimator.cv_results_)\n",
    "    search_cv_results = search_cv_results[columns].set_index(index_columns)\n",
    "    search_cv_results = search_cv_results.rename(\n",
    "        columns={\"mean_test_score\": f\"CV {cv_idx}\"})\n",
    "    inner_cv_results.append(search_cv_results)\n",
    "inner_cv_results = pd.concat(inner_cv_results, axis=1).T"
   ]
  },
  {
   "cell_type": "code",
   "execution_count": 91,
   "id": "507f50af",
   "metadata": {},
   "outputs": [
    {
     "data": {
      "text/html": [
       "<div>\n",
       "<style scoped>\n",
       "    .dataframe tbody tr th:only-of-type {\n",
       "        vertical-align: middle;\n",
       "    }\n",
       "\n",
       "    .dataframe tbody tr th {\n",
       "        vertical-align: top;\n",
       "    }\n",
       "\n",
       "    .dataframe thead tr th {\n",
       "        text-align: left;\n",
       "    }\n",
       "</style>\n",
       "<table border=\"1\" class=\"dataframe\">\n",
       "  <thead>\n",
       "    <tr>\n",
       "      <th>param_max_depth</th>\n",
       "      <th colspan=\"2\" halign=\"left\">3</th>\n",
       "      <th colspan=\"2\" halign=\"left\">8</th>\n",
       "      <th colspan=\"2\" halign=\"left\">3</th>\n",
       "      <th colspan=\"2\" halign=\"left\">8</th>\n",
       "    </tr>\n",
       "    <tr>\n",
       "      <th>param_max_leaf_nodes</th>\n",
       "      <th>15</th>\n",
       "      <th>31</th>\n",
       "      <th>15</th>\n",
       "      <th>31</th>\n",
       "      <th>15</th>\n",
       "      <th>31</th>\n",
       "      <th>15</th>\n",
       "      <th>31</th>\n",
       "    </tr>\n",
       "    <tr>\n",
       "      <th>param_learning_rate</th>\n",
       "      <th>0.1</th>\n",
       "      <th>0.1</th>\n",
       "      <th>0.1</th>\n",
       "      <th>0.1</th>\n",
       "      <th>1.0</th>\n",
       "      <th>1.0</th>\n",
       "      <th>1.0</th>\n",
       "      <th>1.0</th>\n",
       "    </tr>\n",
       "  </thead>\n",
       "  <tbody>\n",
       "    <tr>\n",
       "      <th>CV 0</th>\n",
       "      <td>0.693516</td>\n",
       "      <td>0.680275</td>\n",
       "      <td>0.691233</td>\n",
       "      <td>0.694603</td>\n",
       "      <td>0.648052</td>\n",
       "      <td>0.634257</td>\n",
       "      <td>0.603733</td>\n",
       "      <td>0.587622</td>\n",
       "    </tr>\n",
       "    <tr>\n",
       "      <th>CV 1</th>\n",
       "      <td>0.675962</td>\n",
       "      <td>0.688449</td>\n",
       "      <td>0.694049</td>\n",
       "      <td>0.690260</td>\n",
       "      <td>0.605649</td>\n",
       "      <td>0.588354</td>\n",
       "      <td>0.568598</td>\n",
       "      <td>0.552807</td>\n",
       "    </tr>\n",
       "    <tr>\n",
       "      <th>CV 2</th>\n",
       "      <td>0.684781</td>\n",
       "      <td>0.697980</td>\n",
       "      <td>0.697954</td>\n",
       "      <td>0.699579</td>\n",
       "      <td>0.598687</td>\n",
       "      <td>0.580819</td>\n",
       "      <td>0.585877</td>\n",
       "      <td>0.542443</td>\n",
       "    </tr>\n",
       "    <tr>\n",
       "      <th>CV 3</th>\n",
       "      <td>0.683035</td>\n",
       "      <td>0.695313</td>\n",
       "      <td>0.690202</td>\n",
       "      <td>0.693946</td>\n",
       "      <td>0.589667</td>\n",
       "      <td>0.631198</td>\n",
       "      <td>0.588753</td>\n",
       "      <td>0.555563</td>\n",
       "    </tr>\n",
       "    <tr>\n",
       "      <th>CV 4</th>\n",
       "      <td>0.697743</td>\n",
       "      <td>0.686671</td>\n",
       "      <td>0.687491</td>\n",
       "      <td>0.696012</td>\n",
       "      <td>0.605688</td>\n",
       "      <td>0.617545</td>\n",
       "      <td>0.576779</td>\n",
       "      <td>0.577126</td>\n",
       "    </tr>\n",
       "  </tbody>\n",
       "</table>\n",
       "</div>"
      ],
      "text/plain": [
       "param_max_depth              3                   8                   3  \\\n",
       "param_max_leaf_nodes        15        31        15        31        15   \n",
       "param_learning_rate        0.1       0.1       0.1       0.1       1.0   \n",
       "CV 0                  0.693516  0.680275  0.691233  0.694603  0.648052   \n",
       "CV 1                  0.675962  0.688449  0.694049  0.690260  0.605649   \n",
       "CV 2                  0.684781  0.697980  0.697954  0.699579  0.598687   \n",
       "CV 3                  0.683035  0.695313  0.690202  0.693946  0.589667   \n",
       "CV 4                  0.697743  0.686671  0.687491  0.696012  0.605688   \n",
       "\n",
       "param_max_depth                        8            \n",
       "param_max_leaf_nodes        31        15        31  \n",
       "param_learning_rate        1.0       1.0       1.0  \n",
       "CV 0                  0.634257  0.603733  0.587622  \n",
       "CV 1                  0.588354  0.568598  0.552807  \n",
       "CV 2                  0.580819  0.585877  0.542443  \n",
       "CV 3                  0.631198  0.588753  0.555563  \n",
       "CV 4                  0.617545  0.576779  0.577126  "
      ]
     },
     "execution_count": 91,
     "metadata": {},
     "output_type": "execute_result"
    }
   ],
   "source": [
    "inner_cv_results"
   ]
  },
  {
   "cell_type": "code",
   "execution_count": 89,
   "id": "9258d370",
   "metadata": {},
   "outputs": [
    {
     "data": {
      "image/png": "[encoded data removed]",
      "text/plain": [
       "<Figure size 432x288 with 1 Axes>"
      ]
     },
     "metadata": {
      "needs_background": "light"
     },
     "output_type": "display_data"
    }
   ],
   "source": [
    "import matplotlib.pyplot as plt\n",
    "\n",
    "color = {\"whiskers\": \"black\", \"medians\": \"black\", \"caps\": \"black\"}\n",
    "inner_cv_results.plot.box(vert=False, color=color)\n",
    "plt.xlabel(\"R2 score\")\n",
    "plt.ylabel(\"Parameters\")\n",
    "_ = plt.title(\"Inner CV results with parameters\\n\"\n",
    "              \"(max_depth, max_leaf_nodes, learning_rate)\")"
   ]
  },
  {
   "cell_type": "markdown",
   "id": "07aba481",
   "metadata": {},
   "source": [
    "We see that the first 4 ranked set of parameters are very close. We could select any of these 4 combinations. It coincides with the results we observe when inspecting the best parameters of the outer CV."
   ]
  },
  {
   "cell_type": "code",
   "execution_count": null,
   "id": "7509aeb0",
   "metadata": {},
   "outputs": [],
   "source": []
  }
 ],
 "metadata": {
  "jupytext": {
   "cell_metadata_filter": "-all",
   "main_language": "python",
   "notebook_metadata_filter": "-all"
  },
  "kernelspec": {
   "display_name": "Python 3",
   "language": "python",
   "name": "python3"
  },
  "language_info": {
   "codemirror_mode": {
    "name": "ipython",
    "version": 3
   },
   "file_extension": ".py",
   "mimetype": "text/x-python",
   "name": "python",
   "nbconvert_exporter": "python",
   "pygments_lexer": "ipython3",
   "version": "3.9.2"
  },
  "nbreset": "https://github.com/INRIA/scikit-learn-mooc/raw/master/notebooks/ensemble_ex_05.ipynb"
 },
 "nbformat": 4,
 "nbformat_minor": 5
}
